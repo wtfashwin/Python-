{
  "nbformat": 4,
  "nbformat_minor": 0,
  "metadata": {
    "colab": {
      "provenance": [],
      "authorship_tag": "ABX9TyPtToVbvxRbrllIhBpNFUOZ",
      "include_colab_link": true
    },
    "kernelspec": {
      "name": "python3",
      "display_name": "Python 3"
    },
    "language_info": {
      "name": "python"
    }
  },
  "cells": [
    {
      "cell_type": "markdown",
      "metadata": {
        "id": "view-in-github",
        "colab_type": "text"
      },
      "source": [
        "<a href=\"https://colab.research.google.com/github/wtfashwin/Python-/blob/main/Modules_.ipynb\" target=\"_parent\"><img src=\"https://colab.research.google.com/assets/colab-badge.svg\" alt=\"Open In Colab\"/></a>"
      ]
    },
    {
      "cell_type": "markdown",
      "source": [
        "##Module :\n",
        "a single file is called as module\n",
        "\n",
        "##Package\n",
        "multiple modules combined makes a package\n",
        "\n",
        "##Library\n",
        "many packages make a library"
      ],
      "metadata": {
        "id": "cyqVzxsIZNQP"
      }
    },
    {
      "cell_type": "markdown",
      "source": [
        "arr - time efficient\n",
        "\n",
        "list comparitively slower than array"
      ],
      "metadata": {
        "id": "jiZusP2Eawu3"
      }
    },
    {
      "cell_type": "markdown",
      "metadata": {
        "id": "e52c84a2"
      },
      "source": [
        "#NumPy\n",
        "(Numerical Python) is a library for the Python programming language, adding support for large, multi-dimensional arrays and matrices, along with a large collection of high-level mathematical functions to operate on these arrays."
      ]
    },
    {
      "cell_type": "code",
      "metadata": {
        "colab": {
          "base_uri": "https://localhost:8080/"
        },
        "id": "6fa4c721",
        "outputId": "fcfad8b3-5207-4dbe-fd44-7c5bf7b7c293"
      },
      "source": [
        "import numpy as np\n",
        "#np is called as alias , we'd use use np to use numpy\n",
        "\n",
        "arr = np.array([1, 2, 3, 4, 5])\n",
        "\n",
        "arr2 = np.array(([1, 2, 3, 4],[4,9,6,7]))\n",
        "#all elements should be ideal,\n",
        "\n",
        "print(\"NumPy array:\", arr)\n",
        "print(arr2)"
      ],
      "execution_count": null,
      "outputs": [
        {
          "output_type": "stream",
          "name": "stdout",
          "text": [
            "NumPy array: [1 2 3 4 5]\n",
            "[[1 2 3 4]\n",
            " [4 9 6 7]]\n"
          ]
        }
      ]
    },
    {
      "cell_type": "code",
      "source": [
        "arrzero = np.ones(4)\n",
        "print(arrzero)"
      ],
      "metadata": {
        "colab": {
          "base_uri": "https://localhost:8080/"
        },
        "id": "WCgH1Nt_akng",
        "outputId": "dcd46b33-66fc-48ef-d0fa-d37f6b09fe52"
      },
      "execution_count": null,
      "outputs": [
        {
          "output_type": "stream",
          "name": "stdout",
          "text": [
            "[1. 1. 1. 1.]\n"
          ]
        }
      ]
    },
    {
      "cell_type": "markdown",
      "source": [
        "#Attributes\n",
        "\n",
        " - np.ndim\n",
        " - ndarray.shape\n",
        " - reshape\n",
        " - size\n",
        " - itemsize\n",
        " - dtype"
      ],
      "metadata": {
        "id": "GwvElDKjdI9R"
      }
    },
    {
      "cell_type": "code",
      "source": [
        "#Using ndim\n",
        "\n",
        "arr = np.array([[1,2,3], [5,6,7], [8,9,10]])\n",
        "#here we declared 2D arr\n",
        "print(arr)\n",
        "print(arr.ndim)"
      ],
      "metadata": {
        "colab": {
          "base_uri": "https://localhost:8080/"
        },
        "id": "ZgqPj-B8c1lP",
        "outputId": "50a872b6-1ecd-4bd2-de2f-e48a711579a1"
      },
      "execution_count": null,
      "outputs": [
        {
          "output_type": "stream",
          "name": "stdout",
          "text": [
            "[[ 1  2  3]\n",
            " [ 5  6  7]\n",
            " [ 8  9 10]]\n",
            "2\n"
          ]
        }
      ]
    },
    {
      "cell_type": "code",
      "source": [
        "arr = np.array([[1,2,3], [5,6,7], [8,9,10], [11,12,13]])\n",
        "print(arr)\n",
        "print(arr.shape)\n",
        "#gives shape of array\n",
        "#first value gives rows(4) , second gives column(3)"
      ],
      "metadata": {
        "colab": {
          "base_uri": "https://localhost:8080/"
        },
        "id": "QE2Gke6oeGPS",
        "outputId": "17615ac3-59bc-4302-f8d5-c6162571321b"
      },
      "execution_count": null,
      "outputs": [
        {
          "output_type": "stream",
          "name": "stdout",
          "text": [
            "[[ 1  2  3]\n",
            " [ 5  6  7]\n",
            " [ 8  9 10]\n",
            " [11 12 13]]\n",
            "(4, 3)\n"
          ]
        }
      ]
    },
    {
      "cell_type": "code",
      "source": [
        "arr3 = np.array([(1,2,3), (4,5,6)])\n",
        "print(arr3)\n",
        "print(arr3.reshape)"
      ],
      "metadata": {
        "colab": {
          "base_uri": "https://localhost:8080/"
        },
        "id": "6LTLj_q4eS0U",
        "outputId": "385aa740-c89e-429f-ddbd-f644831ee29d"
      },
      "execution_count": null,
      "outputs": [
        {
          "output_type": "stream",
          "name": "stdout",
          "text": [
            "[[1 2 3]\n",
            " [4 5 6]]\n",
            "<built-in method reshape of numpy.ndarray object at 0x7f7581cef1b0>\n"
          ]
        }
      ]
    },
    {
      "cell_type": "code",
      "source": [
        "arr4 = np.array([1,2,3,4,5,6])\n",
        "reshaped = arr3.reshape(2,3)\n",
        "print(reshaped)\n",
        "\n"
      ],
      "metadata": {
        "colab": {
          "base_uri": "https://localhost:8080/"
        },
        "id": "zuYyPXMEeutk",
        "outputId": "454b14be-38ff-40cb-902e-e289c7ae8c69"
      },
      "execution_count": null,
      "outputs": [
        {
          "output_type": "stream",
          "name": "stdout",
          "text": [
            "[[1 2 3]\n",
            " [4 5 6]]\n"
          ]
        }
      ]
    },
    {
      "cell_type": "code",
      "source": [],
      "metadata": {
        "id": "onNJMa8bfYpg"
      },
      "execution_count": null,
      "outputs": []
    },
    {
      "cell_type": "code",
      "metadata": {
        "colab": {
          "base_uri": "https://localhost:8080/"
        },
        "id": "8f1c348f",
        "outputId": "e4b7142a-566d-461a-cbdf-a722df3507a0"
      },
      "source": [
        "arr4 = np.array([1,2,3,4,5,6])\n",
        "\n",
        "print(arr4.size) # Number of elements in the array\n",
        "print(arr4.itemsize) # Size of each element in bytes\n",
        "print(arr4.dtype) # Data type of the elements"
      ],
      "execution_count": null,
      "outputs": [
        {
          "output_type": "stream",
          "name": "stdout",
          "text": [
            "6\n",
            "8\n",
            "int64\n"
          ]
        }
      ]
    },
    {
      "cell_type": "markdown",
      "source": [
        "##Accessing elements from array"
      ],
      "metadata": {
        "id": "dTVa_FYxgFu7"
      }
    },
    {
      "cell_type": "code",
      "source": [
        "arr4 = np.array([1,2,3,4,5,6])\n",
        "print(arr4[3])\n",
        "print(arr4[2] + arr4[4])"
      ],
      "metadata": {
        "colab": {
          "base_uri": "https://localhost:8080/"
        },
        "id": "RhotGfregCg5",
        "outputId": "0099a70d-57be-4b33-9017-dc776389b923"
      },
      "execution_count": null,
      "outputs": [
        {
          "output_type": "stream",
          "name": "stdout",
          "text": [
            "4\n",
            "8\n"
          ]
        }
      ]
    },
    {
      "cell_type": "code",
      "source": [
        "arr4 = np.array([[1,2,3],[4,5,6]])\n",
        "print(arr4[0][1])\n",
        "print(arr4[1,1])"
      ],
      "metadata": {
        "colab": {
          "base_uri": "https://localhost:8080/"
        },
        "id": "ydwjjLNegVJy",
        "outputId": "2d1d9498-4ca4-4c8c-a8bc-2283c4d471bb"
      },
      "execution_count": null,
      "outputs": [
        {
          "output_type": "stream",
          "name": "stdout",
          "text": [
            "2\n",
            "5\n"
          ]
        }
      ]
    },
    {
      "cell_type": "code",
      "source": [
        "arr5 = np.array([1,2,3,4,5,6])\n",
        "print(arr5[1:5])"
      ],
      "metadata": {
        "colab": {
          "base_uri": "https://localhost:8080/"
        },
        "id": "BHPKPLuvhN9C",
        "outputId": "bb8102dc-32c4-4a08-a7e0-25763a25645a"
      },
      "execution_count": null,
      "outputs": [
        {
          "output_type": "stream",
          "name": "stdout",
          "text": [
            "[2 3 4 5]\n"
          ]
        }
      ]
    },
    {
      "cell_type": "code",
      "source": [
        "#inbuilt function\n",
        "#min, max\n",
        "\n",
        "print(arr5.min())\n",
        "print(arr5.max())"
      ],
      "metadata": {
        "colab": {
          "base_uri": "https://localhost:8080/"
        },
        "id": "ziRhC9-shiAw",
        "outputId": "df86f68a-7b64-49b6-f637-78c92f6a0727"
      },
      "execution_count": null,
      "outputs": [
        {
          "output_type": "stream",
          "name": "stdout",
          "text": [
            "1\n",
            "6\n"
          ]
        }
      ]
    },
    {
      "cell_type": "code",
      "source": [
        "# Standard Deviation\n",
        "\n",
        "#value close to mean - good for data\n",
        "\n",
        "#value are spread out - not good\n",
        "np.std(arr5)"
      ],
      "metadata": {
        "colab": {
          "base_uri": "https://localhost:8080/"
        },
        "id": "v5_AQ2H1h3rz",
        "outputId": "0a543a75-8b08-4b97-a2a9-3b6d209e4480"
      },
      "execution_count": null,
      "outputs": [
        {
          "output_type": "execute_result",
          "data": {
            "text/plain": [
              "np.float64(1.707825127659933)"
            ]
          },
          "metadata": {},
          "execution_count": 49
        }
      ]
    },
    {
      "cell_type": "code",
      "source": [
        "#sqrt\n",
        "arr6 = np.array([1,2,3,4,5,6])\n",
        "\n",
        "np.sqrt(arr6)"
      ],
      "metadata": {
        "colab": {
          "base_uri": "https://localhost:8080/"
        },
        "id": "ULFGhYt_ibTy",
        "outputId": "7f5f66c6-2698-4a22-d461-132cf3a5a67c"
      },
      "execution_count": null,
      "outputs": [
        {
          "output_type": "execute_result",
          "data": {
            "text/plain": [
              "array([1.        , 1.41421356, 1.73205081, 2.        , 2.23606798,\n",
              "       2.44948974])"
            ]
          },
          "metadata": {},
          "execution_count": 51
        }
      ]
    },
    {
      "cell_type": "code",
      "source": [
        "#flattern - converts multidimensional array in single dimensional arr\n",
        "#2D to 1D arr\n",
        "\n",
        "arr7 = np.array([[1,2,3],[4,5,6]])\n",
        "print(arr7.flatten())"
      ],
      "metadata": {
        "colab": {
          "base_uri": "https://localhost:8080/"
        },
        "id": "le8QmvH0ihUL",
        "outputId": "1f3fa78f-01b3-40ca-852e-ad9ff4aeaeee"
      },
      "execution_count": null,
      "outputs": [
        {
          "output_type": "stream",
          "name": "stdout",
          "text": [
            "[1 2 3 4 5 6]\n"
          ]
        }
      ]
    },
    {
      "cell_type": "code",
      "source": [
        "#transpose - converting rows - columns & viceversa\n",
        "\n",
        "arr8 = np.array([[1,2,3],[4,5,6]])\n",
        "print(arr8)\n",
        "print(arr8.T)"
      ],
      "metadata": {
        "colab": {
          "base_uri": "https://localhost:8080/"
        },
        "id": "uJkF618nj15Y",
        "outputId": "3d6284e6-aa7b-446b-c834-73f185426962"
      },
      "execution_count": null,
      "outputs": [
        {
          "output_type": "stream",
          "name": "stdout",
          "text": [
            "[[1 2 3]\n",
            " [4 5 6]]\n",
            "[[1 4]\n",
            " [2 5]\n",
            " [3 6]]\n"
          ]
        }
      ]
    },
    {
      "cell_type": "code",
      "source": [
        "# Concatenate - multiple arr in one\n",
        "\n",
        "arr9 = np.array([1,2,3])\n",
        "arr10 = np.array([4,5,6])\n",
        "print(np.concatenate([arr9, arr10]))"
      ],
      "metadata": {
        "colab": {
          "base_uri": "https://localhost:8080/"
        },
        "id": "Xa2Ej2-TkECX",
        "outputId": "df58c7b2-81fd-4f5f-8117-bc60b4c69bd1"
      },
      "execution_count": null,
      "outputs": [
        {
          "output_type": "stream",
          "name": "stdout",
          "text": [
            "[1 2 3 4 5 6]\n"
          ]
        }
      ]
    },
    {
      "cell_type": "code",
      "source": [
        "#Split - mostly used, splits arr in equal parts\n",
        "\n",
        "arr = np.array([10,20,30,60,70,80])\n",
        "print(np.split(arr, 3))"
      ],
      "metadata": {
        "colab": {
          "base_uri": "https://localhost:8080/"
        },
        "id": "r6sU0Fvqko-0",
        "outputId": "adbdcadd-0443-4837-b160-ef338c283139"
      },
      "execution_count": null,
      "outputs": [
        {
          "output_type": "stream",
          "name": "stdout",
          "text": [
            "[array([10, 20]), array([30, 60]), array([70, 80])]\n"
          ]
        }
      ]
    },
    {
      "cell_type": "code",
      "source": [
        "#comparison operations\n",
        "\n",
        "arr = np.array([10,20,30,60,70,80])\n",
        "print(arr>20)"
      ],
      "metadata": {
        "colab": {
          "base_uri": "https://localhost:8080/"
        },
        "id": "-BgWMRXek1EK",
        "outputId": "fca5df63-88f1-4d74-8af1-6818a7fdfe2e"
      },
      "execution_count": null,
      "outputs": [
        {
          "output_type": "stream",
          "name": "stdout",
          "text": [
            "[False False  True  True  True  True]\n"
          ]
        }
      ]
    },
    {
      "cell_type": "code",
      "source": [
        "#Filter or condition apply\n",
        "print(np.where(arr>20,'High', 'Low'))"
      ],
      "metadata": {
        "colab": {
          "base_uri": "https://localhost:8080/"
        },
        "id": "iZmxB18nlTa4",
        "outputId": "5b3c2e64-ea6a-4572-af8f-e7ae1a526ab6"
      },
      "execution_count": null,
      "outputs": [
        {
          "output_type": "stream",
          "name": "stdout",
          "text": [
            "['Low' 'Low' 'High' 'High' 'High' 'High']\n"
          ]
        }
      ]
    },
    {
      "cell_type": "code",
      "source": [
        "#Modules\n",
        "#if we want to generate random numbers\n",
        "#numbers generated are float\n",
        "\n",
        "np.random.rand(3)"
      ],
      "metadata": {
        "colab": {
          "base_uri": "https://localhost:8080/"
        },
        "id": "b0wFbdgtlurd",
        "outputId": "4e4554be-2712-4079-d036-f41f31ae5c45"
      },
      "execution_count": null,
      "outputs": [
        {
          "output_type": "execute_result",
          "data": {
            "text/plain": [
              "array([0.31040358, 0.46210827, 0.88327092])"
            ]
          },
          "metadata": {},
          "execution_count": 68
        }
      ]
    },
    {
      "cell_type": "code",
      "source": [
        "# np.random.randint(start ,stop, size=)\n",
        "np.random.randint(1,100,size=4)"
      ],
      "metadata": {
        "colab": {
          "base_uri": "https://localhost:8080/"
        },
        "id": "_RePzfxhmGIv",
        "outputId": "05f2791a-0aec-4b8f-dfed-7e04c22ae96a"
      },
      "execution_count": null,
      "outputs": [
        {
          "output_type": "execute_result",
          "data": {
            "text/plain": [
              "array([33, 13, 51, 29])"
            ]
          },
          "metadata": {},
          "execution_count": 72
        }
      ]
    },
    {
      "cell_type": "code",
      "source": [],
      "metadata": {
        "id": "Ro7noCqRmQLb"
      },
      "execution_count": null,
      "outputs": []
    }
  ]
}