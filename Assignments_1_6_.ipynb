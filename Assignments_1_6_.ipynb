{
  "nbformat": 4,
  "nbformat_minor": 0,
  "metadata": {
    "colab": {
      "provenance": [],
      "authorship_tag": "ABX9TyOTV6V9II9d90A3Ck/Cj+eh",
      "include_colab_link": true
    },
    "kernelspec": {
      "name": "python3",
      "display_name": "Python 3"
    },
    "language_info": {
      "name": "python"
    }
  },
  "cells": [
    {
      "cell_type": "markdown",
      "metadata": {
        "id": "view-in-github",
        "colab_type": "text"
      },
      "source": [
        "<a href=\"https://colab.research.google.com/github/wtfashwin/Python-/blob/main/Assignments_1_6_.ipynb\" target=\"_parent\"><img src=\"https://colab.research.google.com/assets/colab-badge.svg\" alt=\"Open In Colab\"/></a>"
      ]
    },
    {
      "cell_type": "markdown",
      "source": [
        "## Assignment 1"
      ],
      "metadata": {
        "id": "gyGUxKkOF2Eo"
      }
    },
    {
      "cell_type": "markdown",
      "source": [
        "1. Arithmetic Operators\n",
        "💡 Objective: Get familiar with basic calculations in Python\n",
        "📌 Exercise: Write a Python program that:\n",
        "Takes two numbers as input from the user.\n",
        "Prints their sum, difference, product, and quotient.\n"
      ],
      "metadata": {
        "id": "C0fYO18YF8MY"
      }
    },
    {
      "cell_type": "code",
      "source": [
        "num1 = float(input(\"Enter first number: \"))\n",
        "num2 = float(input(\"Enter second number: \"))\n",
        "\n",
        "sum = num1 + num2\n",
        "diff = num1 - num2\n",
        "pro = num1 * num2\n",
        "\n",
        "print(f\"Sum of your entered number is : {sum}\", end='\\n')\n",
        "print(f\"Difference of your entered number is : {diff}\", end='\\n')\n",
        "print(f\"Product of your entered number is : {pro}\", end='\\n')\n",
        "\n",
        "if num2 != 0:\n",
        "    quo = num1 / num2\n",
        "    print(f\"Quotient of your entered number is : {quo}\", end='\\n')\n",
        "else:\n",
        "    print(\"You're performing division by zero.\", end='\\n')"
      ],
      "metadata": {
        "colab": {
          "base_uri": "https://localhost:8080/"
        },
        "id": "GSHjdDxyIf1a",
        "outputId": "a50394bd-1f80-481c-d2ac-218eee70b0be"
      },
      "execution_count": null,
      "outputs": [
        {
          "output_type": "stream",
          "name": "stdout",
          "text": [
            "Enter first number: 13\n",
            "Enter second number: 19\n",
            "Sum of your entered number is : 32.0\n",
            "Difference of your entered number is : -6.0\n",
            "Product of your entered number is : 247.0\n",
            "Quotient of your entered number is : 0.6842105263157895\n"
          ]
        }
      ]
    },
    {
      "cell_type": "markdown",
      "source": [
        "2. Comparison Operators\n",
        "💡 Objective: Understand how comparison works in Python\n",
        "📌 Exercise: Write a Python program that:\n",
        "Takes two numbers as input.\n",
        "Compares them using >, <, ==, and != operators.\n",
        "Prints whether the first number is greater than, less than, or equal to the second."
      ],
      "metadata": {
        "id": "q8zJT53FJhcq"
      }
    },
    {
      "cell_type": "code",
      "source": [
        "n1 = float(input(\"Enter first number: \"))\n",
        "n2 = float(input(\"Enter second number: \"))\n",
        "\n",
        "if n1 > n2:\n",
        "    print(f\"{n1} is greater than {n2}\")\n",
        "elif n1 < n2:\n",
        "    print(f\"{n1} is less than {n2}\")\n",
        "elif n1 != n2:\n",
        "    print(f\"{n1} is not equal to {n2}\")\n",
        "else:\n",
        "    print(f\"{n1} is equal to {n2}\")\n"
      ],
      "metadata": {
        "colab": {
          "base_uri": "https://localhost:8080/"
        },
        "id": "MiHwJL03GT1t",
        "outputId": "aa421902-4667-4b8f-bc47-43683b6ce307"
      },
      "execution_count": null,
      "outputs": [
        {
          "output_type": "stream",
          "name": "stdout",
          "text": [
            "Enter first number: 6\n",
            "Enter second number: 6\n",
            "6.0 is equal to 6.0\n"
          ]
        }
      ]
    },
    {
      "cell_type": "markdown",
      "source": [
        "3. Logical Operators\n",
        "💡 Objective: Understand and, or, not operators\n",
        "📌 Exercise: Write a Python program that:\n",
        "Defines two variables:\n",
        "homework_completed = \"Yes\"\n",
        "attended_class = \"Yes\"\n",
        "Uses the and operator to determine if both conditions are met.\n",
        "Prints the result using a single expression."
      ],
      "metadata": {
        "id": "1Wm1E_0yJ55t"
      }
    },
    {
      "cell_type": "code",
      "source": [
        "homework_completed = \"Yes\"\n",
        "attended_class = \"Yes\"\n",
        "\n",
        "print(homework_completed == \"Yes\" and attended_class == \"Yes\")"
      ],
      "metadata": {
        "colab": {
          "base_uri": "https://localhost:8080/"
        },
        "id": "12Ny0cLWI5NV",
        "outputId": "91851066-9ef9-4302-c315-3f811fe9929c"
      },
      "execution_count": null,
      "outputs": [
        {
          "output_type": "stream",
          "name": "stdout",
          "text": [
            "True\n"
          ]
        }
      ]
    },
    {
      "cell_type": "markdown",
      "source": [
        "4. Assignment Operators\n",
        "💡 Objective: Get comfortable with +=, -=, *=, etc.\n",
        "📌 Exercise: Write a Python program that:\n",
        "Starts with x = 10\n",
        "Uses +=, -=, *=, and /= operators to modify x.\n",
        "Prints the updated values."
      ],
      "metadata": {
        "id": "gR1gMNNeK2Tn"
      }
    },
    {
      "cell_type": "code",
      "source": [
        "x = 10\n",
        "print(f\"Initial value of x: {x}\")\n",
        "\n",
        "x += 5\n",
        "print(f\"Value of x after x += 5: {x}\")\n",
        "\n",
        "x -= 3\n",
        "print(f\"Value of x after x -= 3: {x}\")\n",
        "\n",
        "x *= 2\n",
        "print(f\"Value of x after x *= 2: {x}\")\n",
        "\n",
        "x /= 4\n",
        "print(f\"Value of x after x /= 4: {x}\")"
      ],
      "metadata": {
        "colab": {
          "base_uri": "https://localhost:8080/"
        },
        "id": "XiV2VUx2Kn0S",
        "outputId": "10372f00-b816-4cab-bf89-2069c447bb73"
      },
      "execution_count": null,
      "outputs": [
        {
          "output_type": "stream",
          "name": "stdout",
          "text": [
            "Initial value of x: 10\n",
            "Value of x after x += 5: 15\n",
            "Value of x after x -= 3: 12\n",
            "Value of x after x *= 2: 24\n",
            "Value of x after x /= 4: 6.0\n"
          ]
        }
      ]
    },
    {
      "cell_type": "markdown",
      "source": [
        "5. Bitwise Operators (For Curious Students (This part is optional))\n",
        "💡 Objective: Introduce bitwise operations in a simple way\n",
        "📌 Exercise: Write a Python program that:\n",
        "Takes an integer from the user.\n",
        "Uses bitwise & and | to compare it with another number.\n",
        "Prints the results."
      ],
      "metadata": {
        "id": "n-szqTNSLBVR"
      }
    },
    {
      "cell_type": "code",
      "source": [
        "#Bitwise Operations\n",
        "\n",
        "num1 = int(input(\"Enter number: \"))\n",
        "num2 = 5\n",
        "\n",
        "# & operator\n",
        "resi = num1 & num2\n",
        "print(f\"AND result: {resi}\")\n",
        "\n",
        "#  or\n",
        "resu = num1 | num2\n",
        "print(f\"OR result: {resu}\")"
      ],
      "metadata": {
        "colab": {
          "base_uri": "https://localhost:8080/"
        },
        "id": "zFAtvagNK7QZ",
        "outputId": "9a7db1f2-72d4-49fa-d993-3a081dfb08a1"
      },
      "execution_count": null,
      "outputs": [
        {
          "output_type": "stream",
          "name": "stdout",
          "text": [
            "Enter number: 6\n",
            "AND result: 4\n",
            "OR result: 7\n"
          ]
        }
      ]
    },
    {
      "cell_type": "markdown",
      "source": [
        "## Assignment 2\n"
      ],
      "metadata": {
        "id": "o0f-4fZFM5zz"
      }
    },
    {
      "cell_type": "markdown",
      "source": [
        "1. Create three integer variables: a, b, c. Store any whole numbers in them. Print their sum and product."
      ],
      "metadata": {
        "id": "vPQnhK_uNJk8"
      }
    },
    {
      "cell_type": "code",
      "source": [
        "a = 13\n",
        "b = 29\n",
        "c = 19\n",
        "\n",
        "# Calculate the sum\n",
        "sum_result = a + b + c\n",
        "\n",
        "# Calculate the product\n",
        "product_result = a * b * c\n",
        "\n",
        "# Print the sum and product\n",
        "print(f\"Numbers: a={a}\\n b={b}\\n c={c}\")\n",
        "print(f\"Sum: {sum_result}\")\n",
        "print(f\"Product: {product_result}\")\n"
      ],
      "metadata": {
        "colab": {
          "base_uri": "https://localhost:8080/"
        },
        "id": "e_nHGSd9MKJd",
        "outputId": "51902bf2-993a-4fbc-9925-60d6bb5938b9"
      },
      "execution_count": null,
      "outputs": [
        {
          "output_type": "stream",
          "name": "stdout",
          "text": [
            "Numbers: a=13\n",
            " b=29\n",
            " c=19\n",
            "Sum: 61\n",
            "Product: 7163\n"
          ]
        }
      ]
    },
    {
      "cell_type": "markdown",
      "source": [
        "Define an integer num. Check if it is even or odd and print the result."
      ],
      "metadata": {
        "id": "qrAdjwr6NV3x"
      }
    },
    {
      "cell_type": "code",
      "source": [
        "num = float(input('Enter a number:' ))\n",
        "if num % 2 == 0:\n",
        "    print(f\"{num} You entered an even number.\")\n",
        "else:\n",
        "    print(f\"{num} which you entered is an odd number.\")"
      ],
      "metadata": {
        "colab": {
          "base_uri": "https://localhost:8080/"
        },
        "id": "DNcbgZBoNMh6",
        "outputId": "08f6ed0f-2071-4497-beff-f03899dad703"
      },
      "execution_count": null,
      "outputs": [
        {
          "output_type": "stream",
          "name": "stdout",
          "text": [
            "Enter a number:19\n",
            "19.0 which you entered is an odd number.\n"
          ]
        }
      ]
    },
    {
      "cell_type": "markdown",
      "source": [
        "3. Create two float variables: x, y. Store any decimal values. Print their difference and quotient."
      ],
      "metadata": {
        "id": "Lj_ZBdBkOGuG"
      }
    },
    {
      "cell_type": "code",
      "source": [
        "x = 15.0\n",
        "y = 3.0\n",
        "\n",
        "# Calculating difference\n",
        "diff = x - y\n",
        "\n",
        "# Calculate the quotient\n",
        "quot = x / y\n",
        "\n",
        "# Print the output\n",
        "print(f\"Numbers: x = {x}, y = {y}\")\n",
        "print(f\"Difference : {diff}\")\n",
        "print(f\"Quotient : {quot}\")"
      ],
      "metadata": {
        "colab": {
          "base_uri": "https://localhost:8080/"
        },
        "id": "auRAjB_YNpSG",
        "outputId": "d3685103-4b84-4f31-edf6-1690b7edfcb5"
      },
      "execution_count": null,
      "outputs": [
        {
          "output_type": "stream",
          "name": "stdout",
          "text": [
            "Numbers: x = 15.0, y = 3.0\n",
            "Difference : 12.0\n",
            "Quotient : 5.0\n"
          ]
        }
      ]
    },
    {
      "cell_type": "markdown",
      "source": [
        "4. Define a float variable temp representing temperature in Celsius. Convert it to Fahrenheit using the formula F = (C * 9/5) + 32 and print the result."
      ],
      "metadata": {
        "id": "VrRaKBWyOUnr"
      }
    },
    {
      "cell_type": "code",
      "source": [
        "cel = 25.0\n",
        "\n",
        "# F = (C * 9/5) + 32\n",
        "fahren = (cel * 9/5) + 32\n",
        "\n",
        "print(f\"Temperature in Celsius: {cel} degree C\")\n",
        "print(f\"Temperature in Fahrenheit: {fahren} degree F\")"
      ],
      "metadata": {
        "colab": {
          "base_uri": "https://localhost:8080/"
        },
        "id": "ZSDg898JOLrc",
        "outputId": "d1bc7bbb-c6ce-4b23-8e48-65fd21e3321b"
      },
      "execution_count": null,
      "outputs": [
        {
          "output_type": "stream",
          "name": "stdout",
          "text": [
            "Temperature in Celsius: 25.0 degree C\n",
            "Temperature in Fahrenheit: 77.0 degree F\n"
          ]
        }
      ]
    },
    {
      "cell_type": "markdown",
      "source": [
        "Create two complex numbers: c1, c2. Perform addition and multiplication on them. Print the results."
      ],
      "metadata": {
        "id": "vcXaRsGJOwpl"
      }
    },
    {
      "cell_type": "code",
      "source": [
        "c1 = 2 + 6j\n",
        "c2 = 3 - 9j\n",
        "\n",
        "# Perform addition\n",
        "sumx = c1 + c2\n",
        "print(f\"\\nSum of complex no: {sumx}\")\n",
        "\n",
        "prod = c1 * c2\n",
        "print(f\"Product of complex no: {prod}\")"
      ],
      "metadata": {
        "colab": {
          "base_uri": "https://localhost:8080/"
        },
        "id": "MgMELOifOseE",
        "outputId": "e33fca98-53a7-4ae4-b016-30e78516a122"
      },
      "execution_count": null,
      "outputs": [
        {
          "output_type": "stream",
          "name": "stdout",
          "text": [
            "\n",
            "Sum of complex no: (5-3j)\n",
            "Product of complex no: (60+0j)\n"
          ]
        }
      ]
    },
    {
      "cell_type": "markdown",
      "source": [
        "Extract and print the real and imaginary parts of a complex number c = 4 + 5j."
      ],
      "metadata": {
        "id": "0lR4Cy8xPZO2"
      }
    },
    {
      "cell_type": "code",
      "source": [
        "c = 4 + 5j\n",
        "print(f\"\\nComplex number c: {c}\")\n",
        "print(f\"Real part of c: {c.real}\")\n",
        "print(f\"Imaginary part of c: {c.imag}\")"
      ],
      "metadata": {
        "colab": {
          "base_uri": "https://localhost:8080/"
        },
        "id": "2IHVDB7cO9TZ",
        "outputId": "0204e17a-edf3-4aa4-e96f-2c460dcb6516"
      },
      "execution_count": null,
      "outputs": [
        {
          "output_type": "stream",
          "name": "stdout",
          "text": [
            "\n",
            "Complex number c: (4+5j)\n",
            "Real part of c: 4.0\n",
            "Imaginary part of c: 5.0\n"
          ]
        }
      ]
    },
    {
      "cell_type": "markdown",
      "source": [
        "Create three boolean variables using comparison operators (>, <, ==). Print the results."
      ],
      "metadata": {
        "id": "pa2EzPxGPzCi"
      }
    },
    {
      "cell_type": "code",
      "source": [
        "num1 = 10\n",
        "num2 = 20\n",
        "num3 = 30\n",
        "\n",
        "great = num1 > num2\n",
        "less = num1 < num2\n",
        "equal = num1 == num3\n",
        "\n",
        "print(great)\n",
        "print(less)\n",
        "print(equal)"
      ],
      "metadata": {
        "colab": {
          "base_uri": "https://localhost:8080/"
        },
        "id": "-YEnka1oPRbn",
        "outputId": "2e602fe3-b08d-48e6-b144-e9cc06647397"
      },
      "execution_count": null,
      "outputs": [
        {
          "output_type": "stream",
          "name": "stdout",
          "text": [
            "False\n",
            "True\n",
            "False\n"
          ]
        }
      ]
    },
    {
      "cell_type": "markdown",
      "source": [
        "Create a boolean variable that checks if a number x = 25 is divisible by 5. Print the result."
      ],
      "metadata": {
        "id": "oNW1IcK9Rcen"
      }
    },
    {
      "cell_type": "code",
      "source": [
        "x = 25\n",
        "div = (x % 5 == 0)\n",
        "print(div)\n"
      ],
      "metadata": {
        "colab": {
          "base_uri": "https://localhost:8080/"
        },
        "id": "SdRkuORzPuAX",
        "outputId": "857d741f-980c-487e-fb1e-c2b7f46b7dc2"
      },
      "execution_count": null,
      "outputs": [
        {
          "output_type": "stream",
          "name": "stdout",
          "text": [
            "True\n"
          ]
        }
      ]
    },
    {
      "cell_type": "markdown",
      "source": [
        "Create two string variables: first_name and last_name. Concatenate them and print the full name."
      ],
      "metadata": {
        "id": "4sJi2XD7RpFk"
      }
    },
    {
      "cell_type": "code",
      "source": [
        "first_name = \"Ash\"\n",
        "last_name = \"win\"\n",
        "fname = first_name + \" \" + last_name\n",
        "print(fname)\n"
      ],
      "metadata": {
        "colab": {
          "base_uri": "https://localhost:8080/"
        },
        "id": "ixdWglUlRjhB",
        "outputId": "b4fdd2d8-d489-40f1-9aea-1efea1a90132"
      },
      "execution_count": null,
      "outputs": [
        {
          "output_type": "stream",
          "name": "stdout",
          "text": [
            "Ash win\n"
          ]
        }
      ]
    },
    {
      "cell_type": "markdown",
      "source": [
        "Define a string \"Python Programming\". Use slicing to print:\n",
        "First 6 characters\n",
        "Last 5 characters\n",
        "Every second character"
      ],
      "metadata": {
        "id": "pxUsA1MyRx-c"
      }
    },
    {
      "cell_type": "code",
      "source": [
        "mystr = \"Python Programming\"\n",
        "print(mystr[:6])\n",
        "print(mystr[-5:])\n",
        "print(mystr[::2])"
      ],
      "metadata": {
        "colab": {
          "base_uri": "https://localhost:8080/"
        },
        "id": "TF-PDn0zRuhc",
        "outputId": "c0ccbc07-312c-4e92-e19f-503fc027ea7a"
      },
      "execution_count": null,
      "outputs": [
        {
          "output_type": "stream",
          "name": "stdout",
          "text": [
            "Python\n",
            "mming\n",
            "Pto rgamn\n"
          ]
        }
      ]
    },
    {
      "cell_type": "code",
      "source": [
        "stri = \"Hello World\"\n",
        "\n",
        "uppercase = stri.upper()\n",
        "print(f\"Uppercase: {uppercase}\")\n",
        "\n",
        "# Convert to lowercase\n",
        "lowercase = stri.lower()\n",
        "print(f\"Lowercase: {lowercase}\")\n",
        "\n",
        "length = len(stri)\n",
        "print(f\"Length: {length}\")"
      ],
      "metadata": {
        "colab": {
          "base_uri": "https://localhost:8080/"
        },
        "id": "zn5CKsJXSFSw",
        "outputId": "b453ca1e-b49f-42eb-9ac6-74c7cde57716"
      },
      "execution_count": null,
      "outputs": [
        {
          "output_type": "stream",
          "name": "stdout",
          "text": [
            "Uppercase: HELLO WORLD\n",
            "Lowercase: hello world\n",
            "Length: 11\n"
          ]
        }
      ]
    },
    {
      "cell_type": "markdown",
      "source": [
        "Define a string \"racecar\". Check if it's a palindrome (reads the same forward and backward)."
      ],
      "metadata": {
        "id": "1-Lvhqd2TBQm"
      }
    },
    {
      "cell_type": "code",
      "source": [
        "pal = \"racecar\"\n",
        "if pal == pal[::-1]:\n",
        "    print(f\"\\n'{pal}' is a palindrome.\")\n",
        "else:\n",
        "    print(f\"\\n'{pal}' is not a palindrome.\")"
      ],
      "metadata": {
        "colab": {
          "base_uri": "https://localhost:8080/"
        },
        "id": "D4azKtGBStk4",
        "outputId": "f25334fc-0eb2-40dc-cac3-95200a2ff042"
      },
      "execution_count": null,
      "outputs": [
        {
          "output_type": "stream",
          "name": "stdout",
          "text": [
            "\n",
            "'racecar' is a palindrome.\n"
          ]
        }
      ]
    },
    {
      "cell_type": "markdown",
      "source": [
        "Create a list of your favorite movies (at least 3). Add a new movie to the list and print the updated list."
      ],
      "metadata": {
        "id": "RaEBFj--Uaql"
      }
    },
    {
      "cell_type": "code",
      "source": [
        "favorite_movies = [\" Godfather 1 \", \" Godfather 2\", \" Godfather 3\",  \"Interstellar\"]\n",
        "print(f\"Original list: {favorite_movies}\")\n",
        "favorite_movies.append(\"Ironman\")\n",
        "print(f\"Updated list: {favorite_movies}\")"
      ],
      "metadata": {
        "colab": {
          "base_uri": "https://localhost:8080/"
        },
        "id": "LjeGYxQSTDPH",
        "outputId": "15614e30-5cfa-44af-cdd6-740e1d67e525"
      },
      "execution_count": null,
      "outputs": [
        {
          "output_type": "stream",
          "name": "stdout",
          "text": [
            "Original list: [' Godfather 1 ', ' Godfather 2', ' Godfather 3', 'Interstellar']\n",
            "Updated list: [' Godfather 1 ', ' Godfather 2', ' Godfather 3', 'Interstellar', 'Ironman']\n"
          ]
        }
      ]
    },
    {
      "cell_type": "markdown",
      "source": [
        "Define a list numbers = [10, 20, 30, 40, 50]. Remove the number 30 and print the updated list."
      ],
      "metadata": {
        "id": "JtE2GZFUUm4q"
      }
    },
    {
      "cell_type": "code",
      "source": [
        "num = [10, 20, 30, 40, 50]\n",
        "print(f\"Original list: {num}\")\n",
        "num.remove(30)\n",
        "print(f\"Updated list : {num}\")"
      ],
      "metadata": {
        "colab": {
          "base_uri": "https://localhost:8080/"
        },
        "id": "9oLP6jXQUcMw",
        "outputId": "efbdac2d-cf55-4bc5-9e3a-0fd1adaaaadb"
      },
      "execution_count": null,
      "outputs": [
        {
          "output_type": "stream",
          "name": "stdout",
          "text": [
            "Original list: [10, 20, 30, 40, 50]\n",
            "Updated list : [10, 20, 40, 50]\n"
          ]
        }
      ]
    },
    {
      "cell_type": "markdown",
      "source": [
        "Define a list with duplicate values [1, 2, 2, 3, 4, 4, 5]. Remove duplicates using a set and print the unique elements."
      ],
      "metadata": {
        "id": "LxDCIe_oU69K"
      }
    },
    {
      "cell_type": "code",
      "source": [
        "n = [1, 2, 2, 3, 4, 4, 5]\n",
        "print(f\"Original list : {n}\")\n",
        "uniq = set(n)\n",
        "print(f\"Unique elements (set): {uniq}\")"
      ],
      "metadata": {
        "colab": {
          "base_uri": "https://localhost:8080/"
        },
        "id": "hLn81_VyUrqZ",
        "outputId": "d28dfe9e-b7c5-4a84-c4a8-d01fd60d82c7"
      },
      "execution_count": null,
      "outputs": [
        {
          "output_type": "stream",
          "name": "stdout",
          "text": [
            "Original list : [1, 2, 2, 3, 4, 4, 5]\n",
            "Unique elements (set): {1, 2, 3, 4, 5}\n"
          ]
        }
      ]
    },
    {
      "cell_type": "code",
      "source": [
        "# .sort()\n",
        "n1 = [45, 12, 78, 23, 9]\n",
        "print(f\"Original: {n1}\")\n",
        "n1.sort()\n",
        "print(f\"Ascending: {n1}\")\n",
        "\n",
        "n1_desc = [45, 12, 78, 23, 9]\n",
        "n1_desc.sort(reverse=True)\n",
        "print(f\"Descending: {n1_desc}\")\n",
        "\n",
        "# sorted()\n",
        "n2 = [45, 12, 78, 23, 9]\n",
        "print(f\"\\nOriginal: {n2}\")\n",
        "asc_sorted = sorted(n2)\n",
        "print(f\"Ascending: {asc_sorted}\")\n",
        "\n",
        "desc_sorted = sorted(n2, reverse=True)\n",
        "print(f\"Descending: {desc_sorted}\")"
      ],
      "metadata": {
        "colab": {
          "base_uri": "https://localhost:8080/"
        },
        "id": "BQORtFLfU89k",
        "outputId": "e26d48f6-7dff-42b0-f0e5-a0e62e9a2c42"
      },
      "execution_count": null,
      "outputs": [
        {
          "output_type": "stream",
          "name": "stdout",
          "text": [
            "Original: [45, 12, 78, 23, 9]\n",
            "Ascending: [9, 12, 23, 45, 78]\n",
            "Descending: [78, 45, 23, 12, 9]\n",
            "\n",
            "Original: [45, 12, 78, 23, 9]\n",
            "Ascending: [9, 12, 23, 45, 78]\n",
            "Descending: [78, 45, 23, 12, 9]\n"
          ]
        }
      ]
    },
    {
      "cell_type": "markdown",
      "source": [
        "Create a tuple with 4 different fruits. Try to change one item in the tuple and observe what happens."
      ],
      "metadata": {
        "id": "OfWPs0c_V9pq"
      }
    },
    {
      "cell_type": "code",
      "source": [
        "fruits = (\"apple\", \"banana\", \"cherry\", \"date\")\n",
        "print(f\"Original tuple: {fruits}\")\n",
        "#tuples are immutable"
      ],
      "metadata": {
        "colab": {
          "base_uri": "https://localhost:8080/"
        },
        "id": "nt_G5U8rV2KU",
        "outputId": "83e2a006-aa9c-4986-8f74-4d9d2b7530e9"
      },
      "execution_count": null,
      "outputs": [
        {
          "output_type": "stream",
          "name": "stdout",
          "text": [
            "Original tuple: ('apple', 'banana', 'cherry', 'date')\n"
          ]
        }
      ]
    },
    {
      "cell_type": "markdown",
      "source": [
        "Create a tuple of numbers (5, 10, 15, 20). Print the sum and maximum number from the tuple."
      ],
      "metadata": {
        "id": "h5_GDUZAWU4g"
      }
    },
    {
      "cell_type": "code",
      "source": [
        "no = (5, 10, 15, 20)\n",
        "print(f\"Numbers tuple: {no}\")\n",
        "\n",
        "total_sum = 0\n",
        "for number in no:\n",
        "    total_sum += number\n",
        "print(f\"Sum of numbers: {total_sum}\")\n",
        "\n",
        "highest_num = no[0]\n",
        "for number in no:\n",
        "    if number > highest_num:\n",
        "        highest_num = number\n",
        "print(f\"Maximum number: {highest_num}\")\n"
      ],
      "metadata": {
        "colab": {
          "base_uri": "https://localhost:8080/"
        },
        "id": "O83YkLRwWCNF",
        "outputId": "6ea24760-02d9-4462-9c5d-cd809f43bd88"
      },
      "execution_count": null,
      "outputs": [
        {
          "output_type": "stream",
          "name": "stdout",
          "text": [
            "Numbers tuple: (5, 10, 15, 20)\n",
            "Sum of numbers: 50\n",
            "Maximum number: 20\n"
          ]
        }
      ]
    },
    {
      "cell_type": "markdown",
      "source": [
        "Create two sets, A and B, with at least 4 numbers each. Find their union and intersection. Print the results."
      ],
      "metadata": {
        "id": "kgzO8zECXaYi"
      }
    },
    {
      "cell_type": "code",
      "source": [
        "A = {1, 2, 3, 4, 5}\n",
        "B = {4, 5, 6, 7, 8}\n",
        "\n",
        "print(f\"Set A: {A}\")\n",
        "print(f\"Set B: {B}\")\n",
        "\n",
        "union_set = A.union(B)\n",
        "print(f\"\\nUnion of A and B: {union_set}\")\n",
        "\n",
        "intersection_set = A.intersection(B)\n",
        "print(f\"Intersection of A and B: {intersection_set}\")\n"
      ],
      "metadata": {
        "id": "CcCLhfVyWXT5",
        "colab": {
          "base_uri": "https://localhost:8080/"
        },
        "outputId": "744889b1-e573-4a8c-e57f-441b6b930c76"
      },
      "execution_count": null,
      "outputs": [
        {
          "output_type": "stream",
          "name": "stdout",
          "text": [
            "Set A: {1, 2, 3, 4, 5}\n",
            "Set B: {4, 5, 6, 7, 8}\n",
            "\n",
            "Union of A and B: {1, 2, 3, 4, 5, 6, 7, 8}\n",
            "Intersection of A and B: {4, 5}\n"
          ]
        }
      ]
    },
    {
      "cell_type": "markdown",
      "source": [
        "Define a set {3, 5, 7, 9}. Add a new number to the set and print the updated set."
      ],
      "metadata": {
        "id": "QlraDbDLXl7Y"
      }
    },
    {
      "cell_type": "code",
      "source": [
        "my_set = {3, 5, 7, 9}\n",
        "print(f\"\\nOriginal set: {my_set}\")\n",
        "my_set.add(13)\n",
        "\n",
        "print(f\"Updated set : {my_set}\")"
      ],
      "metadata": {
        "colab": {
          "base_uri": "https://localhost:8080/"
        },
        "id": "zrGc1xU_Xgcc",
        "outputId": "eb8848ba-4cc7-48b3-9471-7f300ad8998b"
      },
      "execution_count": null,
      "outputs": [
        {
          "output_type": "stream",
          "name": "stdout",
          "text": [
            "\n",
            "Original set: {9, 3, 5, 7}\n",
            "Updated set : {3, 5, 7, 9, 13}\n"
          ]
        }
      ]
    },
    {
      "cell_type": "markdown",
      "source": [
        "Create a list with duplicate elements and convert it into a set to remove duplicates. Print the unique elements."
      ],
      "metadata": {
        "id": "a56G9JhKXydm"
      }
    },
    {
      "cell_type": "code",
      "source": [
        "li = [10, 20, 10, 30, 40, 20, 50]\n",
        "print(f\"\\nOriginal : {li}\")\n",
        "\n",
        "uni = set(li)\n",
        "print(f\"Unique elements are: {uni}\")"
      ],
      "metadata": {
        "colab": {
          "base_uri": "https://localhost:8080/"
        },
        "id": "3a3EtY4_Xpur",
        "outputId": "c6a6aa6a-5995-47e0-965e-3f3026feb7bd"
      },
      "execution_count": null,
      "outputs": [
        {
          "output_type": "stream",
          "name": "stdout",
          "text": [
            "\n",
            "Original : [10, 20, 10, 30, 40, 20, 50]\n",
            "Unique elements are: {40, 10, 50, 20, 30}\n"
          ]
        }
      ]
    },
    {
      "cell_type": "markdown",
      "source": [
        "Create a dictionary with your name, age, and favorite subject. Print each value separately."
      ],
      "metadata": {
        "id": "ei_NU8zTYZfy"
      }
    },
    {
      "cell_type": "code",
      "source": [
        "info = {\n",
        "    \"name\": \"Ashwin\",\n",
        "    \"age\": 21,\n",
        "    \"favorite_subject\": \"Math\"}\n",
        "\n",
        "print(f\"Name: {info['name']}\")\n",
        "print(f\"Age: {info['age']}\")\n",
        "print(f\"Favorite Subject: {info['favorite_subject']}\")"
      ],
      "metadata": {
        "colab": {
          "base_uri": "https://localhost:8080/"
        },
        "id": "mLM0sAZLYBwm",
        "outputId": "720c74e9-d65e-4f15-cf72-e0958d0fea26"
      },
      "execution_count": null,
      "outputs": [
        {
          "output_type": "stream",
          "name": "stdout",
          "text": [
            "Name: Ashwin\n",
            "Age: 21\n",
            "Favorite Subject: Math\n"
          ]
        }
      ]
    },
    {
      "cell_type": "markdown",
      "source": [
        "Create a dictionary with fruit prices (\"Apple\": 100, \"Banana\": 40, \"Mango\": 80). Update the price of \"Mango\" and add \"Grapes\" with price 120."
      ],
      "metadata": {
        "id": "90b52VFpYh5s"
      }
    },
    {
      "cell_type": "code",
      "source": [
        "\n",
        "prices = {\n",
        "    \"Apple\": 100,\n",
        "    \"Banana\": 40,\n",
        "    \"Mango\": 80\n",
        "}\n",
        "print(f\"Original prices: {prices}\")\n",
        "\n",
        "prices[\"Mango\"] = 90\n",
        "print(f\"After updating Mango: {prices}\")\n",
        "\n",
        "prices[\"Grapes\"] = 120\n",
        "print(f\"After adding Grapes: {prices}\")"
      ],
      "metadata": {
        "colab": {
          "base_uri": "https://localhost:8080/"
        },
        "id": "UqeqmC8yYRpP",
        "outputId": "8f1087c2-cea4-44be-e23d-fa57afd3da96"
      },
      "execution_count": null,
      "outputs": [
        {
          "output_type": "stream",
          "name": "stdout",
          "text": [
            "Original prices: {'Apple': 100, 'Banana': 40, 'Mango': 80}\n",
            "After updating Mango: {'Apple': 100, 'Banana': 40, 'Mango': 90}\n",
            "After adding Grapes: {'Apple': 100, 'Banana': 40, 'Mango': 90, 'Grapes': 120}\n"
          ]
        }
      ]
    },
    {
      "cell_type": "markdown",
      "source": [
        "Define a dictionary with 3 students' names as keys and their marks as values. Print only the student names."
      ],
      "metadata": {
        "id": "t1x3HzuJYyLv"
      }
    },
    {
      "cell_type": "code",
      "source": [
        "marks = {\n",
        "    \"A\": 89,\n",
        "    \"B\": 97,\n",
        "    \"C\": 49\n",
        "}\n",
        "print(f\"\\nStudent marks : {marks}\")\n",
        "\n",
        "# Print only the student names (keys)\n",
        "print(\"Student names:\")\n",
        "for student_name in marks.keys():\n",
        "    print(student_name)\n"
      ],
      "metadata": {
        "colab": {
          "base_uri": "https://localhost:8080/"
        },
        "id": "-VpiA3WhYjNq",
        "outputId": "6173784b-712b-4e33-a6e4-db3dd2fa17dd"
      },
      "execution_count": null,
      "outputs": [
        {
          "output_type": "stream",
          "name": "stdout",
          "text": [
            "\n",
            "Student marks : {'A': 89, 'B': 97, 'C': 49}\n",
            "Student names:\n",
            "A\n",
            "B\n",
            "C\n"
          ]
        }
      ]
    },
    {
      "cell_type": "markdown",
      "source": [
        "Given a string \"The quick brown fox jumps over the lazy dog\", count the number of words in it."
      ],
      "metadata": {
        "id": "5Ig2Nw0AZJ0t"
      }
    },
    {
      "cell_type": "code",
      "source": [
        "s = \"The quick brown fox jumps over the lazy dog\"\n",
        "words = s.split()\n",
        "wc = len(words)\n",
        "print(f\"The s: '{s}'\")\n",
        "print(f\"Number of words: {wc}\")\n"
      ],
      "metadata": {
        "colab": {
          "base_uri": "https://localhost:8080/"
        },
        "id": "hAKWtXwJZCy1",
        "outputId": "a2fd3b52-b257-4234-f5b3-48f7fbab145c"
      },
      "execution_count": null,
      "outputs": [
        {
          "output_type": "stream",
          "name": "stdout",
          "text": [
            "The s: 'The quick brown fox jumps over the lazy dog'\n",
            "Number of words: 9\n"
          ]
        }
      ]
    },
    {
      "cell_type": "markdown",
      "source": [
        "Write a Python program to reverse a list without using .reverse()."
      ],
      "metadata": {
        "id": "aHaOS7aAZl9H"
      }
    },
    {
      "cell_type": "code",
      "source": [
        "l1 = [1, 2, 3, 4, 5]\n",
        "print(f\"List: {l1}\")\n",
        "\n",
        "#Using slicing [::-1]\n",
        "revr = l1[::-1]\n",
        "print(f\"Reversed list is: {revr}\")\n",
        "\n",
        "# using loop\n",
        "rev = []\n",
        "for i in range(len(l1) - 1, -1, -1):\n",
        "    rev.append(l1[i])\n",
        "print(f\"Reversed list : {rev}\")"
      ],
      "metadata": {
        "colab": {
          "base_uri": "https://localhost:8080/"
        },
        "id": "EQLf20UkZWI_",
        "outputId": "09601626-2a73-40aa-a050-3760a8d84c5d"
      },
      "execution_count": null,
      "outputs": [
        {
          "output_type": "stream",
          "name": "stdout",
          "text": [
            "List: [1, 2, 3, 4, 5]\n",
            "Reversed list is: [5, 4, 3, 2, 1]\n",
            "Reversed list : [5, 4, 3, 2, 1]\n"
          ]
        }
      ]
    },
    {
      "cell_type": "code",
      "source": [
        "l1 = [4, 2, 8, 4, 6, 4, 9, 2, 4]\n",
        "print(f\"List: {l1}\")\n",
        "\n",
        "ct = {}\n",
        "for item in l1:\n",
        "    ct[item] = ct.get(item, 0) + 1\n",
        "\n",
        "most_frequent_item = None\n",
        "max_count = 0\n",
        "\n",
        "for item, count in ct.items():\n",
        "    if count > max_count:\n",
        "        max_count = count\n",
        "        most_frequent_item = item\n",
        "\n",
        "print(f\"The most frequent element is: {most_frequent_item}\")\n"
      ],
      "metadata": {
        "colab": {
          "base_uri": "https://localhost:8080/"
        },
        "id": "TnLwgJiwZ492",
        "outputId": "4cfde84b-f02c-4406-e17a-ee682f0ed38d"
      },
      "execution_count": null,
      "outputs": [
        {
          "output_type": "stream",
          "name": "stdout",
          "text": [
            "List: [4, 2, 8, 4, 6, 4, 9, 2, 4]\n",
            "The most frequent element is: 4\n"
          ]
        }
      ]
    },
    {
      "cell_type": "markdown",
      "source": [
        "Given a dictionary of student marks { \"John\": 85, \"Alice\": 92, \"Bob\": 78 }, find and print the student with the highest marks."
      ],
      "metadata": {
        "id": "ypqXPztFa4Pk"
      }
    },
    {
      "cell_type": "code",
      "source": [
        "marks = {\n",
        "    \"John\": 85,\n",
        "    \"Alice\": 92,\n",
        "    \"Bob\": 78,\n",
        "}\n",
        "print(f\"Student Marks: {marks}\")\n",
        "\n",
        "maxi = 0\n",
        "top_student = \"\"\n",
        "\n",
        "for student_name, mark in marks.items():\n",
        "    if mark > maxi:\n",
        "        maxi = mark\n",
        "        top_student = student_name\n",
        "\n",
        "print(f\"\\nStudent with the highest marks: {top_student} \")\n"
      ],
      "metadata": {
        "colab": {
          "base_uri": "https://localhost:8080/"
        },
        "id": "aNOlbywtaR8a",
        "outputId": "c8c34419-cf28-450d-d924-feea82cb500f"
      },
      "execution_count": null,
      "outputs": [
        {
          "output_type": "stream",
          "name": "stdout",
          "text": [
            "Student Marks: {'John': 85, 'Alice': 92, 'Bob': 78}\n",
            "\n",
            "Student with the highest marks: Alice \n"
          ]
        }
      ]
    },
    {
      "cell_type": "markdown",
      "source": [
        "## Assignment 3\n",
        "# Assignment on Input/Output and Flow Control in Python\n"
      ],
      "metadata": {
        "id": "852omTTybBCK"
      }
    },
    {
      "cell_type": "markdown",
      "source": [
        "Write a Python program that asks the user for two numbers, performs basic arithmetic operations (addition, subtraction, multiplication, division), and neatly displays the results.\n",
        "\n",
        "Example Output:\n",
        "Enter first number: 10\n",
        "Enter second number: 5\n",
        "Addition: 15\n",
        "Subtraction: 5\n",
        "Multiplication: 50\n",
        "Division: 2.0\n"
      ],
      "metadata": {
        "id": "jfrqVb4xcrCk"
      }
    },
    {
      "cell_type": "code",
      "source": [
        "num1 = float(input(\"Enter first number: \"))\n",
        "num2 = float(input(\"Enter second number: \"))\n",
        "\n",
        "add = num1 + num2\n",
        "sub = num1 - num2\n",
        "mul = num1 * num2\n",
        "\n",
        "if num2 != 0:\n",
        "    div = num1 / num2\n",
        "else:\n",
        "    div = \"Cannot divide by zero\"\n",
        "\n",
        "print(f\"Addition is : {add}\")\n",
        "print(f\"Subtraction is : {sub}\")\n",
        "print(f\"Multiplication is: {mul}\")\n",
        "print(f\"Division is: {div}\")\n"
      ],
      "metadata": {
        "colab": {
          "base_uri": "https://localhost:8080/"
        },
        "id": "8CYh1AgIa6Sp",
        "outputId": "b148cd31-480a-4598-d7a0-03e434c53dad"
      },
      "execution_count": null,
      "outputs": [
        {
          "output_type": "stream",
          "name": "stdout",
          "text": [
            "Enter first number: 10\n",
            "Enter second number: 5\n",
            "Addition is : 15.0\n",
            "Subtraction is : 5.0\n",
            "Multiplication is: 50.0\n",
            "Division is: 2.0\n"
          ]
        }
      ]
    },
    {
      "cell_type": "markdown",
      "source": [
        "Question 2:\n",
        "Create a Python script that prompts the user to enter their birth year and calculates their current age based on the current year.\n",
        "Example Output:\n",
        "Enter your birth year: 1990\n",
        "You are 34 years old."
      ],
      "metadata": {
        "id": "1sl37XASc0D4"
      }
    },
    {
      "cell_type": "code",
      "source": [
        "import datetime\n",
        "current_year = datetime.datetime.now().year\n",
        "birth_year = int(input(\"Enter your birth year: \"))\n",
        "age = current_year - birth_year\n",
        "print(f\"You are {age} years old.\")"
      ],
      "metadata": {
        "colab": {
          "base_uri": "https://localhost:8080/"
        },
        "id": "qHdcFZH6ctWU",
        "outputId": "191f7ae5-124c-4eae-aea1-511ecd8723e0"
      },
      "execution_count": null,
      "outputs": [
        {
          "output_type": "stream",
          "name": "stdout",
          "text": [
            "Enter your birth year: 2003\n",
            "You are 22 years old.\n"
          ]
        }
      ]
    },
    {
      "cell_type": "code",
      "source": [
        "print(\"Prime numbers between 1 and 50 are:\")\n",
        "\n",
        "for num in range(2, 51):\n",
        "    is_prime = True\n",
        "\n",
        "    for i in range(2, num):\n",
        "        if (num % i) == 0:\n",
        "            is_prime = False\n",
        "            break\n",
        "    if is_prime:\n",
        "        print(num, end=\" \")\n",
        "print()"
      ],
      "metadata": {
        "colab": {
          "base_uri": "https://localhost:8080/"
        },
        "id": "xIzd21ZmdNBK",
        "outputId": "c4c80857-f95e-4d64-c7f2-5743fed4dd20"
      },
      "execution_count": null,
      "outputs": [
        {
          "output_type": "stream",
          "name": "stdout",
          "text": [
            "Prime numbers between 1 and 50 are:\n",
            "2 3 5 7 11 13 17 19 23 29 31 37 41 43 47 \n"
          ]
        }
      ]
    },
    {
      "cell_type": "markdown",
      "source": [
        "Write a Python script that takes user input repeatedly until the user types 'exit'. Each input should be printed back to the user prefixed with \"You entered: \".\n",
        "\n",
        "Example Output:\n",
        "Enter something (type 'exit' to stop): Hello\n",
        "You entered: Hello\n",
        "Enter something (type 'exit' to stop): World\n",
        "You entered: World\n",
        "Enter something (type 'exit' to stop): exit\n"
      ],
      "metadata": {
        "id": "qdmldISseISD"
      }
    },
    {
      "cell_type": "code",
      "source": [
        "while True:\n",
        "    user_input = input(\"Enter something (type 'exit' to stop): \")\n",
        "\n",
        "    if user_input.lower() == 'exit':\n",
        "        break\n",
        "    print(f\"You entered: {user_input}\")"
      ],
      "metadata": {
        "colab": {
          "base_uri": "https://localhost:8080/"
        },
        "id": "6_YPrua7dhS3",
        "outputId": "2a1c811e-d12b-443a-e718-634f2c659c87"
      },
      "execution_count": null,
      "outputs": [
        {
          "name": "stdout",
          "output_type": "stream",
          "text": [
            "Enter something (type 'exit' to stop): 4\n",
            "You entered: 4\n",
            "Enter something (type 'exit' to stop): 23\n",
            "You entered: 23\n",
            "Enter something (type 'exit' to stop): 24\n",
            "You entered: 24\n",
            "Enter something (type 'exit' to stop): exit\n"
          ]
        }
      ]
    },
    {
      "cell_type": "markdown",
      "source": [
        "Design a Python program that reads a string from the user and counts how many vowels are present in that string. Display the count and the vowels found.\n",
        "\n",
        "Example Output:\n",
        "Enter a string: Python Programming\n",
        "Vowels found: o, o, a, i\n",
        "Total vowels: 4"
      ],
      "metadata": {
        "id": "sTuefih6eS27"
      }
    },
    {
      "cell_type": "code",
      "source": [
        "user_text = input(\"Enter a string: \")\n",
        "all_vowels = \"aeiouAEIOU\"\n",
        "vowels = 0\n",
        "found = []\n",
        "\n",
        "for i in user_text:\n",
        "    if i in all_vowels:\n",
        "        vowels += 1\n",
        "        found.append(i)\n",
        "\n",
        "print(f\"Vowels found: {', '.join(found)}\")\n",
        "print(f\"Total vowels: {vowels}\")\n"
      ],
      "metadata": {
        "colab": {
          "base_uri": "https://localhost:8080/"
        },
        "id": "ickYCTvweDev",
        "outputId": "212a3b6f-75ad-4ad8-9adc-2a77878e52e1"
      },
      "execution_count": null,
      "outputs": [
        {
          "output_type": "stream",
          "name": "stdout",
          "text": [
            "Enter a string: Ashwin\n",
            "Vowels found: A, i\n",
            "Total vowels: 2\n"
          ]
        }
      ]
    },
    {
      "cell_type": "markdown",
      "source": [
        "Write a Python program to create a simple login system. The program should ask for a username and password and keep prompting until the correct credentials (hardcoded) are provided.\n",
        "\n",
        "Example Output:\n",
        "Enter username: user\n",
        "Enter password: pass\n",
        "Incorrect, try again.\n",
        "Enter username: admin\n",
        "Enter password: admin123\n",
        "Login successful!"
      ],
      "metadata": {
        "id": "qbVict9efQTm"
      }
    },
    {
      "cell_type": "code",
      "source": [
        "user = \"admin\"\n",
        "passw = \"password123\"\n",
        "\n",
        "while True:\n",
        "    n1 = input(\"Enter username: \")\n",
        "    n2 = input(\"Enter password: \")\n",
        "\n",
        "    if n1 == user and n2 == passw:\n",
        "        print(\"Login successful!\")\n",
        "        break\n",
        "    else:\n",
        "        print(\"Incorrect, try again.\")"
      ],
      "metadata": {
        "colab": {
          "base_uri": "https://localhost:8080/"
        },
        "id": "MroQ0YSQe3bw",
        "outputId": "5a57161f-bb04-4e21-a6a9-eeca49e1f0c0"
      },
      "execution_count": null,
      "outputs": [
        {
          "output_type": "stream",
          "name": "stdout",
          "text": [
            "Enter username: admin\n",
            "Enter password: 2\n",
            "Incorrect, try again.\n",
            "Enter username: a\n",
            "Enter password: w\n",
            "Incorrect, try again.\n",
            "Enter username: admin\n",
            "Enter password: password123\n",
            "Login successful!\n"
          ]
        }
      ]
    },
    {
      "cell_type": "markdown",
      "source": [
        "Construct a Python program using conditional statements that classifies a number entered by the user as positive, negative, or zero.\n",
        "Example Output:\n",
        "Enter a number: -5\n",
        "The number is negative."
      ],
      "metadata": {
        "id": "igjYFwlPfiVb"
      }
    },
    {
      "cell_type": "code",
      "source": [
        "num = float(input(\"Enter a number: \"))\n",
        "if num > 0:\n",
        "    print(\"Positive.\")\n",
        "elif num < 0:\n",
        "    print(\"Negative.\")\n",
        "else:\n",
        "    print(\"Zero.\")"
      ],
      "metadata": {
        "colab": {
          "base_uri": "https://localhost:8080/"
        },
        "id": "i2WE2Z3UfYM5",
        "outputId": "1e51723b-716c-4393-e87e-c261c4839ce2"
      },
      "execution_count": null,
      "outputs": [
        {
          "output_type": "stream",
          "name": "stdout",
          "text": [
            "Enter a number: -1\n",
            "Negative.\n"
          ]
        }
      ]
    },
    {
      "cell_type": "markdown",
      "source": [
        "Develop a Python program that continuously prompts the user for numbers and calculates their sum. The loop should terminate when the sum exceeds 100.\n",
        "Example Output:\n",
        "Enter a number: 40\n",
        "Current sum: 40\n",
        "Enter a number: 30\n",
        "Current sum: 70\n",
        "Enter a number: 35\n",
        "Current sum: 105\n",
        "Sum exceeded 100. Loop terminated."
      ],
      "metadata": {
        "id": "S2mMdWCIfzVM"
      }
    },
    {
      "cell_type": "code",
      "source": [
        "cs = 0\n",
        "\n",
        "while True:\n",
        "    n = float(input(\"Enter a number: \"))\n",
        "    cs += n\n",
        "    print(f\"Current sum: {cs}\")\n",
        "    if cs > 100:\n",
        "        print(\"Sum exceeded 100. Loop terminated.\")\n",
        "        break"
      ],
      "metadata": {
        "colab": {
          "base_uri": "https://localhost:8080/",
          "height": 411
        },
        "id": "89CDxsvXftjb",
        "outputId": "10ac3730-5c13-4e37-f847-56ae733af0ed"
      },
      "execution_count": null,
      "outputs": [
        {
          "output_type": "stream",
          "name": "stdout",
          "text": [
            "Enter a number: 1\n",
            "Current sum: 1.0\n"
          ]
        },
        {
          "output_type": "error",
          "ename": "KeyboardInterrupt",
          "evalue": "Interrupted by user",
          "traceback": [
            "\u001b[0;31m---------------------------------------------------------------------------\u001b[0m",
            "\u001b[0;31mKeyboardInterrupt\u001b[0m                         Traceback (most recent call last)",
            "\u001b[0;32m/tmp/ipython-input-82-1821138105.py\u001b[0m in \u001b[0;36m<cell line: 0>\u001b[0;34m()\u001b[0m\n\u001b[1;32m      1\u001b[0m \u001b[0mcs\u001b[0m \u001b[0;34m=\u001b[0m \u001b[0;36m0\u001b[0m\u001b[0;34m\u001b[0m\u001b[0;34m\u001b[0m\u001b[0m\n\u001b[1;32m      2\u001b[0m \u001b[0;32mwhile\u001b[0m \u001b[0;32mTrue\u001b[0m\u001b[0;34m:\u001b[0m\u001b[0;34m\u001b[0m\u001b[0;34m\u001b[0m\u001b[0m\n\u001b[0;32m----> 3\u001b[0;31m     \u001b[0mn\u001b[0m \u001b[0;34m=\u001b[0m \u001b[0mfloat\u001b[0m\u001b[0;34m(\u001b[0m\u001b[0minput\u001b[0m\u001b[0;34m(\u001b[0m\u001b[0;34m\"Enter a number: \"\u001b[0m\u001b[0;34m)\u001b[0m\u001b[0;34m)\u001b[0m\u001b[0;34m\u001b[0m\u001b[0;34m\u001b[0m\u001b[0m\n\u001b[0m\u001b[1;32m      4\u001b[0m     \u001b[0mcs\u001b[0m \u001b[0;34m+=\u001b[0m \u001b[0mn\u001b[0m\u001b[0;34m\u001b[0m\u001b[0;34m\u001b[0m\u001b[0m\n\u001b[1;32m      5\u001b[0m     \u001b[0mprint\u001b[0m\u001b[0;34m(\u001b[0m\u001b[0;34mf\"Current sum: {cs}\"\u001b[0m\u001b[0;34m)\u001b[0m\u001b[0;34m\u001b[0m\u001b[0;34m\u001b[0m\u001b[0m\n",
            "\u001b[0;32m/usr/local/lib/python3.11/dist-packages/ipykernel/kernelbase.py\u001b[0m in \u001b[0;36mraw_input\u001b[0;34m(self, prompt)\u001b[0m\n\u001b[1;32m   1175\u001b[0m                 \u001b[0;34m\"raw_input was called, but this frontend does not support input requests.\"\u001b[0m\u001b[0;34m\u001b[0m\u001b[0;34m\u001b[0m\u001b[0m\n\u001b[1;32m   1176\u001b[0m             )\n\u001b[0;32m-> 1177\u001b[0;31m         return self._input_request(\n\u001b[0m\u001b[1;32m   1178\u001b[0m             \u001b[0mstr\u001b[0m\u001b[0;34m(\u001b[0m\u001b[0mprompt\u001b[0m\u001b[0;34m)\u001b[0m\u001b[0;34m,\u001b[0m\u001b[0;34m\u001b[0m\u001b[0;34m\u001b[0m\u001b[0m\n\u001b[1;32m   1179\u001b[0m             \u001b[0mself\u001b[0m\u001b[0;34m.\u001b[0m\u001b[0m_parent_ident\u001b[0m\u001b[0;34m[\u001b[0m\u001b[0;34m\"shell\"\u001b[0m\u001b[0;34m]\u001b[0m\u001b[0;34m,\u001b[0m\u001b[0;34m\u001b[0m\u001b[0;34m\u001b[0m\u001b[0m\n",
            "\u001b[0;32m/usr/local/lib/python3.11/dist-packages/ipykernel/kernelbase.py\u001b[0m in \u001b[0;36m_input_request\u001b[0;34m(self, prompt, ident, parent, password)\u001b[0m\n\u001b[1;32m   1217\u001b[0m             \u001b[0;32mexcept\u001b[0m \u001b[0mKeyboardInterrupt\u001b[0m\u001b[0;34m:\u001b[0m\u001b[0;34m\u001b[0m\u001b[0;34m\u001b[0m\u001b[0m\n\u001b[1;32m   1218\u001b[0m                 \u001b[0;31m# re-raise KeyboardInterrupt, to truncate traceback\u001b[0m\u001b[0;34m\u001b[0m\u001b[0;34m\u001b[0m\u001b[0m\n\u001b[0;32m-> 1219\u001b[0;31m                 \u001b[0;32mraise\u001b[0m \u001b[0mKeyboardInterrupt\u001b[0m\u001b[0;34m(\u001b[0m\u001b[0;34m\"Interrupted by user\"\u001b[0m\u001b[0;34m)\u001b[0m \u001b[0;32mfrom\u001b[0m \u001b[0;32mNone\u001b[0m\u001b[0;34m\u001b[0m\u001b[0;34m\u001b[0m\u001b[0m\n\u001b[0m\u001b[1;32m   1220\u001b[0m             \u001b[0;32mexcept\u001b[0m \u001b[0mException\u001b[0m\u001b[0;34m:\u001b[0m\u001b[0;34m\u001b[0m\u001b[0;34m\u001b[0m\u001b[0m\n\u001b[1;32m   1221\u001b[0m                 \u001b[0mself\u001b[0m\u001b[0;34m.\u001b[0m\u001b[0mlog\u001b[0m\u001b[0;34m.\u001b[0m\u001b[0mwarning\u001b[0m\u001b[0;34m(\u001b[0m\u001b[0;34m\"Invalid Message:\"\u001b[0m\u001b[0;34m,\u001b[0m \u001b[0mexc_info\u001b[0m\u001b[0;34m=\u001b[0m\u001b[0;32mTrue\u001b[0m\u001b[0;34m)\u001b[0m\u001b[0;34m\u001b[0m\u001b[0;34m\u001b[0m\u001b[0m\n",
            "\u001b[0;31mKeyboardInterrupt\u001b[0m: Interrupted by user"
          ]
        }
      ]
    },
    {
      "cell_type": "markdown",
      "source": [
        "Create a Python script to display a multiplication table for a number provided by the user, up to 10 multiples.\n",
        "Example Output:\n",
        "Enter a number: 6\n",
        "Multiplication table for 6:\n",
        "6 x 1 = 6\n",
        "6 x 2 = 12\n",
        "...\n",
        "6 x 10 = 60"
      ],
      "metadata": {
        "id": "p8HK6rPRgT_a"
      }
    },
    {
      "cell_type": "code",
      "source": [
        "num = int(input(\"Enter a number: \"))\n",
        "print(f\"Table for {num}:\")\n",
        "for i in range(1, 11):\n",
        "    pro = num * i\n",
        "    print(f\"{num} x {i} = {pro}\")"
      ],
      "metadata": {
        "colab": {
          "base_uri": "https://localhost:8080/"
        },
        "id": "sTOzIxX1f8aE",
        "outputId": "14cddd26-c342-43fd-8f05-2fab4704c590"
      },
      "execution_count": null,
      "outputs": [
        {
          "output_type": "stream",
          "name": "stdout",
          "text": [
            "Enter a number: 6\n",
            "Table for 6:\n",
            "6 x 1 = 6\n",
            "6 x 2 = 12\n",
            "6 x 3 = 18\n",
            "6 x 4 = 24\n",
            "6 x 5 = 30\n",
            "6 x 6 = 36\n",
            "6 x 7 = 42\n",
            "6 x 8 = 48\n",
            "6 x 9 = 54\n",
            "6 x 10 = 60\n"
          ]
        }
      ]
    },
    {
      "cell_type": "markdown",
      "source": [
        "Write a Python program to simulate rolling a dice. Allow the user to roll the dice repeatedly and stop the simulation when they type 'stop'.\n",
        "Example Output:\n",
        "Type 'roll' to roll the dice or 'stop' to end: roll\n",
        "You rolled a 4\n",
        "Type 'roll' to roll the dice or 'stop' to end: roll\n",
        "You rolled a 6\n",
        "Type 'roll' to roll the dice or 'stop' to end: stop\n",
        "Simulation ended."
      ],
      "metadata": {
        "id": "uMqc3h9BgkMh"
      }
    },
    {
      "cell_type": "code",
      "source": [
        "import random\n",
        "print(\"Dice Rolling Simulation\")\n",
        "\n",
        "while True:\n",
        "    action = input(\"Type 'roll' to roll the dice or 'stop' or 'exit' to end: \").lower()\n",
        "\n",
        "    if action == 'roll':\n",
        "        roll = random.randint(1, 6)\n",
        "        print(f\"You rolled a {roll}\")\n",
        "    elif action == 'stop' or 'exit':\n",
        "        print(\"Simulation ended.\")\n",
        "        break\n",
        "    else:\n",
        "        print(\"Invalid input. Please type 'roll' or 'stop'.\")"
      ],
      "metadata": {
        "colab": {
          "base_uri": "https://localhost:8080/"
        },
        "id": "CL6W6gbLgbSr",
        "outputId": "506ec889-4fa3-4457-b400-76b939ef4a9e"
      },
      "execution_count": null,
      "outputs": [
        {
          "output_type": "stream",
          "name": "stdout",
          "text": [
            "Dice Rolling Simulation\n",
            "Type 'roll' to roll the dice or 'stop' to end: exit\n",
            "Simulation ended.\n"
          ]
        }
      ]
    },
    {
      "cell_type": "markdown",
      "source": [
        "##Assignment 4\n",
        "\n",
        "#Assignment on Python Functions\n"
      ],
      "metadata": {
        "id": "XA7yb_5khis8"
      }
    },
    {
      "cell_type": "markdown",
      "source": [
        "Question 1:\n",
        "Write a Python function named greet_user that takes a name as an argument and prints a greeting message.\n",
        "Example Output:\n",
        "Enter your name: Alice\n",
        "Hello, Alice! Welcome!"
      ],
      "metadata": {
        "id": "o8XRgzxlh27O"
      }
    },
    {
      "cell_type": "code",
      "source": [
        "def greet_user(name):\n",
        "    print(f\"Hello, {name}! Welcome!\")\n",
        "user = input(\"Enter your name: \")\n",
        "greet_user(user)"
      ],
      "metadata": {
        "colab": {
          "base_uri": "https://localhost:8080/"
        },
        "id": "11ZlUforhLL3",
        "outputId": "ae7f2e00-a683-44aa-a50e-6c431312240d"
      },
      "execution_count": null,
      "outputs": [
        {
          "output_type": "stream",
          "name": "stdout",
          "text": [
            "Enter your name: Lord\n",
            "Hello, Lord! Welcome!\n"
          ]
        }
      ]
    },
    {
      "cell_type": "markdown",
      "source": [
        "Create a Python function called calculate_area that accepts the radius of a circle and returns the area. Use the value of π as 3.14159.\n",
        "Example Output:\n",
        "Enter radius: 5\n",
        "Area of circle: 78.53975"
      ],
      "metadata": {
        "id": "am0I-azoh1XF"
      }
    },
    {
      "cell_type": "code",
      "source": [
        "def calculate_area(r):\n",
        "    pi = 3.14159\n",
        "    area = pi * (r ** 2)\n",
        "    return area\n",
        "\n",
        "r = float(input(\"Enter r: \"))\n",
        "circle_area = calculate_area(r)\n",
        "print(f\"Area of circle: {circle_area}\")\n"
      ],
      "metadata": {
        "colab": {
          "base_uri": "https://localhost:8080/"
        },
        "id": "quBLoToahwDV",
        "outputId": "5259d53a-aa49-4318-e562-b7b5cf9a749f"
      },
      "execution_count": null,
      "outputs": [
        {
          "output_type": "stream",
          "name": "stdout",
          "text": [
            "Enter r: 33\n",
            "Area of circle: 3421.1915099999997\n"
          ]
        }
      ]
    },
    {
      "cell_type": "markdown",
      "source": [
        "Write a Python function named is_even that takes a number as input and returns True if the number is even, otherwise False.\n",
        "Example Output:\n",
        "Enter a number: 4\n",
        "The number is even: True"
      ],
      "metadata": {
        "id": "9x2v8u63iQtb"
      }
    },
    {
      "cell_type": "code",
      "source": [
        "def is_even(n):\n",
        "    return n % 2 == 0\n",
        "\n",
        "num = float(input(\"Enter a n: \"))\n",
        "res = is_even(num)\n",
        "print(f\"The entered number is even: {res}\")"
      ],
      "metadata": {
        "colab": {
          "base_uri": "https://localhost:8080/"
        },
        "id": "FyODeUB3iLZZ",
        "outputId": "c73f80ec-ba0c-4d55-b630-3d880b17d535"
      },
      "execution_count": null,
      "outputs": [
        {
          "output_type": "stream",
          "name": "stdout",
          "text": [
            "Enter a n: 19\n",
            "The entered number is even: False\n"
          ]
        }
      ]
    },
    {
      "cell_type": "markdown",
      "source": [
        "Create a Python function find_max that takes a list of numbers as an argument and returns the maximum number in the list.\n",
        "\n",
        "Example Output:\n",
        "\n",
        "Numbers: [2, 5, 10, 1, 6]\n",
        "\n",
        "Maximum number: 10"
      ],
      "metadata": {
        "id": "AfdDWndfjQgp"
      }
    },
    {
      "cell_type": "code",
      "source": [
        "def find_max(n):\n",
        "    max_num = n[0]\n",
        "    for num in n:\n",
        "        if num > max_num:\n",
        "            max_num = num\n",
        "    return max_num\n",
        "\n",
        "nums = [2, 5, 10, 1, 6]\n",
        "print(f\"Numbers: {nums}\")\n",
        "print(f\"Maximum number: {find_max(nums)}\")\n"
      ],
      "metadata": {
        "colab": {
          "base_uri": "https://localhost:8080/"
        },
        "id": "AlxHWo7sih3a",
        "outputId": "26298b1b-cd07-4d3a-be8a-09f621349949"
      },
      "execution_count": null,
      "outputs": [
        {
          "output_type": "stream",
          "name": "stdout",
          "text": [
            "Numbers: [2, 5, 10, 1, 6]\n",
            "Maximum number: 10\n"
          ]
        }
      ]
    },
    {
      "cell_type": "markdown",
      "source": [
        "Develop a Python function factorial to calculate and return the factorial of a given number.\n",
        "Example Output:\n",
        "Enter a number: 5\n",
        "Factorial: 120"
      ],
      "metadata": {
        "id": "38nmwqFrjdEI"
      }
    },
    {
      "cell_type": "code",
      "source": [
        "def factorial(n):\n",
        "    if n < 0:\n",
        "        return None\n",
        "    elif n == 0 or n == 1:\n",
        "        return 1\n",
        "    else:\n",
        "        res = 1\n",
        "        for i in range(1, n + 1):\n",
        "            res *= i\n",
        "        return res\n",
        "\n",
        "num = int(input(\"Enter a number: \"))\n",
        "fac = factorial(num)\n",
        "print(f\"Factorial: {fac}\")\n"
      ],
      "metadata": {
        "colab": {
          "base_uri": "https://localhost:8080/"
        },
        "id": "44tfVr86i_Bl",
        "outputId": "daff6df8-5ac9-4780-f3eb-4ee153e5e30b"
      },
      "execution_count": null,
      "outputs": [
        {
          "output_type": "stream",
          "name": "stdout",
          "text": [
            "Enter a number: 5\n",
            "Factorial: 120\n"
          ]
        }
      ]
    },
    {
      "cell_type": "code",
      "source": [
        "def reverse_string(input_str):\n",
        "    return input_str[::-1]\n",
        "\n",
        "inpt = input(\"Enter a string: \")\n",
        "revr = reverse_string(inpt)\n",
        "print(f\"Reversed string: {revr}\")\n"
      ],
      "metadata": {
        "colab": {
          "base_uri": "https://localhost:8080/"
        },
        "id": "xJ_Hi52ojtPD",
        "outputId": "94118784-9052-4b60-f2f6-7b987e1139f2"
      },
      "execution_count": null,
      "outputs": [
        {
          "output_type": "stream",
          "name": "stdout",
          "text": [
            "Enter a string: Lord\n",
            "Reversed string: droL\n"
          ]
        }
      ]
    },
    {
      "cell_type": "code",
      "source": [
        "def fib(n):\n",
        "    if n <= 0:\n",
        "        return []\n",
        "    elif n == 1:\n",
        "        return [0]\n",
        "    else:\n",
        "        seq = [0, 1]\n",
        "        while len(seq) < n:\n",
        "            next_fib = seq[-1] + seq[-2]\n",
        "            seq.append(next_fib)\n",
        "        return seq\n",
        "\n",
        "inpt = int(input(\"Fibonacci numbers to generate: \"))\n",
        "\n",
        "fib_list = fib(inpt)\n",
        "\n",
        "print(f\"Fibonacci seq: {fib_list}\")\n"
      ],
      "metadata": {
        "colab": {
          "base_uri": "https://localhost:8080/"
        },
        "id": "qRhMnxpGkTum",
        "outputId": "b232db66-10cf-49ba-ffd2-a3b544e51033"
      },
      "execution_count": null,
      "outputs": [
        {
          "output_type": "stream",
          "name": "stdout",
          "text": [
            "Fibonacci numbers to generate: 6\n",
            "Fibonacci seq: [0, 1, 1, 2, 3, 5]\n"
          ]
        }
      ]
    },
    {
      "cell_type": "markdown",
      "source": [
        "Create a Python function is_prime that checks if a given number is prime and returns True if it is, otherwise False.\n",
        "Example Output:\n",
        "Enter a number: 11\n",
        "The number is prime: True"
      ],
      "metadata": {
        "id": "u0YEd56IlZ98"
      }
    },
    {
      "cell_type": "code",
      "source": [
        "def is_prime(num):\n",
        "    if num <= 1:\n",
        "        return False\n",
        "    if num == 2:\n",
        "        return True\n",
        "    if num % 2 == 0:\n",
        "        return False\n",
        "    i = 3\n",
        "    while i * i <= num:\n",
        "        if num % i == 0:\n",
        "            return False\n",
        "        i += 2\n",
        "    return True\n",
        "\n",
        "inpt = int(input(\"Enter a number: \"))\n",
        "\n",
        "res = is_prime(inpt)\n",
        "\n",
        "print(f\"The number is prime: {res}\")\n"
      ],
      "metadata": {
        "colab": {
          "base_uri": "https://localhost:8080/"
        },
        "id": "hLVc5MgqlFRI",
        "outputId": "5f0ef725-8ef9-4fa8-fcfb-bec810fcecbe"
      },
      "execution_count": null,
      "outputs": [
        {
          "output_type": "stream",
          "name": "stdout",
          "text": [
            "Enter a number: 11\n",
            "The number is prime: True\n"
          ]
        }
      ]
    },
    {
      "cell_type": "markdown",
      "source": [
        "Develop a Python function named count_words that takes a string and returns the number of words in that string.\n",
        "Example Output:\n",
        "Enter a sentence: Python is great\n",
        "Number of words: 3\n"
      ],
      "metadata": {
        "id": "Pe4IMS-0l8td"
      }
    },
    {
      "cell_type": "code",
      "source": [
        "def count_words(n):\n",
        "    words = n.split()\n",
        "    return len(words)\n",
        "\n",
        "s = input(\"Enter a sentence: \")\n",
        "\n",
        "word_count = count_words(s)\n",
        "\n",
        "print(f\"Number of words: {word_count}\")\n"
      ],
      "metadata": {
        "colab": {
          "base_uri": "https://localhost:8080/"
        },
        "id": "ORBQP3gQlbOs",
        "outputId": "9ba60937-5163-47ff-9d8b-f7c3ee19c8d8"
      },
      "execution_count": null,
      "outputs": [
        {
          "output_type": "stream",
          "name": "stdout",
          "text": [
            "Enter a sentence: my name is good\n",
            "Number of words: 4\n"
          ]
        }
      ]
    },
    {
      "cell_type": "markdown",
      "source": [
        "Question 10:\n",
        "Write a Python function convert_temperature that converts a given temperature from Celsius to Fahrenheit.\n",
        "Example Output:\n",
        "Enter temperature in Celsius: 25\n",
        "Temperature in Fahrenheit: 77.0"
      ],
      "metadata": {
        "id": "xWFb_uSXmatQ"
      }
    },
    {
      "cell_type": "code",
      "source": [
        "def convert_temperature(c):\n",
        "    f = (c * 9/5) + 32\n",
        "    return f\n",
        "\n",
        "inpt = float(input(\"Enter temperature in celsius: \"))\n",
        "oput = convert_temperature(inpt)\n",
        "print(f\"Temperature in f: {oput}\")\n"
      ],
      "metadata": {
        "colab": {
          "base_uri": "https://localhost:8080/"
        },
        "id": "kiEWt9gql5VD",
        "outputId": "fbc7f660-79f0-40ba-c16a-5757bc28e5ee"
      },
      "execution_count": null,
      "outputs": [
        {
          "output_type": "stream",
          "name": "stdout",
          "text": [
            "Enter temperature in celsius: 25\n",
            "Temperature in f: 77.0\n"
          ]
        }
      ]
    },
    {
      "cell_type": "markdown",
      "source": [
        "##Assignment 5 : Copying and Comprehension"
      ],
      "metadata": {
        "id": "iArbfGm6AFfe"
      }
    },
    {
      "cell_type": "markdown",
      "source": [
        "**Q. 1 Explain the difference between shallow copy and deep copy in Python with examples. Demonstrate how changing the original list affects the copied list in each case.**"
      ],
      "metadata": {
        "id": "a-VnAnCOANCG"
      }
    },
    {
      "cell_type": "markdown",
      "metadata": {
        "id": "f6d45647"
      },
      "source": [
        "**Shallow Copy:**\n",
        "\n",
        "A shallow copy creates a new compound object (like a list or dictionary) but does **not** create copies of the nested objects within the original object. Instead, it copies the references to the nested objects. This means that if you modify a nested object in the shallow copy, the original object will also be affected, and vice versa.\n",
        "\n",
        "The `copy()` method from the `copy` module or slicing (`[:]`) can be used to create shallow copies."
      ]
    },
    {
      "cell_type": "code",
      "metadata": {
        "colab": {
          "base_uri": "https://localhost:8080/"
        },
        "id": "7fdb190d",
        "outputId": "f29751fa-d54e-4828-e0a1-cd3b786b7238"
      },
      "source": [
        "import copy\n",
        "# Example with a list containing nested lists (mutable objects)\n",
        "original_list = [[1, 2, 3], [4, 5, 6]]\n",
        "shallow_copied_list = original_list.copy()\n",
        "print(f\"Original list: {original_list}\")\n",
        "print(f\"Shallow copied list: {shallow_copied_list}\")\n",
        "\n",
        "# Modify a nested list in the shallow copy\n",
        "shallow_copied_list[0][0] = 99\n",
        "\n",
        "print(f\"\\nAfter modifying shallow copy:\")\n",
        "print(f\"Original list: {original_list}\")\n",
        "print(f\"Shallow copied list: {shallow_copied_list}\")\n",
        "\n",
        "# Example with a dictionary containing a list\n",
        "original_dict = {'a': 1, 'b': [2, 3]}\n",
        "shallow_copied_dict = original_dict.copy()\n",
        "\n",
        "print(f\"\\nOriginal dictionary: {original_dict}\")\n",
        "print(f\"Shallow copied dictionary: {shallow_copied_dict}\")\n",
        "\n",
        "# Modify the list in the shallow copy\n",
        "shallow_copied_dict['b'][0] = 88\n",
        "\n",
        "print(f\"\\nAfter modifying shallow copy:\")\n",
        "print(f\"Original dictionary: {original_dict}\")\n",
        "print(f\"Shallow copied dictionary: {shallow_copied_dict}\")"
      ],
      "execution_count": 3,
      "outputs": [
        {
          "output_type": "stream",
          "name": "stdout",
          "text": [
            "Original list: [[1, 2, 3], [4, 5, 6]]\n",
            "Shallow copied list: [[1, 2, 3], [4, 5, 6]]\n",
            "\n",
            "After modifying shallow copy:\n",
            "Original list: [[99, 2, 3], [4, 5, 6]]\n",
            "Shallow copied list: [[99, 2, 3], [4, 5, 6]]\n",
            "\n",
            "Original dictionary: {'a': 1, 'b': [2, 3]}\n",
            "Shallow copied dictionary: {'a': 1, 'b': [2, 3]}\n",
            "\n",
            "After modifying shallow copy:\n",
            "Original dictionary: {'a': 1, 'b': [88, 3]}\n",
            "Shallow copied dictionary: {'a': 1, 'b': [88, 3]}\n"
          ]
        }
      ]
    },
    {
      "cell_type": "markdown",
      "metadata": {
        "id": "573573f3"
      },
      "source": [
        "**Deep Copy:**\n",
        "\n",
        "A deep copy creates a new compound object and then recursively creates copies of all the nested objects found in the original object. This means that a deep copy is a completely independent copy of the original object, and modifications to the deep copy will **not** affect the original object.\n",
        "\n",
        "The `deepcopy()` method from the `copy` module is used to create deep copies."
      ]
    },
    {
      "cell_type": "code",
      "metadata": {
        "colab": {
          "base_uri": "https://localhost:8080/"
        },
        "id": "c2d8bbec",
        "outputId": "7cff5fbd-2860-4613-9d36-677d6a38d914"
      },
      "source": [
        "import copy\n",
        "\n",
        "# Example with a list containing nested lists\n",
        "original_list = [[1, 2, 3], [4, 5, 6]]\n",
        "deep_copied_list = copy.deepcopy(original_list)\n",
        "\n",
        "print(f\"Original list: {original_list}\")\n",
        "print(f\"Deep copied list: {deep_copied_list}\")\n",
        "\n",
        "# Modify a nested list in the deep copy\n",
        "deep_copied_list[0][0] = 999\n",
        "\n",
        "print(f\"\\nAfter modifying deep copy:\")\n",
        "print(f\"Original list: {original_list}\")\n",
        "print(f\"Deep copied list: {deep_copied_list}\")\n",
        "\n",
        "# Example with a dictionary containing a list\n",
        "original_dict = {'a': 1, 'b': [2, 3]}\n",
        "deep_copied_dict = copy.deepcopy(original_dict)\n",
        "\n",
        "print(f\"\\nOriginal dictionary: {original_dict}\")\n",
        "print(f\"Deep copied dictionary: {deep_copied_dict}\")\n",
        "\n",
        "# Modify the list in the deep copy\n",
        "deep_copied_dict['b'][0] = 888\n",
        "\n",
        "print(f\"\\nAfter modifying deep copy:\")\n",
        "print(f\"Original dictionary: {original_dict}\")\n",
        "print(f\"Deep copied dictionary: {deep_copied_dict}\")"
      ],
      "execution_count": 2,
      "outputs": [
        {
          "output_type": "stream",
          "name": "stdout",
          "text": [
            "Original list: [[1, 2, 3], [4, 5, 6]]\n",
            "Deep copied list: [[1, 2, 3], [4, 5, 6]]\n",
            "\n",
            "After modifying deep copy:\n",
            "Original list: [[1, 2, 3], [4, 5, 6]]\n",
            "Deep copied list: [[999, 2, 3], [4, 5, 6]]\n",
            "\n",
            "Original dictionary: {'a': 1, 'b': [2, 3]}\n",
            "Deep copied dictionary: {'a': 1, 'b': [2, 3]}\n",
            "\n",
            "After modifying deep copy:\n",
            "Original dictionary: {'a': 1, 'b': [2, 3]}\n",
            "Deep copied dictionary: {'a': 1, 'b': [888, 3]}\n"
          ]
        }
      ]
    },
    {
      "cell_type": "markdown",
      "metadata": {
        "id": "ce6017de"
      },
      "source": [
        "In summary:\n",
        "\n",
        "*   **Shallow Copy:** Copies the top-level object and references to nested objects. Changes to nested objects affect both the original and the copy.\n",
        "*   **Deep Copy:** Copies the top-level object and recursively copies all nested objects. Changes to the deep copy do not affect the original.\n",
        "\n",
        "Choose a shallow copy when you want a new container but shared nested objects. Choose a deep copy when you need a completely independent copy of the object and all its contents."
      ]
    },
    {
      "cell_type": "markdown",
      "source": [
        "**Question 2:\n",
        "Write a Python program demonstrating the use of assignment operator to copy lists and show how changing one list affects the other.\n",
        "Example Output:\n",
        "List 1: [10, 20, 30]\n",
        "List 2 (after copying): [10, 20, 30]\n",
        "List 1 after modification: [10, 20, 'modified']\n",
        "List 2 after List 1 modification: [10, 20, 'modified']**"
      ],
      "metadata": {
        "id": "pP9aHNgCBr1q"
      }
    },
    {
      "cell_type": "code",
      "metadata": {
        "colab": {
          "base_uri": "https://localhost:8080/"
        },
        "id": "71f66156",
        "outputId": "6fcd8a2d-2c8a-48c4-c7c4-85c313c3c152"
      },
      "source": [
        "list1 = [10, 20, 30]\n",
        "print(f\"List 1: {list1}\")\n",
        "list2 = list1\n",
        "print(f\"List 2 (after copying): {list2}\")\n",
        "\n",
        "# Modify an element in list1\n",
        "list1[2] = 'modified'\n",
        "print(f\"List 1 after modification: {list1}\")\n",
        "\n",
        "print(f\"List 2 after List 1 modification: {list2}\")"
      ],
      "execution_count": 4,
      "outputs": [
        {
          "output_type": "stream",
          "name": "stdout",
          "text": [
            "List 1: [10, 20, 30]\n",
            "List 2 (after copying): [10, 20, 30]\n",
            "List 1 after modification: [10, 20, 'modified']\n",
            "List 2 after List 1 modification: [10, 20, 'modified']\n"
          ]
        }
      ]
    },
    {
      "cell_type": "markdown",
      "source": [
        "**Question 3:\n",
        "Create a Python program to illustrate list comprehension by generating a list of squares of numbers from 1 to 10.\n",
        "Example Output:\n",
        "Squares: [1, 4, 9, 16, 25, 36, 49, 64, 81, 100]**"
      ],
      "metadata": {
        "id": "g3wtXwx5CYow"
      }
    },
    {
      "cell_type": "code",
      "source": [
        "squares = [x**2 for x in range(1, 11)]\n",
        "print(f\"Squares: {squares}\")"
      ],
      "metadata": {
        "colab": {
          "base_uri": "https://localhost:8080/"
        },
        "id": "65_-tot2CUbw",
        "outputId": "25c2cb0f-85d8-4c81-eff9-4947561a611a"
      },
      "execution_count": 5,
      "outputs": [
        {
          "output_type": "stream",
          "name": "stdout",
          "text": [
            "Squares: [1, 4, 9, 16, 25, 36, 49, 64, 81, 100]\n"
          ]
        }
      ]
    },
    {
      "cell_type": "markdown",
      "source": [
        "**Question 4:\n",
        "Write a Python program using dictionary comprehension to create a dictionary that contains numbers (1 to 5) as keys and their cubes as values.\n",
        "Example Output:\n",
        "Dictionary of cubes: {1: 1, 2: 8, 3: 27, 4: 64, 5: 125}**"
      ],
      "metadata": {
        "id": "1w4jTiB3CmgT"
      }
    },
    {
      "cell_type": "code",
      "source": [],
      "metadata": {
        "id": "AOXO996tCjR1"
      },
      "execution_count": null,
      "outputs": []
    },
    {
      "cell_type": "markdown",
      "metadata": {
        "id": "817d324b"
      },
      "source": [
        "Here is the code to create a dictionary of numbers and their cubes using dictionary comprehension:"
      ]
    },
    {
      "cell_type": "code",
      "metadata": {
        "colab": {
          "base_uri": "https://localhost:8080/"
        },
        "id": "3f27433a",
        "outputId": "e22f4b84-c50c-4ff0-882c-aef79ddaa365"
      },
      "source": [
        "cubes_dict = {x: x**3 for x in range(1, 6)}\n",
        "print(f\"Dictionary of cubes: {cubes_dict}\")"
      ],
      "execution_count": 7,
      "outputs": [
        {
          "output_type": "stream",
          "name": "stdout",
          "text": [
            "Dictionary of cubes: {1: 1, 2: 8, 3: 27, 4: 64, 5: 125}\n"
          ]
        }
      ]
    },
    {
      "cell_type": "markdown",
      "source": [
        "**Demonstrate set comprehension by writing a Python program that generates a set containing only the vowels present in a user-given string.**"
      ],
      "metadata": {
        "id": "jYd8ky26C4fE"
      }
    },
    {
      "cell_type": "code",
      "metadata": {
        "colab": {
          "base_uri": "https://localhost:8080/"
        },
        "id": "dbf301da",
        "outputId": "89b5e628-e1b2-489c-fcf4-b2bfb5f0ddcc"
      },
      "source": [
        "user_string = input(\"Enter a string: \")\n",
        "vowels = {'a', 'e', 'i', 'o', 'u', 'A', 'E', 'I', 'O', 'U'}\n",
        "found_vowels = {char for char in user_string if char in vowels}\n",
        "print(f\"Vowels found in the string: {found_vowels}\")"
      ],
      "execution_count": 9,
      "outputs": [
        {
          "output_type": "stream",
          "name": "stdout",
          "text": [
            "Enter a string: niwsha\n",
            "Vowels found in the string: {'a', 'i'}\n"
          ]
        }
      ]
    },
    {
      "cell_type": "markdown",
      "source": [
        "**Question 6:\n",
        "Develop a Python program that uses nested list comprehension to create a multiplication table for numbers 1 through 3.**"
      ],
      "metadata": {
        "id": "ghAFHnVhDMLT"
      }
    },
    {
      "cell_type": "code",
      "source": [
        "multiplication_table = [[i * j for j in range(1, 4)] for i in range(1, 4)]\n",
        "print(f\"Multiplication Table: {multiplication_table}\")"
      ],
      "metadata": {
        "colab": {
          "base_uri": "https://localhost:8080/"
        },
        "id": "2k5kSVtdDBrJ",
        "outputId": "5c72bfa0-ccc7-4994-cba5-b06a60be893b"
      },
      "execution_count": 11,
      "outputs": [
        {
          "output_type": "stream",
          "name": "stdout",
          "text": [
            "Multiplication Table: [[1, 2, 3], [2, 4, 6], [3, 6, 9]]\n"
          ]
        }
      ]
    },
    {
      "cell_type": "markdown",
      "source": [
        "**Question 7:\n",
        "Explain and demonstrate generator comprehension by writing a Python program that generates and prints numbers from 1 to 5 using a generator.\n",
        "Example Output:\n",
        "Generated numbers:\n",
        "1\n",
        "2\n",
        "3\n",
        "4\n",
        "5**"
      ],
      "metadata": {
        "id": "5KShNAiKDnEv"
      }
    },
    {
      "cell_type": "code",
      "source": [
        "generator = (num for num in range(1, 6))\n",
        "print(\"Generated numbers:\")\n",
        "for number in generator:\n",
        "    print(number)"
      ],
      "metadata": {
        "colab": {
          "base_uri": "https://localhost:8080/"
        },
        "id": "e-erJw-pDq5R",
        "outputId": "1d8d0758-3b11-444c-f104-0cbb40df5236"
      },
      "execution_count": 23,
      "outputs": [
        {
          "output_type": "stream",
          "name": "stdout",
          "text": [
            "Generated numbers:\n",
            "1\n",
            "2\n",
            "3\n",
            "4\n",
            "5\n"
          ]
        }
      ]
    },
    {
      "cell_type": "code",
      "source": [
        "li = [1, 2, 3, 4, 5, 6]\n",
        "eve = [num for num in li if num % 2 == 0]\n",
        "print(f\"Original list: {li}\")\n",
        "print(f\"Even numbers: {eve}\")\n"
      ],
      "metadata": {
        "colab": {
          "base_uri": "https://localhost:8080/"
        },
        "id": "DJ0HmrV0ExWH",
        "outputId": "bfb68813-96ae-4d3e-c581-41cc495a6d2a"
      },
      "execution_count": 25,
      "outputs": [
        {
          "output_type": "stream",
          "name": "stdout",
          "text": [
            "Original list: [1, 2, 3, 4, 5, 6]\n",
            "Even numbers: [2, 4, 6]\n"
          ]
        }
      ]
    },
    {
      "cell_type": "code",
      "source": [
        "# Question 9:\n",
        "# Create a Python program that uses list comprehension to convert all characters in a string to uppercase.\n",
        "# Example Output:\n",
        "# Enter a string: hello world\n",
        "# Uppercase String: HELLO WORLD\n",
        "\n",
        "input_string = input(\"Enter a string: \")\n",
        "uppercase_chars = [char.upper() for char in input_string]\n",
        "uppercase_string = \"\".join(uppercase_chars)\n",
        "print(f\"Uppercase String: {uppercase_string}\")\n"
      ],
      "metadata": {
        "colab": {
          "base_uri": "https://localhost:8080/"
        },
        "id": "UqHDyvkEGppw",
        "outputId": "fb3feba4-bc4c-4abd-ab73-7d6e5452c743"
      },
      "execution_count": 26,
      "outputs": [
        {
          "output_type": "stream",
          "name": "stdout",
          "text": [
            "Enter a string: help me\n",
            "Uppercase String: HELP ME\n"
          ]
        }
      ]
    },
    {
      "cell_type": "code",
      "source": [
        "# Question 10:\n",
        "# Design a Python program that uses dictionary comprehension to invert keys and values of a given dictionary.\n",
        "# Example Output:\n",
        "# Original dictionary: {'a': 1, 'b': 2, 'c': 3}\n",
        "# Inverted dictionary: {1: 'a', 2: 'b', 3: 'c'}\n",
        "\n",
        "\n",
        "od = {'a': 1, 'b': 2, 'c': 3}\n",
        "inv = {value: key for key, value in od.items()}\n",
        "print(f\"Original dictionary: {od}\")\n",
        "print(f\"Inverted dictionary: {inv}\")\n"
      ],
      "metadata": {
        "colab": {
          "base_uri": "https://localhost:8080/"
        },
        "id": "NiowlV6BG8sn",
        "outputId": "f33a4363-efd5-4790-dde9-4271e0345ac3"
      },
      "execution_count": 27,
      "outputs": [
        {
          "output_type": "stream",
          "name": "stdout",
          "text": [
            "Original dictionary: {'a': 1, 'b': 2, 'c': 3}\n",
            "Inverted dictionary: {1: 'a', 2: 'b', 3: 'c'}\n"
          ]
        }
      ]
    },
    {
      "cell_type": "markdown",
      "source": [
        "##Assignment 6"
      ],
      "metadata": {
        "id": "n6SwxJrMKW1t"
      }
    },
    {
      "cell_type": "code",
      "source": [
        "# Question 1:\n",
        "# Explain with examples how iterators work in Python. Demonstrate creating an iterator from a list and retrieving elements using __next__().\n",
        "# Example Output:\n",
        "# Iterator created from list: [1, 2, 3, 4]\n",
        "# First item: 1\n",
        "# Second item: 2\n",
        "\n",
        "ml = [1, 2, 3, 4]\n",
        "mi = iter(ml)\n",
        "print(f\"Iterator created from list: {ml}\")\n",
        "first_item = mi.__next__()\n",
        "print(f\"First item: {first_item}\")\n",
        "second_item = next(mi)\n",
        "print(f\"Second item: {second_item}\")"
      ],
      "metadata": {
        "colab": {
          "base_uri": "https://localhost:8080/"
        },
        "id": "r8fXywxqHOUK",
        "outputId": "ea2cc7b8-9412-4556-a190-64778b117ad2"
      },
      "execution_count": 30,
      "outputs": [
        {
          "output_type": "stream",
          "name": "stdout",
          "text": [
            "Iterator created from list: [1, 2, 3, 4]\n",
            "First item: 1\n",
            "Second item: 2\n"
          ]
        }
      ]
    },
    {
      "cell_type": "code",
      "source": [
        "# Question 3:\n",
        "# Develop a Python program using a decorator named uppercase_decorator that converts the return value of a function to uppercase.\n",
        "# Example Output:\n",
        "# Original message: hello world\n",
        "# Uppercase message: HELLO WORLD\n",
        "\n",
        "\n",
        "def uppercase_decorator(function):\n",
        "    def wrapper():\n",
        "        original_result = function()\n",
        "        uppercase_result = original_result.upper()\n",
        "        return uppercase_result\n",
        "    return wrapper\n",
        "@uppercase_decorator\n",
        "def say_message():\n",
        "    return \"hello world\"\n",
        "print(f\"Original message: {'hello world'}\")\n",
        "print(f\"Uppercase message: {say_message()}\")\n"
      ],
      "metadata": {
        "colab": {
          "base_uri": "https://localhost:8080/"
        },
        "id": "GheyICFbK0Tn",
        "outputId": "b8a0c5f4-6c06-4159-f2d2-4f9a79d5a81b"
      },
      "execution_count": 31,
      "outputs": [
        {
          "output_type": "stream",
          "name": "stdout",
          "text": [
            "Original message: hello world\n",
            "Uppercase message: HELLO WORLD\n"
          ]
        }
      ]
    },
    {
      "cell_type": "code",
      "source": [
        "# Question 4:\n",
        "# Explain the concept of Python decorators. Provide a practical example demonstrating how decorators can modify the behavior of functions.\n",
        "# Example Output:\n",
        "# Before decoration: 5\n",
        "# After decoration (square result): 25\n",
        "\n",
        "\n",
        "def square_decorator(func):\n",
        "    def wrapper():\n",
        "        result = func()\n",
        "        squared_result = result * result\n",
        "        return squared_result\n",
        "    return wrapper\n",
        "@square_decorator\n",
        "def get_number():\n",
        "    return 5\n",
        "original_result = 5\n",
        "decorated_result = get_number()\n",
        "print(f\"Before decoration: {original_result}\")\n",
        "print(f\"After decoration (square result): {decorated_result}\")\n"
      ],
      "metadata": {
        "colab": {
          "base_uri": "https://localhost:8080/"
        },
        "id": "cQmZC1PtMwhf",
        "outputId": "d4a96462-6d44-4cfd-f358-e23ef477d6b6"
      },
      "execution_count": 32,
      "outputs": [
        {
          "output_type": "stream",
          "name": "stdout",
          "text": [
            "Before decoration: 5\n",
            "After decoration (square result): 25\n"
          ]
        }
      ]
    },
    {
      "cell_type": "code",
      "source": [
        "# Question 5:\n",
        "# Create a generator expression in Python to generate and print the squares of numbers from 1 to 5.\n",
        "# Example Output:\n",
        "# Squares: 1 4 9 16 25\n",
        "\n",
        "squares = (n*n for n in range(1, 6))\n",
        "print(\"Squares:\", end=\" \")\n",
        "for square in squares:\n",
        "    print(square, end=\" \")"
      ],
      "metadata": {
        "colab": {
          "base_uri": "https://localhost:8080/"
        },
        "id": "n2H5cDefNHKL",
        "outputId": "1957d063-c577-4d4d-b5d7-0350ff631e73"
      },
      "execution_count": 33,
      "outputs": [
        {
          "output_type": "stream",
          "name": "stdout",
          "text": [
            "Squares: 1 4 9 16 25 "
          ]
        }
      ]
    },
    {
      "cell_type": "code",
      "source": [
        "# Question 6:\n",
        "# Write a Python generator function named fibonacci_generator to yield Fibonacci numbers up to a specified count provided by the user.\n",
        "# Example Output:\n",
        "# Enter count: 7\n",
        "# Fibonacci sequence: 0 1 1 2 3 5 8\n",
        "\n",
        "\n",
        "def fibonacci_generator(count):\n",
        "    a, b = 0, 1\n",
        "    for _ in range(count):\n",
        "        yield a\n",
        "        a, b = b, a + b\n",
        "def main():\n",
        "    try:\n",
        "        user_count = int(input(\"Enter count: \"))\n",
        "        if user_count < 0:\n",
        "            print(\"Please enter a non-negative number.\")\n",
        "            return\n",
        "\n",
        "        print(\"Fibonacci sequence:\", end=\" \")\n",
        "\n",
        "        fib_gen = fibonacci_generator(user_count)\n",
        "        for number in fib_gen:\n",
        "            print(number, end=\" \")\n",
        "        print()\n",
        "    except ValueError:\n",
        "        print(\"Invalid input. Please enter an integer.\")\n",
        "if __name__ == \"__main__\":\n",
        "    main()\n"
      ],
      "metadata": {
        "colab": {
          "base_uri": "https://localhost:8080/"
        },
        "id": "osPr_PRMNSUX",
        "outputId": "587a59ec-689b-4af0-9a90-9f489c35ab7c"
      },
      "execution_count": 34,
      "outputs": [
        {
          "output_type": "stream",
          "name": "stdout",
          "text": [
            "Enter count: 5\n",
            "Fibonacci sequence: 0 1 1 2 3 \n"
          ]
        }
      ]
    },
    {
      "cell_type": "code",
      "source": [
        "# Question 7:\n",
        "# Demonstrate how the built-in function iter() and method next() can be used to manually iterate over a tuple containing string values.\n",
        "# Example Output:\n",
        "# Tuple: ('apple', 'banana', 'cherry')\n",
        "# First fruit: apple\n",
        "# Second fruit: banana\n",
        "\n",
        "fruits_tuple = ('apple', 'banana', 'cherry')\n",
        "print(f\"Tuple: {fruits_tuple}\")\n",
        "fruits_iterator = iter(fruits_tuple)\n",
        "first_fruit = next(fruits_iterator)\n",
        "print(f\"First fruit: {first_fruit}\")\n",
        "second_fruit = next(fruits_iterator)\n",
        "print(f\"Second fruit: {second_fruit}\")\n"
      ],
      "metadata": {
        "colab": {
          "base_uri": "https://localhost:8080/"
        },
        "id": "k3l1bGBHNfdK",
        "outputId": "458bed23-e8b5-4cf4-b422-264c3f5525d8"
      },
      "execution_count": 35,
      "outputs": [
        {
          "output_type": "stream",
          "name": "stdout",
          "text": [
            "Tuple: ('apple', 'banana', 'cherry')\n",
            "First fruit: apple\n",
            "Second fruit: banana\n"
          ]
        }
      ]
    },
    {
      "cell_type": "code",
      "source": [
        "# Question 8:\n",
        "# Write a Python decorator log_decorator that prints the name of the function being called and the arguments it was called with.\n",
        "# Example Output:\n",
        "# Calling function: add with arguments: (3, 4)\n",
        "# Result: 7\n",
        "\n",
        "def log_decorator(func):\n",
        "    def wrapper(*args, **kwargs):\n",
        "        print(f\"Calling function: {func.__name__} with arguments: {args}\")\n",
        "        result = func(*args, **kwargs)\n",
        "        print(f\"Result: {result}\")\n",
        "        return result\n",
        "    return wrapper\n",
        "\n",
        "@log_decorator\n",
        "def add(a, b):\n",
        "    return a + b\n",
        "add(3, 4)\n"
      ],
      "metadata": {
        "colab": {
          "base_uri": "https://localhost:8080/"
        },
        "id": "jzH2fWN0NvE4",
        "outputId": "54d99819-fce1-4ddb-c447-25e194dcba67"
      },
      "execution_count": 36,
      "outputs": [
        {
          "output_type": "stream",
          "name": "stdout",
          "text": [
            "Calling function: add with arguments: (3, 4)\n",
            "Result: 7\n"
          ]
        },
        {
          "output_type": "execute_result",
          "data": {
            "text/plain": [
              "7"
            ]
          },
          "metadata": {},
          "execution_count": 36
        }
      ]
    },
    {
      "cell_type": "code",
      "source": [
        "# Question 9:\n",
        "# Explain and demonstrate the use of generator comprehensions by creating a generator comprehension to yield odd numbers between 1 and 10.\n",
        "# Example Output:\n",
        "# Odd numbers: 1 3 5 7 9\n",
        "\n",
        "odd_numbers = (num for num in range(1, 11) if num % 2 != 0)\n",
        "print(\"Odd numbers:\", end=\" \")\n",
        "for number in odd_numbers:\n",
        "    print(number, end=\" \")\n",
        "print()"
      ],
      "metadata": {
        "colab": {
          "base_uri": "https://localhost:8080/"
        },
        "id": "v-CBZ7TTN7ax",
        "outputId": "39333e74-e617-4dac-a7ad-7c76a5a069d4"
      },
      "execution_count": 37,
      "outputs": [
        {
          "output_type": "stream",
          "name": "stdout",
          "text": [
            "Odd numbers: 1 3 5 7 9 \n"
          ]
        }
      ]
    },
    {
      "cell_type": "code",
      "source": [
        "# Question 10:\n",
        "# Create a decorator named repeat_decorator that repeats the execution of the decorated function three times.\n",
        "# Example Output:\n",
        "# Executing...\n",
        "# Hello\n",
        "# Hello\n",
        "# Hello\n",
        "\n",
        "\n",
        "def repeat_decorator(func):\n",
        "    def wrapper(*args, **kwargs):\n",
        "        print(\"Executing...\")\n",
        "        for _ in range(3):\n",
        "            func(*args, **kwargs)\n",
        "    return wrapper\n",
        "\n",
        "@repeat_decorator\n",
        "def say_hello():\n",
        "    print(\"Hello\")\n",
        "say_hello()\n"
      ],
      "metadata": {
        "colab": {
          "base_uri": "https://localhost:8080/"
        },
        "id": "9kZLuvPnOKWY",
        "outputId": "a18ed4d6-faa6-4fe3-e2a8-39014a24179f"
      },
      "execution_count": 38,
      "outputs": [
        {
          "output_type": "stream",
          "name": "stdout",
          "text": [
            "Executing...\n",
            "Hello\n",
            "Hello\n",
            "Hello\n"
          ]
        }
      ]
    },
    {
      "cell_type": "code",
      "source": [],
      "metadata": {
        "id": "EMmXg71VOWbg"
      },
      "execution_count": null,
      "outputs": []
    }
  ]
}