{
  "nbformat": 4,
  "nbformat_minor": 0,
  "metadata": {
    "colab": {
      "provenance": [],
      "authorship_tag": "ABX9TyPRkNSJmxlacTmPhJnO45Zr",
      "include_colab_link": true
    },
    "kernelspec": {
      "name": "python3",
      "display_name": "Python 3"
    },
    "language_info": {
      "name": "python"
    }
  },
  "cells": [
    {
      "cell_type": "markdown",
      "metadata": {
        "id": "view-in-github",
        "colab_type": "text"
      },
      "source": [
        "<a href=\"https://colab.research.google.com/github/wtfashwin/Python-/blob/main/OOPS_Encapsulation.ipynb\" target=\"_parent\"><img src=\"https://colab.research.google.com/assets/colab-badge.svg\" alt=\"Open In Colab\"/></a>"
      ]
    },
    {
      "cell_type": "markdown",
      "source": [
        "#Encapsulation :\n",
        "\n",
        " - wrapping your data\n",
        " - restricting them, store in a secure way\n",
        " - 3 types of variables/ members\n",
        "\n",
        " 1. Public\n",
        " 2. Private\n",
        " 3. Protected"
      ],
      "metadata": {
        "id": "TlsziRGXviEV"
      }
    },
    {
      "cell_type": "code",
      "execution_count": null,
      "metadata": {
        "colab": {
          "base_uri": "https://localhost:8080/"
        },
        "id": "TzLENBoXvZ7F",
        "outputId": "0f3d1e3d-4f1d-48e5-e88b-033062d16e11"
      },
      "outputs": [
        {
          "output_type": "stream",
          "name": "stdout",
          "text": [
            "A\n",
            "21\n"
          ]
        }
      ],
      "source": [
        "class Student :\n",
        "  def __init__(self, name, marks):\n",
        "    self.name = name #public\n",
        "    self.marks = marks #public\n",
        "  def display(self):\n",
        "    print('Name: ',self.name , 'Marks:', self.marks)\n",
        "class graduate(Student):\n",
        "    def show_details(self):\n",
        "      print('graduate name:', self.name)\n",
        "      print('Graduate Student marks:', self.marks)\n",
        "o = Student('A' , 21)\n",
        "print(o.name)\n",
        "print(o.marks)\n"
      ]
    },
    {
      "cell_type": "markdown",
      "source": [
        "#Protected\n",
        "-"
      ],
      "metadata": {
        "id": "_EtYC4Xpx-vH"
      }
    },
    {
      "cell_type": "code",
      "source": [
        "class fam:\n",
        "  def __init__(self,surname):\n",
        "    self._surname = surname # protected using underscore\n",
        "\n",
        "class child(fam):\n",
        "  def __init__(self, surname): # The child class also needs to accept a surname\n",
        "    super().__init__(surname) # Pass the surname to the parent class's constructor\n",
        "  def show_fam(self):\n",
        "    print('Belongs to ', self._surname, 'Family')\n",
        "class nf:\n",
        "  def access_fam(self,obj):\n",
        "    print('New fam access', obj._surname)"
      ],
      "metadata": {
        "id": "CZlk4rZ0wYdr"
      },
      "execution_count": null,
      "outputs": []
    },
    {
      "cell_type": "code",
      "source": [
        "f = fam(\"Smith\") # Provide a surname when creating the fam object\n",
        "c = child(\"Johnson\") # Provide a surname when creating the child object\n",
        "c.show_fam()\n",
        "n = nf()\n",
        "n.access_fam(c)"
      ],
      "metadata": {
        "colab": {
          "base_uri": "https://localhost:8080/"
        },
        "id": "BgrxeNPV0uJp",
        "outputId": "c5c2ae36-52b8-4d59-8b5d-f208b39b75a8"
      },
      "execution_count": null,
      "outputs": [
        {
          "output_type": "stream",
          "name": "stdout",
          "text": [
            "Belongs to  Johnson Family\n",
            "New fam access Johnson\n"
          ]
        }
      ]
    },
    {
      "cell_type": "code",
      "source": [
        "n = nf()\n",
        "n.access_fam(f)"
      ],
      "metadata": {
        "colab": {
          "base_uri": "https://localhost:8080/"
        },
        "id": "8Fc3plGez077",
        "outputId": "b9dc167d-757e-47a9-c962-b66c0e16d73b"
      },
      "execution_count": null,
      "outputs": [
        {
          "output_type": "stream",
          "name": "stdout",
          "text": [
            "New fam access Smith\n"
          ]
        }
      ]
    },
    {
      "cell_type": "code",
      "source": [
        "class std:\n",
        "  def __init__(self):\n",
        "    self.marks = 85\n",
        "class ch(std):\n",
        "  def sd(self):\n",
        "    print('Child', self.marks)"
      ],
      "metadata": {
        "id": "zF3n9J313cPc"
      },
      "execution_count": null,
      "outputs": []
    },
    {
      "cell_type": "code",
      "source": [
        "class ac:\n",
        "  def am(self, M):\n",
        "    print('Another Class Marks:', M._marks)"
      ],
      "metadata": {
        "id": "gEA25vo_4RX-"
      },
      "execution_count": null,
      "outputs": []
    },
    {
      "cell_type": "code",
      "source": [
        "ss = std()\n",
        "c = ch()\n",
        "a = ac()"
      ],
      "metadata": {
        "id": "a3Lxv-2S4XTx"
      },
      "execution_count": null,
      "outputs": []
    },
    {
      "cell_type": "code",
      "source": [],
      "metadata": {
        "id": "iJ5qm5xT6D94"
      },
      "execution_count": null,
      "outputs": []
    },
    {
      "cell_type": "markdown",
      "source": [
        "#Private Member\n",
        "- Cannot be accessed outside of Class\n",
        "- can be accessed within the function itself\n",
        "- double underscore after self\n"
      ],
      "metadata": {
        "id": "ulPUotNJ6F4K"
      }
    },
    {
      "cell_type": "code",
      "source": [
        "class emp:\n",
        "  def __init__(self, name, salary):\n",
        "    self.__name = name\n",
        "    self.__salary = salary\n",
        "  def show_info(self):\n",
        "    print('Name :', self.__name,'\\n' 'Salary :', self.__salary)\n",
        "e = emp('Ashwin', '100k')\n",
        "e.show_info()"
      ],
      "metadata": {
        "colab": {
          "base_uri": "https://localhost:8080/"
        },
        "id": "ZTB7Bhx16SpM",
        "outputId": "8e987e7c-6561-457c-f784-45609f5034f6"
      },
      "execution_count": null,
      "outputs": [
        {
          "output_type": "stream",
          "name": "stdout",
          "text": [
            "Name : Ashwin \n",
            "Salary : 100k\n"
          ]
        }
      ]
    },
    {
      "cell_type": "code",
      "source": [
        "class E:\n",
        "  def __init__(self, name, salary):\n",
        "    self.__name = name\n",
        "    self.__salary = salary\n",
        "\n",
        "  def show_info(self):\n",
        "    print('Name :', self.__name,'\\n' 'Salary :', self.__salary)\n",
        "\n",
        "class d(E):\n",
        "  def show_det(self):\n",
        "    print('Name: ', self.__name)"
      ],
      "metadata": {
        "id": "XBHCAAuF6hj-"
      },
      "execution_count": null,
      "outputs": []
    },
    {
      "cell_type": "code",
      "source": [
        "d1 = d('Ashwin', 7800000)"
      ],
      "metadata": {
        "colab": {
          "base_uri": "https://localhost:8080/",
          "height": 265
        },
        "id": "w9JTBo0f7q5T",
        "outputId": "95bca7eb-a70d-4c8d-c54f-402875cd902c"
      },
      "execution_count": null,
      "outputs": [
        {
          "output_type": "error",
          "ename": "AttributeError",
          "evalue": "'d' object has no attribute '_d__name'",
          "traceback": [
            "\u001b[0;31m---------------------------------------------------------------------------\u001b[0m",
            "\u001b[0;31mAttributeError\u001b[0m                            Traceback (most recent call last)",
            "\u001b[0;32m/tmp/ipython-input-470075207.py\u001b[0m in \u001b[0;36m<cell line: 0>\u001b[0;34m()\u001b[0m\n\u001b[1;32m      1\u001b[0m \u001b[0md1\u001b[0m \u001b[0;34m=\u001b[0m \u001b[0md\u001b[0m\u001b[0;34m(\u001b[0m\u001b[0;34m'Ashwin'\u001b[0m\u001b[0;34m,\u001b[0m \u001b[0;36m7800000\u001b[0m\u001b[0;34m)\u001b[0m\u001b[0;34m\u001b[0m\u001b[0;34m\u001b[0m\u001b[0m\n\u001b[0;32m----> 2\u001b[0;31m \u001b[0md1\u001b[0m\u001b[0;34m.\u001b[0m\u001b[0mshow_det\u001b[0m\u001b[0;34m(\u001b[0m\u001b[0;34m)\u001b[0m\u001b[0;34m\u001b[0m\u001b[0;34m\u001b[0m\u001b[0m\n\u001b[0m",
            "\u001b[0;32m/tmp/ipython-input-846078696.py\u001b[0m in \u001b[0;36mshow_det\u001b[0;34m(self)\u001b[0m\n\u001b[1;32m      9\u001b[0m \u001b[0;32mclass\u001b[0m \u001b[0md\u001b[0m\u001b[0;34m(\u001b[0m\u001b[0mE\u001b[0m\u001b[0;34m)\u001b[0m\u001b[0;34m:\u001b[0m\u001b[0;34m\u001b[0m\u001b[0;34m\u001b[0m\u001b[0m\n\u001b[1;32m     10\u001b[0m   \u001b[0;32mdef\u001b[0m \u001b[0mshow_det\u001b[0m\u001b[0;34m(\u001b[0m\u001b[0mself\u001b[0m\u001b[0;34m)\u001b[0m\u001b[0;34m:\u001b[0m\u001b[0;34m\u001b[0m\u001b[0;34m\u001b[0m\u001b[0m\n\u001b[0;32m---> 11\u001b[0;31m     \u001b[0mprint\u001b[0m\u001b[0;34m(\u001b[0m\u001b[0;34m'Name: '\u001b[0m\u001b[0;34m,\u001b[0m \u001b[0mself\u001b[0m\u001b[0;34m.\u001b[0m\u001b[0m__name\u001b[0m\u001b[0;34m)\u001b[0m\u001b[0;34m\u001b[0m\u001b[0;34m\u001b[0m\u001b[0m\n\u001b[0m",
            "\u001b[0;31mAttributeError\u001b[0m: 'd' object has no attribute '_d__name'"
          ]
        }
      ]
    },
    {
      "cell_type": "code",
      "source": [],
      "metadata": {
        "id": "Rmo9VvcZ8HDL"
      },
      "execution_count": null,
      "outputs": []
    }
  ]
}