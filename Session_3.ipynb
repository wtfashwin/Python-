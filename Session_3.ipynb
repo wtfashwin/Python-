{
  "nbformat": 4,
  "nbformat_minor": 0,
  "metadata": {
    "colab": {
      "provenance": [],
      "authorship_tag": "ABX9TyOtD7gYBOL2BOa3F4ziUBI1",
      "include_colab_link": true
    },
    "kernelspec": {
      "name": "python3",
      "display_name": "Python 3"
    },
    "language_info": {
      "name": "python"
    }
  },
  "cells": [
    {
      "cell_type": "markdown",
      "metadata": {
        "id": "view-in-github",
        "colab_type": "text"
      },
      "source": [
        "<a href=\"https://colab.research.google.com/github/wtfashwin/Python-/blob/main/Session_3.ipynb\" target=\"_parent\"><img src=\"https://colab.research.google.com/assets/colab-badge.svg\" alt=\"Open In Colab\"/></a>"
      ]
    },
    {
      "cell_type": "code",
      "source": [
        "S = 'Hello World!'"
      ],
      "metadata": {
        "id": "Pcwl6lwJoa-r"
      },
      "execution_count": null,
      "outputs": []
    },
    {
      "cell_type": "code",
      "source": [
        "print(S[0])\n",
        "print(S[-12]) # negative indexing , fetching element's index from backwards"
      ],
      "metadata": {
        "colab": {
          "base_uri": "https://localhost:8080/"
        },
        "id": "OxlhTEEcoa7T",
        "outputId": "60a017ee-707a-4a5e-890f-68aeb750c61b"
      },
      "execution_count": null,
      "outputs": [
        {
          "output_type": "stream",
          "name": "stdout",
          "text": [
            "H\n",
            "H\n"
          ]
        }
      ]
    },
    {
      "cell_type": "markdown",
      "source": [
        "String data type cannot be changed once declared this is called as\n",
        "\n",
        "**IMMUTABLE**\n",
        "---\n",
        "Inteview Question : If string is immutable, discuss different methods in it for modifications"
      ],
      "metadata": {
        "id": "MD4Liub9pHDW"
      }
    },
    {
      "cell_type": "markdown",
      "source": [
        "when we modify the string the existing string is not changed, it'd create a replica of it and would change that"
      ],
      "metadata": {
        "id": "lO2TXEsJpz6W"
      }
    },
    {
      "cell_type": "code",
      "execution_count": null,
      "metadata": {
        "id": "oQB6nPUlCpil"
      },
      "outputs": [],
      "source": [
        "r = 'I am ashwin'"
      ]
    },
    {
      "cell_type": "code",
      "source": [
        "print(type(r))"
      ],
      "metadata": {
        "colab": {
          "base_uri": "https://localhost:8080/"
        },
        "id": "0wu7Yz2ECxkc",
        "outputId": "5f72b1e4-0f0d-4aff-a8f7-78d8f6b376a9"
      },
      "execution_count": null,
      "outputs": [
        {
          "output_type": "stream",
          "name": "stdout",
          "text": [
            "<class 'str'>\n"
          ]
        }
      ]
    },
    {
      "cell_type": "markdown",
      "source": [
        "# .upper()\n",
        "\n",
        ".upper() converts the string to uppercase characters"
      ],
      "metadata": {
        "id": "SNIMST4zqV4D"
      }
    },
    {
      "cell_type": "code",
      "source": [
        "r.upper()"
      ],
      "metadata": {
        "colab": {
          "base_uri": "https://localhost:8080/",
          "height": 55
        },
        "id": "PM23VZnAqJ7w",
        "outputId": "02d19041-10e9-4a84-f374-8c0d8738870c"
      },
      "execution_count": null,
      "outputs": [
        {
          "output_type": "execute_result",
          "data": {
            "text/plain": [
              "'I AM ASHWIN'"
            ],
            "application/vnd.google.colaboratory.intrinsic+json": {
              "type": "string"
            }
          },
          "metadata": {},
          "execution_count": 8
        }
      ]
    },
    {
      "cell_type": "markdown",
      "source": [
        "#.lower()\n",
        "\n",
        ".lower() converts the string to lowercase characters"
      ],
      "metadata": {
        "id": "ALWHdgbTqZ3e"
      }
    },
    {
      "cell_type": "code",
      "source": [
        "r.lower()"
      ],
      "metadata": {
        "colab": {
          "base_uri": "https://localhost:8080/",
          "height": 55
        },
        "id": "1sXA2v_HCzrY",
        "outputId": "e149925a-7fef-4e2c-a11b-73b21ab46b46"
      },
      "execution_count": null,
      "outputs": [
        {
          "output_type": "execute_result",
          "data": {
            "text/plain": [
              "'i am ashwin'"
            ],
            "application/vnd.google.colaboratory.intrinsic+json": {
              "type": "string"
            }
          },
          "metadata": {},
          "execution_count": 3
        }
      ]
    },
    {
      "cell_type": "code",
      "source": [
        "# r.replace\n",
        "# replace is used to replace something in the string"
      ],
      "metadata": {
        "id": "DIkhNwhdEqEt"
      },
      "execution_count": null,
      "outputs": []
    },
    {
      "cell_type": "markdown",
      "source": [
        "# String Concetenation\n"
      ],
      "metadata": {
        "id": "YXimmtVrFkC4"
      }
    },
    {
      "cell_type": "code",
      "source": [
        "a = 'Hello'\n",
        "b = 'World'"
      ],
      "metadata": {
        "id": "i0YI9E3aFt-m"
      },
      "execution_count": null,
      "outputs": []
    },
    {
      "cell_type": "code",
      "source": [
        "'''\n",
        "Case Fold\n",
        "Used to convert\n",
        "'''\n",
        "\n",
        "txt = \"Hello, And Welcome To My World!\"\n",
        "x = txt.casefold()\n",
        "print(x)\n",
        "\n"
      ],
      "metadata": {
        "colab": {
          "base_uri": "https://localhost:8080/"
        },
        "id": "bhaMisCTFwJe",
        "outputId": "91f0ea81-216d-4fec-fd07-e526ac89f9e8"
      },
      "execution_count": null,
      "outputs": [
        {
          "output_type": "stream",
          "name": "stdout",
          "text": [
            "hello, and welcome to my world!\n"
          ]
        }
      ]
    },
    {
      "cell_type": "code",
      "source": [
        "print(dir(str))"
      ],
      "metadata": {
        "colab": {
          "base_uri": "https://localhost:8080/"
        },
        "id": "RdcH7LIRHLeN",
        "outputId": "680e5a45-52c2-4e69-e5c9-af2af11f7e62"
      },
      "execution_count": null,
      "outputs": [
        {
          "output_type": "stream",
          "name": "stdout",
          "text": [
            "['__add__', '__class__', '__contains__', '__delattr__', '__dir__', '__doc__', '__eq__', '__format__', '__ge__', '__getattribute__', '__getitem__', '__getnewargs__', '__getstate__', '__gt__', '__hash__', '__init__', '__init_subclass__', '__iter__', '__le__', '__len__', '__lt__', '__mod__', '__mul__', '__ne__', '__new__', '__reduce__', '__reduce_ex__', '__repr__', '__rmod__', '__rmul__', '__setattr__', '__sizeof__', '__str__', '__subclasshook__', 'capitalize', 'casefold', 'center', 'count', 'encode', 'endswith', 'expandtabs', 'find', 'format', 'format_map', 'index', 'isalnum', 'isalpha', 'isascii', 'isdecimal', 'isdigit', 'isidentifier', 'islower', 'isnumeric', 'isprintable', 'isspace', 'istitle', 'isupper', 'join', 'ljust', 'lower', 'lstrip', 'maketrans', 'partition', 'removeprefix', 'removesuffix', 'replace', 'rfind', 'rindex', 'rjust', 'rpartition', 'rsplit', 'rstrip', 'split', 'splitlines', 'startswith', 'strip', 'swapcase', 'title', 'translate', 'upper', 'zfill']\n"
          ]
        }
      ]
    },
    {
      "cell_type": "code",
      "source": [
        "fav = 'paneer'"
      ],
      "metadata": {
        "id": "rv_Bm8GUHp-Q"
      },
      "execution_count": null,
      "outputs": []
    },
    {
      "cell_type": "code",
      "source": [
        "print(fav)"
      ],
      "metadata": {
        "colab": {
          "base_uri": "https://localhost:8080/"
        },
        "id": "VDN93lByLDAx",
        "outputId": "b6b703b7-0979-4c61-9182-952f955cda34"
      },
      "execution_count": null,
      "outputs": [
        {
          "output_type": "stream",
          "name": "stdout",
          "text": [
            "paneer\n"
          ]
        }
      ]
    },
    {
      "cell_type": "code",
      "source": [
        "def linear(arr, target):\n",
        "  for i in range(len(arr)):\n",
        "    if arr[i] == target:\n",
        "      return i\n",
        "  return -1\n",
        "\n",
        "arr = [5 , 12 , 34, 21,3, 4,5, 3, 2, 19]\n",
        "target = 21\n",
        "res = linear(arr, target)\n",
        "print(res)\n"
      ],
      "metadata": {
        "colab": {
          "base_uri": "https://localhost:8080/"
        },
        "id": "vcgZdig3LEZy",
        "outputId": "84c2a49b-6c7e-424d-dae3-f26d555652b9"
      },
      "execution_count": null,
      "outputs": [
        {
          "output_type": "stream",
          "name": "stdout",
          "text": [
            "6\n"
          ]
        }
      ]
    },
    {
      "cell_type": "markdown",
      "source": [
        "#Step Size\n",
        "\n",
        "by default step size is 1\n",
        "[ start : stop : step]"
      ],
      "metadata": {
        "id": "RsB_Ap5KoeBP"
      }
    },
    {
      "cell_type": "code",
      "source": [
        "S = 'Hello, World!'\n",
        "S[1:9:2]\n",
        "\n",
        "S[-5:-12] # According to start stop, step , by default it is , forward indexing hence or returns nothing hence we get\n",
        "\n",
        "#to get backward value, we have to\n",
        "S[-5:-12:-1]\n"
      ],
      "metadata": {
        "id": "OgVpAzksM8dc",
        "colab": {
          "base_uri": "https://localhost:8080/",
          "height": 55
        },
        "outputId": "4a1dabb9-8088-430f-ebee-9c15c3b0cbce"
      },
      "execution_count": null,
      "outputs": [
        {
          "output_type": "execute_result",
          "data": {
            "text/plain": [
              "'oW ,oll'"
            ],
            "application/vnd.google.colaboratory.intrinsic+json": {
              "type": "string"
            }
          },
          "metadata": {},
          "execution_count": 3
        }
      ]
    },
    {
      "cell_type": "code",
      "source": [
        "S[::-1] # gives reverse value\n",
        "\n"
      ],
      "metadata": {
        "colab": {
          "base_uri": "https://localhost:8080/",
          "height": 55
        },
        "id": "eRWwkVVVotxs",
        "outputId": "0ba044db-6390-4c7f-8379-aebccaebdfe2"
      },
      "execution_count": null,
      "outputs": [
        {
          "output_type": "execute_result",
          "data": {
            "text/plain": [
              "'!dlroW ,olleH'"
            ],
            "application/vnd.google.colaboratory.intrinsic+json": {
              "type": "string"
            }
          },
          "metadata": {},
          "execution_count": 4
        }
      ]
    },
    {
      "cell_type": "code",
      "source": [
        "S[2:11:-2]"
      ],
      "metadata": {
        "colab": {
          "base_uri": "https://localhost:8080/",
          "height": 55
        },
        "id": "JGIa_JbIq4yh",
        "outputId": "7aadf26b-1e07-466f-81a9-a7ca4241237b"
      },
      "execution_count": null,
      "outputs": [
        {
          "output_type": "execute_result",
          "data": {
            "text/plain": [
              "''"
            ],
            "application/vnd.google.colaboratory.intrinsic+json": {
              "type": "string"
            }
          },
          "metadata": {},
          "execution_count": 6
        }
      ]
    },
    {
      "cell_type": "code",
      "source": [
        "S[10:-11:-2]"
      ],
      "metadata": {
        "colab": {
          "base_uri": "https://localhost:8080/",
          "height": 55
        },
        "id": "UR8SfEzlq7UP",
        "outputId": "1607166d-f46c-443c-97ba-e28f7f61b5f0"
      },
      "execution_count": null,
      "outputs": [
        {
          "output_type": "execute_result",
          "data": {
            "text/plain": [
              "'lo o'"
            ],
            "application/vnd.google.colaboratory.intrinsic+json": {
              "type": "string"
            }
          },
          "metadata": {},
          "execution_count": 9
        }
      ]
    },
    {
      "cell_type": "code",
      "source": [
        "S[3:9:-3]"
      ],
      "metadata": {
        "colab": {
          "base_uri": "https://localhost:8080/",
          "height": 55
        },
        "id": "ipFe-vzJrZ63",
        "outputId": "4039cc14-92e7-45a5-9397-1403ec023aa1"
      },
      "execution_count": null,
      "outputs": [
        {
          "output_type": "execute_result",
          "data": {
            "text/plain": [
              "''"
            ],
            "application/vnd.google.colaboratory.intrinsic+json": {
              "type": "string"
            }
          },
          "metadata": {},
          "execution_count": 10
        }
      ]
    },
    {
      "cell_type": "code",
      "source": [
        "S[4:10:-2]"
      ],
      "metadata": {
        "colab": {
          "base_uri": "https://localhost:8080/",
          "height": 55
        },
        "id": "uziE-2mdsLTS",
        "outputId": "28edaae5-e31e-43d4-d87a-1187b3a7c598"
      },
      "execution_count": null,
      "outputs": [
        {
          "output_type": "execute_result",
          "data": {
            "text/plain": [
              "''"
            ],
            "application/vnd.google.colaboratory.intrinsic+json": {
              "type": "string"
            }
          },
          "metadata": {},
          "execution_count": 11
        }
      ]
    },
    {
      "cell_type": "code",
      "source": [
        "S[9:-10:-2]"
      ],
      "metadata": {
        "colab": {
          "base_uri": "https://localhost:8080/",
          "height": 55
        },
        "id": "gFhWgvr3sNO-",
        "outputId": "664f5fc2-f9d6-4d4b-b7de-f6c1df5354ee"
      },
      "execution_count": null,
      "outputs": [
        {
          "output_type": "execute_result",
          "data": {
            "text/plain": [
              "'rW,'"
            ],
            "application/vnd.google.colaboratory.intrinsic+json": {
              "type": "string"
            }
          },
          "metadata": {},
          "execution_count": 12
        }
      ]
    },
    {
      "cell_type": "code",
      "source": [
        "S[6:-7:2]"
      ],
      "metadata": {
        "colab": {
          "base_uri": "https://localhost:8080/",
          "height": 55
        },
        "id": "uZb0mkBpsSiQ",
        "outputId": "cd962864-3626-4ec4-cdc3-5d4fde9829b7"
      },
      "execution_count": null,
      "outputs": [
        {
          "output_type": "execute_result",
          "data": {
            "text/plain": [
              "''"
            ],
            "application/vnd.google.colaboratory.intrinsic+json": {
              "type": "string"
            }
          },
          "metadata": {},
          "execution_count": 17
        }
      ]
    },
    {
      "cell_type": "markdown",
      "source": [
        "#List\n",
        "\n",
        "Mutable - we can do changes in it\n",
        "\n",
        "defined in square brackets [ ]\n",
        "\n",
        "ordered\n",
        "\n",
        "allow duplicates\n",
        "\n",
        "hetrogenous\n",
        "\n"
      ],
      "metadata": {
        "id": "jGAFJ2bDtLdn"
      }
    },
    {
      "cell_type": "code",
      "source": [
        "l1 = [1,2,3,4,5,6]\n",
        "\n",
        "print(type(l1))"
      ],
      "metadata": {
        "colab": {
          "base_uri": "https://localhost:8080/"
        },
        "id": "kvpUbX2hsVOe",
        "outputId": "2dbfdf61-1b10-4222-af66-6df7aa986812"
      },
      "execution_count": null,
      "outputs": [
        {
          "output_type": "stream",
          "name": "stdout",
          "text": [
            "<class 'list'>\n"
          ]
        }
      ]
    },
    {
      "cell_type": "code",
      "source": [
        "L = [12, 2.5, True, 'Apple']\n",
        "L"
      ],
      "metadata": {
        "colab": {
          "base_uri": "https://localhost:8080/"
        },
        "id": "t565oppduGlo",
        "outputId": "c49b91c0-f411-4d7b-f021-d7e28c3f4896"
      },
      "execution_count": null,
      "outputs": [
        {
          "output_type": "execute_result",
          "data": {
            "text/plain": [
              "[12, 2.5, True, 'Apple']"
            ]
          },
          "metadata": {},
          "execution_count": 21
        }
      ]
    },
    {
      "cell_type": "code",
      "source": [
        "L[2] = False"
      ],
      "metadata": {
        "id": "XG4qvecMvEFD"
      },
      "execution_count": null,
      "outputs": []
    },
    {
      "cell_type": "code",
      "source": [
        "L"
      ],
      "metadata": {
        "colab": {
          "base_uri": "https://localhost:8080/"
        },
        "id": "wlKJGXTevtLJ",
        "outputId": "89d9c5e2-ec2e-4b19-d7ba-8e16bddc64e3"
      },
      "execution_count": null,
      "outputs": [
        {
          "output_type": "execute_result",
          "data": {
            "text/plain": [
              "[12, 2.5, False, 'Apple']"
            ]
          },
          "metadata": {},
          "execution_count": 26
        }
      ]
    },
    {
      "cell_type": "markdown",
      "source": [
        "\"index is defined after elements in list is defined\"\n",
        "\n",
        "# .append is used :  list.append('  ')\n",
        "adds element at the end of the list"
      ],
      "metadata": {
        "id": "rSFdce0FwGlw"
      }
    },
    {
      "cell_type": "code",
      "source": [
        "#insert\n",
        "#works as name of list , then .insert and the index of the element to be added, element to be added , declared using ()\n",
        "fruits = ['Apple', 'Kiwi', 'Mango']\n",
        "fruits.insert(2, 'Banana')\n",
        "fruits"
      ],
      "metadata": {
        "colab": {
          "base_uri": "https://localhost:8080/"
        },
        "id": "hLWiaOaHvx8s",
        "outputId": "18053d6c-16c4-489f-9654-2b06f43efce3"
      },
      "execution_count": null,
      "outputs": [
        {
          "output_type": "execute_result",
          "data": {
            "text/plain": [
              "['Apple', 'Kiwi', 'Banana', 'Mango']"
            ]
          },
          "metadata": {},
          "execution_count": 27
        }
      ]
    },
    {
      "cell_type": "code",
      "source": [
        "#string concetenation\n",
        "\n",
        "fruit1 = ['Apple', 'Kiwi', 'Mango']\n",
        "fruit2 = ['Banana', 'Orange', 'Grapes']\n",
        "fruit1 + fruit2\n",
        "fruit1"
      ],
      "metadata": {
        "colab": {
          "base_uri": "https://localhost:8080/"
        },
        "id": "eXxhgDrUxgXS",
        "outputId": "2d753814-a9fc-4fd3-c4b0-df58f9d360de"
      },
      "execution_count": null,
      "outputs": [
        {
          "output_type": "execute_result",
          "data": {
            "text/plain": [
              "['Apple', 'Kiwi', 'Mango']"
            ]
          },
          "metadata": {},
          "execution_count": 28
        }
      ]
    },
    {
      "cell_type": "code",
      "source": [
        "dir(list)"
      ],
      "metadata": {
        "colab": {
          "base_uri": "https://localhost:8080/"
        },
        "id": "_7xAMP1syeQw",
        "outputId": "8c42dbf8-c56b-4c58-842c-938c6d14f927"
      },
      "execution_count": null,
      "outputs": [
        {
          "output_type": "execute_result",
          "data": {
            "text/plain": [
              "['__add__',\n",
              " '__class__',\n",
              " '__class_getitem__',\n",
              " '__contains__',\n",
              " '__delattr__',\n",
              " '__delitem__',\n",
              " '__dir__',\n",
              " '__doc__',\n",
              " '__eq__',\n",
              " '__format__',\n",
              " '__ge__',\n",
              " '__getattribute__',\n",
              " '__getitem__',\n",
              " '__getstate__',\n",
              " '__gt__',\n",
              " '__hash__',\n",
              " '__iadd__',\n",
              " '__imul__',\n",
              " '__init__',\n",
              " '__init_subclass__',\n",
              " '__iter__',\n",
              " '__le__',\n",
              " '__len__',\n",
              " '__lt__',\n",
              " '__mul__',\n",
              " '__ne__',\n",
              " '__new__',\n",
              " '__reduce__',\n",
              " '__reduce_ex__',\n",
              " '__repr__',\n",
              " '__reversed__',\n",
              " '__rmul__',\n",
              " '__setattr__',\n",
              " '__setitem__',\n",
              " '__sizeof__',\n",
              " '__str__',\n",
              " '__subclasshook__',\n",
              " 'append',\n",
              " 'clear',\n",
              " 'copy',\n",
              " 'count',\n",
              " 'extend',\n",
              " 'index',\n",
              " 'insert',\n",
              " 'pop',\n",
              " 'remove',\n",
              " 'reverse',\n",
              " 'sort']"
            ]
          },
          "metadata": {},
          "execution_count": 29
        }
      ]
    },
    {
      "cell_type": "code",
      "source": [
        "#Remove\n",
        "fruit1 = ['Apple', 'Kiwi', 'Mango']\n",
        "fruit2 = ['Banana', 'Orange', 'Grapes']\n",
        "fruit_3 = fruit1 + fruit2\n",
        "fruit_3"
      ],
      "metadata": {
        "colab": {
          "base_uri": "https://localhost:8080/"
        },
        "id": "V-ZBMPXwygEG",
        "outputId": "91f7cb9d-37f9-4060-8886-b12a85dbacef"
      },
      "execution_count": null,
      "outputs": [
        {
          "output_type": "execute_result",
          "data": {
            "text/plain": [
              "['Apple', 'Kiwi', 'Mango', 'Banana', 'Orange', 'Grapes']"
            ]
          },
          "metadata": {},
          "execution_count": 30
        }
      ]
    },
    {
      "cell_type": "code",
      "source": [
        "fruit1.remove('Mango')"
      ],
      "metadata": {
        "id": "qjAtrGvAys9e"
      },
      "execution_count": null,
      "outputs": []
    },
    {
      "cell_type": "code",
      "source": [
        "fruit1"
      ],
      "metadata": {
        "colab": {
          "base_uri": "https://localhost:8080/"
        },
        "id": "Dxl1XxMTy1ef",
        "outputId": "8ffe4bdc-d17c-4283-9044-c2fc67d80146"
      },
      "execution_count": null,
      "outputs": [
        {
          "output_type": "execute_result",
          "data": {
            "text/plain": [
              "['Apple', 'Kiwi']"
            ]
          },
          "metadata": {},
          "execution_count": 32
        }
      ]
    },
    {
      "cell_type": "code",
      "source": [
        "#pop method\n",
        "fruit1.pop(0)\n",
        "#if no index is given in pop , it removes the last element"
      ],
      "metadata": {
        "colab": {
          "base_uri": "https://localhost:8080/",
          "height": 55
        },
        "id": "A6CT0l9Vy3O7",
        "outputId": "a7560da6-8fcc-43ab-827d-1d2dec9502bc"
      },
      "execution_count": null,
      "outputs": [
        {
          "output_type": "execute_result",
          "data": {
            "text/plain": [
              "'Apple'"
            ],
            "application/vnd.google.colaboratory.intrinsic+json": {
              "type": "string"
            }
          },
          "metadata": {},
          "execution_count": 36
        }
      ]
    },
    {
      "cell_type": "code",
      "source": [
        "#clear\n",
        "\n",
        "fruit_3.clear()"
      ],
      "metadata": {
        "id": "ce5mt9GvzE3N"
      },
      "execution_count": null,
      "outputs": []
    },
    {
      "cell_type": "code",
      "source": [
        "#max\n",
        "\n",
        "l1 = [4,5,6,2,1,3,5,9,1000,23]\n",
        "maxi = max(l1)\n",
        "maxi"
      ],
      "metadata": {
        "colab": {
          "base_uri": "https://localhost:8080/"
        },
        "id": "wJQKUvxE0QcX",
        "outputId": "2db99eda-62f1-4c2a-e84f-c4d9acdb6eca"
      },
      "execution_count": null,
      "outputs": [
        {
          "output_type": "execute_result",
          "data": {
            "text/plain": [
              "1000"
            ]
          },
          "metadata": {},
          "execution_count": 41
        }
      ]
    },
    {
      "cell_type": "code",
      "source": [
        "#min\n",
        "\n",
        "l1 = [4,5,6,2,1,3,5,9,1000,23]\n",
        "mini = min(l1)\n",
        "mini"
      ],
      "metadata": {
        "colab": {
          "base_uri": "https://localhost:8080/"
        },
        "id": "nS3P8quT0szl",
        "outputId": "3ade20b4-a17b-42a2-fea3-979a0d606b85"
      },
      "execution_count": null,
      "outputs": [
        {
          "output_type": "execute_result",
          "data": {
            "text/plain": [
              "1"
            ]
          },
          "metadata": {},
          "execution_count": 42
        }
      ]
    },
    {
      "cell_type": "code",
      "source": [
        "# reverse - changes are permanent, when we use ::-1, its temporary\n",
        "\n",
        "l1.reverse()\n",
        "l1"
      ],
      "metadata": {
        "colab": {
          "base_uri": "https://localhost:8080/"
        },
        "id": "I6oURewG02Q8",
        "outputId": "0335a02a-a51e-439e-f48b-cc88c785f458"
      },
      "execution_count": null,
      "outputs": [
        {
          "output_type": "execute_result",
          "data": {
            "text/plain": [
              "[4, 5, 6, 2, 1, 3, 5, 9, 1000, 23]"
            ]
          },
          "metadata": {},
          "execution_count": 44
        }
      ]
    },
    {
      "cell_type": "code",
      "source": [
        "# sort || works in ascending order || need to use (reverse = True) to get in desc\n",
        "\n",
        "l1.sort(reverse=True)\n",
        "l1"
      ],
      "metadata": {
        "colab": {
          "base_uri": "https://localhost:8080/"
        },
        "id": "bfapck_P1b5S",
        "outputId": "2dfc2bfb-b49b-4ef2-cfc3-fdccdbc4ce51"
      },
      "execution_count": null,
      "outputs": [
        {
          "output_type": "execute_result",
          "data": {
            "text/plain": [
              "[1000, 23, 9, 6, 5, 5, 4, 3, 2, 1]"
            ]
          },
          "metadata": {},
          "execution_count": 47
        }
      ]
    },
    {
      "cell_type": "markdown",
      "source": [
        "#Tuple\n",
        "\n",
        "Immutable\n",
        "\n",
        "Ordered in nature\n",
        "\n",
        "() written in round brackets unlike lists[]\n"
      ],
      "metadata": {
        "id": "TygRhWaq29OS"
      }
    },
    {
      "cell_type": "code",
      "source": [],
      "metadata": {
        "id": "U6kTowzP2L6h"
      },
      "execution_count": null,
      "outputs": []
    },
    {
      "cell_type": "code",
      "source": [],
      "metadata": {
        "id": "VtKzGmgtWVeh"
      },
      "execution_count": null,
      "outputs": []
    },
    {
      "cell_type": "code",
      "source": [
        "#there is a value called as seperator which gives spaces in it\n",
        "# default is space, removes space"
      ],
      "metadata": {
        "id": "xt2cMoDeWVIe"
      },
      "execution_count": 1,
      "outputs": []
    },
    {
      "cell_type": "code",
      "source": [
        "a = 'Hello'\n",
        "b = 'World'\n",
        "print('Hello', end= '\\n') # \\n stands for new line\n",
        "print('World')"
      ],
      "metadata": {
        "colab": {
          "base_uri": "https://localhost:8080/"
        },
        "id": "awImIDZkWcpr",
        "outputId": "b3d2121e-f264-41c4-ea6a-32181b07c8be"
      },
      "execution_count": 4,
      "outputs": [
        {
          "output_type": "stream",
          "name": "stdout",
          "text": [
            "Hello@\n",
            "World\n"
          ]
        }
      ]
    },
    {
      "cell_type": "code",
      "source": [
        "print('Hello', end='\\n @')\n",
        "print('World', end='\\n @')\n",
        "print('Python')"
      ],
      "metadata": {
        "colab": {
          "base_uri": "https://localhost:8080/"
        },
        "id": "TVmp2BpHWhFS",
        "outputId": "2d77f558-9c9c-4526-fa76-665856cdba36"
      },
      "execution_count": 6,
      "outputs": [
        {
          "output_type": "stream",
          "name": "stdout",
          "text": [
            "Hello\n",
            " @World\n",
            " @Python\n"
          ]
        }
      ]
    },
    {
      "cell_type": "code",
      "source": [
        "'''agar beech me single quote use karr rahe ho to\n",
        "like I'm learning python tomstart with double quotes'''\n",
        ""
      ],
      "metadata": {
        "colab": {
          "base_uri": "https://localhost:8080/",
          "height": 72
        },
        "id": "ipJ7yM9rXXxI",
        "outputId": "778aaac8-c7a4-425c-c137-04632b2f7e6e"
      },
      "execution_count": 7,
      "outputs": [
        {
          "output_type": "execute_result",
          "data": {
            "text/plain": [
              "\"agar beech me single quote use karr rahe ho to \\nlike I'm learning python tomstart with double quotes\""
            ],
            "application/vnd.google.colaboratory.intrinsic+json": {
              "type": "string"
            }
          },
          "metadata": {},
          "execution_count": 7
        }
      ]
    },
    {
      "cell_type": "code",
      "source": [
        "#Task\n",
        "\n",
        "ip_1 = int(input(\"Enter Int: \"))\n",
        "ip_2 = float(input(\"Enter float: \"))\n",
        "int1 = int(ip_1)\n",
        "float1 = float(ip_2)\n",
        "sumi = int1 + float1\n",
        "print(\"The sum of the integer and float is:\", sumi)\n"
      ],
      "metadata": {
        "colab": {
          "base_uri": "https://localhost:8080/"
        },
        "id": "NB5YHejYYqu0",
        "outputId": "1f02b209-304c-47bb-aa6a-c63cbb576f5d"
      },
      "execution_count": 8,
      "outputs": [
        {
          "output_type": "stream",
          "name": "stdout",
          "text": [
            "Enter Int: 1\n",
            "Enter float: 2.412\n",
            "The sum of the integer and float is: 3.412\n"
          ]
        }
      ]
    },
    {
      "cell_type": "code",
      "source": [
        "# attempt 2\n",
        "n1 = int(input(\"Enter Int: \"))\n",
        "n2 = float(input(\"Enter float: \"))\n",
        "res = n1 + n2\n",
        "print(\"sum is:\", n1 + n2)"
      ],
      "metadata": {
        "colab": {
          "base_uri": "https://localhost:8080/"
        },
        "id": "S1DbBvEOZwGa",
        "outputId": "4c0195fb-082a-4081-ff67-e879a0532918"
      },
      "execution_count": 10,
      "outputs": [
        {
          "output_type": "stream",
          "name": "stdout",
          "text": [
            "Enter Int: 32\n",
            "Enter float: 42.23\n",
            "sum is: 74.22999999999999\n"
          ]
        }
      ]
    },
    {
      "cell_type": "code",
      "source": [
        "#attempt 3 using round of\n",
        "\n",
        "n1 = int(input(\"Enter Int: \"))\n",
        "n2 = float(input(\"Enter float: \"))\n",
        "res = n1 + n2\n",
        "res = round(res, 2)\n",
        "\n",
        "print(\"sum is:\", res)"
      ],
      "metadata": {
        "colab": {
          "base_uri": "https://localhost:8080/"
        },
        "id": "mQkId17Ycj5E",
        "outputId": "3a232be0-c255-4365-fa79-e0dee005f2de"
      },
      "execution_count": 15,
      "outputs": [
        {
          "output_type": "stream",
          "name": "stdout",
          "text": [
            "Enter Int: 32\n",
            "Enter float: 4347.2342\n",
            "sum is: 4379.23\n"
          ]
        }
      ]
    },
    {
      "cell_type": "code",
      "source": [
        "#Task 2\n",
        "\n",
        "first_name = input(\"Enter your first name: \")\n",
        "Last_name = input(\"Enter your last name: \")\n",
        "int1 = \"\"\n",
        "print(first_name, Last_name, int1, sep='', end='')\n",
        "print('@gmail.com')"
      ],
      "metadata": {
        "colab": {
          "base_uri": "https://localhost:8080/"
        },
        "id": "U3cnKk9Damq1",
        "outputId": "6b6aa28e-dbc8-4980-f120-473f01a075b5"
      },
      "execution_count": 17,
      "outputs": [
        {
          "output_type": "stream",
          "name": "stdout",
          "text": [
            "Enter your first name: Ashwin\n",
            "Enter your last name: upadhyay\n",
            "Ashwinupadhyay@gmail.com\n"
          ]
        }
      ]
    },
    {
      "cell_type": "code",
      "source": [
        "# Task 2 , Attempt 2 with birth year\n",
        "\n",
        "fn = input(\"Enter first name: \")\n",
        "ln = input(\"Enter last name: \")\n",
        "birth_year = input(\"Enter birth year: \")\n",
        "print(fn, ln, birth_year, sep='', end='')\n",
        "print('@gmail.com')"
      ],
      "metadata": {
        "colab": {
          "base_uri": "https://localhost:8080/"
        },
        "id": "IA5lws8mbGfA",
        "outputId": "4898c546-0a68-4b17-9da5-5ee8614f1602"
      },
      "execution_count": 14,
      "outputs": [
        {
          "output_type": "stream",
          "name": "stdout",
          "text": [
            "Enter first name: ashwin\n",
            "Enter last name: upadhyay\n",
            "Enter birth year: 2003\n",
            "ashwinupadhyay2003@gmail.com\n"
          ]
        }
      ]
    },
    {
      "cell_type": "markdown",
      "source": [
        "#Flow Control\n",
        "![image.png](data:image/png;base64,iVBORw0KGgoAAAANSUhEUgAAAZ0AAAFKCAYAAADG5II1AAAAAXNSR0IArs4c6QAAAARnQU1BAACxjwv8YQUAAAAJcEhZcwAADsMAAA7DAcdvqGQAAMPDSURBVHhe7J13eBVF+/e/e0p6Iw0CBEhC79WAVAFFsGChivj4AGJB8UFRsKAooCCCihSVKkUUECkqhN4DhISaAkkIkEZCCKQnp+y+f/zO7DsZ9rTkJCQwn+va65ydXu6575nZJkiSJIHD4XA4nGpAxTpwOBwOh1NVcKPD4XA4nGqDGx0Oh8PhVBvc6HA4HA6n2uBGh8PhcDjVBjc6HA6Hw6k2uNHhcDgcTrXBjQ6Hw+Fwqg2BPxzKqSpEUYRKVbl5jSRJkCSp0ulUJ+aGlCAIkCQJgiCwXjKiKAKmsEpYiw8qf2vhrFHZ+ByOEtzocCoMUYC0krNFKSphKZ4lJUrHMyfKSvFoHJEGoaL1qG4slZNAt4W1sByOrXCjw6k05oyOLYrtQeFBVdAPUx9yqgdudDiVRjJtgQmCcI/hcTQPqnKvySj1p5Ibh2ML3OhwHAIxPGVlZTAYDBBFEWq1GjBznYI2VEQEWSVGu9NGjYVOwxyVDSMIglwPJdh47DUopTZgMdcOLNYUvi3+BLZNaT+6zemyiaIIb29vORyHYw/c6HAcRnp6Or7//ntERUXB2dn5HqNBwyo6pZsOWDdzSl+lUpn1I1Q2DFs2c5Ays+kQN9IOxCCzsHVWwloYa/6wUk7SX6S8giDIYUVRhI+PD3755Rf4+/uXi8vh2AI3OpwKw4pOUlISJk+ejMzMTLRr1w6enp6ASZGxYVmUZufEzVpcmDFsBEt+BGth2LIpoVQHFmthLJWBpjrSIG1CDFhxcTEuXLiArKwsREZGomHDhmw0Dscq3OhwKg1RUFeuXMH//vc/1KtXD5MmTUKTJk1gNBrl2bMllJQxNzrmqao0JOb6nNFohFqthtFoRF5eHpYsWYKtW7fi+PHjCA4OZqNzOFbhRofjMBISEjBlyhQ0atQIH374IUJDQwEzyo1FSRmzbuZElY1X27FmbG2pr6U07IlPk5ubi/nz52PDhg3c6HAqjOWNXw6nArCzZVtQCse6kfTYg0DyVTpqK2xd2TZRgtSX/NoSh4XEoduP/NqycuVwzMGNDsdh0LNjWmnZgpJyM+ev5EbyNnfUJtg2pGHbQAm6znQaSulZgs6L/m80GuX/HI69cKPDqRS0MhJMdzmR/+ydUeagDQYUlCPJg3WvjEKtqZhT9AR76qnUPuRXKW0W0ids3/CVDqcycKPDqRQCc92AzIKJIbEFWhGaU4ZsWuYM0YNEZepG2pK0E9uuFU2bTYfDsRdudDgOhZ0V24I1RUanYy0s5/9QWqFUFjot3g+cisKNDseh0CsQWxUTrRCtxWOVp6WwtZGqqJ+lFWRFsOW5Kw7HHNzocBwKqzRtwWAwoKSkBKWlpSgtLUVZWZl8GAwG6HS6e/7rdDro9XrAQYq5pkEMRUXak0UQhHJtZ+u1Nks8iG3OqR640eFUClYxktersO7mMBgMePfdd9G0aVP4+vrCx8cHfn5+CAoKQsOGDREYGIj69eujadOm+OmnnzBp0iTUq1cPwcHBeP/9923Op7ZAK3NHGdXs7GyMHj0aPj4+qFu3LpYtW4aioiI2mFVIW5MHfjmcisAlh+MQ2Jm5tW0ymOJoNBrMnTsXFy9eRGBgIAwGA1q3bo0jR44gISEBly9fxtmzZ+Hv74/AwEC8+uqrCAoKgl6vh16vl5WftbzswVxa1lYIkul9ZUqYS5OGbr+oqChs2rQJqODqEVSegYGBmDhxIlq3bo3i4uJy7WYPpI85nMpgv+RxOBS0kdFoNAClnK0pKBLX09MTderUgZOTE1QqFTQaDby8vODr6wutVovAwEDMmzcP9erVg6ur6z1vr4aFvFhFac4oENh06HNLyl8URQgVfCaI5CGYbjNPSEjAX3/9hbNnz5bzZyHu7C+BLgtpN1JGa+2gBJlI2DKh4HDMwY0Ox2EQhUSwVQETBUbeYgxT3NzcXPzyyy/Izs5Gnz59EB4eLr+9mmzjiaY3Iet0OsTFxeHixYuIjY3FtWvX5OsYaWlpiI+Px8WLF3H16lVkZGTg6tWriI2NRWxsLJKTk5GTk4Nr164hLi4OOTk59yhlkk9qaqocLykpSb5GIggCCgsLkZCQgNjYWMTFxSE1NRV6vR6SJCE3NxeXLl1CbGwsrly5guzsbMTFxSEuLg7p6emAaTvt8uXL+Pnnn7FmzRqkp6fjypUryMjIQGpqKi5evIj4+HhkZ2cjJycHcXFxyMjIgMFgAEzbaJcuXcL58+dx6dIl5ObmApThJW1G6lMR6EkGh1MRuNHhOBTJ9FZiYoBsUU5suJKSEsTFxeHAgQNYunQpjEYjnJyc4OzsXC4srewjIiIwfvx4vPnmm3jttdfwzjvv4Pz587hx4waWLVuGZ555BgMGDMCkSZOwYcMGzJkzB8899xz69++PTz75BIcOHcLChQsxbtw47N27FzqdTi4b4fr165g6dSomTpyIsWPH4uWXX8bRo0eh0+lQXFyM3bt3Y9iwYZg0aRImTpyIDz/8EDExMcjPz8fJkycxevRoPPbYY3jhhRewdOlSvPnmmxg8eDDef/993L59G/n5+fjjjz/w22+/ISsrC8eOHcMnn3yC9evXY+nSpXj66afxzDPP4LvvvsOKFSswdOhQzJ49G5mZmcjMzMTs2bMxatQoTJkyBSNGjMCaNWuQk5MjtxnpF/qwl4rG43AI3OhwahSiKCI5ORnTpk3DF198gbt375a7/qBkzGJjYzFlyhRotVp8//33+OSTTxAbG4uPPvoIeXl5eO6559CsWTPk5OTA1dUVQ4YMwZgxY9CgQQNkZ2ejadOmePLJJzFgwADMmDEDgwYNgrOzs5w+ANy9exdvvvkmdu3ahSlTpuCNN95ATk4Ovv/+e6SkpODo0aP48MMPIQgCVq1ahRkzZuDUqVOYPn06cnJy0KNHDzz99NPIyclBWloaCgsL8d///he5ubmIiorCnj174OTkhBYtWqBRo0Zwd3fHkCFDsGrVKrz77rvo1asX3NzckJ2dje3btyM+Ph6tW7fGtWvXkJqaih9++AErVqzACy+8gLVr16JXr16YMWMGfv31V+Tm5sorHSisSO2BtH1FV0ocDjc6nCrBHqXGzpzbtWuHrVu3YsOGDfD39y+XFj3TlkzbVrt370ZaWhq8vLzQpk0bNGrUCC1btsS5c+fw77//4pFHHsGIESPg4uKCrKws3LhxAzqdDqIowsnJCZcvX0ZiYiL0ej18fX3h5+dXLk+DwYBdu3YhMTERrVu3Rps2bdC7d280bdoUnp6eKCsrw4YNG5CZmYmePXvCz88PnTt3hlqtxqVLl3DgwAGIoghXV1dIkoSAgACMGzcOzZo1g1arlW9l9vT0ROvWreXXzGi1Wnh4eMDFxQXOzs7QaDQoLCzEoEGDsGjRIjz66KNo1aoVrl69ihMnTsDLywshISFo0KAB2rZtizp16uDvv//GtWvX7mlDe/qHpbLxOQ833OhwHAY9+7V1G4YoMMm0LUeu02i1WjRt2hSffPJJuZUNvUUkCAJKS0tx6dIlODs7w9/fv9wXOW/duoXk5GQAQJs2bdCnTx/ExcUhIiICRqMR4eHhCA0NRVRUFHbu3Im6deuiRYsWcnyCSqVCUlISCgoK5Gs4rVq1wq5du7Bx40YEBwfj/PnzKCsrQ1BQEJycnOTy6vV6JCQkyNeEBEFAWVkZVCoV1Go1RFFEWVkZMjMz5fxEUZRfJ8Qqd09PT/j6+sLb2xvTp0/HggULYDAYkJGRAV9fX/j6+kIwPZdjMBgQGxuLzMxMOX9CZVYqpK84nIrAJYfjMGhFaitkq0YwPf9B3IxGI9zd3fGf//wHdevWlZUvUdy0MnZ2dobRaIREXSwnilGj0UCSJDRp0gRdunRBfn4+Dhw4gNu3b2PYsGFo37490tLSsGfPHhiNRvj6+spGjShpYgRh+iR3YWGhXE5SJo1GA5VKJV/UJ+4A4OLiIitpEra0tFRuJ7o+arVavosPzM0VAKDVaiFJEgwGg5w+uSvNaDTCYDBAFEVoNBpoNBp4enrC1dVVLr9S+9kLaV8OpyJwo8NxKMRw2Gp4iMFh3YiSVKlU9yhM8l+SJLi6uqJFixZwcnKSt6nI2w2Cg4PRrVs3CIKAwMBAhISEwM3NDXq9HlqtFs2aNUOTJk2g0Wjg7u4OLy8vOX1aMUuShMaNG8PDwwM5OTk4c+YMCgoKIEkSUlJSIEkSOnfuDDc3N9y5cwc6nQ6FhYUQBAHe3t7o1q3bPSsDrVYLgboFmfx3cXFBnTp1ANO2XmFhIQoKCuR20Ov1EJg3PYeFhSE4OBg6nU6+AaKwsBB6vR4dOnRAvXr15HxJXJIONx6c6oYbHY7DISse1pgoIQgCEhIScPjwYZSUlAAAioqKEBkZicTExHJKUa/XIy0tDSUlJZAkCTk5OcjLy8OIESMQHh6OlJQU/PXXXzh69CjS09MxZMgQDBo0SI7ftm1b9OzZE40aNUKzZs3g6+uLbt26oXnz5mjXrh0aNWpUzrARtFotHnvsMQwYMADu7u5YtWoVduzYgYMHD2LlypW4ffs23njjDXTt2hW7du3CwYMHsW3bNri6uuLJJ59EeHg47ty5gxs3bkAwbX2R26clSUJpaSkyMzORm5sLV1dXNGrUCIIgICMjAwcOHMDZs2eRmZmJvLw8iKYbLa5fvy6XLzw8HC+++CJUKhUiIiIQERGByMhIBAQEYOTIkahXrx5SUlJQUFAAURSRmJiIwsJCRYNvC9xQcSqDeubMmTNZRw7HVmglffv2bezevRuenp7o1auXPGO3hNFoxG+//YY///wTnp6eaNy4Mby9vXH16lWo1Wp06tRJTj8vLw/79u3DnTt3UK9ePbi5ucHPzw+9evVCu3btcOXKFZw/fx7Jycno2bMnPv74YzRo0AAwGTdnZ2fodDo0btwYTzzxhHyBXqVSITw8HB07djSrhN3d3dGlSxcUFBSgqKgIiYmJiImJwciRI9GuXTvUq1cPbdu2ld+gkJKSgsceewxTp05FnTp1cPbsWezduxeNGjVCUFAQcnJykJSUJL/yx8nJCW3atEGTJk3g5+eHlJQUaDQa1KtXD126dEFkZCTy8/PRsGFDlJWVwdXVFR06dJBXLh07doSTkxPOnTuHs2fPQq/XY/r06Rg6dCj0ej127NiBoqIiNGzYECUlJWjTpg0aNGhQ7hqYNUpLS3HixAnEx8fjP//5D7y9vdkgHI5VBIlPWziVgDY6CQkJmDJlCoKDgzFt2jSEhYWxwe9BFMVy1ydIWuS6AbmGQfxE00V2Ol+iOA0Gg7xlJJju/gJzswJ5bxhJX6KuA7FbYCwSdS2FpEe2yWDK32AwyOmQ6zwkX5IGXR/yn+RP3Ehd1Gq1vB1Gx6PfLkAgYej6kLdElJWVyWFJuQnW6k3Izc3F/Pnz8dtvv+HYsWMIDg5mg3A4VrFN2jgcO2CVoSUEQZAf/HRycpIPjUYDrVZb7mK7ZLo5QKvVwsnJCVqttty1H+JGfomCpw0RMQQkTaKYrSleovBJuTQajXyXGvEjNwGQMhCDQ/IlcUkd6f90GUgdtVqt7EbOSVg6X/JL/F1cXODk5GQq+f/B5kkMXEWpTFzOw43lkcbh2AlRRrYqJWvhbFGORLmz0MaP/CqFswWSFn3Q0CsW2o8NR6ANBn0IlIFkw9J1EZhPg7NIprvk6HRJWDq8NWPL4TgaLnEch0KUHPlfGei0yDnrr/Rr6X9VQCt0c7B1YVEyVErhrbmR/+aMDIdzv+FGh1MpWIVGlBz9vIqtmEuLwM7KWcXKxicoKXRHYy1dtnxs2Wk3mDEuMBNGKV0Op6bCjQ7HYdDXJIQKPAPChldaHbDnllAKa6ubEkrhSBmV/CoDa6SUsOZPo1RGe+JzOI6CGx1OpaGVGXkq3hEoKV723BJKYW11swSpr6TwsKo1bH1oloYuH4lva34Eti3NxVdyI9BxyH9rB4fDwo0Op8IQxUIrM7LaIbfqVgZ7lZYt4W0JYw1SX7retFJnFS/JU6I++yCa3oXG+tPlY/2hkLe1+rBpk4OUl/aHKV22DOx/Oqy1g8Nh4UaHU2lYxadSqWA0GiutdOyNz4anFTatKCuKpbh0XqziJfHo+Epp2aKo2TToc7Yf6HO2HKyRIb9KRoZA35lnrZwcjjm40eE4BIn6XgvhfiomViE7ElYZC8y70KxBykYfSljyswWl+EpGg3Vjfwn0C1lZPw7HVvgbCTiVhohQcnIyJk+eDDc3N7zyyiuoX78+oKC8WEh88iQ9gcSrjIjSaVoqB5ntK0GXT61WQ6K2yWg/mFYDbD1YY6wEe2cemx556wK7QmHzInUgb14g4eg4NCQftVqtGIeuc35+PtavX48DBw7g6NGj/I0EnArBjQ6n0hCFTV6Dc/nyZTRu3Biurq6y0rSEORF0hNGhjYk5owILRoc2WAaDARqNRlbOtGEgYcCs+uh0WcMCxrgQiNI3Go3ypyJIfrQBYctG3Eg4uj70Od2erCFi44AySGVlZbh27Rp0Oh1OnDiBRo0ayWE5HFvhRodTaUTT24pzcnKwbds2xMXFyQqRVX5KmFN6xI9VjEqw8Qi0kraEreVUUW8/IL+0ASIKmi23ubRpd9KOJC7xMxqN0Gg0svGRmOtHBMlk7MjKxFwYNm2BMmDEYJEVDykTSUelUsHNzQ2TJ0+Gn5+fnC6HYyvc6HAcBq2gQClLWFHqbDx7sRRXSfFWFLYOtGEhitpe2DSVoPMh0Ofsf0txaD9QbU+Hpf3Jqo5AG6eK1JfD4UaHUylYZWer34MCrdwrUs+KthGdH2sslIwN8aONBW1wCGw9lPIh2FtmDgfc6HAqC6ukzKGkXFnFaM6tMigZBaWyVARJkqDX63Hw4EG4ubnJXw+FHWk7sizm6skiWVmVKfWpUlpsGA7HFsxLHodjA7YqHkHhNlviRruT/2zYysLmUZH0WcUrCAJKSkqwfPlybNq0Sf7yqT1pmyuLpPBgqCWU2o39rxRGCSV/Et/WNDgcc3Cjw6lxOFKhOTItUIaHGASj0Yhbt27h1q1bbNBKwSr5isKmUdn04KA0OA8v3OhwOHZAz/QF091cSltbHA5HGW50OJxK4OhVBIfzoMONDodjI0pGhd5u43A41uFGh8OpBJV9xojDedjgRofDqQT0q2i48eFwrMONDodTSey9vZnDeZjhRofDcQC1aZVTm8rKefDgRofDqSRciXM4tsONDofD4XCqDW50OBwOh1NtcKPD4XA4nGqDGx0Oh8PhVBvc6HA4HA6n2uBGh8PhcDjVBjc6HA6Hw6k2uNHhcDgcTrXBjQ6Hw+Fwqg1udDgcDodTbXCjw+FwOJxqgxsdDqca4W+i5jzscKPD4VQj/OWgnIcdbnQ4HA6HU21wo8PhVBK+Zcbh2A43OhxOJeDbZRyOfXCjw+FwOJxqgxsdDqcS8K01Dsc+uNHhcCoJ32LjcGyHGx0OpxKIosg6cTgcC3Cjw+FUApWKDyEOxx74iOFwOBxOtcGNDodTTfCbDjgcbnQ4HA6HU41wo8PhVBJbVzD8LjcOhxsdDofD4VQj3OhwOBwOp9rgRofD4XA41QY3OhwOh8OpNrjR4XA4HE61wY0Oh8PhcKoNbnQ4HA7HBsit8bbeIs9RRpB4C9qNJEkQBAE6nQ63b9/GtWvXoFarIUmS7Md5MBEEoVwf5+fnY+rUqfD398eHH34IT09PNord8Pe5VS90f7L/RVGEj48PGjVqBDc3N6hUKj7GKwk3OpWgoKAAO3fuxDfffFNOUDkPHuRt0sQgEOMjiiJSUlKgUqnQsGFDODk5MTHth8uQ47FkJFhDQ/4bjUaIooh27drh008/RZs2be4Jw7EfbnQqQVFREfbt24f58+cjNjYWHh4eaNeunbzqUUJJuDk1H9KfpM/Ib1lZGaKiouDm5oY2bdrA2dm5XLyKYE52OFUDGYvsr8FgQFZWFkRRxKJFi9CnT5975IBjP9zoVBBa+GJiYvDOO++gdevWWL58ebkwtHDSTc2FtnbB9iXh7t27GDp0KIKCgvDjjz8iICCADcKpRdD9XFpaij///BMLFy7EvHnzMHDgQDY4pwLwzeMKYG62I5mu6dDQH/liZ8mc2gfbv2RmDKDcdb3KHJzqh7Q7GZuSyfiIoghRFOVrOZzKw42OHUimPXzWjbgTQSUIgnDPRWFucGon5iYMkiTJfSyKIgRBqPTBqX7odqcNDgDo9XrZnVN5uNGxE/pCMvkVTPu/nAcXWuGYUz7m3Dm1CzK2VSoVnwhUAdzo2AFtaFgFo1aruXA+JJDVLb3CJe6cBwey4tFoNPIqllN5uNGpILQAcmF88KH7mJ4Bk5WvWq2+ZyuVU/sgkwnyn0wqLN2RyrEPPkoqCC2Y5D83Pg8ngiDAaDRypVTLISsbekeDTCyIH6fycKNTQdiZL/j2ykMLq6w4tRPSf/Q4JpNK3reOgxudSiIoXN/hPDyQO5y4YnowYPuR3skg55zKwY0Oh1MJ+HWcBxf6mh3HcfAW5XA4HAXYZ/I4joEbHQ6Hw1GAb5dWDdzocDgcjhn4NRzHw40Oh+MA+A0lDx723pHI+982uNGpIOwdLVzgHmws9a8lP07txd5+tcdAPcxwo+NA7BVSDofDedjgRofDcQB8tftgYk+f2hP2YYYbHQ6nkpDrOXx7hcOxDjc6HA6Hw6k2uNHhcDgcTrXBjQ6Hw+Fwqg1udDgcDodTbXCjw+FwOJxqgxsdB8DvWnrwob+1wm+NfXBh3ywhCILNL/7kesA2uNHhcDgcBj6xqDq40XEAXEA5nAcX/gyWY+FGxwGQFwNyweRwHgzo8czHtWPhRscBkJUOF86HE0mSoFKp+Ir3AYL0JfvLqTzc6DgAvsrhgE86HijoVQ7/ZLVj4a3pACRJgiiKfDb0EMP7/sGD3sEwGo2sN6eCcKPjAMhsiMyIuAJ6cDG3qhX4R9weGJT6Ua1Ws06cCsKNjgOg9335nS4PF6Io8v5+wCD9SY9l9pf4c+yHG51KQgseMTqcBxf2QUGyuuXG58GB3lYj/U2PbT7GKwc3OnbCCpy57RbOgwdtcAwGg/yfzIhZ2eDUTshEgoxt0r/kDkU+3isHNzoVhFYyRBC5AXqwIYoHCnv8kiTd40bc6YNT8zEYDDAYDNDpdPIKVhRFGAwGGI1G6PV6gNmG49gONzp2QowNPeMRRRF6vf6eLRYiqFwoHwyMRmO5FQ6LwWC4Z/uNnozwCUnNJysrC5GRkTh69CgiIyNx+fJl5OfnIz4+HsePH8eRI0cQGxuLvLw8eVzzfrUPbnQqADvDEQQBTk5OALPtolKpoNFo5HNO7Uaj0UCj0UCn08kTD6PRCFEU5RUQf6ajdpOeno733nsPTz/9NIYOHYq5c+fi6tWreP/99/Hkk09i8ODBmD17NgoKCvjqtYIIEm81u8nPz8fBgwdx4cIFaDQa3LhxAzt37oS/vz9efPFFAICbmxu6d++Onj17stE5tZzdu3fj3Llz0Ov1KC4uxvr16+Hj44MhQ4bA3d0dKpUK4eHhePTRR+Hm5sZnwrWIW7du4aeffsIXX3whP5tDtlWNRiMaN26MqVOnYtKkSbxfKwg3OhWgrKwMmzZtwscff4z8/HwYDAaUlJRAq9XC3d0dANCpUyd8/vnn6N27N8CX4A8Moihix44dmDlzJm7cuAGDwYDS0lIIggAXFxdIkgQfHx/8+uuvePTRR+Hs7CzHJVuy9NYsp2ZA1KAkSYiMjMSkSZNw4cKFcisZtVqNIUOG4LvvvkNYWBgV+//3Lcc6fC/ATkRRhFarRfv27dGmTRvk5+ejuLgYkiRBr9fjzp07MBgM6NChA7p06SIrGW7bHwxUKhUee+wxNGnSBMXFxSgoKIBer4der0d+fj4KCgoQHh6O1q1bw9nZuVy/E6VEywR7QOHmA/awBTaOvfEfNsg1N5VKhebNm+PFF1+EVqsFqC3T+vXr44knnkDjxo3vaUtucGyn2o1ObRd6IpghISEYOnQo3NzcyvlrtVq0bt0aTz75pLzqIQJd2+tuL+bqS9zZgVuTocvp7e2N0aNHo2HDhuVurwUAT09PTJgwAT4+PnJ4MHUm4ZUOAuuuFMYSbBx74zsKa8aO9jd3VAd0//j5+eHxxx9H8+bNAdNEU61Wo0OHDhg4cCA0Gk21t+ODRLUbndoKK/xeXl7o1asXevbsWU4AXVxc0L17d/To0UN2e1gF1Fy9aXdzYWoyoihiyJAhaN++PZydncsp9EGDBqFr167ythpbP/ZcCVvC1BasGTq67cwd1QHJRzBNKps1a4YxY8aUW+UMGDAAoaGhgMJDwlDQERxlqt3oVJcQ2Qs901E6BGYvXhRFhISE4KWXXpLvUNNoNGjVqlW5VQ6dNl33h1VA6dlrTZUFa6hUKnh6emLUqFFo2LAhYLqd2tPTE5MmTYKXl1e58HRf14R+Z8vDlknJzdFURx4Vgdx96ufnh4EDB6J169YAgFatWuGZZ56BVqtVbL+aWJeaSrUbnZoKPdNROugw5L+7uzseffRR9O7dGyrTCz87duwon7Npcx4MiIIZPHgw2rZtCxcXF7i6uuLxxx9Hly5doNFoyikhczJ0v2DlWKlMSm6VgU3PXL73G7VaLRuR0NBQjB07Fg0bNsQTTzyB4OBggFoNkf81tS41FX73GoO15qCFy2AwQK/XY+PGjXjzzTfRokULzJ8/H4MGDSoXh36OgyDd57tdSP5K5VByqwh0Oub+1xaUyixJEn7//XfMmDEDd+/exbp169C/f/9yd6zRKKVRE2ANpMFgkFfvSrJrDwaDAUVFRTAajXI+pB1IW5CHqum2YcchkdWqgKRL50/yi46Oxq+//ooPPvhANjp0HBX1ahz24XAlrPk7AnPtROpEykn62Gg0wsnJCa6urvKEqSrLyY2OnSh1SHx8PGbMmAE/Pz98//33cHFxASgBU4qj5FadkPyVymHJzx7Y+Dk5OSgsLJRfFyOZHq7UaDQwGo2VUm5VCdm/lyQJWq0Wer0eWq0Woiji9u3bmD59OgRBwJdffomgoCB5i4bUUxRFWXlLptflVOb7LLb0idKwpuWRPReo2btGo4Gfnx9UKpV8B1dFSUxMxI8//oiLFy+Wy1eSJBgMBqhUKrkcdHlI+9ArCqU6OQK6PUlbEDdyS7yLi4u8myGZVkKk7KRvjUZjubhKWPJzFJbaia4ffV3qsccew8SJE1G/fv1y4auCKjc6pJKsoD8oiKKI4uJixMTEwGg0onfv3lbfQkDapKZR2VktC1vPL7/8EpGRkffc/UMrGzoeq6TuJ5LJWNDKRTIpztu3b0MURfj5+UGr1UKlUkE03fFEKyKirATq5ZGWMOdvj+zQbQomLqkLTAZSFEXodDqoVCr88MMPaNasmRy2okRHR2PatGmIj49HcHBwubYAVS61Wg2DwQBBEMq1GwlDy6U99WdhZQuMfJFfMlEgkwvSZ/QDo0Rp0+W0RmXKbiuWykEbSvKKrvT0dDz22GOYM2eOfKMEaaeqoMqNDkyzhbt37yI5Oblcp9NZV0MxrMI2Ml0moiSIAIIKL4qiPEicnJzKhaGFWaBmGOS/Eo5oC3NpkLan/9Pl0mg08Pf3R2hoaLltFkcwatQonDx5EuHh4QgICAAYZUjLBts2bHtWN3Q7gbl7iXYn5af7mJSZGCNzkLB0Hdl2MOfGYq6dlNxJekajERcvXsS1a9ewdetWPPLII2xQu4mJicEHH3wAPz8//PTTT7K7JEnyCpfUWaPRQKS+wCuZjA2t7B0FLWN0u9N9SbvRfrQbiU/CW8OWvqsstpSDTDKuXr2K+fPnAwDmzZuHJk2asEEdTrUYHZ1Oh/379+PNN9+EJEnw8PBggygKAA17Xh0QIaNnNKScRKmQgcEKrVJ5iT+qQfiU8gej5OlfSZKg0+lQWlqK4cOH49tvv3X4qmfUqFFITU3FggUL0L59e0gmRWOurKBWX0rK2px7VUK3idFoLLeFRoch5SbhlJSUJWhZcQRsevQ5kV2dTodffvkFy5cvx5YtW9C5c2cqhYoRExODDz/8EHXr1sWGDRvuyZetoz1tVB0olbG2Q+okSRIuX76MOXPmQKfT4euvv5ZXOlVJtRgdg8GA3bt34+2330bv3r3Rs2dPqFQqeU+XLPksFeV+KBdredJhWEVDZmz0AAM1mKwpdGt5m4PO31weJG1a+NRqNa5fv45NmzahX79+WL58ORutQtBtMGLECGRkZGDx4sXo0KEDYKNyYduuJigCpTIoudUmioqK8PPPP2Pp0qX47bffHLLSOXv2LKZNm4bAwECsX7++nF9tb6/aCNvmV65cwZdffgmdToe5c+ciJCQEsHFcVhipGtDpdNKOHTuktm3bSsuWLZP0en05f1EUy53XFERRLHfQbiysuyiKktFolN2NRqN8sOlW5KDzZA9JkszmQ5eP/i+KohQVFSWFh4dLb7zxRjn/ykCXZ/jw4VLPnj2ls2fP3lOe2gApb20suy0UFhZK3377rRQWFiadOnXKIXWMjo6WBgwYII0ZM4b14twH2D69fPmyNGbMGGn48OFScnJyOb+qQnkqXAUIpm0npb3ZKrWqlYCUmRy0GwvrLpguPBJ3sqKj3Sp6sHmyB6gLhuwBZoVDp0X86Iu4lYUuT22HbjO6vR4UqqqPzK3aH6S2q+1UZ19UjZQxSNTePbkDqDoryTEP6QeJuUmiqrhf/e6ofGnj/aBB+l803XnnCCy1lSU/W3FUvz7sOKIvbKVajI4gCNDr9ZBMFyzJHSsEczMhR0PyN3eIptskzR0knDXYdJWOyuAoASFlYRUpUTyOQCqXjAqCoIYgqAFJ+L/DBtg2Y89twVFt9rDgyPaylFZF+pLGUtoc6zhqnNtDtRkd+jD3nEZVw5aDPegtMKWDhGMNCKsQ2XSVDmuwadL52DpI2TKyZSX1oiH1s6WM9kCMj0qwXeRIWZXKouR2P6gp5agsEvWwI5gv4FYGW+Wdxlb5rgrMjTN27DyI2NtPFcV2DVAJaIUnmp5pIf9RjZWtCHQ5yTn9C6b8jqoLUf4SY8SIny3Q8Wwd/JJpC9SWsLZAbIwkAZIoQZT+/3MY/+dueSAT5Ufag/ynsZaGoyHyQCsi+n9tQqnMSpORiqKUPg2RS3Y8mYtH2rmq21tiJl62jh+OdRwjWVYQqIvq7OrBFiTTk98stNCxgkifs9tjrMAqCS/tRgsbEUYV9c4lOrzBYDC7FceWj4Szhi1hLEHX2ZbBU11LbkF1rwGhMRqNyMjIwNatW7F9+3bs2LEDO3bswPbt27Ft2zZs374de/fuRUFBARvVIpVtT5VKhby8POzfvx87duzAgQMHUFRUZLEulqhseRwBKQPpe0fJADEgSm3DyiUhJycHR48exbZt27Bz507s2bMH2dnZsj8tw/SYsgWlsHQa9BgpKipCTEwMTpw4wUZRhE2bPqfTr2lUd5ls0/qVRGJWC/YKtGDakmOVNBFo8p/+Zf8TA0cESikcSUtUeOsA8SfpsP8J9NYhHZeckzILlCGmYQWALSvMCLMllOpcHZTrK5UECCIAEYIgQVBZH4gGgwERERGYNWsW1q1bh2XLlmHixIn45JNPsH79eqxYsQKzZ89GQkJCubSspWutHczFI5SWluKPP/7AunXr8PPPP2Pq1KmIjo5WnBgRLKVprTyOply/ULIqmp7tIq9HcQSW+oIdJ0QvZGZmYt++ffjggw/w3nvvYfXq1UhLSysXFzbKNcnX1l0V2r+srAynTp3C4cOHy4WxBDs2ycHW9X7B5m/rxN+RVEuOlirKKgu60+htjLt37+L48ePYuHEjNm7ciD179iA1NRXJycnlZkEsAvMacksQf5VKhaKiIuzatQuJiYkwGAwoKytDVFQUDh06dI/RJLcY3759G4cOHUJ8fHw5fwKpm6Vy0H70f7ptBEFAamoqtm7dilu3bikO6JoAW09z56w7Qa/Xo7CwEF9//TU2b96MxYsXo23bthg1ahR+++03rFmzBqNHj8adO3cApn3JQKf7ipY1FtqPlIcNR/ogPj4e69evxzvvvIPVq1fj+eefR35+/j1yUVtRqVQOu3vNWnvSkHHarl07zJw5EwMHDkT//v3x9ddfy29HuHDhAnJzc+W4Sv1Ln9OyAEanEAST4SosLMSlS5dkP19fX7zxxhuYPn26HJbIgDlIfuQ/OQiW4lYHJH9b2q+qqBajQ3e+inmPEq142A4ica5fv44///wTv/zyC3bs2IHdu3cjIiICv/76K1asWIHExEQ5Dh2XYG9jFhUVYfXq1Zg6dSp27doFmBRgTEwMYmJi7lEuZIDm5eUhOjoaV69eLZc/mMFHzpVg0wYVVzAp0dTUVCxbtgyvvvoqYmNjy82wleJbgy1LVcx+2PawBScnJ3Ts2BEDBgyQ40vUrd1eXl549tln5Q+psXmw9aJlTamd2D4i8kefw/QSy8DAQLi7u6Nu3bqYMWMGnn766XLvqSPlZOOyZaIRzWzL1nZIf7H9o+RGUJnecE3aVJIkZGdn44cffkB8fLwcT0W9FYS0G/ml+5sOT/sRSktLcfjwYfz6668oLi4u50fLAduP9C+RKzpfNhwHUM+cOXMm6+hoRFFEcnIy9u3bh/DwcHTu3Llcx5hDEATk5uZi7dq12Lp1K55//nl89tlnGDZsGFq1aoWoqCjEx8ejS5cuCAkJkQcsmyYtKKwfgfYrLi7Ghg0bEB8fj+7du6Nbt25wdnZGp06d5Ff46PV6ZGVlIT09Hf7+/oBpZvToo4+iefPmcnrkl82XPSfQ7nSZaPeUlBTs3LkT8fHxePnll9GwYUN5cJpL1xqCICA9PR27du1CUFAQnnrqqQqnZY4tW7agoKAATz31FOrVqwdY6BPJ9GxXSEgI1KYPa+Xl5WHnzp0IDQ1Fr169oNVqZcWfmpqK/fv349atWzhw4ACys7NRp04dxMbG4sCBAzh9+jRSU1Oh1Wrh6+uLjIwMnDlzBvn5+UhISMDhw4dx584d1KlTBy4uLsjOzsbBgwcRExMDvV4Pg8EAb29vREREYMuWLUhMTJS3fH18fFBQUIBt27bh9OnTuHDhAurXrw8PDw95xZyXl4fdu3cjPj4ejRs3VlxNEDlhFVxVoJS2Xq9HdHQ0oqKiMHz4cNSvX18xnD3cvHkTe/bsgaenJ1544QXW+x7ouv/9998wGAzo2bMnCgsLsXbtWvzxxx8QTG+i9vX1hU6nw+7du3H8+HGcPXsWPj4+8PDwgNFoxMGDB5GVlYVDhw7hzJkzqFu3LjIyMrB7926cOXNGnrD5+/vjwIEDWLp0KRITE+Hu7g5PT09oNBpERkYiIyMDzs7OOHDgAI4dO4Zr167ByckJKpUKUVFR2LdvH0RRRFBQEK5cuYIDBw7g1KlTSE9Pl8tDqGx7OgJap9y6dQtHjx6F0WjEwIEDUadOHTa4w3H8lNYKSjNMFnp2cOLECWzbtg0DBgzAsGHD5A9kNWrUCOPGjUPXrl3lsCrq5gRigOg0LXU48ZMkCd7e3pgyZQp8fX3lNOi0RdN3VP766y/s2bNHVhYkPpse+aXLYwu0cICqQ/v27fHSSy/Bw8OjXPo1HXvLSNdNoB5aNBgM8mpZpVIhJycHS5Yswf/+9z+sW7cO0dHRSEhIQGxsLBYtWoTNmzfj5MmT+Omnn7Bjxw4kJSVh3bp1+Oijj7BgwQLs27cPf//9N+bOnYvTp08DAPbv3489e/bg1KlTWLlyJSIjI5Gbmytv5xYVFeHcuXNITk7GtWvXsGfPHpw5cwYxMTFYu3Ytli9fjrS0NKxYsQLvvPMOfvzxR5w7dw4XL15UfOODKIpISkrCmTNnoFK41udozMmjkltlqEx69Ni7ffs2UlNTUVZWhitXruDKlSvIycnBP//8g8jISERHR2PLli1YsmQJkpKSsGXLFkyfPh1z587FsWPHcPbsWdy4cQNLlizBH3/8gUOHDmH9+vWYN28ecnNzkZKSgqysLOTk5ODy5ctISkrC9u3bMW3aNKxatQpFRUU4e/YsVq1ahRUrVuD27dswGAyIjY3FoUOHkJ6ejpSUFHmCEx0djTVr1mDr1q24ffu2LMOc+2B0CLSiZiHuZGAXFRWhdevW8PT0LBeucePGGDJkCJo0aQJBEFBSUoIdO3ZgyZIlWLRoEfbv34/CwkIAkGdKiYmJiIiIwE8//YRffvkFt2/fltPLy8vDihUrsHLlSpw/fx46nQ4wlaekpATbtm3DoUOHkJmZiV9//RXr1q3DoUOHsHHjRty+fRvp6en4888/5Ws6kiTh6tWrWLVqFX788UesX78ecXFxst+ZM2ewb98+REdHY/PmzVi6dCnOnDmDoqIiAEBsbCxWr16NJUuWYOnSpTh9+jRKSkoAygjSbViZAV7ToOWD/hVMs1y63oWFhbh+/Tq0Wi1at24tGyBfX1+0b98eM2fORL9+/VBQUIBz584hKysL2dnZyM3NhSiKePHFF/HWW29Br9cjNTUVAHD8+HE0btwYkydPRseOHVG3bl14eXnhrbfewpAhQ9C6dWvMmTMHo0ePRlJSEtavX4969eqhRYsW8Pb2xvLlyxEbG4tr165Bp9PB09MT33//PebOnQsvL697Po4mmL7Y6ePjg+joaNnd0s0JlYVuQ3YssufVBasXyCq3U6dOGDlyJBo0aIC3334bb7zxBm7fvo3ly5dDEAQ0bdoUwcHB+P333xEZGYnr168jPz8fBQUFmD9/PhYvXoyOHTsiODgYH3zwAV566SXUqVMHJ0+ehMFgwJgxY/D444+je/fu+Oijj9CxY0ekp6ejsLAQgiAgNDQUH374If7zn/+gdevWaNOmDfz9/TFo0CB89NFHeOKJJ7B9+3bs3r0b3t7eaN68OW7duoUtW7YgKSmpSrasayv3vSXo2SyrNO/cuYObN2/Cz89P/v4KjSAI6NixI0JDQ6HT6bB161Z5C+PMmTP4+eefsWvXLqSlpWHVqlX44IMPMGvWLBw9ehRxcXFYsGABDh8+jJKSEuTk5GDhwoXYt28fLl26hFOnTkGn00EwXWD8448/8Pnnn2PLli0oKSnBrVu3kJ+fj9zcXGRmZuL69ev4/vvv8eWXXyIqKko2OJs3b0ZkZCSSkpKwefNmLFmyBPHx8YiKisI333yDjz76CBs2bMD58+exZcsWrFq1Cjdv3kROTg6WL1+O3bt3IyEhAX/++SeWL1+OzMxMwNReSnvlbBvWdKwpN1o+YFLCdBxRFNGkSRO89dZb8Pf3R7t27eTw9erVQ5s2bXDo0CGcO3cOJSUlEEURLVu2RP/+/dG1a1c89dRT6NSpE3x8fOSvggJAvXr1sH//fqxYsQJqtVre5qPbm6zaL1y4AFdXV2RkZOD69eto0qQJxowZg4YNG2LSpElo2LCh/HE/gfpMMI1gWsmFhobCyckJJ0+eBEx3Q1YFltpdsPCcjL2w8mkvkum5MVbWDQYDLl26BHd3d3kV5OnpidGjRyMsLAxjx45F69atMXDgQHl3RKPRoG/fvrh48SJOnTolT+4k0yMZErUlHhAQgBdeeAFt2rSR+9nV1RXNmjWDJElISEjA3bt3cefOHWi1WhQWFiItLQ0FBQXIzc3FtWvX0KlTJwwcOBBeXl6Ajbs8DwP33egQIVISzrKyMhQWFsrCYImzZ8/i77//xoABA/D9999jwYIFCAoKkq/N3L17F6IoIicnB8899xw+/fRThISE4NKlS8jPz8eBAwfwzz//YObMmZgzZw4effRRaLVaeTvn5s2bMJiewWnQoAFeffVVtG/fHs899xzee+891KlTB3fv3gVMe+NkDz89PR2ff/45Fi1ahAkTJiA2Nhbbtm3DrVu3kJeXh5KSEgQFBeGtt97C6NGjkZGRgYyMDIiiiObNm2PatGkYOnQoAgICcOnSJeTk5ACUYiAHaT9r7XS/IeVVQsldqT4Sdbs6fWGYhJUkCXq9HidOnMDatWuh0+nwzDPPoH///lBRn4ym8xOouxwB4IUXXsATTzyBlJQUfPvtt1i1ahXy8/MB6oI/WW2qVCp069YNs2fPxsKFC7Fw4ULMmTMHbdu2LZemxNxcwEJWru3atYPRaLznVl2l9nE0Su1dGSqTnmAyxKLpVm7W6AuCgBYtWmDGjBn47rvv8O233+Lbb79F37594eTkBDA3xSQnJ8vXbbp3746RI0fKeZAxRPpAMK08BWaSEBYWBh8fH/zzzz+4evUqCgsLUb9+fTn+448/jlmzZuG7777DwoULMX36dLRo0UIui6X+vx+w7Vkd3Bejwy41zQ0mV1dXeHt7o7S0FKWlpbI7CU8UmMFgwPnz5+Hm5oawsDBoNBoEBARgwIABSEtLQ2lpKV5++WUEBATgpZdeQps2beDq6gpPT08IgoCysjIcOXIE3bp1Q0hICNzc3NCmTRs4OzvDaDTC29sb48ePR6NGjWShNBqN5QQoJCREvs6iUqmQnp6OhIQE+Pj4oGHDhpAkCd27d0f79u2RkJAgz7a7dOmCgQMHIigoCK6urvK32AMDA9G6dWscOnQIkZGR8qoL1SgcVYFgwyxayZ/UmRgLOozEvBlbEATk5+fj/PnzKCgowJgxY9CoUSPk5OSUUyzkJbSgZJK8LSM7OxtPP/00vv76azz//PM4e/YsUlJSypWFvE+wefPmiImJwcWLFyGa3riRkpKC9PR0WU5opcaWnf5P0u7ZsyfKyspw6NAhOUxt7HdL/a3kruRG+kaijHZycjLq1q2Ly5cv4+TJkygtLYVKpUJmZiaSkpJQVlYmK3kS/9q1a7h48SJeeOEFdO3aVZ4kknYl1wnJzSVE1ojhMxgMqF+/Ppo0aYKYmBicPn0aGo0Gbm5u8Pb2RkBAAM6ePYuLFy/K5b58+TIyMjIU63U/YWWJPa9K7ovRsVZByaRU/Pz80L59ewDAxYsX5esZtHKJjo7GtWvXkJeXh/T0dHnJLJhuqSWfj6bTpvMnQnX37l3k5+fLwqHRaGTlRMKpTLd7kzTI3Ue0QJE4er0ed+7cwd27d1FQUADB9ClrJycneZ+eCLLIvN3ZYDAgPj4ea9aswbVr1zBw4EA888wz8PHxKVcm8ssa8cpSlbMxuvxg2o6tF0EURcTExOCXX35BUlISjhw5gl9++QUFBQUQRRGJiYlYv3490tLSsG/fPsTHx8Pd3R2hoaHIy8vD/PnzsWbNGmRkZODChQv45ptvsHHjRpw7dw67d+/Gtm3bsGvXLly9ehURERE4deoUjhw5gh9++AHr1q1DTk4O+vXrhwYNGmDNmjU4ePAgkpOT8csvv+D06dPo0KED6tWrhx9//BEzZ87E119/je3bt+Py5cvYsGEDsrKysHPnTpw6dUqePRMZYOsKkzEDgCeeeAJFRUWIjIxkg1QKpTwJjjZw9HizRfEKgoCrV69i5cqVOH36NM6dO4cVK1YgKSkJvr6+cHJywoYNG3Dy5Ek0adIEjzzyCNauXYvPP/8cs2bNwtq1a5GWlob169fjypUrOHLkCP755x+IooiGDRvC09MTv/76K7777jtcunRJvo57584d+Pn54cKFC1i3bh0SExOxd+9exMXFITY2FhEREYBJL7Ru3RrOzs6Ii4tD06ZNAQDOzs548skn4e7uju+//x6zZs3CF198gYMHD6K0tLTKxmplsaVPHM19aQFiVMh/JQGXJAkuLi4YOHAgunXrhu3bt2Pr1q2yogGAAwcO4MCBA8jLy0OLFi2Qn5+PPXv2yNc9rl69itDQUAQHB0Or1cqzTJInUYBqtRrNmjVDTEwM4uLiUFpaipSUFOTm5uLIkSOIiooCKGUgmGZvoihCp9Ph1q1bSElJKdeBgYGBaNSoEU6ePIljx44Bptd76HQ6tGrVSr7Nmp35krrFx8fj4sWLGDZsGLp37478/Hx5tUfKIVGfyq4NkDajUep7FtJPgYGBGDduHPr16ydveZDZaZMmTTBx4kSEhYVBkiQ4Ozujf//+ePXVV+Hv74/g4GCMHTsWw4YNg7e3N5o2bYqXXnoJnTp1gtFoRIMGDfDKK6/gkUcegdFoxJNPPomWLVsCplXsoEGD4OfnB61Wix49emDUqFEICAiARqNB48aN8fbbbyM8PFxePYWFhSE4OBgBAQGYMGECOnToAMl0G7hougvPXL9ptVqIpscMGjRogAMHDpgNW9NhJ1Q0ZBzR0Prg2WefxdChQ+XJVqNGjTBp0iQ0a9YMrVq1QmhoKMaPH48nnngCHh4eUKvVqF+/Plq0aIGAgACMGjUKvXr1kncsmjdvjkmTJqF58+aoU6cOBgwYgPfffx8BAQHQarV4/PHH8eKLLyIwMBCtWrVCYGAgRo4cieeeew5G6tPkzZo1w3//+18MGTIEdevWlevRqlUrvPHGG3jkkUdk/dK+fXs0btwYoLZl7zeShS3u6qBaPlet1+sRERGB6dOn4+2338aECRNkpSFSy19a4IhyUqlUiImJwcqVK2UjQrbFnJ2d0bNnTzz66KMoKyvD2rVr8e+//6JRo0YIDAxESUkJevXqhTZt2sivLOnRowemTp2KEydOYPXq1QgODsa4cePQsmVLfPHFF9BoNGjWrBkMBgM2bdqEnj174vXXX8e5c+ewePFiBAQEYPr06QgJCcGiRYuQmpqKoUOHon379li3bh12796Nxx57DP/73/+gUqkwd+5cZGRkyGWsV68enn32Wdy4cQNz5szB7du3MWrUKISFheHff/9FTEwM+vbti2eeeQZz5sxBcHAwGjdujJs3byIqKgqPPvooRowYgY0bN+L333/HsGHDMGPGDISEhMhtSrejrUiShKioKEyePBkdOnTATz/9ZHcalpAkCSNGjEBmZqZ8J5GtKNVHyY2FhKFljPWz9RyUAiXuJAwZxMSdjaeEUvrx8fFo1aoVEhMTsWvXLpSVleG5556TL16z4R0N/bnqP/74o9zzdBUlJiYGU6dORf369e/5XLUS1uopKazE6H5g40qmrVf2hgw6rFI8Au3H9j8rV5bKUVMg7QdTG8bHx+Orr76653PVVUm1Pxz6yCOPoFOnTvdsTZFOon/JYK5fvz5atWoFHx8faDQauLq6ws3NDQMGDED37t2h1Wrh6uoqz2CcnZ3h6uqKXr16oXfv3nBycsLdu3fRoUMHNG7cGC1atEBBQQHatWuHVq1aISwsDB06dEDbtm0BAB4eHmjXrh169Ogh38GSk5ODFi1aoHPnzmjYsCGaN28Of39/1KlTB6GhoWjVqhUKCgrQtWtXNGvWDE2aNEGbNm3QrFkzODs7w8XFBcHBwRgwYABat26NtLQ0eHt7o1OnTggODoaHhwd8fHzQtm1bNGjQAL169UJwcDCcnJzg7u6OHj16oH379qhTpw7CwsKgVqvRq1cvNGjQAK1bt0adOnXKCXpFhD4jIwO7du1CvXr18PTTT1coDUts3rwZxcXFGDx4sPxwqK2wZTE3sNlBRcKxYY1G4z2GiMDKIigFYzAYZNml0yczYRJHaYZPu7F+AHD79m2Ulpbi+vXriIqKwpQpU7Bhwwb07NlTMbyjYR8ODQoKqnS+mZmZdj8cailPti9Z/QGqb0lfkd0Act2PTQOmLW2y+hRM259khU1g45krB+1OJs/EzVr9qhNBEOSXqxqr8eFQsN+vrgp0Op20c+dOqU2bNtKyZcsknU4n+9Hfm7fl2/NGo1EOR8ej/WnoMOb8WMy5VwaSv7ly05BwBKX/rBt7bi+iKEqnTp2SwsPDpYkTJ1YoDUuIoigNGzZM6t27t3T27FnW2yJsWdj6su60v0i1u0TJh1IaJCwrJ5JCnxBIOiSOXq+/x58OZwlRFKWMjAw5vW3btklffvklG6zKKCwslBYsWCCFhYVJZ86csVpeW4iOjpYee+wxacyYMayXJCn0GXvQ/WXul3UzB923bBw2Ln1O/6fjs3JC+p4uE4059+qElIGUIy4uTnr55ZelESNGSFevXmWDVwnKU70qhswUCcTyk1kCWeEQ6HMy+6BnFPTMgd6qI34kPvlPoGcfbBz6nEZiPknAhjHnDqrsbD4wU0e2DkpxiBvtTv+3l8rEtUZl01bqOxrSDnR7CMzbvIl8kDCk3SVqRUTCsvlZcifpsts4dDnp/2D6nPiT1YVKpULbtm3xxhtvKMpSbYKtNw3d5uYOAmkH0ld0n5G0WOi2U1n4nAoblz6n/9Pyw6ZF9z2bHnFTcn/YUO6BaoAdcDS2dA4tgJbSIoJJGysWJTcWkj6dFjlXCmfpv5Ibmw7rJihcdKXdWD97IG1E/lcFdF0qmodSm1c0LTJxIG1Ip62Uj1L/wEz+ZEuF/q8Uzlqbh4aGyjecVAe0XJsrk72witkWJGYiADPyz0KPBXJUFKWL/mxf0v50fuZkxRGwZXIEVZGmJeyXCAdABjY9wC1Bh2M7lk1HyZ+FFUq20ZUETikdJdiZNOvOhqkolurnCKoqXVQibbZPwKTFKgFLWJo4VBZBYbXOKl96r99c/sTPnH9VYK3d7MXeNqbzZ+Ow7aHkrxSOQI971o+F9BetC9hxS6dB58fqFxry5gOCUhhLWCu3LbBt6Ig07eG+GB1ym6u9sJ2l1LFsA7L+ROCUGpucW1oVVRa2PDTm8rNloFjyswYdV1DYNnAElupNMBeGHiA0SuHNtRUJS/+S/+bCstArGAIbF9T3lWjoNNm7nu4HbB3pc6X2qyxsfuagx52tcViU+pY+F8ysmtg+ghmlTNJXSoOgFA/URx6VykfczKVrzd8WlMpUmfQqQrVJvlJlYaEh2XMW0ql0urQwsJ1KYM+rm4rkz9azKjDXD1VBRevCbm+YS4ce1LSbNdg4LOxMVwnJ9IodMP1Gx1FRX+ekDZm1/KsapXarLPQde/ZA2o4dz0qwfraMF9ZfYgwtvRJWgs2DLQPrZq4OSm7m8lWSpYpC5+uI9Oyh2owO2wHk11xDknO2U+i4rD8RBHNxzbndb2pamZRm9JWF9ElF0zYYDNDr9SgrKwOYbQ/yS/c9K08E2p0NQ5+bUxIEc350GUCt6lmDSWa87IrHXLrVQVXmzba1LYimN3ZIpnfpScxNPARb0mblj5YZJaz1P4tSOgJlNIk/nS79S8uNuXzZeI7C0elZo9qMDg3pDFugO4IepEqdTGPOX8ldya06ud/5K2Fr/1QlpAxlZWX46quv8Oqrr+Kdd97Bzp07cf78efkrrtYGqxKWwhIFYKlfzPkRpULSZ+WVNUIEJWX6oEC3h62Ioohdu3bh3XffxYgRI/DLL78gJiYGZ86cQV5eXrmwtqRN5MRcO7P9aYsMmIOOQ6dBp8m6g6qHuTzZ8I5AqS2qmvtidGyBbQwiuOxgFSwYMKXOUQqr5HY/qWnluV8IgoDS0lIsWbIEx44dwwsvvICBAwfi9OnTmDNnDm7dugWB+vQ06W/R9IJGWtmRX+KuMr0Mkm5rdhZsDUvhWAVCfsnWG11G4k8O8l42Fkv5OQLagN9PRFHEsWPHsG7dOgQFBWH8+PFQq9WYM2cODhw4oPg5aVYvmIOsMEk92Tal5YVNk5Yncq6EOXcCnY5Seyvl+yBx34wO3fHWOHHiBF577TUMHjwYn376KY4cOYLTp08jIyNDDmOrwlDKU8mNc/8gg1KSJOh0OixZsgRDhgzBM888g6FDh+LZZ59Fly5dZBkqKyvD6dOnERkZCZG6SE/3K/mvUqlw7Ngx7Nu3D4LpTQIENp45WSJlMyc3tMJiFaJkeis6+0JZmN4VuGrVKtkgVSeCwlbf/UKlUslf5H322WcxePBgDBs2DE8//TT8/Pzk99ddu3YNu3fvRl5enk3t9cMPP8gfdQRjZOk+Jb9s/5qTB1CTGXPloOPS6YqiiA0bNiA5ObmcjBLoMj0o3BcpIw1orSElScLFixexatUq+Pr64v3330ebNm3w888/Y9OmTfKMhx4w5tJmz5Xc2POqQikfVjE9aNhTJ3pQCqY3dp86dQp6vR7Ozs7o2LEjxo8fjy5dugAA0tLSsHjxYvlTAgSiVCRqlZyWloZt27bh5MmTEJhvpRDFQcpKx2UxpwiILGo0GvkN4iqVSn5JK/EjkGsW+fn52Lt3L7Zv3y7LAps+rSAdDZsme14ZiAK3J02VSoWkpCTcvHkTAODn54fnn38eTz/9NLy9vaHX6/Hrr78iMjISxcXF97xWi/4vSRKOHDmCtWvXoqCgQPanV7tKRoYuM+kTOhwdnp5AkF96TJtL++zZs1i/fj1u3bpVrrx0OFLGB4X78u61Ll26lOsk0uk0pHP/+ecfREdH4z//+Q8GDBiARo0awdXVFRqNBmFhYfD19UV6ejpOnDgBJycn+Pj4yPHptOn0v/nmG4SEhMgvDqXzZ8vhaFjhofPdtGkTdDod6tevXy5MdVGV714TBAGbN29GQUEBnnrqKbPvXqPbg/RNSUkJfv/9dxw/fhyenp5o2rQpvL294ebmhqSkJIwePRqRkZGIiopCUlIS2rdvj8OHD+P111/HypUrsWXLFuh0Ori5ucmfDT9//jzi4uIQGBiI+vXr46effsJ7772HtWvXIicnB82aNYO7uzsWLVqEEydOICkpCXPnzsWPP/6IFi1a4MaNG5g2bRqWLVuG4uJiNG/eHC4uLhBFEZs2bcInn3yC5cuXIyoqCuHh4XB1dUVUVBQmTpyIZs2aYdq0afj555+RmJiI1q1b49dff8WiRYuQmJiIc+fOwcXFBWq1Gl999RXWrl2L69evo7CwEGFhYfe0lb0QGWTj63Q6REdH4/Tp0xg+fDjq169/Txh7ycrKQkREhN3vXtPr9YiMjMTWrVuRm5uL0NBQ1KtXD56entBoNJg+fTp+/fVXXLhwAbt370abNm2g1Wrx2muvYdGiRVi7di2OHz+Ozp07459//sFHH32ExMREnDp1CsXFxWjRogWys7Px/PPPY9WqVdi2bRuaNGmCoKAgxMXF4ZtvvsGtW7ewe/dufPLJJ4iLi0NwcDB+++03fPjhhzh58iSCgoLkD7jFxsZi4cKFmDVrFrZu3Qo/Pz+EhYUhIyMDs2bNQnZ2Nnbv3o0vv/wSf/31F1q2bIm4uDjMnj0bJ06cwMmTJ5GZmYmOHTvi999/x0cffYTk5GRcuXIFoaGhcHNzu6eNKotAvXtNkiQMGDCgWt69dl+MTufOne9ZyrONSBr2/Pnz2LVrF5o2bYp27drB1dUVjRs3RrNmzRAYGAhRFLFu3TqcOXMGrVu3hq+vrzyzJHc8kdmvIAg4duwYvv32W/Tv3x8BAQHySxrLyspgMBjklwUShafT6QDTBWB65kr86JkSKTfJm+zNk7qSsoimu3JAza7j4uKwdOlS+Pn5yV8ahOkiumjabmFfH+RoqtLowPTCT2J0yCvhWVg3lUqFVq1aoV69evjjjz9w4sQJnDhxAgEBAWjUqBGcnZ3h5uaGy5cv48UXX8TIkSNRXFyMTZs2oVmzZhg7diyysrJw9uxZdO/eHQEBAbh+/TpatWqFd955B2FhYdiwYQOys7MxYsQING3aFAcOHEBJSQkOHjyIlStX4sSJE/Dw8MBzzz2H6OhobN26FYWFhRgyZIi8FfTYY4/B29sbf/31F65fv47HH38c7du3R3R0NBITE6FWq/G///0Pp0+fRmZmJp5//nl4e3tj//796NChA1q0aIGMjAyUlpZi5syZaNKkCeLi4pCfn48BAwbg3LlzSE9Px4ABAyBRX06tDGxbkxd+njx5EiNHjnTICz+zsrKwe/dueHl53WN0zClPQRBQt25dtGjRAhcuXEBERAT27t2LkpISNG7cGO7u7vDz88Ply5cRFhaG1157Dd26dcPq1auRk5ODMWPGIDQ0FP/88w9CQkLQrVs3GEyft549ezYeffRRFBYWYubMmXjttdfQvXt3SJKErVu3wtnZGT/88AN27tyJtLQ0hIeHIyQkBL/99hvi4uLQuHFjhIeHIzo6GoWFhejXrx8uX76MQ4cOITAwEE899RSKi4tx4sQJGI1G/PXXX/j1118RHR2NTp06oV+/fti7dy/c3NzQtWtXaLVaxMfHY+LEiXj66aflFe+wYcOgUqmwY8cO9OvXr9wLfZXarCLQRqc6X/h5X4xO165d72k49py4iaKIhIQE/Pvvv7hy5QoCAwPlGY9Wq8WKFSuwaNEiXLp0SZ59ODs746uvvsJPP/2ErVu3IiIiAm3atMH58+cxb948xMTE4MqVKygqKkJoaCgKCgowefJk/Pbbb9i8eTM8PDzQoEED3LhxA/PmzUNmZibOnz+PWbNmYe/evQgODsb+/fsxe/Zs7NmzB15eXggNDYXRaERqaiqWL1+OH374ATt27EBBQQFat26Nmzdv4pdffsGZM2eQnJyMb775Bn/++Se8vb1RVFSERYsWISIiAgkJCcjMzERoaCiOHDmC+fPnIz4+HufOnUPDhg3h7e3NNpPDqGqjQ7ZEyVumiWG3NpicnZ3RqlUrdO3aFaIoYs+ePbh48SL8/PzkT0IfO3YMTz75JPr16wdPT0/5Ld+JiYnYtGkT1Go1Bg0ahLp16+LcuXNo1KgRXn75ZWRlZWH16tU4ePAgUlJScO7cOcTFxcHLywv9+/dHamoqgoKC8Morr6Bv3764ceMG0tLSMG7cODz22GMoLCzEgQMH8Oyzz8LX1xcfffQRjh8/juTkZJw7dw4JCQnIysrCK6+8ArVajRMnTuDTTz/F4MGDodVqsXv3bvTs2RNt27bF1atXkZaWhs8++wyCIODEiRM4c+YMnn76aXTq1AkdOnRAYGCg2XayFcHMVhL9lmlHGZ2bN29iz5498PDwuMfoQKHPyblKpUJQUBC6deuGxo0b48yZMzh48CDKysrQsmVLNGnSBMeOHUO9evXw0ksvoU6dOvDx8UGXLl3g6uqKzZs3Iz4+HuHh4ejVqxdu3bqFY8eO4ZNPPoG/vz/279+PlStXIi0tDVFRUYiLi0NGRgbCw8PRqFEjJCUl4ZlnnsHo0aPh7++Ps2fPIiQkBOPHj0fDhg0RHR0NnU6HIUOGICIiAr/88gsuXbqE2NhYXLx4EbGxsejSpQs6d+6M8+fPo0ePHhg3bhy6deuGXbt2wdXVFQMGDIDBYMDJkycxevRodOnSBTdv3sSSJUvQv39/tG/fHt26dUNoaCicnZ0BC6vUiiDcp5VO5adLFUQys1dOII3aunVrTJs2DV27dsXWrVvx+uuvY/bs2UhKSoIkSRg4cKD8Gejx48ejXbt22L9/P3JycjBixAgMHToUiYmJOHToEEJCQjB48GB4eXlh7NixePzxx1FcXIyPP/4YTz31FCZMmIAePXrghx9+wL59+zB79mxs2LABS5cuhU6nwyuvvILTp0/j008/xZ07dzBixAgYDAasXbsWgiAgMzMTu3btgpeXF8aNG4eOHTvin3/+wbp167BlyxYsW7YMP/74I65evYqXXnoJRqMRe/fulT9W16RJEwwePBjDhw9HYWEh4uPj8eSTT6Jp06Y4dOgQ0tLS2GaqNVjqa0vodDosXboULi4u6N+/P6ZNm4Z58+YhJycHv//+OwTTR/jIChKm6yTnzp3D119/jfz8fDz//PMQqNfVk+soML16PzAwEK+88gree+89fPzxx1i3bh3effdd9OnTB0FBQfIH+VxcXODl5QVfX1/5s+bOzs5Qq9XyNZvz58/jrbfewv/+9z988skn+Pnnn/Hdd9+hUaNGaN++PdRqNdq1awcPDw84OTnJq3ByfUEw3dzg5eWFZs2aISsrC1OmTMH8+fNx7do1uY6VoaJ9URHMrWYIbFmIXti/fz+uXLmCdu3a4eWXX8bKlSvRpUsX/P3337h+/bocjhhLybTDsHTpUmzatAlDhgyBr6+vnCa9MiwpKUFOTg4GDhyIqVOnyjK1cuVKDBo0CO3atYOPjw/CwsJQt25daDQa+Pv7IzAwEA0bNoRKpSr3GYRbt26hcePGmDZtGj744AN8/fXXWLduHZ555hmEhIQgICAAYWFhCAwMhLOzMyTqAWK6ziqVCqGhoQgJCcGcOXPw7rvv4siRIygtLZV3RCoLm4Zg4bplVXFfjA67JWUOyfT10M6dO2PmzJn47rvvEBgYiOXLl+O7775DQkICQkNDZeEIDw9HgwYN8Pjjj+OTTz5By5YtceDAAVy7dg23b99G3bp10bJlS2g0GrRv3x4hISG4cOECjh49ikWLFsmfMb5y5QrS09Px7LPPIiwsDEOGDMGwYcPQp08ftGvXTv4QW//+/dG4cWP5LrobN25gzZo1+Omnn7BgwQJs2rQJkZGRuHLlCvr06YOOHTuiW7duGDlyJAYNGoTGjRvj1q1bcHZ2lq8xtWjRAu3atYNGo8HRo0dRUFCAbt26YebMmWjdurXcLrUVe5WmXq/Hn3/+icLCQgimtzD3798fgwYNwuXLl8ttd4IyOJs2bcIzzzyDUaNGoUmTJjBSH/JSURf63dzcUFRUhLp166J3797o27cvevbsibCwMAjMi2L1er0suyQtsk3q5OQESZIQEBAAFxcXhIeHo2fPnujbt6/8MTSBunGBpKNWq+XtU1I2spXavXt3fP/995gwYQLS0tKwfPlynD592tQyjoWWKaKIHIWltJTyEgRBXn0YDAZ4enqiQ4cOGDlyJCRJQmFhISTqq7nkbrZp06YhICAA48aNQ+/eveHh4SHrGDLRIH3q7u6OwsJChIeHo2/fvujduze6du0qb88LJuNP+oX0n5F6xRExZB4eHvLqukePHujfvz969+4trxTZNMgkCUzb6HQ6uLu746uvvsLChQsREhKCTZs2YfPmzbL8k8ORODo9a9wXowMbKypJEiIjI7Fnzx4EBwfj+eefx4oVKzB27FgcOXIEFy5cAEydJVDPN5SVleGjjz7CrFmz8Pzzz6NVq1aAaaCTMJLp1tWsrCw88cQTWLhwIVasWIGNGzfiwIEDePnll9GyZUu4u7ujYcOG8Pf3h8FggI+PD+rWrStvD9EKr6ioCFqtFkuWLMGKFSvw22+/4ejRo5gyZQrq1q2L+vXrIzAwEMHBwXBxcZGFlgwGWgBDQ0PRpk0bLFiwAE8++STWrl2L27dvAza2XU2jomWWJAmZmZl45513UFRUBADIzc3FhQsX0K9fP6hUKuh0OqhUKhQUFCA2Nhbnzp1DWlqa/HnpGzduyDNTouwNBgMuXryIkpISeHl5YfPmzTh16hQkScLt27cRERFhcWVJrvERo6HX66FWqzFixAjMmzcPly5dgsFgQH5+PtatW4eioiJZRkm/EwWiMr1yX6fTQa/XIzMzE9u2bcPBgweRmJiIF198Ee+//z4aN25c7u4rR0OXizUEFcVSvxM/OgzJV6/XY9GiRdi7d6/sd/LkSfkT4MQ4GwwGxMbG4vz584iPj4dWq0XdunWRkZEhXw8VBAFOTk4QBAF3797FiRMn0Lx5c1y4cAFLly6FZFolXblyBfv27ZNXrTC1CVmVkDxhet6HhGvRogWysrKwceNGuX/27NmDqKioe+ovmIwQkQXir9PpsHv3bhw7dgxbt25F06ZNMWPGDDz++OPQ6XQO6w9LsGWtKu6b0bEFlUqFlJQUXLhwQZ6pNmjQAMOGDUODBg1kJUzPFgVBwBdffIHGjRvj888/R79+/eDq6irPXuhlsSAI8PDwwI0bN9C0adNy31738vKS7yAi6Wq1WgimGS9Bq9XK/zUaDXx9feHk5ISmTZuidevWCAsLQ/369eX8aWETRVGOLzAGzNnZGZ9++ikiIiIwatQoREREYMWKFUhPT5fzq01UdNBotVqMHj0aw4cPR+/evdG0aVOMHDkSnTp1wkcffQQA8PHxgbu7O3744Qf5on6HDh0wbtw4PPXUUzh69ChiY2Mxc+ZMJCcno0GDBliyZAlWr16NBg0a4K233oKfnx9efPFFhIWFYdCgQRBFEd9++y1Wr16NjRs3YsaMGZg8eTKWLFmCffv2YezYsZg3bx6+/PJLxMXFYdSoUTh37hzefPNN9OzZE6+++ipatGiBgQMHoqSkBP/88w9effVV5OXlYfTo0Vi8eDHGjh2LCxcu4OOPP8bff/+N1q1b4+zZs3j33Xfh6emJ4uJibNy4EW3atMFnn32Ghg0bokePHhVuy/uFpfKyfmRcdOnSBW+//TY2b96MsLAwhIWF4cqVK/jwww/RunVrqFQqNGvWDLt27cLChQvh4+ODd955B3/++Sf69OmDWbNmobCwEN988w1WrFiBZs2aIS8vD6+88goEQUDbtm3x2Wef4auvvkLjxo3Rtm1bLFy4EAaDAf/9738RGRmJuXPnYvr06ZgyZQr++usvLF68GG+++aa8I7Jx40ZMmzYNLVq0wEsvvYSDBw+ic+fOCA0Nxfbt23H9+nXMmDEDBw8exNy5czF//nw899xz2LdvH3755RcsWrQIWq0WKpUKEydOxK1bt6BWq5GdnY0+ffpgwIABuHr1KgYOHAh3d3e5rdg2q20IUjXUQK/XIyIiAtOnT8fbb7+NCRMmlHtWgRgBJdasWYMff/wRr7/+OsaNGwcAWLJkCfbu3YvJkyfjiSeewMyZM5Gamornn38eQUFBmDp1Kpo2bYpp06YhPz8fkydPxqBBg/DWW2/hzJkzeO2117B582bcunULDRo0wIQJEzBw4EDMmTMHAJCSkoKEhATUr18fH3/8MZ599lm8+eabuHXrFj777DN4enpi5syZKCgowLJly+SHDRMSEjBv3jyo1Wp8/fXXCAwMxKlTp3D79m20b98es2fPhkajwRdffAE/Pz9MnToVOTk5+OSTT5Cbm4tPP/0UY8aMQf369aFWq5GQkIAhQ4bAx8cHS5YsAQCMHz/eIRd4lTh9+jQmT56MDh064Oeff2a9K4UkSRg5ciRu3ryJRYsWoUOHDhCYGwnMkZ+fDycnJ2RnZ8vbEuTCsWT6DPGdO3fkVYubmxvy8vJQUFAArVYLjUYDo+lz0p6enjAajcjJyYGPjw+8vb2hVquRk5ODgoICeWLi5+eHoqIieXXl7u4OlUqF0tJS6PV6aLVaeWvOYHrY09/fH66ursjJyUFhYaE8qSDlvHv3rlwOLy8v5Ofnw2AwQKvVwtvbW64jmbwYjUY5jCRJ8Pb2dsiNJEptLkkSSktLsWzZMixduhS///67/ABuZTh79iymTp2KoKAgrF+/nvVWLAtM111UKhVyc3NRVlYGSZLg5uYGX19faExvFcjLy0N+fj5UKhUCAwNRVlaGO3fuwGAwwMXFRV6Nenl5wdPTU37mx9/fHy4uLigtLcXNmzchmrZoyTYZkTONRgNnZ2cYDAaUlZVBrVbLeZeWlkKSJHh6esLHxwcGgwG5ubny3a4eHh7w8PBAQUEBCgsLodVq4e7ujuLiYjmMl5cXPDw8kJubK++iODs7o6SkBHfv3gVM27ZkvJtrK3sgaZDfhIQEzJ49GwaDAV999RVCQ0PZKA6nWoyOwWDArl278PHHH+Ott97Ca6+9Bo1GY7YRaffIyEjExcUhPT0dEREREEUR9erVw3/+8x8MGjQIrq6uWL9+PVasWIE6depg2rRpiI+Px5o1a1BcXIywsDCkpaUhLy8P48aNQ79+/TBu3Di4ubnhf//7HwYMGIDo6GhMmzZNvhc+LCwM//3vf/H1118jNjYWdevWxfDhw5GSkoL9+/fD2dkZjz76KIKDg7Fu3TqUlJRg6NCh+OyzzxAfH4/FixcjLS0NKpUKrVu3xpAhQ3Du3DmsXbtW3oKRJAl//vkn9Ho9XnjhBTz//PP45ZdfcP78eUycOBGdOnXCqVOnsGfPHuTl5SE4OBjvvfceunbtCrXpNm9HQLpfEAScOnUK7777Ljp16oRly5axQSuFKIoYMWIEMjMzsWTJEruMDhuGPWfdJOrCrLkwSrAD0h5IO5K4dFmU0jLnbg26vyqKUt5SFRmdM2fOYPr06ahXr55Fo8P+sphzh0Ia5vzAbG+xYQlK6VQUc2nR7kph2HKjkn1OYPMiRsdoNGL27NnlngOrKqrN6ERERGDatGl4++23MX78+HIrHbYx6YYpKytDWVkZioqKkJubCwBwdXVFYGAg3N3dAdNMODMzExqNBkFBQTAajcjKykJpaSlcXV0B055pQEAAPD09cePGDej1ejRs2BCenp7Q6XRISUmB0fSMDpld3LhxQ57FknDk6WdnZ2c4Ozvjzp07gGlm07BhQxgMBty8eRNFRUUQRREeHh7w8/NDbm6ufAHU09MTKtM1CIPBgDp16sDPzw937txBfn4+/P394ebmhpKSEty5cwdlZWXw9PSUbwevKs6cOYPJkyejXbt2Dl3pkP4cMWIEbt68iR9//BEdOnQo52cL9oYFI1vWlA1BKR/ajcyMzSkOOh+lcrDhlf5LZgynI2DrR/IqKytzuNGJiYnB1KlTUb9+faxfv/6evC3Btp21uKTdoXCdiLQp+2suLPlPsJQvCUfi2hLWXBgiWwRrdbYXNj1idHQ6HebOnVstKx1IVYwoilJZWZm0c+dOqW3bttKyZcsko9F4Txj6PzkXRfGesDRGo7FcXIKSG8FoNMpHRbCUtqXyWoonMfW2hLn0KwqdZ1RUlNSjRw9p4sSJNpXFHkRRlIYPHy49+uij0tmzZ8u5K/1Xwpq/LbD5WUpTyU8pDnGj+4a4mQur5E4g6bBhCObcbUUpviiKUnFxsbRgwQIpJCREioqKUgxnL9HR0VL//v2lMWPGlHMnaSvlwbYP+9/SOQs91s2FY9OzBMmPztdaHCXM5WkuTfa8spD04uPjpTFjxkgjRoyQkpOT2WBVguOnUQqoTLeoEisvMrfN0paXnikIVl5CqKJepUOj5EZQme4UYmc3jsJceS2VCUy9LWEu/YpC5yk66FkAFjK7UpnuBCJ3A0Gh72kk5vkB1t8W6FkoFPKzlKYlGaHLRtIhfcO60xA3JXcCSYcNQzDn7iiUyldR6Poq9aVSPmz+7H9L5yxkvMNMXlBI3xJ0fSzVwRokDitXSmnSMsyGryhKZSZuRD87Ki8Wx2owM0imWxIFatuAuFvC1rCW/MyhJGi25KXUWQRLfrZiKW9QbWItXEWgDZoj6kIg/U6EmdwMACv1pQd2RVEaxBWB1IGF7g/i74hy3w/oSQfdR5WFtE1tbBMapf6vLLbICgljS1hrkDrQdWEn4ZXNwxrVYnRIJYjgkZmutcrRjWwprCU/e7Alr6rGlrwdIXyWcPRqCky9zP2v6ZB2t3TUVgTqeSFH1uNBaBuaqprwVRekH8gv0cXmdh+qAsdrFxuwZxalZJkriiPScASWymGtvkQgzPnbAxlA5DAajZAsfBOkstBld0T5ORWDVip0f4umZ91EB75c1pI81TYZeNAMKEw3eZFby6t6W41QbUaH3u+mr+8QWAXIFZNlqkLwiaKpipUOTEqNTDh439YMaCWqot7/5mj5UkpPyY1TvdCG1Nq1L0dR5bdME+Oxa9cuTJ8+HZMmTcK4cePkd1U5qoKkGo5KzxbYpqvOvKuCM2fO4J133kHHjh0d/pwOAIwYMQLXr1/HrFmz7nmPnGC6ZlIRg0fkiO0PAvGrSP/QaZL4dFr0bbrEj1bedDzib42KlNMW6HYi5aT/FxcXY/369Vi9ejU2bdqE8PDwSpclJiYGH3zwAYKCgrBu3TqgCut3v6iobDkaun9pWYWCDJJwiYmJ+PzzzyFJEubMmYOwsDDFdBxJlRsdMM/p/Oc//8HLL78sr3bIE9oC9dCWJcwVVykeaTj6Pz3oiDsb1hJsPBpb0zAXjnVX6nTiT68cKwMd//z585g+fTrCw8OrxOiMHTsWR48eRcuWLcu9jJFGyc0adL8qQfd9RaHj0//J9oRKpYJWq4Wo8AwPjbky0ijFcwQSs3sgmGa4pMwGgwE3btxATk4Otm/fjvbt21ttV2ucO3cO77//Pry9vbFgwQLFOObSry7M9RUoP8H0sk+9Xg+NRiPvCliKW51YKgPRFfSNIiR8UlISFi9eDCcnJ8ydOxchISEW03IE1WJ0dDod9u7dizfffBMtW7ZEu3btoNVq5TvaBGppR64r0MJuSyPYEoZufCXYAUnnT5eP7HmbazpbylJRaCEnM2ryHxbqxgoe27aSJCE7OxtHjx7F4MGDHW50RFHE4sWLcf78eej1erk8dDuydaHjWoNuCxbix6ZrDrbvCaTtiZERTB//i4yMhLu7u/yRQVIOum2rUiZsQaJWNuQczMOIpNxOTk6YPn26/KBgZeQ8NjYW06dPx+XLl9G+fXsYTO8dJGOK5G+u76oD0j9K5aDbJi8vD1lZWfKD2uZkSsmtOqDLrlQXFpVKhbt37+LatWvo2bMnvvjiCzRq1KjKy18tRsdgMODEiROYMmUKysrKoKK+R0EbGVgQZEtKnsZcQ9vakHR8VhjVajXKysqQkZEBJycn+euXKpUKRuqV57Ci6MyV0ZGYy5d1Z+ur1WrxzDPPYMaMGeXeGlEZSDuSt+WSfqf91NTr3qsCUm/aEBAEysiIVj67QcpJ0svNzZU/eLZgwQL4+fnJYdk8aiJKZVSr1XBxcbHYDrZy9epV/P7774iLi5PbjMiApT6pTkg9aTkg7qAmnTdv3sSZM2cQFBSEjh07lis3qUt1jG17YftRRW2rkjp269YNo0ePRmBgoNl4jqJajI4thbclTHVDCx0hOTkZr7/+OoKCgvDTTz/Jb7Bm46AGKxpLkPLTA8kRKLVlTYGus2BayRCDS5QIKTddfkmSkJ+fj2effRYNGzbE999/D39//3LKiCiymlhvJRzZT6TeZLJT0XZwhIqylK+lOtN5Hzx4EB9//DF69+6N+fPn31O/2gbdLzDVvzrqUrWpm6AHIf1LsDY7YMNXF4LCXTwq06oGptfus3Ujcdh4NJLCXXr0cT8hZa8KwbPUJvcTts5kVU2UCik3W37BZFDILadKslDbcFSZSbuQtiBtqSTfrPyzBz2m6IOOX1ks1ZvUheTLTkSqYqxUNRKz0iR1sdQOjqJaW8tchcy51zQk08e/yOChv6tjD+zgYY/7AT3IqwJz9aqq/CqCJQVnrvwwGSn6relsWPa8tlDZviGfAbCmlNl2Zg9zEH8V9a0qc4clLPmT9En/SqYt6AcFto8ttYWjsCwNDsSSQiMVpRUfe1jDWhhr/rAxDN0p9GCyp7PYurHH/cDWAVoR2DqRc9ZdCVvDWDscgbk0jUZjuVk9594xTc6rQr6sYa1frPmDkVm2/9nz2gLdL6x7VVJtRoeunFJFaaXHHtZmSjCTJo01f9gQhh449GEvbHz2eNBg68S2oyWs+cOG9rQlDdiQl7k0K/tQLa3IlI6KwKbBplfRdO2FbStzsGVky2sJNjx7OAJSB7XpS8Ksny11rC1UdV0qNkoqSFVXprogguwogX6YoBWBo9uPVTaOVDqWqO78HIGlsWjJr6JYaxfWoLOKnG1j+mDjKB1sHKXDWj6ssSFxaiNsu1Qn1Wp0LMF2MHvUBCRJkh9kZctkaznZeikdDwu0UqkskgXlU5UopW9vH7LlZY+KwKZRkfQEK8raHuzJl4bEY+tgb33YOPRBrglZC0dWtHQ4jv3UGKPDdjB7wIrCthU2nj1pCKbbadkyET/ByiClw1qCjaN02AIbhz3uB2y7Ediy2VtOa21fVUhmbh54UGDHIX3YQ1X2QXUhmMb/g0RF+rKy1BijYwus0FdkALDx7E2DVWJsPDZNpcPWcJYOW2DjsMf9Qil/tmwVKScbryJp2Au75QIFmeCYb5PaZIzIioi9dkfqUJvqcj+pVUanJiBQ9+lzOPTDdbCgXDnK1Kb2Eql3Q3IDU3G40bGTqp45czicmgm9lcp1QMXhRsdO2O01DofD4dgONzocDofDqTa40bETssTmcDgPJ3yno3Jwo2Mn3OBwLEG2X5UOTu1HUnhIlGMf3OhUEK5EOJyHDzLu+fivONzoVBC+4uGw0Hc2KR2cBxPSt7yPbYMbnQrCZzocDodjP9zoVABicPjMhsN5eCA3EbEPBHPsgxsdDofD4VQb3OhUAj7b4VTHN+U5nAcJPlrshF8U5nAeXvhEs/Jwo2Mn5JkLgb/4k2OCX+N7OCDXcoxGI1/dVgLecnaiUqnMvuKc83BAz3bVavU9z27Qv3RYPkuumdjaL/Tt75LpIVE+8bQfrjUVIMqCVhrsL/2ac87DBy0PZPLBKiB6K1aqZa9PslURPwjY0i+SJEGv15ebbJIJKMc+eIspQM9oWIGk3R+0rwhybIeWC2JsyAwYCpMUVo44NQ+2z+hfQRCg1WphMBjk8c8aZnbSwVFGPXPmzJms48OO0qyUnOfm5mLnzp1wdXXFCy+8ALVaXS4sLZScBwuiVC5duoRz584hISEBCQkJ2LVrFwCgTp06uHHjBq5evYri4mL4+vpCo9GUi1+b5KI2lbWykL6hx25hYSHOnz+PS5cuIT4+HmfPnkVkZCTUajW8vLxw5coVpKSkwMnJCd7e3sBD1mYVRZBYc81RhBiipKQkTJw4EcHBwViyZAk8PDwUjRTnwcNgMECj0WDr1q1Yvnw5cnNzodPpkJSUBEEQ0LRpU6hUKmi1Wnz++efo27cvXF1d2WRqBQ+bTCvVNz8/H5s2bcLy5cthNBpRWlqKlJQUeHh4oEmTJhBFEa1bt8a4cePQp0+fe+JzlOFGxwqFhYU4cOAAduzYAVEUUVRUhMOHD8PDwwN9+vSBRqNBnTp18NRTT6FPnz6Kwst5sLhy5QrGjBmD8+fPQ6/XA9TWmiAI6NSpEzZs2IAWLVrc41dbqG3ldQS0KhQEATqdDocOHcJbb72Fq1evym1Cwjk7O2Ps2LH48ssvERQURKXEsQS/pmMFjUYDZ2dnbNq0Cb/++is2b96MrKwsXL16FWvXrsXy5ctx+PBheHp63rPHy3mwIP3btGlTvPDCC6hTp849foIgYPz48QgODpbP6V9OzUVgtte0Wi3atm2LoUOH3jO2BUFASEgIHnvsMdngsGE4ynCjYwUXFxe0b98ezzzzDMAIliRJCAgIQP/+/dGqVauHcnb4MCIIAkaMGIGwsDBotVrZXa1Wo3379hg8eDCcnZ25LNRyBEFAvXr18OSTTyI0NBSgxr+zszN69uyJfv36MbE41qgRRqcmzxBEUYSvry/Gjx8PT0/PcjMhAAgJCcHw4cPh4uLCXwT4gEOvWsLCwvD0008jICCgXJjXX38d9evXh1qtLueOGi7nNR1J4aN45HAkbHoqlQpt2rTBs88+W27cN2nSBAMGDCi3rcYnGbZRI4xOTYWsXJydndGuXTs8+eSTEKg93Tp16mDgwIFo27btPfE4Dy6kf4cPHy6vdsgqZ8iQIXB2dmaj1DqqS4GyhoM1JuS/UnnsNT5seEsHHadevXoYNGgQWrZsCZhWOd26dUO/fv0gUG8msaUMnBpidJQEqiZAGxgfHx+MGzcOfn5+sl/Lli0xfPhw+bZYEtZSfR4kwXyQ6mIPpH8bNWqEwYMHw9fXF25ubnjttddQt27dcmFolNzuFxXpu4rEsYbA7ByQczL2WD86DP12EFvalk5b6YBpZcPmqVKp0K5dOwwZMgRqtRohISEYNGiQvMohD4jaUgZODTE6hKoQaiXMzWqUIAKl1WrRoUMHPPnkk3BxcYG/vz/69+8vz37I8zls2uxRW7ClrA/zIJMkCWq1Gs899xxatWqF9u3b4/HHH7f6hLot7VpZSB6s7LFyyLqxB0t19zfJjzUClmDroFQPexFFEQEBAejXrx/atm2LRx55BE888US5MGw+7DmBLRt72AIbh46r5FbTqFEPh1oTKEehNMMhD4fRD/DRnWY0GuHi4gIPDw/s3r0bTZs2xfvvv48GDRpAEAR5D9+WOtgSpjqwJJR0GUk4JTfW/WFBMM2A3dzcUFZWhgEDBqBTp05Wn8sRFGbwjoakzcq5vUdVoCRLoB68JcqS9hdFsVw8ci6ZXr7JpkXKrySjdFpgDDR7TZZOQ6PRyA+BtmnTBt27dy9XJnP5EZT82PYmabBxrUHHJfmwKzaSbkXSdzQ2PadjKYgjK8B2DJsv7UbypRuRDU9jrZy2dkZaWhoWLFiAOnXq4L333oOHh0e5p5kfFth+MAcbjj2v7YiiiFu3bsHFxQVeXl4PTL2qCnqcFRQU4ObNmygqKoKo8F0iWlGy7rSBYI0F+S8xBowOp6Q/6LzocGR8G41GFBYWAqbtdhKelIcYQKUyK+VH+9GTXeKmBFs+8p/kT15Aq9FoYDAYIEkStFotfH190aBBA8X8qxubjA6NUqGV3CxBwtMdS6MkgJXBXD40JE9rddHpdEhNTYUkSWjSpIl8PYcVGkvYGq6qsdb1bDmttQ0LPUAEZibH/irFswc2DUdgbjLBlllJvtgwtZGqqAOd5rlz57B06VJERkbK7vRnAyzJQVWUjUDkkj6HKU9SNvLeRbVaLa/SWONXESzViZYza/9VKhUMBgNUKhW8vLwwatQoTJ482axMVydWjY5EzRZIpejGrwjmBIbuPEvQZbIFNhxbZdafwHamYJqRiKIIo9EIZ2dnu8pR27G3riQ8He/o0aNISkqCXq+XDT3xo8OxfWQNe8plC6SvyeAlM0iBUYwkLKknXWfaj56USGa2cmzFWtvQbU7GFEFpbNHlpt00Gg06dOiANm3awMXFpVycyiJJEk6dOoVPP/0UBoMBQ4cOhaura7kJJysPdPlUKpVcN2vtATvbF1Q7kfLQv5Lpeh7rRrd7RVHqHxo6T1B9R+Kp1epyLyK+fv06IiIi8Pjjj2PevHmy+/3EotFhBwWpIEyW3lwj042iopadbGOBEga684g72wF057JCQf6bgy4H3THEnbiRazN0WkTIWHdQ5abTgal9iGCybcTWqypg+4SF7lu6TmzfCYIgK12lcrN1s4QkSfj888/x119/oaSkRJ6J2RrfEo5IwxJ0e9GDnNSf+JNztjzEnZbXqoQuLwspv1IYWn7Lysrw7rvv4o033lB84wZbR1sgaQiCgBMnTmDGjBlo2rQpPv30U3h6epaTBzosmzeNPTJoDmvx6fxJWJHZ3SBtaqms1rBWDljpW5aYmBjMnDkT3bt3x9y5cwEHtVdlsGp06MIdOnQISUlJKCsrAxgFZa4SSgOShRUyGjaupTSU3EEZSDY+ERCiBNj4rKCxZRGoi5q0P5kVs7DhqhK2LixKZaDrRc5VphdYduzYEV27dq2U0pQkCZMmTcLhw4fx3nvvyW9xYNNjy2ZLm1mrb2UhbUP/J2Vi/ytBx7FWH3Np2IqltEH1q7lwgiAgPT0dY8eOxQcffICpU6fCy8urXBtUFlEU5ZVOq1atMGfOHPlNzTS25GmuTW3pF9iQB50uCcv2paX4BGtlsSUda2mASScyMhKffPIJHnnkEdnosGGqG5uNjiRJ+PDDD/Hvv/+Wm43QSohuEFaRVAXsqsMa1VGm2g4xoqTvyWzulVdewYcffghUUGBJnHfeeQcnT57EkiVL0K1bN7vT4VQea/0nSRKSkpLQoUMHTJ06FR988AE8PT3ZYJVCkiScPHkSn3/+OZo1a4Y5c+bAx8ennL89Cp2jzOnTpzFt2jR07doV8+fPZ73vCxaNDstrr72GqKgofPTRR2jWrFk5wwNqhm9HkgA1I7FHuOzNAzbODiqS7oOEQK3gVCoVIiMjsXTpUrzwwguYOXOmxTa0hXfeeQenT5/GkiVL0KVLl0qnx7Efa2NNkiRcu3YNbdq0wdSpU/H+++8rrkIqAzE6M2bMQIsWLfDVV1+Vy8NaGTnmIW0niiKioqLw8ccfo2vXrpg3b17NaFfJDiZOnCiFh4dLly5dYr04Dyh///231LVrV+mzzz6TRFGU3UVRLHduDjbM22+/LXXt2lWKiooq586pPtg+YRFFUUpKSpJcXV2lGTNmSHfv3mWDOITIyEjp8ccfl9555x3pzp075fysldGRkLyITCsdtQlSXqPRKJ08eVJ67LHHpGnTppXzu5/Ytd9EZr/2bmtxai8q0w0SsLJS5DxYVPWKn8y4iT6pCbJFVvlKR22ELrdQg3ZxbDY6ZNtMNN0yXBMgZaopjfkgQgwO28a1eTByag7VrUuU9AVRyKz7g0SN2FYzYbPRIbMSSeFuo/tFbZ+J1HTIIKwp/c15MLF3Fm5P2IeZmqoXLWoT0rn0b1UqeXrlYu9hDTa8uYPz/yHtISnMknh7PZiQvq6uiQYrV9Yg5SOyV1BQgOzsbBgMBrtXTaIoIi8vDxkZGcjOzpYfBWGpzXJOym5vO1clFiVLqaBVqaSV8lNyA7O9Q4dxdJk4fCvtYYR+qr06sMdgEN2TlpaGr7/+GuPGjcP169fveXTDHILpgecbN25g3rx5GDNmDEaNGoXNmzdDp9OxwWs17Lhlz+8HFo0OgS0oufDHulvDnKGi3eg0bflvK6S81g7O/4e0h7l+q04kSYLBYEB2djZu3bplV3nKyspw69YtlJSU2BWvIpSWliItLQ1lZWVyXlWdp6ORFFa2jkZgttTYlZW5/Il7Tk4O5s6di82bNyM+Pr6ckVSKS4wayTcvLw/bt2+Hi4sLfvzxRzz66KM4ePCg3G9KOkmpH9mw1iDhzR2OgK1/TdNtFo0OaQS6QVSmDyfZi1SJrTkSh45rqYOU/JTcOJYh/UUOug1t7UtbwlhDMr3C/tKlS5g8eTI++uijckqdhFEauGVlZYiIiMC0adOwb9++cn5g5IKNaw56Vk7nW1paioMHD2Lw4ME4f/48jEajnKataVcHpC/NtRkJU53Ys9IRBAF16tTBxx9/jLFjx8qfkbcE7S8IAvLy8rB37160adMGbdu2xfTp0zF//nx4eHjIYdh2IWnQfcq6WYMdU+zhSNjysWVkZYAOw4Z1JHZbj4oWRpIkFBQUoKio6J40LDW2Xq9HUVERCgoKIFLvZjOaXjOem5uLvLw8eT+WdJ49eXCsU9HbWtl+YM9tQZIknDt3DiNHjsSePXvsWumcPXsW3377LaKiolBYWHhPHWhZoQeo0i+ByCH5FUwvASVGMTExEQaDoVbdai6ZFA4pa3Vvr1nbGmP7QqvVws/PD+7u7hAtvJqJ9BP5L5kmB1lZWbh27RrKyspw9+5duLi4wNvbG8XFxcjPz0deXh4KCgrkdPR6PQoKClBYWIjCwkLk5+dDr9dTOdVs6L4l0MaOPohfVaHcUxYg7zGzh7KyMly4cAHDhw/HG2+8AYPBUM6fFSianJwcfPrpp5gyZQoyMjLk+/pTUlIwYcIEBAcHo02bNtixY4fifqxSmhzbIXcsOgp7ZQemMnTt2hVHjx7FyJEj4eLiUm4VQcOm3717d/n9XnRdiAIi/+lfAjsA6XCC6WI78VOpVOjcuTPWr18PLy8vqFQqqNXqe9KoKbCKhhykjuSTHTUFUja6jJLJoKjVaosGgO6D4uJi/Pbbbxg2bBji4uIwbtw4dO7cGZcuXUJqaiqmT5+OkJAQBAcHY9CgQUhJSYEoirh8+TKmTJmCoUOHYuTIkejXrx927twpp1vT+pelJpXPZqNDGpa8hdZWJEnC2bNn8dJLL+H8+fPQ6XTlBrwSdAPVq1cPX3/9NZYtW4aGDRsCAG7evInvvvsOvXr1QmJiIgYPHoxLly4hKyur3N4tx3HUhPYkEx6iaAiWZEmknisj13bS0tJw584defKj0+lw9+5d5OTkIDMzU57FFhUV4datW/LdTWRSo9Fo5HSIH0zlI2WTTNegbt26hdTUVGRlZSlOimoapJ8ttWlNgS6rJXmgjYKrqyvGjh2LnTt3okWLFli9ejXi4+NRv359rFy5Er6+vkhISMDRo0cRGhqKcePG4fjx41i1ahV27NgBSZLw2Wef4fjx4xg6dChAbQ2y+XKUsdnooIKNKwgCunTpgk2bNmHgwIFwdna+Z2YgmNljlkwzG2dnZ2i1WtktMTERZWVlqF+/PoKCgvDdd99h6tSpaNiw4T3LbJI2p/ZC+o98foLID+lbWpZo2ZFMz5RpNBqUlZXh+PHjmD59Op599llMmzYNcXFxuHv3Ln7++We8+eabmDx5Mv7zn//gl19+QXJyMrZu3Yq33noLo0ePxvjx43HmzBnodDrEx8dj9OjRGDZsGF588UUMHz4cFy9eLLeyMRgMSEtLw+uvv45Ro0ZhwoQJyMnJkctZ06lpY4YuD93f5rblyDkdFqbw5NPTKtPnxp2cnHD79m0cOnQIAwYMgL+/P9q1a4fXX38dJSUluHDhAsaNG4enn34aHTp0QOfOneHq6iobOjaPmgjbPvcTm40OPbjtaWTJNAvx8PCAVquVDRfxo4WDbFfQR2lpKVJSUpCamirfvXTu3Dmkp6fj+vXrSE5OhiAI8PDwsKtcnNoD6Vej6RtFZCVBZIQOR8uoQE1msrOzUVhYiLfeegtz585FamoqVq9ejb///hv//PMPjhw5gvbt22PFihV44403cOTIEcTFxWHYsGH4+OOPodVqsWjRIly/fh2HDx9GeHg4vvvuO0yePBkFBQU4ceIECgsL5S28vLw8xMTEoFGjRli+fDlWrFiBgICAGjX4baUqx5Wt7cH2NUwGhOgTeqWjFBamvGj9Q/pKr9cjIyMDhYWFEKk7c729veHr64uCggI4OztDo9GUmwDTslaTsbWNqwubjQ7dsPZcZJSYNxiwKxFLDVJaWoqYmBh88sknWLx4MYqKivDvv//i119/xcWLF7F+/Xr8/PPPuHbtmqxgYCVNjn2QQVhRaMUPZqJhD2Tbymg03vMgoGThLiKiQOrVq4dBgwahY8eO6Nu3L3r16oWkpCQ0atQIzz33HHr06IHw8HA0atQILi4uOHnyJHbt2oWVK1fihx9+wM2bN1FcXAyDwYBhw4bh2WefRVZWFnbs2IGsrCyUlpZCMN1QYDAYsHXrVuzcuRMTJkxAy5YtERgYWOOuk9xv2L6CnQpcMk1o6Wt1LLS7wExsiW7SarVwdXWFSqXC2bNnUVhYCEmSUFJSAo1Gg/r169uUfk2D1on2tGtVY5PRoQtPZpv2otFoyu2vgxICcx13+/Zt7N69G/v370d+fj4MBgNeeuklfPDBB+jRowemTp2K2bNno1WrVuXisQ3MnnNsx1zfVBS6L+xJW0V9850cBGuDSxRFaDQa+XBycoKPjw/c3d3h4uICV1dXuLi4yDPn4uJi3LlzB2+88QY2bdqE33//HREREdiwYQNatGiB6OhofPzxx/jnn38wefJk+TMfxPgJgoCTJ08iNjZW/jR3bYIoY7YtSRvb02+WEBQ+p20rkiTh6tWrSE9PR1FREeLi4pCbmytPSJKTk5GUlHTPdTSyW5KUlISSkhIkJSUhLi4OLVq0QK9evfD3339j9+7dOH36NM6cOQNvb2/07t0baWlpuHv3LjIzM3Ht2rVyaRLY9qoJWCqTpHC7tKP7WAmLRocMJDKYYBr8lirCQsIShcFC0laqZP369fHSSy9h0KBBEARBXt66ublBZdqPdXZ2lg2XPeXi2AYtA0p9VBGIsrG3vzQaTbm49ACxNFgkSYJOp5Nvqy8uLsatW7cQEBCA4OBgiKIIg8EAwWQwvLy8EBQUhKSkJOTn58PLywuenp4wGAzQ6/WYNWsW+vTpgzlz5iAsLEyWaxJfo9Hg+++/x3PPPYcVK1YgISFB9qsNEENAtyX93xH1YNM2pwPMUVZWhu+++w7//vsv1Go1Pv30U0RGRsqPUixYsAAzZsxAXl7ePfH279+PuXPnwtnZGWvWrMF7770HPz8/TJs2DR07dsTXX3+N8ePH49ixY1i4cCEMBgN+//13XLp0CdHR0Vi5cmW5NGsyltqUyCR7EL+q4l4roABdAIGanViqEIHEVZluIWUxV0laEEXT8xBkW09J2bDxOY7DXB/Zg1IatsgPQa/XIyEhAbdv30ZeXh6SkpJQWloKmLZhyayX3fqVJEm+hfnSpUuIjY3F1q1bkZ2djUGDBkGr1SI7OxtFRUW4efOm/CzPwIEDcezYMWzbtg2xsbE4f/481q5di4yMDNSpUwepqam4dOkSTp48iby8PNy8eRNJSUlISkqC0WjErVu3MGzYMJSUlOCzzz5DTEwM8vLy7ilfTYXta1ohOQIytulzS5CxTuI4Ozvj559/Rnx8POLi4nDu3Dk89dRTcHJygqenJ5YuXYqNGzciMDCwXD7u7u4YPXo0IiMjERcXhwsXLiAiIgIA0KBBA8ybNw8xMTG4ePEiNm7ciICAADRt2hQ///wz4uLicOnSJcyePVtOD3Y+2Ho/sWe8VSU2GR0aa8JhDsG0361Wq8t1Ers3TyD5kNmtWq2W98TJOb3NUlMa9EGDnsU7AqI46Du9bCE3NxczZ87ElStX5Ge3rl+/DgBIS0vDe++9hxUrVgAKk5Lu3btj6tSpSE1Nxcsvv4wdO3Zg1KhReOaZZ7B79278888/SEtLw+bNm3Hu3DlIkoRnnnkGEyZMwI4dOzB27Fj897//RUBAAPz9/TFx4kTcuHEDU6dOxZYtWxASEoIjR45g+vTpWLhwIRo0aIDly5cjLi4OQUFBSE9Px5QpU/DPP//Uyus6VaVUieEh25rWoOVFYLbm2NWmki4hk1clyO3zpH/Ijg4Jz8qqaLpUIFTjy1HtRVK42aZGwH7VjYX+0tyECROk8PBw6eLFi/f4WaK0tFT6999/paeeekp68sknpejoaKmwsFCSJEm6ffu2FBMTIyUlJbHRpJKSEunAgQPSoEGDpOeff166cOGClJycLM2bN0/q37+/NG/ePCkxMVHS6XRsVI4DEEVR+vfff6XOnTtLn332GettM/TXF8mXQ8+cOcMGs4goipJOp5P0er1kNBolURQlo9Eo+xF3FvoriiUlJZJer5f0er0cn8QlbjR6vV7S6XSyfOn1+nJ+JE+dTicZjUb5f0lJiewmSZJUVlZmNo+aBmmX5ORk+cuh7Fc9HcWJEyekxx9/XHr77bet5qHUbkpuBFrmHE1Vpu1IRFGUTp06JfXv31+aPn06633fqBYTnZOTg5UrV0Kv10MURaxbtw63b98GAGRnZ2PZsmXYs2dPuVmIJEm4c+cOzp49C4PBgNLSUkRGRmLfvn04ePAgnJyccOjQIfz777+16vkHjv2QGZtWqy232iXQK186Dh1OFEW4uLjINxPQs0CNRiOvvMjqSDKtxrRarXyLLJ02SYfEJ/lotVq4uLhAq9VCMM3GnZycoDHdSFPjZp33EaXViCXovgEVh3UnfqQ/leLbsrIyB0lbCaWy1ARqUnmqxeg0aNAA69atw7Zt27B161Z89dVXqF+/PgCgadOm+OGHHzB+/PhyQgQAQUFBmDRpErZv347Nmzfj1VdfxauvvoqtW7diy5Yt+PPPPzFx4kQEBQWVy4/jGEh/mBtg1QWbPzEutJFhw7Dn7LYW2T4h0HWlDxpyTZKNZy68wGy9ODk5lfOvLbD1chR0m1VGKZprfxZLfeUIpBp8M1NNKpfdRkew8y4Tsvfp6uoKV1dXuLm5wdXVVZ5tqtVquLq6lntwlAiFwWCAk5MT3N3d4e7uDicnJzg5OcHFxQXu7u5wdXWFs7MzmyXHQdjTz/cDUj52NstCzzyV/K1h7rojizkFyp7XFmhFRbfh/YLoBaW+tHS9BjaW35w/666UP01VGbXKYK6s9wO7jY69hbd0sZ/tHLaj6G0LuqMtxeE4lspsQzgaJfmxRR5YOSPQMmVJKSnFNQebBlu+2gRdl5pUB7bfJeq5IrYfbSk3CW8uLO1urT/Z/r+f0O1Tk7Db6FQG0mFKjWCtgYg/2+HmwlcnNaEMVQHb1vcbup0l0758ZcvIKikaNj9LedGKy1I4WyBlsqVcVU1VTzpsrQutH0icU6dOYdeuXfjnn3+QnJwMvV5vVr9AwXhYguSj0+mQkpKCM2fO3PM5a5JeRkYGYmJikJ6eDkEQcPv2bZw8edLsQ6SwIX9HUV352IPdRofuOHsHlznDQaMkGPQvubWRDVNZiJDRQs3+moMeEBzHQbenaPpmCukfwc5bVel4BGvySOdPlJklpabkbi5tSwhWrjuYc3c0SvVxJGx/WIKUhbRLTEwM1q9fj59++gkzZ87Et99+iytXrkCn092zs0L6nv6vdD2Q7W+j0YjY2FjMmjULn376KXJzc+8pryRJuH79OrZt24arV68iLy8Pmzdvxrhx4/D333+XC0ug8zH331FYknHSFuxB/KoK20etmYFrCYm5S4S8+p1UiFzvIdCdT1eadifXgoi/YLr2wzYSe24NpYFurp5s+ThVT0lJCXbu3Ik///xTfq6GoNQXrBvbtzCFofud9aef/VD6paHjnzx5EpGRkfI7vNiyWIPEUVpl2JtWZRAYw65U78pib30kSUJubi6OHDmC119/HX/99Re+/fZbHD58GH/88QcKCwvlcHR/CcyWnFLbGqlvNBHddP36dfnt4qz+gint7t27Y+bMmejTpw8yMzNx/vx53LlzR86D1XmkLISKyIgtkDRJndk8SLuwBx2nKrDL6NgLEVrS6OS2VlIhcr2HNDrdSHSl2cYj/8mrS9gHDdnGZc9thZSJTpsIDXEjabPhHhTsWU04GrqNd+/ejb/++gu//fYbFixYgFWrViE9PV1ufyUlQqMkA+b6i6RFyyQ5t+RO/p86dQpRUVHQ6XSKsqx0EKzVAwppPAzQbVhWVobhw4ejefPmUKlU6NevH5o3b4709PRyW2BKbUTGL9FLNLQeUalUcHJyQp8+fTB27Fg5DtFXBDo9SZLQsmVLjB49Gs2bN5cfhKfHEPnPpkP+V1V/SjVIP1WJRmEbrqCgAOvWrcOaNWuwbdu2crNU2vKzDS8IAgoLCxEVFYWjR4+iqKhIdi8qKsLRo0exZs0a/P7770hOTpbTZAe6vY1NwguCgLKyMkRGRmLXrl33CBAbluNYJNN2amZmJuLi4rBw4UKsXr0aI0eOxNatW3Hw4EF5MLH9QpCoaz9KK2LyPjUaVhnBFI7IKN3XBQUFiIuLQ0lJiZzP5MmTMXnyZPj6+ioqKMG0dUP+0+kRZUTXid1SJnHZujiCmirPtH6oX78+GjZsWO75qbp16yIgIMCsHJD6lJSU4O+//8bKlSuxbds25Obm4ujRo1i9ejU2bdqEpKQk3L17F4cPH8amTZsQHx8v50veWvH777/jzJkzgKm/EhISsHfvXnkSRN40Lpm28SRJQnp6Onbs2IG1a9fijz/+QFZWVrn+r+p2r6p0K4JyD9mIOaGnK1hUVIQdO3YgMjIS+/fvx08//YRVq1bJhoe2/HTDk7RF0xtjL1++LL9rS6fTISIiAtu3b8f+/fsxf/587Nq1C/n5+YCFclmCFmpCSUkJDh48iE8//RRz584tJ9Bs2AeVmvCusKKiIrz55pvw8vKCl5cX+vTpg8DAQKSkpABmjAQtS6TflN79Rx7yBNWnaoXv9Wg0Gjkd4mcwGHD8+HFs3boVd+7cKSf3JC1aTohcS6ZtYgJdfqKoaMiWMjFaJC4bzlEotWdNgO4Pci5JEvLz82E0GtG3b194eXmVC0vCkz4rKyvD6dOnsXTpUixfvhxFRUWIj4/HihUrMHPmTGRmZspG5/fff8fNmzchSRKysrKwbds27N27F8uXL8fq1atRUFCAK1euYOHChZg1axZiYmLkMtHlTE9Px+HDh3HkyBEcOXIEy5Ytw5YtW5Cbm6uod6qC6sjDVqpGak2Iooj09HSkpaXhu+++w+LFi/HMM89g27ZtOH78uBxGqUFIp3l4eGD06NGYMGEC/P39AQA3btzAv//+iw4dOuCnn37Cm2++iTp16pgdLLZ0LBEWUB2k0+lw7do1+e0J1iD50HlZy7emQw+e6oYo2GbNmsHPz09WshqNBgEBAfLM1pzypfvi6tWrWLduHVasWIEtW7bgxo0bgEn+Ll++jN9++w2rV6/G+vXrkZqaKtc7JiYGhw4dwvnz57FlyxYsX74cMTExKC0txb59+7Bo0SLs378fv//+O1JSUiCKIrZv347IyEiUlZWhuLgYu3fvxtmzZ3H+/HksX74cGzdulD9zvWbNGvzxxx9ITExEbm4uduzYgdWrV+PMmTPy2EhJScHy5cuxatUq7Nq1Czk5OXK9qqJ/zLXn/YYdS8QIHz16FE2bNsUjjzxyz3N7RCeQdvL19cW7776LoUOHIigoCA0bNsRLL72EF198ER4eHggICICPjw/69euHyZMno1+/fhAEAXfv3oW/vz9mzZqFF198EcnJyUhLS8Pt27eRmppa7hMKKtPLjckqJyIiAn///Te8vb0RHh4ODw8PLFu2DImJieWMY1X0ZU2kSqVLNL0C5M0334SLiwu8vb3Rs2dP+Pv7l1vpKDU2URj07JKQkpICg8EAX19fuLu7Y8KECXjppZfg4+MDKAxE0qEkDSKIrBCTvEh8b29vDB06FOHh4feEZfMg0MJD4rC/tQml1cH9gG7T4uJieHt7o2/fvmbblFbKycnJWLduHf79918cP34cK1euxNatW1FQUIDLly9j+/btOHToEGJiYrB8+XL88MMPuHr1KmJiYjBv3jx88skn+O2333Dq1Cls2LABy5YtQ05ODlJTU3Hr1i3cvXsXCQkJyMvLwx9//IH3338fGzduRFZWFjZt2oSpU6dizpw5iIiIwJkzZ/DDDz8gIiJC/kTyrFmzcOzYMej1ekRFRWHp0qX4+++/IYoiUlJSsHHjRvmN1mvXrsW2bdvkmxSqipqwwmURTK8VosdxfHw8EhISMHToUNSpU0cewyQckRtyLooi3N3d0aFDB5w7dw7JyckwGo3Q6XTw8PBAZGQkcnNzkZWVhU6dOsnxybWawMBAeHh4oKysDCUlJejRo4dssIiOIXHINefz58/j1q1bSE1NxYULF9CkSRP07dsXderUketGyvYwUKVGR6PRoFGjRvD29gYohRwQEIDAwEA5nNLgIWHz8vIQERGBgwcPQqfTITIyEps2bcKFCxewc+dObNmyRb4/nkZSWHUQiHDQwnv79m0sWrQIixYtwvLly3Ht2rV77vsXRRE6nQ4XL16UX51+48YN2YAWFRXh8OHDWLRoERYvXoyDBw8qlqs2Qd/Rcz+gr2dIkoTbt2/j3Llz6NGjxz0f76Mh8pOfn4/du3cjOTkZn3/+ORYuXIgJEyYgICAAd+7cwZ9//on8/Hx8+umnWLx4Md59911ERkZi586duHbtGvLz81FQUIA6derggw8+wMsvv4xLly7hzp07eOWVV9C3b1/07t0bM2fORMeOHXHz5k3odDqIogi9Xo/09HSUlpaioKAA3bt3x7fffovmzZsjJiYG9evXx7vvvouAgABoNBrUrVsXr776Ktq3bw+1Wo2ioiL8/fff2LJlC8LCwtCkSRNkZmZi27Zt5b6Wq3SAGQPsYQlWZu83dHnpSWpaWhqioqLQv39/NGvWDKCMCwlHrn+RVYdKpYKLiwvatGmDunXrYuvWrcjKyoKPjw969+6NQ4cOITs7GwUFBfDy8pInXeSNKSQNtVotyyZxc3JyuqespEx9+/bFV199hR9//BGLFy/GkiVL0Lx5c9mfyKsjodNTSpuVCVo2rMlIZbBodMxlbM6dhe58mBq3tLQUPj4+ePTRR8uFg0LD5OfnY+fOnfj000/xxx9/oLi4GPn5+bh9+zbKysqQk5OD7Ozsey4Eg1I6Sg1Pfokg5uTkYN26dUhPT0dqair27NmDFStWICsrS46rMm3j3LlzB5s3b8bVq1cRHR2Nn3/+GYmJiSgpKUF0dDQiIyORmpqKyMhIrFq1CsePHy+nHGojbL9UJ+R6Bkzf1ImLi4PRaMTgwYMhKdyRw7ZxdnY2EhMT0bBhQ7Rs2RJ16tTBiy++iDFjxqCsrAyXLl2Ct7c3GjVqBAB44oknEBoaigsXLqBjx47o06cPHnnkETz11FPw9/eHl5eXfE1FMM281Wq1fOfTlClT0LBhQ6hUKnh5eWHs2LFo1qwZhgwZgt69e0OlUsHT01OOTw623ACQlZWFjIwMBAYGIiMjA3fu3EG3bt0wePBguLu7lwtLyzr9a+6whFK7VhdsO5CysOW5du0ajh49Cj8/PzRv3hwajQZxcXFIS0uTV2mS6Y5ZOh2Svq+vLx577DFs27YNcXFx8ufKr1y5giNHjiA4OLhcO5Lnf4ibJEnyjQwq051w5G5FiXmesHXr1khISEBMTIy8momJicHdu3fl9OlfR0PqzLYtKxN0O1dVWWDN6FiD7kQl2IJnZmbiwoUL6Nu3L8LCwmR3MiNgKS0tRXFxMYqLi+WBPmDAALzyyito27Yt/vvf/+LNN99ESEiIHCctLQ1r1qzB3LlzMXfuXHz99dfyQc7v3r0rl12n0+HkyZNYvnw5fHx85CUvuXOFzJQIeXl5uHDhAoYOHYrx48cjICAADRs2xPXr17FhwwacPn0aderUgYeHB6Kjo/HHH3+grKzsnk6tDUg1YMlPlIUoioiNjUVKSgoef/xx+Pn5lWtLIods+wqCgOLiYpSUlMjnJCz5mujdu3eRn58PSZLkd/xJzMxPNN25SLcHWQWS5zfYtpJMNwzQA5kYJ3KzAnEn4WkFoVar4eTkhMceewzz5s3DggULMH/+fEyaNAkhISHyDJmEp9OqLI5KxxqW8iF9z5KUlISffvoJv/32Gw4dOoQlS5bg66+/xqpVq5CTk4OioiJs2bIF69atQ0FBAaCg2D08PPDII48gOTkZ2dnZ6NChA1q2bIl69eohOjoaLVq0QFFREU6ePIkDBw7gxo0b2LlzJ/bu3YsdO3YgJSUFu3fvxo4dO3DgwAGkpqbixIkTOHLkCI4ePYr09HTs378f586dw+OPPw5vb29s2LABX375JebOnYs9e/bIMqdUR0dBy1NNQVnbVwJ64MA0WA0GAwoLCxEfHw9nZ2cMHDgQMM1cWei4gYGB6NevHzp37gyYri/Qd/0ICkrcYDDISqakpASlpaUoKytDaWkpSkpKUFRUVC5fnU6Hy5cvIzg4GIWFhdDr9WjdujUmTJiAevXqyUqK5OPm5gY/Pz/Mnz8fGzduhJ+fH0JCQnDnzh1cvXoVdevWhV6vR1BQEEaMGIHevXvXqA63F7IavF91IO1//vx5REVFoX379qhXrx6Ki4sRExOD7OxsORzZ/qDx8/NDo0aNEBcXh1OnTkGv10On0yEpKQllZWUIDQ3F8ePH5RtbsrOzodPp0K5dO/nmBdIGoOSbGA4yYSJfM9XpdPJePh2PxCXuxEAJggC9Xo+CggIYDAakpqYiJiYG0dHRiIuLg7+/Pw4fPoyLFy8C1FdSr1+/LudNZNOR/eSodKxB8mENNkGpT0tLSxEUFIQePXrA1dUVRUVFKCoqQvv27REaGgpXV1eUlpbKd7uCahuSlpOTE9q2bYv3338fXbp0gSiK8Pf3xzvvvIMxY8agYcOGgEn+w8PD8fLLL0Oj0aCwsBBt27bF6NGj4e/vD51Oh/bt22PUqFEIDQ2F0WhEcHAwXn75ZXTo0AEGgwHNmjXD+PHj0alTJ1k/hYeHw9fXt1zfVQWssa0JCJKF2hIvUuAJEybg0qVLWL58Odq1ayeHoSvExoHJEJw5cwaJiYkYMGAA6tevL88crZGYmIhZs2bB1dUVs2fPRkBAALZv344NGzbg5ZdfxrPPPiuHZctCI5lmpPTtsYIgoKCgAEuWLMGtW7ewYMEC2Y/83rx5E7NmzUJcXBwOHz6MoqIiREdHy7OYixcvYv78+WjQoAEWL16Mt956q9zWYW1GFEXs2rULn332GZ5++ml88cUXbBCboGXinXfewcmTJ/HTTz+hS5cubNBykHhHjhzBjz/+iNzcXHTv3h1OTk7Q6XTQaDSYNGkSBEHAxo0b0bhxYzz99NPylhyRhfPnz+Pbb7/F3bt30bVrV4iiiMaNG2PgwIFIT0/H119/DUmS0Llz5//X3nlHR1XlD/wzEzIkkAIkoYXegpTQE4qolLOIoQhIE1AQpCjIShHLgjQ3NAOsLE3K0kKxgEjRBVxFBFFEYAllKdIDSQiE1EmZ9/vjN/edm8ubSUIKxfmc887Mu71+v+/ed9+9JCUl4evrS+/evblw4QKLFi0iNjaWrl270rRpU7744gv27dtH165deeedd9i8eTN79+4lNDSUHj168OuvvzJ79mwCAwMZMmQI586dY+vWrQQFBTF8+HBu3brF0qVLcXd3Z8SIEYSGhjJr1iyuX79OmzZtSEhIYP/+/QQGBvL222/j5+fHvHnzSEpKIjg4GJPJRLVq1XjuueeoVq2aUmIFg82+gKFhw4ZMmDCB8ePH6+9lC5KDBw8ybdo06tSpw7Rp0/Tvmhz14dxiJIOEuTCT5Y8w1+xKSZZLcliO/KjxOLJX/atxFTSapvHrr7/y3nvvERISwt///nfDtBY1hZdje6YzMjI4cuQIR48epXHjxlSoUIGEhAQOHz5MbGysXqnOEPOpYg5VVKT6FCQq2QiTffmtmGsVbi0WCw0bNuTgwYN8//332Gw2srKyuHbtGhcuXMBmfyGMvdEkJSVx8+ZNvTOGhISwdetW/Pz88Pb25ssvvyQ6OhrsT80nT57UP2pFasQuckbUkbu7O6GhoXTq1Alvb288PDwICAigVatWlCtXDpPJhKenJx4eHtmemEXHbtSoEePGjSMkJASLxYKvry/169enUqVKhIaG8sEHH9C+fXs8PDyoVKkS/fv3JygoiBIlStC+fXt69+5N5cqVMZvNNGvWjDFjxlC5cmUsFgudOnWiZ8+eVK9enVq1auHh4cGoUaN48cUXKVWqFH5+fgwePFh/n+Pp6UmfPn148cUX8fHxoUKFCowcOZL27dtTsmRJGjZsyPTp03n//fdp164ddevWZfTo0bRs2ZLixYtTsmRJfVGB+tHok4ZRXxF1Kt8bISsRcckCNzfKQ5gJc1lByH405R2OHJYsp4wUjKP0FzRG+XtYFMpIR9ynpaWxZ88eli1bRnJyMk2aNNGnFkqXLs2oUaNITU0lMjKSunXr0q1bt2xhxcfHs3HjRv3JcOLEiRQvXpy1a9dy9uxZ6tevT//+/WnXrh1lypTR/eWEnEZN04iJiWH+/PkcOHCAFi1a4OHhQZkyZWjbti1RUVEsXryY2NhYJk+eTMeOHZk1axY+Pj761F2HDh3o0qUL3377LevWraNMmTIEBATg4eFBs2bN6NixI56envfF/aijaRq7du16aCOdnNCkp0V15GxUzmq9y35lIZETwr1wq8adU3hy3CoijXKZGaHGWZDYlJHOhAkT9I8uC5KcRjpGdaiSGzcqatkahaG6cYaRfyNz9V5GrndHbvKKpox0wsPDVScPhQJvtXKBubm54evrS8eOHenevTtVq1YlMDCQOnXq8Oyzz+Lv74/ZbKZs2bL4+Phk+zZAdMygoCBef/11Bg8eTMWKFSldujTPPfcco0aNok2bNvj4+Nx3nLDwr6I2JFHBAQEBjB49mn79+lG1alUqV65Mw4YNqVWrFtWrV2fQoEGMHz8ePz8/ypYty4ABA6hWrRq1a9emQ4cOdOvWjZIlS/Lcc88xYsQIgoODCQgIICgoiAYNGmRTOI8TBdX484toCyomabcBNa3qvZGZWVpGK3d2ebQkkNNgtq9iku8FQuEIu0xp6x25/RkpDDkNKO1URaRZvlzkDpP9gUGuD6PyU9uL2i5k//K9IxzFUxQ8rHgN0Zxgs9k0m82m3w8dOlQLDQ3VTpw4kc1NTthsNi0rK+s+M/HrLAzZnSNz2U51J2Nk5yhdwlyNJzfxqWY5uX+U2bFjh9a0aVNt8uTJqlWukcts9OjRWvPmzbUjR46ozu4jr2Wl1o2KzaAdCtR6LiiMwjIy0wzaWGGlKSeysrK0c+fOaZ6entrkyZO1hIQE1UmB8NNPP2l/+ctftNGjR2u3b9/WNCdl44i8upeR/eYlHLleZJy1LbVOVRyFmR9sNpt2+PBhrX379tqkSZNU64fG/Y9buUB9AnCEZp/rFE928hOfURhG2lg8HWgGxyRg4McoXGeIJ071qUV9ghZPR3L4cn5kVDd5TdOjyMPKg1q2splqp9aPQHZnZI9Szw+CaKNGCDu1jal+RFtX86Heo4SpXgWNCLMwwhYYjfzIRZxqueQFtYwdoabBUVtxlAfZvepH4CjMJxHjUpLIqRCc2Zvsy0pROpjqx2Qw7NTsSkaYm5U9tuTtWYz8q2jKXLGKnCa1kwllp6ZfzQfSF/SqW9lM/a8il5V878xPYWKUz6JAdFI1787K36iMjNypGIWfF0RaVYS5bC+3DbV9yA9nKmo5OCK37pwhyl2eLlTzl5s4nLkR4WIwdYXdrxpnQeOsrOR6ku8fhMLOhxFynHJZP2xyVDq5IbeZUTuYaqdWjJg7lxH+xId5wl51h0EcwszIHMlObmQ2+0d/ageQFaJcoeoISSD8O0uvI/LitqCR3x08LEz2HZ3F9jLOVm3lVFYiL2p+cvJnhByWGp4zHMWltg3Vndp+croeFLm9G7Vnkd/8xCEoiDDyg7OyUs3V+8cB0S4Lqr4KggJROs6QG6hRpo3MVGQ34r+6EaXRkxLK04r4r06pCcUiwpbdmc1m/dse0Rk1aXsf4UeEn9MQW24ERpfqXr5XzYqShxk39m1P3njjDQYPHsykSZO4ePEiOKl3GWflK9eH/JsX1LCeNNR8Pey26CJ3aHa5q9bfw8ZYQhYgRqMVdU27EcJPZmamLljU0YXRr4zaORwJB5FGoXjU90Vi409hZxQXBmmQ40m3b30up9fokt24+H8yMjJYvHgx7dq1o23btsTGxjJv3rxsUz/OEGUrHiLk8hX+cxOOilxn4t6Fi0eJ/DxMFRaFqnTEVEhUVBT9+vWjR48evP3221y+fDmbgHVWIPfu3WPFihUsWLAg27k2MTExzJkzh+7du/Paa69x+PDhbP5k5PBFfFFRUbz33nv89NNPZNpPj/zXv/7FpEmTSE1N1QXR7du3Wbx4Mb179+aVV17RPyA1SrOR2enTp/n73//Ojh07srnRDJ6+ZTNH5n82NPuGrC+99BJ9+vShX79+dOzYkaNHjxIfHw9KG5LLSDysOCo3dZSkKpG88KD+XLgoTBy1/YdJoSodk/1ogsWLF+tKJy4ujoiICNWpQzw9PWnVqhXPPPOMfmZFUlISq1evJjU1lT59+nDlyhV2795NbGys6h0MBML58+eZPHkykZGRXLlyRd8eJyQkhG7duuHu7o7JvkXO3r17uXHjBr179yYzM5PFixfrG3iqCDMhzM6ePcv8+fNZtWoVZ86cyebGyL8gP8LvSUJ0mFKlStGmTRvc3d0xm82UKVOGNm3a4O3t7bQ81fcRquJW7WVkhaQ+ABihKrAnCaPyKQjkqWijaenCivfPhLP+8bC4v6YfAEcZ0jSNtLQ0hgwZQlhYGD179qRt27YcO3ZMH7VoDl5wic7t6elJw4YNadq0qf6R5dmzZzl37hz16tWjd+/eLFiwgH79+uHl5XWffyPKly9Px44d8fX1RbMvFjCbzTRo0IA2bdrg4eEBQFxcHDt37qRBgwb07NmTadOmMX78+PtOJxSIOEUHKl++PC1btqRcuXL3TdnhQLmo9wJn+SlM5HddRY0oH09PT2z27Yj+97//cfr0aUaOHInFYrlP2MtpFWX222+/ER4ezpo1a5g2bRodO3ZkxowZXLp0CYD//ve/TJw4kc6dO9O5c2dmzpypn5F06NAh3njjDUaPHs2qVas4f/48GRkZnD9/nhEjRtCjRw+2b9/OL7/8km2DyScBtSwLug2K8ByF68jcxeNNvpWOs4ZhNpvx9/enefPmuLm5kZWVRenSpWnbtq1+HkhOAk2z79+WkZGBZv/u5+rVqyQnJ+vCvX79+jz11FO6UpJJT08nPT2djIwM/etwLy8vGjVqRMmSJbMJfrEDsYgnKSmJc+fOYbFYyMzMpEaNGrRq1Qqz8s0R9ndPaWlpJCcn64LQ19eXWrVq4efnpy98MJlM+vY5mZmZ2d5ZZdlPMLRarWRkZOjTeI/i00peyG+6NU3DarXy2Wef8cEHH/Dpp58SERFBVlZWtidkddrTZD+1MSIigoULF7J161aqVatGx44d+e6779iyZQvR0dF8/fXXxMfH079/f0JDQ/nmm284fvw4CQkJHDhwgIYNG9KmTRu2bdvG2bNn0TSNFStWEBISwsCBA9m2bRtRUVF6vI874r2XpnwbJ+rRWZ9XcVT3av8xIjfxObMrSgoqHbkJRzNYgCRfRjgyfxjkSenIAlo2k1EzXrx4cTT7uTUnT57k/PnzvPLKK3h4eOhKQPYrk5GRwR9//MHHH3/M8uXLSU5O5osvvmDOnDkcPHiQ+fPnM3PmTM6ePZvNnwjHarWydOlShgwZQp8+fVi2bBl37tzBJC0WEO4TExOZNm0as2fPJj4+nu+++44pU6Zw5swZFixYwJgxY7h69aruR1YE9+7dY/v27QwaNIhXX32VmTNnEhMTc1952Ww2rly5wvz583n99ddZtmwZR44c4e7du2Tad+J+7733GDBgAEOHDuX48eN6XoymHx4nZAGithFnaHalW6xYMVq0aMGgQYOoUaMG3333HXv37s0WlhCUctiVKlWidevW1K1bl9DQULp06cLQoUNp1KgRBw8e5NatW4SFhfHGG2/g5+fHmTNnOHv2LImJiaTbT4m9e/cuwcHBjB8/Xt8/UBwv0LBhQwYPHky7du0cjoAfN4TyFuUo6kCg9nlnOKpn2Vz+L4ct16sjnNkVJQWVjtyEI+SKo0tFrT9HdVJUFIkkS0pKYu3atbz//vusWrWKJUuWoCkHXKEUuMlkIiYmhvXr17No0SJOnDhBVlYWLVq00E93DAsLo0ePHpQvX173JzpLZmYm//jHP7DZbPTq1YtevXqxYcMGdu7cqR8KJwo/JSWFRYsWsXr1an799Vc0TaNBgwb06tWLgIAAOnfuzJAhQ/S94mQSExP54YcfOHbsGEOHDqVz584cO3aM5cuX60pVxGM2mzl06BDp6en07duX06dP85///Ie0tDR+++03fv75Zxo3bszgwYMpVqwYS5Ys0ZcGC+Twioqijk9GtAl3d3dq1qxJr169mDBhAkFBQdy4cUN3IzqW2vH8/PyoWbMm5cqVo2bNmvj7+xMQEECtWrUwm81YrVYSEhJYuXIl+/fvp2nTplSuXBmr1UqpUqVo2LAhe/fuZfTo0URGRpKcnIybmxtdunRhz549vP766yxYsMDpqsbHDbO0yk9t73nFUZmYpU1axcF2KkZmjzqifxpdDwOjOnzY5Zq/FmWA6PRyQXt6ehIWFsbbb79NjRo12LdvH/v27QP7aEatFHEfEBBAu3bt9DPjzWYz1atXJzg4mHLlyhEUFESTJk0oVaqU7l/8Xr16lT179rBo0SI++ugj5s+fz7Fjx/jxxx9JSUnRjysA8PDwoFu3blStWlXvABUrVqRJkyaUKFGCevXq0apVK7y9vbFJJ0RmZmZy584dtm3bxqpVq5gxYwaLFi1i//79HDt2jKtXr2abVrPZbFy6dImTJ09SpUoVxo0bR//+/QkICGDPnj36Kr3w8HD27t3Lli1b9HcLMkXVaDQn3x3lFVEveU27PL1jtp9DHxQURL169QgICNDDE+WrtgPhz6QshbdarWiaxvXr11m7di0+Pj4MHz6cli1bUrp0adzc3HB3d2fgwIHMmzeP559/ngMHDrBgwQKio6Pp1q0by5cvZ8CAAZw8eZKJEyfqSvBJQC6/vNaZjOjL6iXqVSiexwk5HypC/hldRY0qh43S+zAotNoWBW2znyFfoUIFXnjhBcaPH0+dOnX0M2fESjG5UsS9u7s75cqV07c8F9/LiBGSxWIB4Ouvv6Znz540btyYFi1aMGXKFI4cOUL58uWZNm0aK1asYOXKlRw4cID33nuP0qVLZ4vTbDZTtWpV/d2LqBwhrESarl+/TuvWrWnevDmNGzdm2LBhXLhwAavVyvTp0/XR0r59+5gzZ45+WJ1J+r6nWbNmxMfH06dPH4YNG0ZUVBTFihXjxo0bdOrUiU8++YR//OMfbN++ne+//14/dEwum8eN/DR2IZBE50lLS+P48eNcu3aNdu3agaSYxBM6SjmZzWbOnTvHiRMnADh16hSnT5+mWbNmVKxYkbi4OIoXL0758uWJiYnh1q1bmM1m7t69y5dffonZbGbEiBEMGzYMk8lEeno6M2bMwN3dnX79+jFz5kysVmu2enqSyE/9CUR/E5dRPankFG9O9kWBrEAfNTRpatrRaPJhUGhKRxYEoqFZLBaqVatGUFAQAQEBqhcdIWCEsBYFJhpZpv3jUvFk+8wzzzB79mzWrVvHv/71L0aNGkWNGjWIiYmhbNmyNGnShMaNG9O0aVOqV6+uKy3xItps33UgKyuLTPsGpSJ8uYMEBASwatUq1qxZw7p165g8eTLlypXTzxpp2rQpDRo0oFGjRtSoUUNXikjl8PTTT7N8+XI++ugjzGYzc+bM4YcffqBkyZJ4eHhQuXJlmjVrRuPGjWncuDFeXl56/I9q4y5M0tPT2b59Oy1atKBp06Y8++yzfP/990yfPh0vLy80TePixYt07dqVv/3tb/pHuCpVqlTh2LFjBAcH06NHD/z8/Bg5ciSNGzemUaNGbNq0iZCQECIjI8nKyuLdd99lzZo13Llzh7feeounn36a9evX0717dypWrEj16tUZPnw4bdq0ITw8nFdeeQU/Pz812j89ou8bIeyy7FtaiUsg39ukGQaBkAlFqXyEzBFpl/Mnj7QfFnJ5iXLNysrK9g77YVNoSkd+Qs3IyCArK4uEhAR+++034uPjefrpp3W3YnWaQFSkZn+KEEpGuBXmolB9fHyoXbs2DRo0oEGDBgQGBlK/fn0qVqzIypUriYqKItP+AejSpUuJjY0lMzMTNzc33VyEabavTBMry4S51WrFYrFQr149PZ6aNWtStmxZqlWrxoYNG/j555/RNI0rV67www8/cPnyZbKysvQ8aJrGV199xaFDh+jQoQNjx44lKCiI5ORkWrZsya+//srOnTtJSkrCarWyceNGLly4kK1c/mxYLBbatGnD2rVrWb9+PatXr9anabGXSZUqVYiIiGDUqFH6lkUqFouF7t27s2HDBrZu3cq4cePw9/fHw8OD0aNHs3XrVjZv3szHH3/Mjh07+Pbbb+nTpw/Dhw9n2bJlbN68mfXr19O2bVssFgsDBw5k5cqVbNy4kfXr19OlS5cnZiGBSn7anRCCjoSx6HuyUBQKRghx8SBoss+ciBWfsgxQzdVLM5jiy80l/At5IKdRxCe7k/8XxSWnyyZN+9vsM0wiH48SOZ4cKje4119/XT85tEGDBtncyoggMzIy2LVrF0uWLCEzM5MSJUrQokUL+vfvT+3atQE4efIkc+bMoXnz5owaNQp3d3c93hs3brBixQrWrl2L2Wxm9OjRAKxdu5a4uDj8/Px4+eWXefnll7MtJsDeUS5cuMDEiROJjo6mePHimM1mwsPD8fLyYvLkyRw+fJjatWszadIkDhw4wIYNG3B3d6dXr140bNiQdevWcfz4cSpUqEBQUBCRkZH3dcDMzEzOnz/P8uXLOXToECVLliQgIIAePXpQq1YtlixZwr///W/Kly/PuHHj8PLyYvXq1dy9e1f/uHXw4MGYTCZWr17N7t27dQX37LPP6ofXPQw0TWPnzp1MnTqVsLCwfJ0cKsptzJgxHDp0iKVLl9K8eXPVqY7wYzM4l151I37Fg4RqtmvXLlatWkWvXr3o27evfuifcCdQ69YIOT2ZmZnZlJxNOVH0ccWmnBw6fvx4/Zu2vObNmR9xcmhqaiphYWF4enpmq1OkOhH38p6LNuWTArkuCwJn4Rq1Q/n+UcBkMnH58mX+/e9/ExYWxqxZs1QnD4VCUToCm83G7du3uXLlCpp9tZq/vz+VKlXSw05MTOTKlSt4e3tTpUqVbP7T0tKIjo7Wlzn7+/uj2bdFER08ICCAgIAA/QNCkV6TXWBduHCBxMREvSHUq1ePrKwsrl69qu8sEBgYSEJCAgkJCWiaRqlSpfD09CQ2NlYfqRQvXlw/olslPT2d2NhYbt68iaZpeHp6EhgYiJubGzdv3iQpKYlixYpRrlw5PDw8uHHjBikpKWBf0iteiN++fZubN2+SlpaGyWSibNmylCtXTl9EIaPWTWGg2ZXOhx9+mO/jqkVac6t0coOzMhB2hw8fZsqUKVy6dImgoCBGjBhBWFhYNjeO/qu/GCgWNQ3q/eOIUDpimfiECRPw9vaGXCpmGbUMNUmZ/PLLL8ydO5fffvtNn0aWlbr83wjxZO/MTUEi4nNEUaVDRW6LNvsIR7yWSEtLw2w2079/fz744IM8119h4FTpqORF6Rh1Ykf/jZKgFo5mHyaK6S85DNW9Ucc3MpNR7eX4jOyNkNMiu5eVobAXHUrNi1EcOXW+wkJzonQcpTUnZKXTrFmzBwrDEUZpEg81GRkZWCwWypYti7+/f57KVG1jRvE8SdhsNi5evEhwcDDjxo1j4sSJ+Pr6qs5yhaOy0jSNlJQUbt68SWJiItjLV1Y42AW5zT6ikUc5qpuiICelU1TI+VXTJNoq0qjQbDZTqlQpAgMDJZcPD6dKR20ww4cP58SJE6xcuZL69etnc6ui+nVklpfO7wg1XPVeRhUgjnAUhphScWQvEPZy8Qr3QgnJ9uK/UT4cmRcFu3fv5m9/+xtdu3Zl6tSpkIf4jdyNGTOGn3/+mSVLluR7pFPYGKX/z4BNGumI6TWxz92ftUxcFBxOpb3auGQBmhOqX9Ust8I/N6hhqPcyplzOuTtyI+bwVXuRH/Hk4aisNOksHrkDq53Z6F6gxl2YCAWp5kfcq+YyjtLvzM+jRFGW86OEGFnIlyiLP2uZuCg4nCodRzyI0BCNV/AkNGIjQSpGbWr+5F+1IzsS4EblVZTIQie/yOl/GHlxkX8Koh24cJFnpZMfgZEfv48KjhSB/F9WKLKd8KuWg0lZ7y+bif+Couz4Ig35nf6UMRmMmly4cPHnoeCkSQ7IgvdxFDqywtCkr5DVvAiFI8wd5VdVMM4Q8anKrLDJKQ95Qfaf37BcuHDx+FJkSgf7XPG9e/f0w9YKQpjlhQeNT/aTkZFBdHQ09+7dy6YExG9WVhaxsbF6HoV5eno6N2/e5OLFi1y9elVfsZMTIo7k5GSuX79OamrqfStWChPxgVlBKruCHDm5KByKso25+HNR6L1fFthxcXEsW7aM8PBwXZAVpDDLDfLTe24R6czMzOTgwYO8+eabfPbZZ2QaHM1w69YtVqxYwfr169GkL6VPnjzJggULGDp0KMOGDeObb77BarVmi0eEoXLv3j22bNnCa6+9xqlTp4qszMSITR65PSgizQ+q+F0UHW5ubtjs33vgmhJ1UcAUutIR2Gw2oqKiWLNmjb7ZpzAvDNROIuIRT9m3b9/Otk+X6t7I7Pbt28ybN4///ve/2T44FZhMJipUqMCoUaN47bXXwB7frVu32LFjB2XKlGH+/PkEBQURFRVFUlJSNv9CwMuYTCZ+/vlnNmzYwLFjx/SPSh8UNc05IcpNTVdeEfGKPMrh5TVNjzpCsapXTva5cZNb+9y40Rxs2YJ92yCklWwuXBQUeVI6aqM1wsiNzWbj8uXL/PTTT7Rr1y7bU6+R8FH9I23yKTByI3cagXAnPsTEPnKYO3fufYeyqXsYqYK2dOnSTJ06Vd9yRxaecjylSpXC19dXtzt//jy3bt2idu3aNG7cmNmzZ/Puu+9SunRpw/TK5aBpGu3bt2fgwIH6x13CXC4To/KQycneETlNhallpOIoXnmTx5zCeNwQ7UK9crLPjZvc2otyNbrkMMz2DW/FJdvbpG/oZHMXLvKDc4mSC4yEitqwrVYr586do3r16nh4eOiN2+Tg40kZq9VKYmIimZmZJCYmEhsbS1JSki6wNE0jNTWV+Ph47ty5Q2pqKpn2DQLT09NJTEwkMTFRH1VYrVZWr17N4cOHiY2NJTk5WRfg9+7d4+7duyQnJ+vHRQvi4uJISUnRt6RRhaX4n5GRQWJiIikpKXra/vjjD65du0ZycjKJiYm4ubnp5SArQ+wH3t2+fZu7d+9itR9pXaxYMTw9PbMJAJHeuLg4/UhuQXp6OnFxccTFxREfH49N+dbGqM4coSrFvCLKRf7VpAP8TNI5OEYXkpJ1djlz58yuqN3kZJ8bN7mxz40b1Uyzb7ypSTtxGLVxFy7yg9MdCVSGDRvGyZMnWbFihb4NjmbwpCoasNlsJiMjgytXrrB582ZefPFF1qxZw+XLl9m4ceN9/lTS0tL4/PPP2bZtG8HBwVy4cIHdu3fTrl07Jk+eTIMGDUhKSmLOnDmsX7+elJQUOnTowIQJE6hfvz6bN29m2bJl+Pj4EBwczEsvvcTevXtZvnw50dHRlCtXjjfeeIMhQ4Zw7tw5+vTpQ2ZmJl5eXoSHh/PCCy9gsVg4fvw4zz//PH5+fjz99NMcO3aMvn378te//lU/D0h02EOHDhEeHk7jxo15//33WbFiBTNnziQlJQVvb2/atm3LO++8Q0hIiJpd4uPjmTRpErt37wagd+/ejB07lqpVqxIZGcns2bP55z//SatWrbh48SJ9+/YlISGBd955h2LFitGzZ0/c3d3Zv38/I0eOxGaz4evry+LFi2ndujUWi8WwvhyhaRq7du3iww8/zLbhp2gyuQlHFnAmk4mxY8fy/fffM2fOHIKDg7O5E4LOmaIzaq6qYitqRHvnIaRBxKeWi1DoctocIdyJsMTMRIcOHZg0aRLjxo3D29s7x1GvCxe5Id9KxxmZmZnExMSwefNmhgwZQlJSEosWLeLSpUts2rRJd+dIEB46dIipU6fy+++/06xZM8aPH09SUhJLly6lT58+DBo0iBkzZmCz2ejYsSNWq5UZM2bQsmVLBgwYwNq1a+nYsSP+/v7MnTuX0aNHExoayqpVq/jss8+IiIigTp06nDlzhr/+9a/MmzcP7Fu/fPPNN8ybN4/ixYszduxYpk2bRvPmzYmMjOSTTz5h+PDhvPnmm3h4eOjpPX/+POHh4Xz77bf079+fOXPmkJ6ezldffcWmTZvo27cvYWFh+jkwcp7T0tJ46623qFSpEi+88AIXLlxg9uzZ9O/fn6FDh7Jr1y4WLFhAREQErVu35q233qJjx46Ehoby8ccf89RTT9GtWzeOHj3KsmXLmDx5MsnJyWzcuJGoqCg2bNhA5cqVs02Z5Aax99qDKh2ByO+4cePYsmULaWlp+o7QYiTmSICK9OZGgD4sZMFd1GkU8cplKZsboZqradbso/QJEyboSseFi4Ig30pH7mhyQ7bZz6DZs2cP586do3Xr1iQmJhIZGUl0dDQRERFUrlxZPwDNiLS0NL788ks2b97MgAED6NGjBwcPHmTBggV07dqVZ599lilTpnDq1Cl9p+aEhARatWrFwIED+eijj6hSpQqdO3emVKlS1K9fHy8vLz799FM2b97MJ598QpUqVVi9ejVLliyhQoUKYJ8i8/T0ZNCgQfzxxx9cunSJxYsX4+7uTlRUFMOHD+ell15i9OjR2UYPmZmZ/PLLL8yePZunnnqK8PBwTCYTX3/9NevWrWPAgAF0796d2NhYbty4oU9llCtXjsuXLzNnzhyuX7+On58fWVlZJCYm0rNnTwYPHsyePXuIiIhg4cKFtGzZUlfGY8eOpUSJEtSqVQtPT0/Cw8PZuXMngYGBZGZmYrVa8fPzY+rUqTRq1ChPCge7Ap48efIDKx21XYhzh8TKPXGOiiqsHSkgR+QmLYVFbtNYWDgqK7VM84I4a6p79+506tSJ4sWLP9QydvHkUGBKxwir1crChQvZt28fZrOZtLQ0Ll++jNVqpVu3brz55ps5jpi++uor1q9fz6BBg+jWrRs//vgjCxcu5Pnnnyc0NJSFCxfy3HPP0bVrV/04a4vFgoeHB1u2bGH79u1cvHgRX19fpk+fTkhICKtWrWLTpk0sWrSISpUq8c9//pOEhAQmTJiApmn6lNmdO3dYuHAhcXFxrF27FpPJxOnTpxk5cqSefnmkA3Ds2DGmT59OzZo1mTt3LtiP0167di2DBg2iS5cubN++ncjISJKSkjCbzfTs2RMfHx/2799Pp06daNWqFdif8N3d3SlevDibNm0iIiKCTz75hDZt2nDs2DGmTp3K3bt3iYmJYfz48fzlL39h1qxZ1KpVi1dffRXsyt9iseDp6ZntrKLckl+lIxBP4FarVa8nEY4m7R6eh+aYjZzS8qDh/hlQlZNcvx4eHtnOH3LhIr/k7bHXAGcN0WKxMGbMGLZs2cKWLVtYtmwZ3bt3p3Xr1sydO5d69eplc+9oLl98L6BJOwGYTCZKly5Neno6169fx2Q/b8fPz4/U1FRSUlIICQlhwYIFvPvuu2RkZLBixQpiY2P1Dx6zsrK4d+8e5cuX59SpU1itVvz9/fHx8cFkMpGRkUGxYsW4fv26flZOamoqycnJREdHExMTc5+gFE/uYmNQYS+EqtlsJiwsjBUrVrBp0yYiIyN5+eWXqVu3Lrdv3+b69et4enpSpkwZfHx8SElJ0cMU5ZCZmYmPjw+LFy9m8eLF1KhRg4iICG7dukWlSpU4fvw4mqZRpkwZypQpg6Zpht8EFSUm+/SPxWLB29ubEiVK4O3tjbe3Nz4+PpQoUQIvLy98fHyyXcJe/Hd0eXl5Ob1U9wV9qel+nC41L76+vvj6+uLt7Y3FYtHrzqW4XRQEblPFfvW5YPv27cTExNCtWzfKli2rWt+HyWTC3d0dDw8PLBYLVquVI0eOkJKSQr9+/TDZv7T/3//+R0ZGxn1ndsTFxbF//36ioqIICAjQlcPBgwfx8fGhVatW3Lt3j2+++UZXRtHR0Rw4cABN0/jiiy+wWq1UqlQJNzc3fH19CQkJ4dKlS/zyyy/UqFGDGzduUKtWLb7++mvOnz+Pv78/169f59SpU6SlpVG2bFn27NnDnTt3KFmyJAcOHOCrr77i7t27VKhQgUaNGumKNzU1lRMnTvDDDz9gsVgIDg4mLS2NH3/8kZMnT+Lr60uFChXwsQtZUTbFihUjICCA48ePs3fvXjw8PEhJSeH8+fOcPHkSi8XC0aNHOXToEHXr1qVOnTrMmjULNzc3ihcvTtWqVYmLi+OFF17A39+fDRs2kJqaipubG1evXuX333/H3d0df3//bALE2QOD4Pz58/znP/+hTp06tGvXLptdbvwLhFv1F2lprlF4srATaX8Ur8cdkQc5LyalnTwJ+XTx8Mm30lGFlxAQ4glfbrBpaWlcu3YNNzc3XYBFRUUxZcoU7ty5Q2hoqD4KAThw4ACrV68mPj6e+Ph4rly5wu+//861a9c4d+4cgYGBvPLKK1y5coUNGzawc+dOduzYQf/+/QkKCiI+Pp5Nmzbx+eefc+fOHSZNmkRgYCDFihXj8OHD/PTTT/Ts2ZPg4GCaNm3Kp59+ys6dO3XB36tXL2rVqkVAQAAbNmxg3759mEwmatasycCBA+nbt2+2paWXL18mMjKSixcvkpCQQHp6Ojdu3GDVqlWkpqZy6tQpUlJSqF+/Pt7S+STCf5MmTTh79iyRkZHs3r2bo0eP0rdvX6Kjo9m2bRupqamcOXOGZ555Bm9vbz7//HM2bdrE8ePHeeuttwgODiYwMJCqVauyZMkSduzYwY8//ki1atVo166d/tQqo96rFJTSyQlnYZmeEMH+qGNUxkZmLlzkhxzf6ciKQ7zT+fTTTx0e3YyBInKEcGfkXhbGslvZXhbawq3qTkaNT/11RE72AtmdukospzCEe0dpEt/ryMhuVPfyKiYU4aGWrTPkk0PzeoibCxcuXKjk652OLPBlHAkkTfkwzUi4ym5VoSn8C4Eq3IhLTo9N2p3AJn18KIdlJIhzQs2DjMm+ZFUg7xggx2X07koeMcnhi3wUK1bsPn9qnmV/okyEO9k+L8jLlV24cOEiv+RL6eQVI0HoSPA7Wtprks53EUJXKBU5fPGOQDZXha9QIMKNMDMS7vJ/Oe2q0BdmZrP5vpGJwFHeBHJ6zfZdC3DgT06Lo//O3DrDpWhcuHBR0NwvxR4ijgShEH5CoMvCUAhmI7+y8BaoSkj4l8NUhbsz4asKdTW+/CIrRtXc6Fe2N/KXVwoyLy5cuHDxSCkdI4SSkIVoTpfsVzVzJESFG9m9+HXkR8UoHXLcD4IjRSbuZXM1n0b+8oJc7i5cuHBREDzySkcWriZpukkWquol+5XNciOA8+pexlE6ioLCilNdkODChQsX+eGRVzpFhTylpj7Z5+dp/3EW2OLdlryM3YULFy7yQ45KRwhNTZrmku2KShipgl+dxpJxZpcbVEWRm1HEg8alIqc9p0t2XxiIBRoZGRnwANONLly4cKGSo9KRBZpmsLxZvS8shOAXQtaZIhB2juxzy4MIdNW9kaLICTn9RpdwI7stDMxms74TdGHG48KFiz8POSodVbhpBkuKixJV+BWmIFTjcoaqDGTzvAhtUcbOyE04BUFeVvG5cOHCRW7IUekIQSN+bTabvuus7Ea9VD/OBJaRX9lO/i1M1HQ8yCU+5lTNxH8V1V1uMArnQVDTLsKVw5cXEhSVsnPhwsWTS47b4MgMGzaMQ4cOMWLECKpUqZJNGMkCU5irwkvskqyiJsFIuGkGU3sFjZqOvCJGKTb7ljaiTOSPWY3IysrSX9bLZZrf9OSEUfgiXpPJRFZWFkeOHOGzzz5jwIABfPjhhw7z4MKFCxe5IU9KZ+LEiezduxdPT0/9UCctF2eh5CSojPzlVejmFEduyEt8KkaK1oic0pmTf5mcwsoJOS45/fLoRhzl8OqrrzJhwoR8x+nChYs/N/8H9vYTRb1Rb54AAAAASUVORK5CYII=)"
      ],
      "metadata": {
        "id": "glIIVgc3dUdY"
      }
    },
    {
      "cell_type": "markdown",
      "source": [
        "IF - works only if the statement is true , else causes infinite loop\n"
      ],
      "metadata": {
        "id": "bVH-NfDBfaqQ"
      }
    },
    {
      "cell_type": "code",
      "source": [
        "# colon dene ke baad block of code start hota hai\n",
        "\n",
        "#Case 1 - inside if\n",
        "\n",
        "if 5 > 4:\n",
        "  print(\"You're inside if\")"
      ],
      "metadata": {
        "colab": {
          "base_uri": "https://localhost:8080/"
        },
        "id": "YaOd8wQndaqy",
        "outputId": "5196a4eb-9c99-4bc1-85d0-a43431bd3bfe"
      },
      "execution_count": 18,
      "outputs": [
        {
          "output_type": "stream",
          "name": "stdout",
          "text": [
            "You're inside if\n"
          ]
        }
      ]
    },
    {
      "cell_type": "code",
      "source": [
        "# Case 2 - Outside if , condition false\n",
        "\n",
        "if 5 < 3 : # 5 greater than 3\n",
        "  print(\"You're inside if\")\n",
        "\n",
        "print(\"Outside\")"
      ],
      "metadata": {
        "colab": {
          "base_uri": "https://localhost:8080/"
        },
        "id": "rK-bLGxPe4Rt",
        "outputId": "b79e1f8d-c6d3-4b12-a593-d2acf77a4845"
      },
      "execution_count": 21,
      "outputs": [
        {
          "output_type": "stream",
          "name": "stdout",
          "text": [
            "Outdside\n"
          ]
        }
      ]
    },
    {
      "cell_type": "markdown",
      "source": [
        "IF - Else\n",
        "\n",
        "works when if is invaild\n"
      ],
      "metadata": {
        "id": "hmZG07XCfW25"
      }
    },
    {
      "cell_type": "code",
      "source": [
        "if 1>3:\n",
        "  print('inside')\n",
        "else:\n",
        "  print('outside')"
      ],
      "metadata": {
        "colab": {
          "base_uri": "https://localhost:8080/"
        },
        "id": "5oPy-oyCffr4",
        "outputId": "78070719-3231-4d6f-df6a-5f596ce80ce6"
      },
      "execution_count": 25,
      "outputs": [
        {
          "output_type": "stream",
          "name": "stdout",
          "text": [
            "outside\n"
          ]
        }
      ]
    },
    {
      "cell_type": "markdown",
      "source": [
        "if elif else\n",
        "\n",
        "\n",
        "\n",
        "*   works when you need to pass multiple statemnets\n",
        "\n",
        "*   can use n no. of elif\n",
        "\n"
      ],
      "metadata": {
        "id": "9k_8YLRXgFLI"
      }
    },
    {
      "cell_type": "code",
      "source": [
        "x = 10\n",
        "\n",
        "if x > 20:\n",
        "  print(\"x is greater than 20\")\n",
        "\n",
        "elif x > 5:\n",
        "  print(\"x is greater than 5\")\n",
        "\n",
        "else :\n",
        "  print('x is less than 10')"
      ],
      "metadata": {
        "colab": {
          "base_uri": "https://localhost:8080/"
        },
        "id": "G1_kF8K5fhcW",
        "outputId": "59b3a6cd-3395-4a98-e62e-66e32104af53"
      },
      "execution_count": 28,
      "outputs": [
        {
          "output_type": "stream",
          "name": "stdout",
          "text": [
            "x is greater than 5\n"
          ]
        }
      ]
    },
    {
      "cell_type": "code",
      "source": [
        "marks = int(input(\"Enter Marks: \"))\n",
        "\n",
        "if marks >= 90:\n",
        "  print(\"Grade A\")\n",
        "elif marks >= 80:\n",
        "  print(\"Grade B\")\n",
        "elif marks >= 70:\n",
        "  print(\"Grade C\")\n",
        "elif marks >= 60:\n",
        "  print(\"Grade D\")\n",
        "else:\n",
        "  print(\"Grade F\")"
      ],
      "metadata": {
        "colab": {
          "base_uri": "https://localhost:8080/"
        },
        "id": "5Q4HzjBXghw9",
        "outputId": "d4881c70-1676-43c9-93bf-b1c5387a075a"
      },
      "execution_count": 31,
      "outputs": [
        {
          "output_type": "stream",
          "name": "stdout",
          "text": [
            "Enter Marks: 89\n",
            "Grade B\n"
          ]
        }
      ]
    },
    {
      "cell_type": "code",
      "source": [
        "#Task - isPalindrome?\n",
        "\n",
        "s = (input(\"Enter a string: \"))\n",
        "rev = s[::-1] # [0 start : 0 stop : -1 indexing]\n",
        "\n",
        "if s == rev:\n",
        "  print(\"Palindrome\")\n",
        "else:\n",
        "  print(\"Not Palindrome\")"
      ],
      "metadata": {
        "colab": {
          "base_uri": "https://localhost:8080/"
        },
        "id": "Wn6-q4URh8Uh",
        "outputId": "e3f95583-d34c-4d3b-82af-07c44504193a"
      },
      "execution_count": 33,
      "outputs": [
        {
          "output_type": "stream",
          "name": "stdout",
          "text": [
            "Enter a string: racecar\n",
            "Palindrome\n"
          ]
        }
      ]
    },
    {
      "cell_type": "code",
      "source": [
        "#Task - To find age\n",
        "\n",
        "age = int(input(\"Enter Age: \"))\n",
        "\n",
        "if age < 13:\n",
        "  print('Child')\n",
        "\n",
        "elif age >= 13 and age < 20:\n",
        "  print('Teenager')\n",
        "\n",
        "elif age >= 30 and age < 60:\n",
        "  print('Adult')\n",
        "\n",
        "else:\n",
        "  print('Senior Citizen')"
      ],
      "metadata": {
        "colab": {
          "base_uri": "https://localhost:8080/"
        },
        "id": "CCzzS8RMiSD_",
        "outputId": "3ca6b95e-aa2c-4e1f-b254-ad0d82d8e29a"
      },
      "execution_count": 35,
      "outputs": [
        {
          "output_type": "stream",
          "name": "stdout",
          "text": [
            "Enter Age: 43\n",
            "Adult\n"
          ]
        }
      ]
    },
    {
      "cell_type": "code",
      "source": [],
      "metadata": {
        "id": "anvRp_d8kJm2"
      },
      "execution_count": 35,
      "outputs": []
    }
  ]
}