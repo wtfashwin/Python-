{
  "nbformat": 4,
  "nbformat_minor": 0,
  "metadata": {
    "colab": {
      "provenance": [],
      "authorship_tag": "ABX9TyNDupDVprDtDFaWKOT8ttiP",
      "include_colab_link": true
    },
    "kernelspec": {
      "name": "python3",
      "display_name": "Python 3"
    },
    "language_info": {
      "name": "python"
    }
  },
  "cells": [
    {
      "cell_type": "markdown",
      "metadata": {
        "id": "view-in-github",
        "colab_type": "text"
      },
      "source": [
        "<a href=\"https://colab.research.google.com/github/wtfashwin/Python-/blob/main/Polymorphism_%26_Abstraction.ipynb\" target=\"_parent\"><img src=\"https://colab.research.google.com/assets/colab-badge.svg\" alt=\"Open In Colab\"/></a>"
      ]
    },
    {
      "cell_type": "markdown",
      "metadata": {
        "id": "f896d703"
      },
      "source": [
        "# Polymorphism\n",
        "\n",
        "Polymorphism, meaning \"many forms\", is a concept in object-oriented programming that allows objects of different classes to be treated as objects of a common superclass. In Python, polymorphism is achieved through method overriding and method overloading.\n",
        "\n",
        "## Method Overriding\n",
        "\n",
        "Method overriding is when a subclass provides a specific implementation for a method that is already defined in its superclass. The method in the subclass has the same name, return type, and arguments as the method in the superclass."
      ]
    },
    {
      "cell_type": "code",
      "metadata": {
        "id": "8e5935ac"
      },
      "source": [
        "class Animal:\n",
        "    def make_sound(self):\n",
        "        print(\"Generic animal sound\")\n",
        "\n",
        "class Dog(Animal):\n",
        "    def make_sound(self):\n",
        "        print(\"Woof!\")\n",
        "\n",
        "class Cat(Animal):\n",
        "    def make_sound(self):\n",
        "        print(\"Meow!\")\n",
        "\n",
        "animal = Animal()\n",
        "dog = Dog()\n",
        "cat = Cat()\n",
        "\n",
        "animal.make_sound()\n",
        "dog.make_sound()\n",
        "cat.make_sound()"
      ],
      "execution_count": null,
      "outputs": []
    },
    {
      "cell_type": "markdown",
      "metadata": {
        "id": "63ed6f18"
      },
      "source": [
        "## Method Overloading\n",
        "\n",
        "Method overloading is when a class has multiple methods with the same name but different parameters (number or type of arguments). Python does not support method overloading in the traditional sense like some other languages (e.g., Java). However, you can achieve similar functionality using default arguments, variable-length arguments (`*args` and `**kwargs`), or by implementing different logic within a single method based on the type or number of arguments passed."
      ]
    },
    {
      "cell_type": "code",
      "source": [
        "class Test:\n",
        "  def T1(self,a):\n",
        "    print('One Arg', a)\n",
        "  def T1(self,a,b):\n",
        "    print('2 Args: ', a, b)\n",
        "  def T1(self,a,b,c):\n",
        "    print('3 Args:' ,a,b,c)\n",
        "t = Test()\n",
        "# t.T1(1) - wont work as python updated\n",
        "# t.T1(1,2) - the value of T1 every time we passed args\n",
        "t.T1(1,2,3)"
      ],
      "metadata": {
        "colab": {
          "base_uri": "https://localhost:8080/"
        },
        "id": "PQUhsI9X_1Dj",
        "outputId": "e72f124c-c023-4871-f4e8-cb68c77e2fd0"
      },
      "execution_count": 9,
      "outputs": [
        {
          "output_type": "stream",
          "name": "stdout",
          "text": [
            "3 Args: 1 2 3\n"
          ]
        }
      ]
    },
    {
      "cell_type": "code",
      "metadata": {
        "colab": {
          "base_uri": "https://localhost:8080/"
        },
        "id": "ee2a9092",
        "outputId": "67ae19f6-f9e8-4870-d8d2-a6bf1b8f2291"
      },
      "source": [
        "class Calculator:\n",
        "    def add(self, a, b=None, c=None):\n",
        "        if b is not None and c is not None:\n",
        "            return a + b + c\n",
        "        elif b is not None:\n",
        "            return a + b\n",
        "        else:\n",
        "            return a\n",
        "\n",
        "calc = Calculator()\n",
        "print(calc.add(5))\n",
        "print(calc.add(5, 10))\n",
        "print(calc.add(5, 10, 15))"
      ],
      "execution_count": 10,
      "outputs": [
        {
          "output_type": "stream",
          "name": "stdout",
          "text": [
            "5\n",
            "15\n",
            "30\n"
          ]
        }
      ]
    },
    {
      "cell_type": "markdown",
      "metadata": {
        "id": "683692fe"
      },
      "source": [
        "## Other Concepts Related to Polymorphism\n",
        "\n",
        "*   **Duck Typing:** Python's philosophy of \"If it walks like a duck and quacks like a duck, it's a duck.\" This means that the type of an object is determined by its behavior (the methods it can call) rather than its explicit class. Polymorphism is a natural fit for duck typing.\n",
        "*   **Abstract Base Classes (ABCs):** Using the `abc` module, you can define abstract base classes that enforce certain methods to be implemented by subclasses, promoting a form of polymorphism."
      ]
    },
    {
      "cell_type": "code",
      "metadata": {
        "colab": {
          "base_uri": "https://localhost:8080/"
        },
        "id": "e1bafbde",
        "outputId": "a38c9c92-5f49-44e8-9d60-30a612f0dce8"
      },
      "source": [
        "from abc import ABC, abstractmethod\n",
        "\n",
        "class Shape(ABC):\n",
        "    @abstractmethod\n",
        "    def area(self):\n",
        "        pass\n",
        "\n",
        "class Circle(Shape):\n",
        "    def __init__(self, radius):\n",
        "        self.radius = radius\n",
        "\n",
        "    def area(self):\n",
        "        return 3.14 * self.radius * self.radius\n",
        "\n",
        "class Square(Shape):\n",
        "    def __init__(self, side):\n",
        "        self.side = side\n",
        "\n",
        "    def area(self):\n",
        "        return self.side * self.side\n",
        "\n",
        "# Demonstrate using ABCs for polymorphism\n",
        "circle = Circle(5)\n",
        "square = Square(4)\n",
        "\n",
        "print(circle.area())\n",
        "print(square.area())"
      ],
      "execution_count": 11,
      "outputs": [
        {
          "output_type": "stream",
          "name": "stdout",
          "text": [
            "78.5\n",
            "16\n"
          ]
        }
      ]
    },
    {
      "cell_type": "markdown",
      "source": [
        "# Operator Overloading\n"
      ],
      "metadata": {
        "id": "mRLdLbGG-pmK"
      }
    },
    {
      "cell_type": "code",
      "source": [
        "class Book:\n",
        "  def __init__(self, pages):\n",
        "    self.pages = pages\n",
        "\n",
        "  def __add__(self, other):\n",
        "    return self.pages + other.pages"
      ],
      "metadata": {
        "id": "D1hYA8eZ-ror"
      },
      "execution_count": 1,
      "outputs": []
    },
    {
      "cell_type": "code",
      "source": [
        "a = 6\n",
        "b = 3\n",
        "print(a*b)"
      ],
      "metadata": {
        "colab": {
          "base_uri": "https://localhost:8080/"
        },
        "id": "I5KxqoOA-9PW",
        "outputId": "05decce8-cc12-4c70-cfbc-86cd9230d129"
      },
      "execution_count": 2,
      "outputs": [
        {
          "output_type": "stream",
          "name": "stdout",
          "text": [
            "18\n"
          ]
        }
      ]
    },
    {
      "cell_type": "code",
      "source": [
        "3*'A'"
      ],
      "metadata": {
        "colab": {
          "base_uri": "https://localhost:8080/",
          "height": 55
        },
        "id": "Ua87l5Ap_aIW",
        "outputId": "40f76efb-a0c0-46c5-8b3d-3fdffe3c54d9"
      },
      "execution_count": 3,
      "outputs": [
        {
          "output_type": "execute_result",
          "data": {
            "text/plain": [
              "'AAA'"
            ],
            "application/vnd.google.colaboratory.intrinsic+json": {
              "type": "string"
            }
          },
          "metadata": {},
          "execution_count": 3
        }
      ]
    },
    {
      "cell_type": "markdown",
      "source": [
        "#Constructor Overloading\n",
        " - does not occur as python updates the info\n",
        ""
      ],
      "metadata": {
        "id": "3x40FVHbBrlQ"
      }
    },
    {
      "cell_type": "code",
      "source": [
        "class Student:\n",
        "  def __init__(self, Name):\n",
        "    self.name = Name\n",
        "    print('One Arg')\n",
        "  def __init__(self, Name, age):\n",
        "    self.name = Name\n",
        "    self.Age = age\n",
        "    print('Two Arg')"
      ],
      "metadata": {
        "id": "c_GfRAhI_cHq"
      },
      "execution_count": 14,
      "outputs": []
    },
    {
      "cell_type": "code",
      "source": [
        "s1 = Student('Ashwin', 21)\n",
        "# here we need to pass 2 args"
      ],
      "metadata": {
        "colab": {
          "base_uri": "https://localhost:8080/"
        },
        "id": "EMZM38bKB1MP",
        "outputId": "7aed0c86-f89f-4b61-88ed-cb00a2c49148"
      },
      "execution_count": 15,
      "outputs": [
        {
          "output_type": "stream",
          "name": "stdout",
          "text": [
            "Two Arg\n"
          ]
        }
      ]
    },
    {
      "cell_type": "code",
      "source": [
        "class st():\n",
        "  def __init__(self, Name=None, age=None):\n",
        "    if Name is None: self.Name = []\n",
        "    elif isinstance(Name, list): self.Name = Name\n",
        "    else:\n",
        "      self.name = [Name]\n",
        "      self.age = age"
      ],
      "metadata": {
        "id": "nh8Rt1X_Cz2a"
      },
      "execution_count": 20,
      "outputs": []
    },
    {
      "cell_type": "code",
      "source": [
        "s1 = st('Ashwin')\n",
        "s2 = st(['B', 'C'])\n",
        "s3 = st()"
      ],
      "metadata": {
        "id": "HuJSQHnvDo_2"
      },
      "execution_count": 23,
      "outputs": []
    },
    {
      "cell_type": "code",
      "source": [
        "print(s1.__dict__)\n",
        "print(s2.__dict__)\n",
        "print(s3.__dict__)"
      ],
      "metadata": {
        "colab": {
          "base_uri": "https://localhost:8080/"
        },
        "id": "cz3ew4WKD1kw",
        "outputId": "7c33a46f-a185-4fa8-b098-e0d0ecc5eac7"
      },
      "execution_count": 24,
      "outputs": [
        {
          "output_type": "stream",
          "name": "stdout",
          "text": [
            "{'name': ['Ashwin'], 'age': None}\n",
            "{'Name': ['B', 'C']}\n",
            "{'Name': []}\n"
          ]
        }
      ]
    },
    {
      "cell_type": "markdown",
      "source": [
        "Method Overriding"
      ],
      "metadata": {
        "id": "jcsjuzw-Gscx"
      }
    },
    {
      "cell_type": "code",
      "source": [
        "class parent():\n",
        "  def show(self):\n",
        "    print('This is my Parent class')\n",
        "class child(parent):\n",
        "  def show(self):\n",
        "    print('This is Child class')\n",
        "    super().show()\n",
        "c = child()\n",
        "c.show()"
      ],
      "metadata": {
        "colab": {
          "base_uri": "https://localhost:8080/"
        },
        "id": "XH7ReyMBD-zw",
        "outputId": "0f5e502f-7998-4145-f034-c80ec1af8475"
      },
      "execution_count": 26,
      "outputs": [
        {
          "output_type": "stream",
          "name": "stdout",
          "text": [
            "This is Child class\n",
            "This is my Parent class\n"
          ]
        }
      ]
    },
    {
      "cell_type": "markdown",
      "source": [
        "#Constructor Overriding\n",
        "- const in parent class and child class\n"
      ],
      "metadata": {
        "id": "_gVb3FgxHR0u"
      }
    },
    {
      "cell_type": "code",
      "source": [
        "class parent():\n",
        "  def __init__(self):\n",
        "    print('Parent Constructor called')\n",
        "class child(parent):\n",
        "  def __init__(self):\n",
        "    print('Child Constructor Called')\n",
        "c = child()\n"
      ],
      "metadata": {
        "colab": {
          "base_uri": "https://localhost:8080/"
        },
        "id": "upj-bihmGsA0",
        "outputId": "0e66a8a5-8de8-46c0-83be-d9c51b254021"
      },
      "execution_count": 32,
      "outputs": [
        {
          "output_type": "stream",
          "name": "stdout",
          "text": [
            "Child Constructor Called\n"
          ]
        }
      ]
    },
    {
      "cell_type": "code",
      "source": [
        "class parent():\n",
        "  def __init__(self):\n",
        "    print('Parent Constructor called')\n",
        "class child(parent):\n",
        "  def __init__(self):\n",
        "    super().__init__()\n",
        "    print('Child Constructor Called')\n",
        "c = child()"
      ],
      "metadata": {
        "colab": {
          "base_uri": "https://localhost:8080/"
        },
        "id": "pfKY3w_4H1Ml",
        "outputId": "5cb1db79-f6fd-4287-a312-6d7f2a19b97a"
      },
      "execution_count": 34,
      "outputs": [
        {
          "output_type": "stream",
          "name": "stdout",
          "text": [
            "Parent Constructor called\n",
            "Child Constructor Called\n"
          ]
        }
      ]
    },
    {
      "cell_type": "markdown",
      "source": [
        "#Duck Typing\n",
        "- No use\n",
        "- gives output basis on method"
      ],
      "metadata": {
        "id": "DgWNgWSmIiXm"
      }
    },
    {
      "cell_type": "code",
      "source": [
        "class duck():\n",
        "  def speak(self):\n",
        "    print('Quack')\n",
        "  def eat(self):\n",
        "    print('Eat Grains')\n",
        "class dog():\n",
        "  def speak(self):\n",
        "    print('Bark')\n",
        "  def eat(self):\n",
        "    print('Eat Bones')\n",
        "class cat():\n",
        "  def speak(self):\n",
        "    print('Meow')\n",
        "  def eat(self):\n",
        "    print('Eat Fish')\n",
        "\n",
        "d = duck()\n",
        "d.eat()\n",
        "d.speak()\n",
        "\n",
        "D = dog()\n",
        "D.eat()\n",
        "D.speak()\n",
        "\n",
        "C = cat()\n",
        "C.eat()\n",
        "C.speak()"
      ],
      "metadata": {
        "colab": {
          "base_uri": "https://localhost:8080/"
        },
        "id": "K4i6CV8kIQpm",
        "outputId": "951984c0-6f04-4139-ce3e-8b53cff5d4b3"
      },
      "execution_count": 47,
      "outputs": [
        {
          "output_type": "stream",
          "name": "stdout",
          "text": [
            "Eat Grains\n",
            "Quack\n",
            "Eat Bones\n",
            "Bark\n",
            "Eat Fish\n",
            "Meow\n"
          ]
        }
      ]
    },
    {
      "cell_type": "code",
      "source": [
        "def f1(o1):\n",
        "  o1.eat()\n",
        "  o1.speak()"
      ],
      "metadata": {
        "id": "NCXbmRFUKghe"
      },
      "execution_count": null,
      "outputs": []
    },
    {
      "cell_type": "markdown",
      "source": [
        "#Abstraction\n",
        "- import modules abc, and abstractmethod"
      ],
      "metadata": {
        "id": "il2wQcfCMntU"
      }
    },
    {
      "cell_type": "code",
      "source": [
        "from abc import ABC, abstractmethod"
      ],
      "metadata": {
        "id": "SU-44W36MxD_"
      },
      "execution_count": 49,
      "outputs": []
    },
    {
      "cell_type": "code",
      "source": [
        "class remotecontrol(ABC):\n",
        "  @abstractmethod\n",
        "  def turnon(self):\n",
        "    pass #logic\n",
        "  @abstractmethod\n",
        "  def turnoff(self):\n",
        "    pass#logic"
      ],
      "metadata": {
        "id": "F6K2yXZIM0B2"
      },
      "execution_count": 51,
      "outputs": []
    },
    {
      "cell_type": "code",
      "source": [
        "class tv(remotecontrol):\n",
        "  def turnon(self):\n",
        "    print('TV ON')\n",
        "  def turnoff(self):\n",
        "    print('TV OFF')\n",
        "c = tv()\n",
        "c.turnon()"
      ],
      "metadata": {
        "colab": {
          "base_uri": "https://localhost:8080/"
        },
        "id": "hFAbvobzM8WV",
        "outputId": "bf67533e-1671-4045-ad79-1c5f400741b9"
      },
      "execution_count": 52,
      "outputs": [
        {
          "output_type": "stream",
          "name": "stdout",
          "text": [
            "TV ON\n"
          ]
        }
      ]
    },
    {
      "cell_type": "code",
      "source": [
        "c.turnoff()"
      ],
      "metadata": {
        "colab": {
          "base_uri": "https://localhost:8080/"
        },
        "id": "I76vF7EQNkSS",
        "outputId": "19ba639c-3b45-411d-e9a8-62f1c6b59a8e"
      },
      "execution_count": 53,
      "outputs": [
        {
          "output_type": "stream",
          "name": "stdout",
          "text": [
            "TV OFF\n"
          ]
        }
      ]
    },
    {
      "cell_type": "code",
      "source": [],
      "metadata": {
        "id": "I-7ShjGXNmLI"
      },
      "execution_count": null,
      "outputs": []
    }
  ]
}