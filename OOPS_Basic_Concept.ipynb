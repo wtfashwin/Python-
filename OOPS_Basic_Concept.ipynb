{
  "nbformat": 4,
  "nbformat_minor": 0,
  "metadata": {
    "colab": {
      "provenance": [],
      "authorship_tag": "ABX9TyMVqJ3DtzFQ0EjZJo2QBpKh",
      "include_colab_link": true
    },
    "kernelspec": {
      "name": "python3",
      "display_name": "Python 3"
    },
    "language_info": {
      "name": "python"
    }
  },
  "cells": [
    {
      "cell_type": "markdown",
      "metadata": {
        "id": "view-in-github",
        "colab_type": "text"
      },
      "source": [
        "<a href=\"https://colab.research.google.com/github/wtfashwin/Python-/blob/main/OOPS_Basic_Concept.ipynb\" target=\"_parent\"><img src=\"https://colab.research.google.com/assets/colab-badge.svg\" alt=\"Open In Colab\"/></a>"
      ]
    },
    {
      "cell_type": "code",
      "execution_count": null,
      "metadata": {
        "id": "i_UG5tggikC1"
      },
      "outputs": [],
      "source": [
        "Objects are the physical existance of class\n",
        "class can be considered as a Blue print or Plan"
      ]
    },
    {
      "cell_type": "code",
      "source": [
        "class classname:\n",
        "  var > properties\n",
        "  methods > actions"
      ],
      "metadata": {
        "id": "XR_XLZoJmlB3"
      },
      "execution_count": null,
      "outputs": []
    },
    {
      "cell_type": "code",
      "source": [
        "class myclass:\n",
        "  c = 5\n",
        "  def func(self):\n",
        "    print('Mist')\n",
        "myclass()"
      ],
      "metadata": {
        "colab": {
          "base_uri": "https://localhost:8080/"
        },
        "id": "4jdCdetFm4bn",
        "outputId": "d79b29a8-b6e1-4845-c994-f8991f972438"
      },
      "execution_count": 9,
      "outputs": [
        {
          "output_type": "execute_result",
          "data": {
            "text/plain": [
              "<__main__.myclass at 0x78c56dcb0e90>"
            ]
          },
          "metadata": {},
          "execution_count": 9
        }
      ]
    },
    {
      "cell_type": "code",
      "source": [
        "obj1=myclass()\n",
        "obj1.c`"
      ],
      "metadata": {
        "colab": {
          "base_uri": "https://localhost:8080/"
        },
        "id": "08dgCHBYnO6b",
        "outputId": "89fd117c-65e3-4798-ab91-336b87e4eaeb"
      },
      "execution_count": 11,
      "outputs": [
        {
          "output_type": "execute_result",
          "data": {
            "text/plain": [
              "5"
            ]
          },
          "metadata": {},
          "execution_count": 11
        }
      ]
    },
    {
      "cell_type": "code",
      "source": [
        "obj1.c"
      ],
      "metadata": {
        "colab": {
          "base_uri": "https://localhost:8080/"
        },
        "id": "7jZyL5veoWC9",
        "outputId": "203a0e51-809c-485f-873b-716b3dcc49e7"
      },
      "execution_count": 13,
      "outputs": [
        {
          "output_type": "execute_result",
          "data": {
            "text/plain": [
              "5"
            ]
          },
          "metadata": {},
          "execution_count": 13
        }
      ]
    },
    {
      "cell_type": "code",
      "source": [
        "obj1.func()"
      ],
      "metadata": {
        "colab": {
          "base_uri": "https://localhost:8080/"
        },
        "id": "aUwyY5a7nWGh",
        "outputId": "465fe292-8a3a-4011-cc6f-5c405a5ad821"
      },
      "execution_count": 12,
      "outputs": [
        {
          "output_type": "stream",
          "name": "stdout",
          "text": [
            "Mist\n"
          ]
        }
      ]
    },
    {
      "cell_type": "markdown",
      "source": [
        "class\n",
        "object\n",
        "reference variable\n",
        "constructor\n",
        "method\n",
        "variable\n",
        "\n"
      ],
      "metadata": {
        "id": "D_xHSbBvpKTQ"
      }
    },
    {
      "cell_type": "markdown",
      "source": [
        "##Constructor\n",
        "- special type of method\n",
        "- used when we need to use it multiple types\n",
        "- automatically called when you create an object\n",
        "- once for one object\n",
        "- constructor are used to declare and initialize variables"
      ],
      "metadata": {
        "id": "_OXIdtBaqhJn"
      }
    },
    {
      "cell_type": "code",
      "source": [
        "##declared using __init__() keyword"
      ],
      "metadata": {
        "id": "dbl82oUOpJ8j"
      },
      "execution_count": 14,
      "outputs": []
    },
    {
      "cell_type": "code",
      "source": [
        "# class myclass:\n",
        "#   c = 5\n",
        "#   def func(self):\n",
        "#     print('Mist')\n",
        "# myclass()"
      ],
      "metadata": {
        "id": "GEBD4KywrqdV"
      },
      "execution_count": null,
      "outputs": []
    },
    {
      "cell_type": "code",
      "source": [
        "# Area of rec and perimeter\n",
        "class Rect:\n",
        "  def dimensions(self, l, w):\n",
        "    self.length = l\n",
        "    self.width = w\n",
        "  def cal_area(self):\n",
        "    return self.length * self.width\n",
        "  def cal_peri(self):\n",
        "    return 2 * self.length + self.width\n",
        ""
      ],
      "metadata": {
        "id": "ZEjRgtEpn4e4"
      },
      "execution_count": 17,
      "outputs": []
    },
    {
      "cell_type": "code",
      "source": [
        "# self has address of r\n",
        "\n",
        "r = Rect()\n",
        "r.dimensions(100, 50)\n",
        "print(r.cal_area())\n",
        "print(r.cal_peri())"
      ],
      "metadata": {
        "colab": {
          "base_uri": "https://localhost:8080/"
        },
        "id": "8lmPqDXDndV-",
        "outputId": "db0082e7-a2ee-4495-c886-c66cb27d34e9"
      },
      "execution_count": 22,
      "outputs": [
        {
          "output_type": "stream",
          "name": "stdout",
          "text": [
            "5000\n",
            "250\n"
          ]
        }
      ]
    },
    {
      "cell_type": "code",
      "source": [
        "# Area and circumference of a circle\n",
        "\n",
        "class cir:\n",
        "  pi = 3.14\n",
        "  def dim(self, r):\n",
        "    self.rad = r\n",
        "  def cal_area(self):\n",
        "    return cir.pi * self.rad * self.rad\n",
        "  def cal_circumf(self):\n",
        "    return 2 * cir.pi * self.rad\n",
        "c1 = cir()\n",
        "c1.dim(5)\n",
        "print(f\"Area: {c1.cal_area()}\")\n",
        "print(f\"Circumference: {c1.cal_circumf()}\")"
      ],
      "metadata": {
        "colab": {
          "base_uri": "https://localhost:8080/"
        },
        "id": "0j97BqsSs6g_",
        "outputId": "30de8ffc-b4c9-443b-98f9-635c8b1afc75"
      },
      "execution_count": 24,
      "outputs": [
        {
          "output_type": "stream",
          "name": "stdout",
          "text": [
            "Area: 78.5\n",
            "Circumference: 31.400000000000002\n"
          ]
        }
      ]
    },
    {
      "cell_type": "code",
      "source": [],
      "metadata": {
        "id": "UV0sDUDxvApf"
      },
      "execution_count": null,
      "outputs": []
    }
  ]
}