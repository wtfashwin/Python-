{
  "nbformat": 4,
  "nbformat_minor": 0,
  "metadata": {
    "colab": {
      "provenance": [],
      "include_colab_link": true
    },
    "kernelspec": {
      "name": "python3",
      "display_name": "Python 3"
    },
    "language_info": {
      "name": "python"
    }
  },
  "cells": [
    {
      "cell_type": "markdown",
      "metadata": {
        "id": "view-in-github",
        "colab_type": "text"
      },
      "source": [
        "<a href=\"https://colab.research.google.com/github/wtfashwin/Python-/blob/main/OOPS_Basic_Concept.ipynb\" target=\"_parent\"><img src=\"https://colab.research.google.com/assets/colab-badge.svg\" alt=\"Open In Colab\"/></a>"
      ]
    },
    {
      "cell_type": "markdown",
      "source": [
        "#Method - function inside class"
      ],
      "metadata": {
        "id": "aIhpPFkvcFA6"
      }
    },
    {
      "cell_type": "code",
      "execution_count": null,
      "metadata": {
        "id": "i_UG5tggikC1"
      },
      "outputs": [],
      "source": [
        "Objects are the physical existance of class\n",
        "class can be considered as a Blue print or Plan"
      ]
    },
    {
      "cell_type": "code",
      "source": [
        "class classname:\n",
        "  var > properties\n",
        "  methods > actions"
      ],
      "metadata": {
        "id": "XR_XLZoJmlB3"
      },
      "execution_count": null,
      "outputs": []
    },
    {
      "cell_type": "code",
      "source": [
        "class myclass:\n",
        "  c = 5\n",
        "  def func(self):\n",
        "    print('Mist')\n",
        "myclass()"
      ],
      "metadata": {
        "colab": {
          "base_uri": "https://localhost:8080/"
        },
        "id": "4jdCdetFm4bn",
        "outputId": "d79b29a8-b6e1-4845-c994-f8991f972438"
      },
      "execution_count": null,
      "outputs": [
        {
          "output_type": "execute_result",
          "data": {
            "text/plain": [
              "<__main__.myclass at 0x78c56dcb0e90>"
            ]
          },
          "metadata": {},
          "execution_count": 9
        }
      ]
    },
    {
      "cell_type": "code",
      "source": [
        "obj1=myclass()\n",
        "obj1.c`"
      ],
      "metadata": {
        "colab": {
          "base_uri": "https://localhost:8080/"
        },
        "id": "08dgCHBYnO6b",
        "outputId": "89fd117c-65e3-4798-ab91-336b87e4eaeb"
      },
      "execution_count": null,
      "outputs": [
        {
          "output_type": "execute_result",
          "data": {
            "text/plain": [
              "5"
            ]
          },
          "metadata": {},
          "execution_count": 11
        }
      ]
    },
    {
      "cell_type": "code",
      "source": [
        "obj1.c"
      ],
      "metadata": {
        "colab": {
          "base_uri": "https://localhost:8080/"
        },
        "id": "7jZyL5veoWC9",
        "outputId": "203a0e51-809c-485f-873b-716b3dcc49e7"
      },
      "execution_count": null,
      "outputs": [
        {
          "output_type": "execute_result",
          "data": {
            "text/plain": [
              "5"
            ]
          },
          "metadata": {},
          "execution_count": 13
        }
      ]
    },
    {
      "cell_type": "code",
      "source": [
        "obj1.func()"
      ],
      "metadata": {
        "colab": {
          "base_uri": "https://localhost:8080/"
        },
        "id": "aUwyY5a7nWGh",
        "outputId": "465fe292-8a3a-4011-cc6f-5c405a5ad821"
      },
      "execution_count": null,
      "outputs": [
        {
          "output_type": "stream",
          "name": "stdout",
          "text": [
            "Mist\n"
          ]
        }
      ]
    },
    {
      "cell_type": "markdown",
      "source": [
        "class\n",
        "object\n",
        "reference variable\n",
        "constructor\n",
        "method\n",
        "variable\n",
        "\n"
      ],
      "metadata": {
        "id": "D_xHSbBvpKTQ"
      }
    },
    {
      "cell_type": "markdown",
      "source": [
        "##Constructor\n",
        "- special type of method\n",
        "- used when we need to use it multiple types\n",
        "- automatically called when you create an object\n",
        "- once for one object\n",
        "- constructor are used to declare and initialize variables"
      ],
      "metadata": {
        "id": "_OXIdtBaqhJn"
      }
    },
    {
      "cell_type": "code",
      "source": [
        "##declared using __init__() keyword"
      ],
      "metadata": {
        "id": "dbl82oUOpJ8j"
      },
      "execution_count": null,
      "outputs": []
    },
    {
      "cell_type": "code",
      "source": [
        "# class myclass:\n",
        "#   c = 5\n",
        "#   def func(self):\n",
        "#     print('Mist')\n",
        "# myclass()"
      ],
      "metadata": {
        "id": "GEBD4KywrqdV"
      },
      "execution_count": null,
      "outputs": []
    },
    {
      "cell_type": "code",
      "source": [
        "# Area of rec and perimeter\n",
        "class Rect:\n",
        "  def dimensions(self, l, w):\n",
        "    self.length = l\n",
        "    self.width = w\n",
        "  def cal_area(self):\n",
        "    return self.length * self.width\n",
        "  def cal_peri(self):\n",
        "    return 2 * self.length + self.width\n"
      ],
      "metadata": {
        "id": "ZEjRgtEpn4e4"
      },
      "execution_count": null,
      "outputs": []
    },
    {
      "cell_type": "code",
      "source": [
        "# self has address of r\n",
        "\n",
        "r = Rect()\n",
        "r.dimensions(100, 50)\n",
        "print(r.cal_area())\n",
        "print(r.cal_peri())"
      ],
      "metadata": {
        "colab": {
          "base_uri": "https://localhost:8080/"
        },
        "id": "8lmPqDXDndV-",
        "outputId": "db0082e7-a2ee-4495-c886-c66cb27d34e9"
      },
      "execution_count": null,
      "outputs": [
        {
          "output_type": "stream",
          "name": "stdout",
          "text": [
            "5000\n",
            "250\n"
          ]
        }
      ]
    },
    {
      "cell_type": "code",
      "source": [
        "# Area and circumference of a circle\n",
        "\n",
        "class cir:\n",
        "  pi = 3.14\n",
        "  def dim(self, r):\n",
        "    self.rad = r\n",
        "  def cal_area(self):\n",
        "    return cir.pi * self.rad * self.rad\n",
        "  def cal_circumf(self):\n",
        "    return 2 * cir.pi * self.rad\n",
        "c1 = cir()\n",
        "c1.dim(5)\n",
        "print(f\"Area: {c1.cal_area()}\")\n",
        "print(f\"Circumference: {c1.cal_circumf()}\")"
      ],
      "metadata": {
        "colab": {
          "base_uri": "https://localhost:8080/"
        },
        "id": "0j97BqsSs6g_",
        "outputId": "30de8ffc-b4c9-443b-98f9-635c8b1afc75"
      },
      "execution_count": null,
      "outputs": [
        {
          "output_type": "stream",
          "name": "stdout",
          "text": [
            "Area: 78.5\n",
            "Circumference: 31.400000000000002\n"
          ]
        }
      ]
    },
    {
      "cell_type": "code",
      "source": [
        "class student:\n",
        "  def sd(self,first, last):\n",
        "    self.fname = first\n",
        "    self.lname = last\n",
        "  def display(self):\n",
        "    print(self.fname)\n",
        "    print(self.lname)"
      ],
      "metadata": {
        "id": "UV0sDUDxvApf"
      },
      "execution_count": null,
      "outputs": []
    },
    {
      "cell_type": "code",
      "source": [],
      "metadata": {
        "id": "bbe_428_1bv6"
      },
      "execution_count": null,
      "outputs": []
    },
    {
      "cell_type": "code",
      "source": [
        "class student:\n",
        "  def __init__(self,first, last):\n",
        "    self.fname = first\n",
        "    self.lname = last\n",
        "  def display(self):\n",
        "    print(self.fname)\n",
        "    print(self.lname)\n",
        "s = student('Ashwin', 'Upadhyay')\n",
        "s.display()"
      ],
      "metadata": {
        "id": "M7kskbM2w6d9",
        "outputId": "507bec14-c027-4363-87df-035bf92ea74d",
        "colab": {
          "base_uri": "https://localhost:8080/"
        }
      },
      "execution_count": null,
      "outputs": [
        {
          "output_type": "stream",
          "name": "stdout",
          "text": [
            "Ashwin\n",
            "Upadhyay\n"
          ]
        }
      ]
    },
    {
      "cell_type": "markdown",
      "source": [
        "## Instance Variable\n",
        "\n",
        "- inside constructor\n",
        "- inside other instance var\n",
        "- outside class\n",
        "\n",
        "* New seperate copies for each obj\n",
        "* By default all methods are instance methods"
      ],
      "metadata": {
        "id": "jLuPlJUOTWa9"
      }
    },
    {
      "cell_type": "code",
      "source": [
        "class student:\n",
        "  def __init__(self, name, age):\n",
        "    self.name = name # instance var\n",
        "    self.age = age # instance var"
      ],
      "metadata": {
        "id": "uyZlvMubxNnT"
      },
      "execution_count": null,
      "outputs": []
    },
    {
      "cell_type": "code",
      "source": [
        "class student:\n",
        "  def sd(self, name, age):\n",
        "    self.fname = name # inside other instance var\n",
        "    self.aage = age # instance var"
      ],
      "metadata": {
        "id": "_FBOQYrNUv2M"
      },
      "execution_count": null,
      "outputs": []
    },
    {
      "cell_type": "code",
      "source": [
        "class student:\n",
        "  def __init__(self, name):\n",
        "    self.name = name # instance\n",
        "s1 =student('Ashw')\n",
        "s1.age = 21\n",
        "print(s1.age)"
      ],
      "metadata": {
        "colab": {
          "base_uri": "https://localhost:8080/"
        },
        "id": "GS4QVsL3VGOl",
        "outputId": "9e6fb1d1-742f-4604-8700-aad77142bd7d"
      },
      "execution_count": 1,
      "outputs": [
        {
          "output_type": "stream",
          "name": "stdout",
          "text": [
            "21\n"
          ]
        }
      ]
    },
    {
      "cell_type": "code",
      "source": [
        "class Test:\n",
        "  def __init__(self,x,y):\n",
        "    self.a = x\n",
        "    self.b = y\n",
        "t1 = Test(10,20)\n",
        "print(t1.a)"
      ],
      "metadata": {
        "colab": {
          "base_uri": "https://localhost:8080/"
        },
        "id": "uIg2HMWNVWZ-",
        "outputId": "f2ab5aa8-cb47-49b4-9102-b2d7b24a0a5c"
      },
      "execution_count": 2,
      "outputs": [
        {
          "output_type": "stream",
          "name": "stdout",
          "text": [
            "10\n"
          ]
        }
      ]
    },
    {
      "cell_type": "code",
      "source": [
        "class info:\n",
        "  def __init__(self,x,y):\n",
        "    self.a = x\n",
        "    self.b = y\n",
        "t1 = info('Bob',20)\n",
        "print(t1.a)"
      ],
      "metadata": {
        "colab": {
          "base_uri": "https://localhost:8080/"
        },
        "id": "GOjF6GLDXMA8",
        "outputId": "5d125009-b2c7-4d1c-f4b6-5beb206b6736"
      },
      "execution_count": 3,
      "outputs": [
        {
          "output_type": "stream",
          "name": "stdout",
          "text": [
            "10\n"
          ]
        }
      ]
    },
    {
      "cell_type": "code",
      "metadata": {
        "colab": {
          "base_uri": "https://localhost:8080/"
        },
        "id": "39872bd5",
        "outputId": "50b04040-d5b3-4ff7-aab4-d0be8f317124"
      },
      "source": [
        "class mob_ph:\n",
        "  def __init__(self, brand, model, price):\n",
        "    self.brand = brand\n",
        "    self.model = model\n",
        "    self.price = price\n",
        "\n",
        "  def display(self):\n",
        "    print(self.brand)\n",
        "    print(self.model)\n",
        "    print(self.price)\n",
        "\n",
        "my_phone = mob_ph(\"MI\", \"Note\", 800)\n",
        "my_phone.display()"
      ],
      "execution_count": 6,
      "outputs": [
        {
          "output_type": "stream",
          "name": "stdout",
          "text": [
            "MI\n",
            "Note\n",
            "800\n"
          ]
        }
      ]
    },
    {
      "cell_type": "code",
      "source": [
        "#Referencing instance var outside class\n",
        "class mob_ph:\n",
        "  def __init__(self, brand, model, price):\n",
        "    self.brand = brand\n",
        "    self.model = model\n",
        "    self.price = price\n",
        "my_phone = mob_ph(\"MI\", \"Note\", 800)\n",
        "print(my_phone.brand)\n",
        "print(my_phone.model)\n",
        "print(my_phone.price)"
      ],
      "metadata": {
        "id": "mnBOm0zYYV27",
        "outputId": "d8b1cc85-1ae1-4eff-d400-304a27475ee2",
        "colab": {
          "base_uri": "https://localhost:8080/"
        }
      },
      "execution_count": 9,
      "outputs": [
        {
          "output_type": "stream",
          "name": "stdout",
          "text": [
            "MI\n",
            "Note\n",
            "800\n"
          ]
        }
      ]
    },
    {
      "cell_type": "markdown",
      "source": [
        "##Static variable\n",
        "\n",
        "- do not change from object to object\n",
        "- create only the memory which was allocated till end\n",
        "\n",
        "\n",
        "1. Inside class , but outside any method\n",
        "2. Inside constructor by using class name\n",
        "3. Inside the instance method using class name\n",
        "4. Inside class method by using class name and cls\n",
        "5. Inside the static mthod using class name\n",
        "6. Outside of class using class name"
      ],
      "metadata": {
        "id": "hj9qQNlsabv0"
      }
    },
    {
      "cell_type": "markdown",
      "source": [
        "###Instance Method:\n",
        " - whenever we have instance var + static var + local var present\n",
        " - first argument : self\n",
        " - by default it it instance method\n",
        "\n",
        "### Class Method:\n",
        " - whenever we have static var + local var\n",
        " - first arg : cls\n",
        "\n",
        "### Static Method:\n",
        "- Only local variable\n",
        "- arg : no compulsary, only method, sometimes not ; can say no args needed\n",
        "\n",
        "**cls : reference to class , stores address of class , self = reference to object**"
      ],
      "metadata": {
        "id": "om09ZrNGcLs9"
      }
    },
    {
      "cell_type": "code",
      "source": [
        "#Static variable : value unchanged object to object\n",
        "class student:\n",
        "  school_name = 'XYZ'\n",
        "  def __init__(self,name,rno):\n",
        "    self.name=name\n",
        "    self.rno=rno\n",
        "  def getstudentinfo(self):\n",
        "    print('Student Name:', self.name ,'\\n', 'Roll No :', self.rno)\n",
        "obj1 = student('Ashwi', 22)\n",
        "obj1.getstudentinfo()\n",
        "obj1.name\n",
        "print('School Name:', student.school_name)\n",
        "# inside the class = self, classname\n",
        "# outside the class = ref var, classname"
      ],
      "metadata": {
        "id": "7IeVphZ4de39",
        "outputId": "8507d6d0-6e82-4330-82fa-f191125e20d5",
        "colab": {
          "base_uri": "https://localhost:8080/"
        }
      },
      "execution_count": 15,
      "outputs": [
        {
          "output_type": "stream",
          "name": "stdout",
          "text": [
            "Student Name: Ashwi \n",
            " Roll No : 22\n",
            "School Name: XYZ\n"
          ]
        }
      ]
    },
    {
      "cell_type": "code",
      "source": [
        "class car:\n",
        "  tc = 0\n",
        "  def __init__(self, make, model):\n",
        "    self.make = make\n",
        "    self.model = model\n",
        "    car.tc += 1\n",
        "  def display(self):\n",
        "    print('Make: ', self.make, 'Model: ', self.model)\n",
        "c1 = car('Acb' , 'efc')\n",
        "c2 = car('xyz', 'hjl')\n",
        "c1.display()\n",
        "c2.display()"
      ],
      "metadata": {
        "id": "HSDE1CsBZPBt",
        "outputId": "04c74821-ca7e-4ea1-d39b-0f3d849167ea",
        "colab": {
          "base_uri": "https://localhost:8080/"
        }
      },
      "execution_count": 17,
      "outputs": [
        {
          "output_type": "stream",
          "name": "stdout",
          "text": [
            "Make:  Acb Model:  efc\n",
            "Make:  xyz Model:  hjl\n"
          ]
        }
      ]
    },
    {
      "cell_type": "code",
      "source": [
        "c1.tc"
      ],
      "metadata": {
        "id": "Y8AR6qPsgkw-",
        "outputId": "2175d748-dcff-48c2-d9c6-37a7112ef344",
        "colab": {
          "base_uri": "https://localhost:8080/"
        }
      },
      "execution_count": 18,
      "outputs": [
        {
          "output_type": "execute_result",
          "data": {
            "text/plain": [
              "2"
            ]
          },
          "metadata": {},
          "execution_count": 18
        }
      ]
    },
    {
      "cell_type": "code",
      "source": [
        "class car:\n",
        "  tc = 0\n",
        "  def __init__(self, make, model):\n",
        "    self.make = make\n",
        "    self.model = model\n",
        "    car.tc += 1\n",
        "  def display(self):\n",
        "    print('Make: ', self.make, 'Model: ', self.model)\n",
        "\n",
        "c1 = car('A', 'W')\n",
        "c2 = car('B', 'X')\n",
        "c3 = car('C', 'Y')\n",
        "c4 = car('D', 'Z')\n",
        "\n",
        "c1.display()\n",
        "c2.display()\n",
        "c3.display()\n",
        "c4.display()"
      ],
      "metadata": {
        "id": "JDHC-oswguXN",
        "outputId": "83fbd61e-f65e-4e69-b54a-1540a8d6e948",
        "colab": {
          "base_uri": "https://localhost:8080/"
        }
      },
      "execution_count": 21,
      "outputs": [
        {
          "output_type": "stream",
          "name": "stdout",
          "text": [
            "Make:  A Model:  W\n",
            "Make:  B Model:  X\n",
            "Make:  C Model:  Y\n",
            "Make:  D Model:  Z\n"
          ]
        }
      ]
    },
    {
      "cell_type": "code",
      "source": [
        "class variable:\n",
        "  static_variable = 'I am Static'\n",
        "  def __init__(self, val):\n",
        "    self.iv = val\n",
        "    print('Instance Variable: ', self.iv)\n",
        "  def local(self):\n",
        "    l = 'I am Local'\n",
        "    print('Local Variable: ', l)\n",
        "  def static(self):\n",
        "    print('Static Variable: ', variable.static_variable)\n",
        "obj2 = variable('I am Instance Variable')\n",
        "obj2.local()\n",
        "obj2.static()"
      ],
      "metadata": {
        "id": "n5moOCW1hK_z",
        "outputId": "f2b2fb42-0fa2-45ee-ffcc-785f47f0eea7",
        "colab": {
          "base_uri": "https://localhost:8080/"
        }
      },
      "execution_count": 28,
      "outputs": [
        {
          "output_type": "stream",
          "name": "stdout",
          "text": [
            "Instance Variable:  I am Instance Variable\n",
            "Local Variable:  I am Local\n",
            "Static Variable:  I am Static\n"
          ]
        }
      ]
    },
    {
      "cell_type": "code",
      "source": [
        "class Car:\n",
        "  wheels = 4\n",
        "  @classmethod\n",
        "  def set_wheels(cls, ct):\n",
        "    cls.wheels = ct\n",
        "    print(cls.wheels)"
      ],
      "metadata": {
        "id": "Lh9T4y04hasj"
      },
      "execution_count": 29,
      "outputs": []
    },
    {
      "cell_type": "code",
      "source": [
        "Car.set_wheels(2)"
      ],
      "metadata": {
        "id": "s8nyh0Sykw6c",
        "outputId": "48a104da-8d78-44d9-be2a-f697ffe3c85f",
        "colab": {
          "base_uri": "https://localhost:8080/"
        }
      },
      "execution_count": 33,
      "outputs": [
        {
          "output_type": "stream",
          "name": "stdout",
          "text": [
            "2\n"
          ]
        }
      ]
    },
    {
      "cell_type": "code",
      "source": [
        "class math:\n",
        "  @staticmethod\n",
        "  def add(x,y):\n",
        "    return x+y\n",
        "r = math.add(3,4)\n",
        "print(r)"
      ],
      "metadata": {
        "id": "FEnySemPk3LQ",
        "outputId": "44582b04-1167-49f8-b9f6-cc7c276f9901",
        "colab": {
          "base_uri": "https://localhost:8080/"
        }
      },
      "execution_count": 36,
      "outputs": [
        {
          "output_type": "stream",
          "name": "stdout",
          "text": [
            "7\n"
          ]
        }
      ]
    },
    {
      "cell_type": "code",
      "source": [],
      "metadata": {
        "id": "qgdlQ62glZZi"
      },
      "execution_count": null,
      "outputs": []
    }
  ]
}