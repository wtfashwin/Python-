{
  "nbformat": 4,
  "nbformat_minor": 0,
  "metadata": {
    "colab": {
      "provenance": [],
      "authorship_tag": "ABX9TyNwB82/EGmVjC724X+X+TEK",
      "include_colab_link": true
    },
    "kernelspec": {
      "name": "python3",
      "display_name": "Python 3"
    },
    "language_info": {
      "name": "python"
    }
  },
  "cells": [
    {
      "cell_type": "markdown",
      "metadata": {
        "id": "view-in-github",
        "colab_type": "text"
      },
      "source": [
        "<a href=\"https://colab.research.google.com/github/wtfashwin/Python-/blob/main/Data_Manipulation_%26_Matplotlib.ipynb\" target=\"_parent\"><img src=\"https://colab.research.google.com/assets/colab-badge.svg\" alt=\"Open In Colab\"/></a>"
      ]
    },
    {
      "cell_type": "code",
      "execution_count": 1,
      "metadata": {
        "colab": {
          "base_uri": "https://localhost:8080/"
        },
        "id": "MiocNMhZJlIV",
        "outputId": "7313425b-44cb-49dd-833d-f52b260d05d2"
      },
      "outputs": [
        {
          "output_type": "stream",
          "name": "stdout",
          "text": [
            "sample_data.csv file has been created successfully in your current directory.\n",
            "\n",
            "Here is the content of the file:\n",
            "Day,Temperature,Windspeed,Event\n",
            "01-01-2024,32,6,Rain\n",
            "02-01-2024,35,7,Sunny\n",
            "03-01-2024,23,2,Snow\n",
            "04-01-2024,24,7,Snow\n",
            "05-01-2024,29,4,Rain\n",
            "06-01-2024,37,8,Sunny\n",
            "07-01-2024,38,7,Sunny\n",
            "08-01-2024,27,5,Rain\n",
            "09-01-2024,22,1,Snow\n",
            "\n"
          ]
        }
      ],
      "source": [
        "import pandas as pd\n",
        "\n",
        "# Create a dictionary with the data from the image\n",
        "data = {\n",
        "    'Day': ['01-01-2024', '02-01-2024', '03-01-2024', '04-01-2024', '05-01-2024', '06-01-2024', '07-01-2024', '08-01-2024', '09-01-2024'],\n",
        "    'Temperature': [32, 35, 23, 24, 29, 37, 38, 27, 22],\n",
        "    'Windspeed': [6, 7, 2, 7, 4, 8, 7, 5, 1],\n",
        "    'Event': ['Rain', 'Sunny', 'Snow', 'Snow', 'Rain', 'Sunny', 'Sunny', 'Rain', 'Snow']\n",
        "}\n",
        "\n",
        "# Create a DataFrame from the dictionary\n",
        "df = pd.DataFrame(data)\n",
        "\n",
        "# Save the DataFrame to a CSV file named 'sample_data.csv'\n",
        "# index=False is used to prevent pandas from writing the DataFrame index to the CSV file\n",
        "df.to_csv('sample_data.csv', index=False)\n",
        "\n",
        "print(\"sample_data.csv file has been created successfully in your current directory.\")\n",
        "print(\"\\nHere is the content of the file:\")\n",
        "\n",
        "# Read the created file and print its content to verify\n",
        "with open('sample_data.csv', 'r') as f:\n",
        "    print(f.read())"
      ]
    },
    {
      "cell_type": "code",
      "source": [
        "# Cannot concat dict\n",
        "#only Series and DataFrame objs are valid\n",
        "\n",
        "nr = {'Day':'10-01-2024',\n",
        "      'Temperature':38,\n",
        "      'Windspeed':8,\n",
        "      'Event':'Sunny'\n",
        "}\n",
        "\n",
        "df1 = pd.DataFrame([nr])\n",
        "df = pd.concat([df, df1], ignore_index=True)\n",
        "#ignore_index=True if not given adds a new one\n",
        "#hence we\n",
        "print(df)"
      ],
      "metadata": {
        "colab": {
          "base_uri": "https://localhost:8080/"
        },
        "id": "oY2TEmWxKsb9",
        "outputId": "e1515ac5-9014-40e5-e9ad-981a90bb8a2a"
      },
      "execution_count": 8,
      "outputs": [
        {
          "output_type": "stream",
          "name": "stdout",
          "text": [
            "           Day  Temperature  Windspeed  Event  Temp\n",
            "0   01-01-2024         32.0          6   Rain   NaN\n",
            "1   02-01-2024         35.0          7  Sunny   NaN\n",
            "2   03-01-2024         23.0          2   Snow   NaN\n",
            "3   04-01-2024         24.0          7   Snow   NaN\n",
            "4   05-01-2024         29.0          4   Rain   NaN\n",
            "5   06-01-2024         37.0          8  Sunny   NaN\n",
            "6   07-01-2024         38.0          7  Sunny   NaN\n",
            "7   08-01-2024         27.0          5   Rain   NaN\n",
            "8   09-01-2024         22.0          1   Snow   NaN\n",
            "9   10-01-2024          NaN          8  Sunny  38.0\n",
            "10  10-01-2024          NaN          8  Sunny  38.0\n",
            "11  10-01-2024         38.0          8  Sunny   NaN\n",
            "12  10-01-2024         38.0          8  Sunny   NaN\n"
          ]
        }
      ]
    },
    {
      "cell_type": "code",
      "source": [
        "#for more than one record, we can use list\n",
        "nr  = {'Day':['11-01-2024', '10-03-2025'],\n",
        "       'Temperature':['37', '33'],\n",
        "       'Windspeed':['9', '19'],\n",
        "       'Event': ['Sunny', 'Rain']\n",
        "       }\n",
        "\n",
        "new_records_df = pd.DataFrame(nr)\n",
        "df = pd.concat([df, new_records_df], ignore_index=True)\n",
        "print(df)"
      ],
      "metadata": {
        "colab": {
          "base_uri": "https://localhost:8080/"
        },
        "id": "aUwyBmvkLHN3",
        "outputId": "8d488519-9e72-489b-a3f1-5924dc91a8ae"
      },
      "execution_count": 9,
      "outputs": [
        {
          "output_type": "stream",
          "name": "stdout",
          "text": [
            "           Day Temperature Windspeed  Event  Temp\n",
            "0   01-01-2024        32.0         6   Rain   NaN\n",
            "1   02-01-2024        35.0         7  Sunny   NaN\n",
            "2   03-01-2024        23.0         2   Snow   NaN\n",
            "3   04-01-2024        24.0         7   Snow   NaN\n",
            "4   05-01-2024        29.0         4   Rain   NaN\n",
            "5   06-01-2024        37.0         8  Sunny   NaN\n",
            "6   07-01-2024        38.0         7  Sunny   NaN\n",
            "7   08-01-2024        27.0         5   Rain   NaN\n",
            "8   09-01-2024        22.0         1   Snow   NaN\n",
            "9   10-01-2024         NaN         8  Sunny  38.0\n",
            "10  10-01-2024         NaN         8  Sunny  38.0\n",
            "11  10-01-2024        38.0         8  Sunny   NaN\n",
            "12  10-01-2024        38.0         8  Sunny   NaN\n",
            "13  11-01-2024          37         9  Sunny   NaN\n",
            "14  10-03-2025          33        19   Rain   NaN\n"
          ]
        }
      ]
    },
    {
      "cell_type": "code",
      "source": [
        "insert_at = 2\n",
        "insert_att = 1\n",
        "df_top = df.iloc[:insert_at]\n",
        "df_bottom=df.iloc[insert_att:]"
      ],
      "metadata": {
        "id": "YRsaeLAXM4Mg"
      },
      "execution_count": 13,
      "outputs": []
    },
    {
      "cell_type": "code",
      "source": [
        "df = pd.concat([df_top, df1,df_bottom],ignore_index=True)\n",
        "print(df)"
      ],
      "metadata": {
        "colab": {
          "base_uri": "https://localhost:8080/"
        },
        "id": "kovVtWwrNF-u",
        "outputId": "5e175948-e12d-473e-ccfb-43c9ac91957a"
      },
      "execution_count": 15,
      "outputs": [
        {
          "output_type": "stream",
          "name": "stdout",
          "text": [
            "           Day Temperature Windspeed  Event  Temp\n",
            "0   01-01-2024        32.0         6   Rain   NaN\n",
            "1   02-01-2024        35.0         7  Sunny   NaN\n",
            "2   10-01-2024          38         8  Sunny   NaN\n",
            "3   02-01-2024        35.0         7  Sunny   NaN\n",
            "4   03-01-2024        23.0         2   Snow   NaN\n",
            "5   04-01-2024        24.0         7   Snow   NaN\n",
            "6   05-01-2024        29.0         4   Rain   NaN\n",
            "7   06-01-2024        37.0         8  Sunny   NaN\n",
            "8   07-01-2024        38.0         7  Sunny   NaN\n",
            "9   08-01-2024        27.0         5   Rain   NaN\n",
            "10  09-01-2024        22.0         1   Snow   NaN\n",
            "11  10-01-2024         NaN         8  Sunny  38.0\n",
            "12  10-01-2024         NaN         8  Sunny  38.0\n",
            "13  10-01-2024        38.0         8  Sunny   NaN\n",
            "14  10-01-2024        38.0         8  Sunny   NaN\n",
            "15  11-01-2024          37         9  Sunny   NaN\n",
            "16  10-03-2025          33        19   Rain   NaN\n"
          ]
        }
      ]
    },
    {
      "cell_type": "code",
      "source": [
        "df = df.drop('Temp', axis=1)\n",
        "display(df)"
      ],
      "metadata": {
        "colab": {
          "base_uri": "https://localhost:8080/",
          "height": 582
        },
        "id": "5VCAEY7wNhvD",
        "outputId": "2ac0685c-ac79-4d30-f163-ab77bdbfb609"
      },
      "execution_count": 16,
      "outputs": [
        {
          "output_type": "display_data",
          "data": {
            "text/plain": [
              "           Day Temperature Windspeed  Event\n",
              "0   01-01-2024        32.0         6   Rain\n",
              "1   02-01-2024        35.0         7  Sunny\n",
              "2   10-01-2024          38         8  Sunny\n",
              "3   02-01-2024        35.0         7  Sunny\n",
              "4   03-01-2024        23.0         2   Snow\n",
              "5   04-01-2024        24.0         7   Snow\n",
              "6   05-01-2024        29.0         4   Rain\n",
              "7   06-01-2024        37.0         8  Sunny\n",
              "8   07-01-2024        38.0         7  Sunny\n",
              "9   08-01-2024        27.0         5   Rain\n",
              "10  09-01-2024        22.0         1   Snow\n",
              "11  10-01-2024         NaN         8  Sunny\n",
              "12  10-01-2024         NaN         8  Sunny\n",
              "13  10-01-2024        38.0         8  Sunny\n",
              "14  10-01-2024        38.0         8  Sunny\n",
              "15  11-01-2024          37         9  Sunny\n",
              "16  10-03-2025          33        19   Rain"
            ],
            "text/html": [
              "\n",
              "  <div id=\"df-cb116b6c-bf86-4cfd-bfb2-b3a0136d6455\" class=\"colab-df-container\">\n",
              "    <div>\n",
              "<style scoped>\n",
              "    .dataframe tbody tr th:only-of-type {\n",
              "        vertical-align: middle;\n",
              "    }\n",
              "\n",
              "    .dataframe tbody tr th {\n",
              "        vertical-align: top;\n",
              "    }\n",
              "\n",
              "    .dataframe thead th {\n",
              "        text-align: right;\n",
              "    }\n",
              "</style>\n",
              "<table border=\"1\" class=\"dataframe\">\n",
              "  <thead>\n",
              "    <tr style=\"text-align: right;\">\n",
              "      <th></th>\n",
              "      <th>Day</th>\n",
              "      <th>Temperature</th>\n",
              "      <th>Windspeed</th>\n",
              "      <th>Event</th>\n",
              "    </tr>\n",
              "  </thead>\n",
              "  <tbody>\n",
              "    <tr>\n",
              "      <th>0</th>\n",
              "      <td>01-01-2024</td>\n",
              "      <td>32.0</td>\n",
              "      <td>6</td>\n",
              "      <td>Rain</td>\n",
              "    </tr>\n",
              "    <tr>\n",
              "      <th>1</th>\n",
              "      <td>02-01-2024</td>\n",
              "      <td>35.0</td>\n",
              "      <td>7</td>\n",
              "      <td>Sunny</td>\n",
              "    </tr>\n",
              "    <tr>\n",
              "      <th>2</th>\n",
              "      <td>10-01-2024</td>\n",
              "      <td>38</td>\n",
              "      <td>8</td>\n",
              "      <td>Sunny</td>\n",
              "    </tr>\n",
              "    <tr>\n",
              "      <th>3</th>\n",
              "      <td>02-01-2024</td>\n",
              "      <td>35.0</td>\n",
              "      <td>7</td>\n",
              "      <td>Sunny</td>\n",
              "    </tr>\n",
              "    <tr>\n",
              "      <th>4</th>\n",
              "      <td>03-01-2024</td>\n",
              "      <td>23.0</td>\n",
              "      <td>2</td>\n",
              "      <td>Snow</td>\n",
              "    </tr>\n",
              "    <tr>\n",
              "      <th>5</th>\n",
              "      <td>04-01-2024</td>\n",
              "      <td>24.0</td>\n",
              "      <td>7</td>\n",
              "      <td>Snow</td>\n",
              "    </tr>\n",
              "    <tr>\n",
              "      <th>6</th>\n",
              "      <td>05-01-2024</td>\n",
              "      <td>29.0</td>\n",
              "      <td>4</td>\n",
              "      <td>Rain</td>\n",
              "    </tr>\n",
              "    <tr>\n",
              "      <th>7</th>\n",
              "      <td>06-01-2024</td>\n",
              "      <td>37.0</td>\n",
              "      <td>8</td>\n",
              "      <td>Sunny</td>\n",
              "    </tr>\n",
              "    <tr>\n",
              "      <th>8</th>\n",
              "      <td>07-01-2024</td>\n",
              "      <td>38.0</td>\n",
              "      <td>7</td>\n",
              "      <td>Sunny</td>\n",
              "    </tr>\n",
              "    <tr>\n",
              "      <th>9</th>\n",
              "      <td>08-01-2024</td>\n",
              "      <td>27.0</td>\n",
              "      <td>5</td>\n",
              "      <td>Rain</td>\n",
              "    </tr>\n",
              "    <tr>\n",
              "      <th>10</th>\n",
              "      <td>09-01-2024</td>\n",
              "      <td>22.0</td>\n",
              "      <td>1</td>\n",
              "      <td>Snow</td>\n",
              "    </tr>\n",
              "    <tr>\n",
              "      <th>11</th>\n",
              "      <td>10-01-2024</td>\n",
              "      <td>NaN</td>\n",
              "      <td>8</td>\n",
              "      <td>Sunny</td>\n",
              "    </tr>\n",
              "    <tr>\n",
              "      <th>12</th>\n",
              "      <td>10-01-2024</td>\n",
              "      <td>NaN</td>\n",
              "      <td>8</td>\n",
              "      <td>Sunny</td>\n",
              "    </tr>\n",
              "    <tr>\n",
              "      <th>13</th>\n",
              "      <td>10-01-2024</td>\n",
              "      <td>38.0</td>\n",
              "      <td>8</td>\n",
              "      <td>Sunny</td>\n",
              "    </tr>\n",
              "    <tr>\n",
              "      <th>14</th>\n",
              "      <td>10-01-2024</td>\n",
              "      <td>38.0</td>\n",
              "      <td>8</td>\n",
              "      <td>Sunny</td>\n",
              "    </tr>\n",
              "    <tr>\n",
              "      <th>15</th>\n",
              "      <td>11-01-2024</td>\n",
              "      <td>37</td>\n",
              "      <td>9</td>\n",
              "      <td>Sunny</td>\n",
              "    </tr>\n",
              "    <tr>\n",
              "      <th>16</th>\n",
              "      <td>10-03-2025</td>\n",
              "      <td>33</td>\n",
              "      <td>19</td>\n",
              "      <td>Rain</td>\n",
              "    </tr>\n",
              "  </tbody>\n",
              "</table>\n",
              "</div>\n",
              "    <div class=\"colab-df-buttons\">\n",
              "\n",
              "  <div class=\"colab-df-container\">\n",
              "    <button class=\"colab-df-convert\" onclick=\"convertToInteractive('df-cb116b6c-bf86-4cfd-bfb2-b3a0136d6455')\"\n",
              "            title=\"Convert this dataframe to an interactive table.\"\n",
              "            style=\"display:none;\">\n",
              "\n",
              "  <svg xmlns=\"http://www.w3.org/2000/svg\" height=\"24px\" viewBox=\"0 -960 960 960\">\n",
              "    <path d=\"M120-120v-720h720v720H120Zm60-500h600v-160H180v160Zm220 220h160v-160H400v160Zm0 220h160v-160H400v160ZM180-400h160v-160H180v160Zm440 0h160v-160H620v160ZM180-180h160v-160H180v160Zm440 0h160v-160H620v160Z\"/>\n",
              "  </svg>\n",
              "    </button>\n",
              "\n",
              "  <style>\n",
              "    .colab-df-container {\n",
              "      display:flex;\n",
              "      gap: 12px;\n",
              "    }\n",
              "\n",
              "    .colab-df-convert {\n",
              "      background-color: #E8F0FE;\n",
              "      border: none;\n",
              "      border-radius: 50%;\n",
              "      cursor: pointer;\n",
              "      display: none;\n",
              "      fill: #1967D2;\n",
              "      height: 32px;\n",
              "      padding: 0 0 0 0;\n",
              "      width: 32px;\n",
              "    }\n",
              "\n",
              "    .colab-df-convert:hover {\n",
              "      background-color: #E2EBFA;\n",
              "      box-shadow: 0px 1px 2px rgba(60, 64, 67, 0.3), 0px 1px 3px 1px rgba(60, 64, 67, 0.15);\n",
              "      fill: #174EA6;\n",
              "    }\n",
              "\n",
              "    .colab-df-buttons div {\n",
              "      margin-bottom: 4px;\n",
              "    }\n",
              "\n",
              "    [theme=dark] .colab-df-convert {\n",
              "      background-color: #3B4455;\n",
              "      fill: #D2E3FC;\n",
              "    }\n",
              "\n",
              "    [theme=dark] .colab-df-convert:hover {\n",
              "      background-color: #434B5C;\n",
              "      box-shadow: 0px 1px 3px 1px rgba(0, 0, 0, 0.15);\n",
              "      filter: drop-shadow(0px 1px 2px rgba(0, 0, 0, 0.3));\n",
              "      fill: #FFFFFF;\n",
              "    }\n",
              "  </style>\n",
              "\n",
              "    <script>\n",
              "      const buttonEl =\n",
              "        document.querySelector('#df-cb116b6c-bf86-4cfd-bfb2-b3a0136d6455 button.colab-df-convert');\n",
              "      buttonEl.style.display =\n",
              "        google.colab.kernel.accessAllowed ? 'block' : 'none';\n",
              "\n",
              "      async function convertToInteractive(key) {\n",
              "        const element = document.querySelector('#df-cb116b6c-bf86-4cfd-bfb2-b3a0136d6455');\n",
              "        const dataTable =\n",
              "          await google.colab.kernel.invokeFunction('convertToInteractive',\n",
              "                                                    [key], {});\n",
              "        if (!dataTable) return;\n",
              "\n",
              "        const docLinkHtml = 'Like what you see? Visit the ' +\n",
              "          '<a target=\"_blank\" href=https://colab.research.google.com/notebooks/data_table.ipynb>data table notebook</a>'\n",
              "          + ' to learn more about interactive tables.';\n",
              "        element.innerHTML = '';\n",
              "        dataTable['output_type'] = 'display_data';\n",
              "        await google.colab.output.renderOutput(dataTable, element);\n",
              "        const docLink = document.createElement('div');\n",
              "        docLink.innerHTML = docLinkHtml;\n",
              "        element.appendChild(docLink);\n",
              "      }\n",
              "    </script>\n",
              "  </div>\n",
              "\n",
              "\n",
              "    <div id=\"df-c52a1cf9-ef3e-4354-bde5-370ed77f7afb\">\n",
              "      <button class=\"colab-df-quickchart\" onclick=\"quickchart('df-c52a1cf9-ef3e-4354-bde5-370ed77f7afb')\"\n",
              "                title=\"Suggest charts\"\n",
              "                style=\"display:none;\">\n",
              "\n",
              "<svg xmlns=\"http://www.w3.org/2000/svg\" height=\"24px\"viewBox=\"0 0 24 24\"\n",
              "     width=\"24px\">\n",
              "    <g>\n",
              "        <path d=\"M19 3H5c-1.1 0-2 .9-2 2v14c0 1.1.9 2 2 2h14c1.1 0 2-.9 2-2V5c0-1.1-.9-2-2-2zM9 17H7v-7h2v7zm4 0h-2V7h2v10zm4 0h-2v-4h2v4z\"/>\n",
              "    </g>\n",
              "</svg>\n",
              "      </button>\n",
              "\n",
              "<style>\n",
              "  .colab-df-quickchart {\n",
              "      --bg-color: #E8F0FE;\n",
              "      --fill-color: #1967D2;\n",
              "      --hover-bg-color: #E2EBFA;\n",
              "      --hover-fill-color: #174EA6;\n",
              "      --disabled-fill-color: #AAA;\n",
              "      --disabled-bg-color: #DDD;\n",
              "  }\n",
              "\n",
              "  [theme=dark] .colab-df-quickchart {\n",
              "      --bg-color: #3B4455;\n",
              "      --fill-color: #D2E3FC;\n",
              "      --hover-bg-color: #434B5C;\n",
              "      --hover-fill-color: #FFFFFF;\n",
              "      --disabled-bg-color: #3B4455;\n",
              "      --disabled-fill-color: #666;\n",
              "  }\n",
              "\n",
              "  .colab-df-quickchart {\n",
              "    background-color: var(--bg-color);\n",
              "    border: none;\n",
              "    border-radius: 50%;\n",
              "    cursor: pointer;\n",
              "    display: none;\n",
              "    fill: var(--fill-color);\n",
              "    height: 32px;\n",
              "    padding: 0;\n",
              "    width: 32px;\n",
              "  }\n",
              "\n",
              "  .colab-df-quickchart:hover {\n",
              "    background-color: var(--hover-bg-color);\n",
              "    box-shadow: 0 1px 2px rgba(60, 64, 67, 0.3), 0 1px 3px 1px rgba(60, 64, 67, 0.15);\n",
              "    fill: var(--button-hover-fill-color);\n",
              "  }\n",
              "\n",
              "  .colab-df-quickchart-complete:disabled,\n",
              "  .colab-df-quickchart-complete:disabled:hover {\n",
              "    background-color: var(--disabled-bg-color);\n",
              "    fill: var(--disabled-fill-color);\n",
              "    box-shadow: none;\n",
              "  }\n",
              "\n",
              "  .colab-df-spinner {\n",
              "    border: 2px solid var(--fill-color);\n",
              "    border-color: transparent;\n",
              "    border-bottom-color: var(--fill-color);\n",
              "    animation:\n",
              "      spin 1s steps(1) infinite;\n",
              "  }\n",
              "\n",
              "  @keyframes spin {\n",
              "    0% {\n",
              "      border-color: transparent;\n",
              "      border-bottom-color: var(--fill-color);\n",
              "      border-left-color: var(--fill-color);\n",
              "    }\n",
              "    20% {\n",
              "      border-color: transparent;\n",
              "      border-left-color: var(--fill-color);\n",
              "      border-top-color: var(--fill-color);\n",
              "    }\n",
              "    30% {\n",
              "      border-color: transparent;\n",
              "      border-left-color: var(--fill-color);\n",
              "      border-top-color: var(--fill-color);\n",
              "      border-right-color: var(--fill-color);\n",
              "    }\n",
              "    40% {\n",
              "      border-color: transparent;\n",
              "      border-right-color: var(--fill-color);\n",
              "      border-top-color: var(--fill-color);\n",
              "    }\n",
              "    60% {\n",
              "      border-color: transparent;\n",
              "      border-right-color: var(--fill-color);\n",
              "    }\n",
              "    80% {\n",
              "      border-color: transparent;\n",
              "      border-right-color: var(--fill-color);\n",
              "      border-bottom-color: var(--fill-color);\n",
              "    }\n",
              "    90% {\n",
              "      border-color: transparent;\n",
              "      border-bottom-color: var(--fill-color);\n",
              "    }\n",
              "  }\n",
              "</style>\n",
              "\n",
              "      <script>\n",
              "        async function quickchart(key) {\n",
              "          const quickchartButtonEl =\n",
              "            document.querySelector('#' + key + ' button');\n",
              "          quickchartButtonEl.disabled = true;  // To prevent multiple clicks.\n",
              "          quickchartButtonEl.classList.add('colab-df-spinner');\n",
              "          try {\n",
              "            const charts = await google.colab.kernel.invokeFunction(\n",
              "                'suggestCharts', [key], {});\n",
              "          } catch (error) {\n",
              "            console.error('Error during call to suggestCharts:', error);\n",
              "          }\n",
              "          quickchartButtonEl.classList.remove('colab-df-spinner');\n",
              "          quickchartButtonEl.classList.add('colab-df-quickchart-complete');\n",
              "        }\n",
              "        (() => {\n",
              "          let quickchartButtonEl =\n",
              "            document.querySelector('#df-c52a1cf9-ef3e-4354-bde5-370ed77f7afb button');\n",
              "          quickchartButtonEl.style.display =\n",
              "            google.colab.kernel.accessAllowed ? 'block' : 'none';\n",
              "        })();\n",
              "      </script>\n",
              "    </div>\n",
              "\n",
              "  <div id=\"id_5af340fd-e7ed-4e9f-b1ab-cac05e520a4b\">\n",
              "    <style>\n",
              "      .colab-df-generate {\n",
              "        background-color: #E8F0FE;\n",
              "        border: none;\n",
              "        border-radius: 50%;\n",
              "        cursor: pointer;\n",
              "        display: none;\n",
              "        fill: #1967D2;\n",
              "        height: 32px;\n",
              "        padding: 0 0 0 0;\n",
              "        width: 32px;\n",
              "      }\n",
              "\n",
              "      .colab-df-generate:hover {\n",
              "        background-color: #E2EBFA;\n",
              "        box-shadow: 0px 1px 2px rgba(60, 64, 67, 0.3), 0px 1px 3px 1px rgba(60, 64, 67, 0.15);\n",
              "        fill: #174EA6;\n",
              "      }\n",
              "\n",
              "      [theme=dark] .colab-df-generate {\n",
              "        background-color: #3B4455;\n",
              "        fill: #D2E3FC;\n",
              "      }\n",
              "\n",
              "      [theme=dark] .colab-df-generate:hover {\n",
              "        background-color: #434B5C;\n",
              "        box-shadow: 0px 1px 3px 1px rgba(0, 0, 0, 0.15);\n",
              "        filter: drop-shadow(0px 1px 2px rgba(0, 0, 0, 0.3));\n",
              "        fill: #FFFFFF;\n",
              "      }\n",
              "    </style>\n",
              "    <button class=\"colab-df-generate\" onclick=\"generateWithVariable('df')\"\n",
              "            title=\"Generate code using this dataframe.\"\n",
              "            style=\"display:none;\">\n",
              "\n",
              "  <svg xmlns=\"http://www.w3.org/2000/svg\" height=\"24px\"viewBox=\"0 0 24 24\"\n",
              "       width=\"24px\">\n",
              "    <path d=\"M7,19H8.4L18.45,9,17,7.55,7,17.6ZM5,21V16.75L18.45,3.32a2,2,0,0,1,2.83,0l1.4,1.43a1.91,1.91,0,0,1,.58,1.4,1.91,1.91,0,0,1-.58,1.4L9.25,21ZM18.45,9,17,7.55Zm-12,3A5.31,5.31,0,0,0,4.9,8.1,5.31,5.31,0,0,0,1,6.5,5.31,5.31,0,0,0,4.9,4.9,5.31,5.31,0,0,0,6.5,1,5.31,5.31,0,0,0,8.1,4.9,5.31,5.31,0,0,0,12,6.5,5.46,5.46,0,0,0,6.5,12Z\"/>\n",
              "  </svg>\n",
              "    </button>\n",
              "    <script>\n",
              "      (() => {\n",
              "      const buttonEl =\n",
              "        document.querySelector('#id_5af340fd-e7ed-4e9f-b1ab-cac05e520a4b button.colab-df-generate');\n",
              "      buttonEl.style.display =\n",
              "        google.colab.kernel.accessAllowed ? 'block' : 'none';\n",
              "\n",
              "      buttonEl.onclick = () => {\n",
              "        google.colab.notebook.generateWithVariable('df');\n",
              "      }\n",
              "      })();\n",
              "    </script>\n",
              "  </div>\n",
              "\n",
              "    </div>\n",
              "  </div>\n"
            ],
            "application/vnd.google.colaboratory.intrinsic+json": {
              "type": "dataframe",
              "variable_name": "df",
              "summary": "{\n  \"name\": \"df\",\n  \"rows\": 17,\n  \"fields\": [\n    {\n      \"column\": \"Day\",\n      \"properties\": {\n        \"dtype\": \"object\",\n        \"num_unique_values\": 12,\n        \"samples\": [\n          \"11-01-2024\",\n          \"09-01-2024\",\n          \"01-01-2024\"\n        ],\n        \"semantic_type\": \"\",\n        \"description\": \"\"\n      }\n    },\n    {\n      \"column\": \"Temperature\",\n      \"properties\": {\n        \"dtype\": \"string\",\n        \"num_unique_values\": 11,\n        \"samples\": [\n          29.0,\n          32.0,\n          \"37\"\n        ],\n        \"semantic_type\": \"\",\n        \"description\": \"\"\n      }\n    },\n    {\n      \"column\": \"Windspeed\",\n      \"properties\": {\n        \"dtype\": \"string\",\n        \"num_unique_values\": 9,\n        \"samples\": [\n          \"9\",\n          7,\n          5\n        ],\n        \"semantic_type\": \"\",\n        \"description\": \"\"\n      }\n    },\n    {\n      \"column\": \"Event\",\n      \"properties\": {\n        \"dtype\": \"category\",\n        \"num_unique_values\": 3,\n        \"samples\": [\n          \"Rain\",\n          \"Sunny\",\n          \"Snow\"\n        ],\n        \"semantic_type\": \"\",\n        \"description\": \"\"\n      }\n    }\n  ]\n}"
            }
          },
          "metadata": {}
        }
      ]
    },
    {
      "cell_type": "code",
      "source": [
        "df.drop(index=2, inplace=True)\n",
        "print(df)\n"
      ],
      "metadata": {
        "colab": {
          "base_uri": "https://localhost:8080/"
        },
        "id": "NMGtRquqOls-",
        "outputId": "e0331fbc-3b18-44c7-f853-b96caf3ec680"
      },
      "execution_count": 17,
      "outputs": [
        {
          "output_type": "stream",
          "name": "stdout",
          "text": [
            "           Day Temperature Windspeed  Event\n",
            "0   01-01-2024        32.0         6   Rain\n",
            "1   02-01-2024        35.0         7  Sunny\n",
            "3   02-01-2024        35.0         7  Sunny\n",
            "4   03-01-2024        23.0         2   Snow\n",
            "5   04-01-2024        24.0         7   Snow\n",
            "6   05-01-2024        29.0         4   Rain\n",
            "7   06-01-2024        37.0         8  Sunny\n",
            "8   07-01-2024        38.0         7  Sunny\n",
            "9   08-01-2024        27.0         5   Rain\n",
            "10  09-01-2024        22.0         1   Snow\n",
            "11  10-01-2024         NaN         8  Sunny\n",
            "12  10-01-2024         NaN         8  Sunny\n",
            "13  10-01-2024        38.0         8  Sunny\n",
            "14  10-01-2024        38.0         8  Sunny\n",
            "15  11-01-2024          37         9  Sunny\n",
            "16  10-03-2025          33        19   Rain\n"
          ]
        }
      ]
    },
    {
      "cell_type": "code",
      "source": [
        "print(df['Day'].dtype)"
      ],
      "metadata": {
        "colab": {
          "base_uri": "https://localhost:8080/"
        },
        "id": "exstvd7TOswD",
        "outputId": "9f81ba6c-2614-4671-9755-5b1ad82fbd9b"
      },
      "execution_count": 20,
      "outputs": [
        {
          "output_type": "stream",
          "name": "stdout",
          "text": [
            "object\n"
          ]
        }
      ]
    },
    {
      "cell_type": "code",
      "source": [
        "df['Day'] = pd.to_datetime(df['Day'])\n",
        "print(df)"
      ],
      "metadata": {
        "colab": {
          "base_uri": "https://localhost:8080/"
        },
        "id": "aKyr9irOOwbt",
        "outputId": "73414637-b1ec-4eb5-ff14-63303bb5ce73"
      },
      "execution_count": 24,
      "outputs": [
        {
          "output_type": "stream",
          "name": "stdout",
          "text": [
            "          Day Temperature Windspeed  Event\n",
            "0  2024-01-01        32.0         6   Rain\n",
            "1  2024-02-01        35.0         7  Sunny\n",
            "3  2024-02-01        35.0         7  Sunny\n",
            "4  2024-03-01        23.0         2   Snow\n",
            "5  2024-04-01        24.0         7   Snow\n",
            "6  2024-05-01        29.0         4   Rain\n",
            "7  2024-06-01        37.0         8  Sunny\n",
            "8  2024-07-01        38.0         7  Sunny\n",
            "9  2024-08-01        27.0         5   Rain\n",
            "10 2024-09-01        22.0         1   Snow\n",
            "11 2024-10-01         NaN         8  Sunny\n",
            "12 2024-10-01         NaN         8  Sunny\n",
            "13 2024-10-01        38.0         8  Sunny\n",
            "14 2024-10-01        38.0         8  Sunny\n",
            "15 2024-11-01          37         9  Sunny\n",
            "16 2025-10-03          33        19   Rain\n"
          ]
        }
      ]
    },
    {
      "cell_type": "code",
      "source": [
        "df = df.drop([15, 16])\n",
        "display(df)"
      ],
      "metadata": {
        "colab": {
          "base_uri": "https://localhost:8080/",
          "height": 445
        },
        "id": "F616H0XzQ0eB",
        "outputId": "238bf17f-d50e-4af2-c01b-829c3c3a8adc"
      },
      "execution_count": 36,
      "outputs": [
        {
          "output_type": "display_data",
          "data": {
            "text/plain": [
              "          Day Temperature Windspeed  Event\n",
              "0  2024-01-01        32.0         6   Rain\n",
              "1  2024-02-01        35.0         7  Sunny\n",
              "3  2024-02-01        35.0         7  Sunny\n",
              "4  2024-03-01        23.0         2   Snow\n",
              "5  2024-04-01        24.0         7   Snow\n",
              "6  2024-05-01        29.0         4   Rain\n",
              "7  2024-06-01        37.0         8  Sunny\n",
              "8  2024-07-01        38.0         7  Sunny\n",
              "9  2024-08-01        27.0         5   Rain\n",
              "10 2024-09-01        22.0         1   Snow\n",
              "13 2024-10-01        38.0         8  Sunny\n",
              "14 2024-10-01        38.0         8  Sunny"
            ],
            "text/html": [
              "\n",
              "  <div id=\"df-a476f0e0-4c47-4e07-8f67-ec88f41b019d\" class=\"colab-df-container\">\n",
              "    <div>\n",
              "<style scoped>\n",
              "    .dataframe tbody tr th:only-of-type {\n",
              "        vertical-align: middle;\n",
              "    }\n",
              "\n",
              "    .dataframe tbody tr th {\n",
              "        vertical-align: top;\n",
              "    }\n",
              "\n",
              "    .dataframe thead th {\n",
              "        text-align: right;\n",
              "    }\n",
              "</style>\n",
              "<table border=\"1\" class=\"dataframe\">\n",
              "  <thead>\n",
              "    <tr style=\"text-align: right;\">\n",
              "      <th></th>\n",
              "      <th>Day</th>\n",
              "      <th>Temperature</th>\n",
              "      <th>Windspeed</th>\n",
              "      <th>Event</th>\n",
              "    </tr>\n",
              "  </thead>\n",
              "  <tbody>\n",
              "    <tr>\n",
              "      <th>0</th>\n",
              "      <td>2024-01-01</td>\n",
              "      <td>32.0</td>\n",
              "      <td>6</td>\n",
              "      <td>Rain</td>\n",
              "    </tr>\n",
              "    <tr>\n",
              "      <th>1</th>\n",
              "      <td>2024-02-01</td>\n",
              "      <td>35.0</td>\n",
              "      <td>7</td>\n",
              "      <td>Sunny</td>\n",
              "    </tr>\n",
              "    <tr>\n",
              "      <th>3</th>\n",
              "      <td>2024-02-01</td>\n",
              "      <td>35.0</td>\n",
              "      <td>7</td>\n",
              "      <td>Sunny</td>\n",
              "    </tr>\n",
              "    <tr>\n",
              "      <th>4</th>\n",
              "      <td>2024-03-01</td>\n",
              "      <td>23.0</td>\n",
              "      <td>2</td>\n",
              "      <td>Snow</td>\n",
              "    </tr>\n",
              "    <tr>\n",
              "      <th>5</th>\n",
              "      <td>2024-04-01</td>\n",
              "      <td>24.0</td>\n",
              "      <td>7</td>\n",
              "      <td>Snow</td>\n",
              "    </tr>\n",
              "    <tr>\n",
              "      <th>6</th>\n",
              "      <td>2024-05-01</td>\n",
              "      <td>29.0</td>\n",
              "      <td>4</td>\n",
              "      <td>Rain</td>\n",
              "    </tr>\n",
              "    <tr>\n",
              "      <th>7</th>\n",
              "      <td>2024-06-01</td>\n",
              "      <td>37.0</td>\n",
              "      <td>8</td>\n",
              "      <td>Sunny</td>\n",
              "    </tr>\n",
              "    <tr>\n",
              "      <th>8</th>\n",
              "      <td>2024-07-01</td>\n",
              "      <td>38.0</td>\n",
              "      <td>7</td>\n",
              "      <td>Sunny</td>\n",
              "    </tr>\n",
              "    <tr>\n",
              "      <th>9</th>\n",
              "      <td>2024-08-01</td>\n",
              "      <td>27.0</td>\n",
              "      <td>5</td>\n",
              "      <td>Rain</td>\n",
              "    </tr>\n",
              "    <tr>\n",
              "      <th>10</th>\n",
              "      <td>2024-09-01</td>\n",
              "      <td>22.0</td>\n",
              "      <td>1</td>\n",
              "      <td>Snow</td>\n",
              "    </tr>\n",
              "    <tr>\n",
              "      <th>13</th>\n",
              "      <td>2024-10-01</td>\n",
              "      <td>38.0</td>\n",
              "      <td>8</td>\n",
              "      <td>Sunny</td>\n",
              "    </tr>\n",
              "    <tr>\n",
              "      <th>14</th>\n",
              "      <td>2024-10-01</td>\n",
              "      <td>38.0</td>\n",
              "      <td>8</td>\n",
              "      <td>Sunny</td>\n",
              "    </tr>\n",
              "  </tbody>\n",
              "</table>\n",
              "</div>\n",
              "    <div class=\"colab-df-buttons\">\n",
              "\n",
              "  <div class=\"colab-df-container\">\n",
              "    <button class=\"colab-df-convert\" onclick=\"convertToInteractive('df-a476f0e0-4c47-4e07-8f67-ec88f41b019d')\"\n",
              "            title=\"Convert this dataframe to an interactive table.\"\n",
              "            style=\"display:none;\">\n",
              "\n",
              "  <svg xmlns=\"http://www.w3.org/2000/svg\" height=\"24px\" viewBox=\"0 -960 960 960\">\n",
              "    <path d=\"M120-120v-720h720v720H120Zm60-500h600v-160H180v160Zm220 220h160v-160H400v160Zm0 220h160v-160H400v160ZM180-400h160v-160H180v160Zm440 0h160v-160H620v160ZM180-180h160v-160H180v160Zm440 0h160v-160H620v160Z\"/>\n",
              "  </svg>\n",
              "    </button>\n",
              "\n",
              "  <style>\n",
              "    .colab-df-container {\n",
              "      display:flex;\n",
              "      gap: 12px;\n",
              "    }\n",
              "\n",
              "    .colab-df-convert {\n",
              "      background-color: #E8F0FE;\n",
              "      border: none;\n",
              "      border-radius: 50%;\n",
              "      cursor: pointer;\n",
              "      display: none;\n",
              "      fill: #1967D2;\n",
              "      height: 32px;\n",
              "      padding: 0 0 0 0;\n",
              "      width: 32px;\n",
              "    }\n",
              "\n",
              "    .colab-df-convert:hover {\n",
              "      background-color: #E2EBFA;\n",
              "      box-shadow: 0px 1px 2px rgba(60, 64, 67, 0.3), 0px 1px 3px 1px rgba(60, 64, 67, 0.15);\n",
              "      fill: #174EA6;\n",
              "    }\n",
              "\n",
              "    .colab-df-buttons div {\n",
              "      margin-bottom: 4px;\n",
              "    }\n",
              "\n",
              "    [theme=dark] .colab-df-convert {\n",
              "      background-color: #3B4455;\n",
              "      fill: #D2E3FC;\n",
              "    }\n",
              "\n",
              "    [theme=dark] .colab-df-convert:hover {\n",
              "      background-color: #434B5C;\n",
              "      box-shadow: 0px 1px 3px 1px rgba(0, 0, 0, 0.15);\n",
              "      filter: drop-shadow(0px 1px 2px rgba(0, 0, 0, 0.3));\n",
              "      fill: #FFFFFF;\n",
              "    }\n",
              "  </style>\n",
              "\n",
              "    <script>\n",
              "      const buttonEl =\n",
              "        document.querySelector('#df-a476f0e0-4c47-4e07-8f67-ec88f41b019d button.colab-df-convert');\n",
              "      buttonEl.style.display =\n",
              "        google.colab.kernel.accessAllowed ? 'block' : 'none';\n",
              "\n",
              "      async function convertToInteractive(key) {\n",
              "        const element = document.querySelector('#df-a476f0e0-4c47-4e07-8f67-ec88f41b019d');\n",
              "        const dataTable =\n",
              "          await google.colab.kernel.invokeFunction('convertToInteractive',\n",
              "                                                    [key], {});\n",
              "        if (!dataTable) return;\n",
              "\n",
              "        const docLinkHtml = 'Like what you see? Visit the ' +\n",
              "          '<a target=\"_blank\" href=https://colab.research.google.com/notebooks/data_table.ipynb>data table notebook</a>'\n",
              "          + ' to learn more about interactive tables.';\n",
              "        element.innerHTML = '';\n",
              "        dataTable['output_type'] = 'display_data';\n",
              "        await google.colab.output.renderOutput(dataTable, element);\n",
              "        const docLink = document.createElement('div');\n",
              "        docLink.innerHTML = docLinkHtml;\n",
              "        element.appendChild(docLink);\n",
              "      }\n",
              "    </script>\n",
              "  </div>\n",
              "\n",
              "\n",
              "    <div id=\"df-b3cdfb18-dd2a-40d6-9c42-0a9911215461\">\n",
              "      <button class=\"colab-df-quickchart\" onclick=\"quickchart('df-b3cdfb18-dd2a-40d6-9c42-0a9911215461')\"\n",
              "                title=\"Suggest charts\"\n",
              "                style=\"display:none;\">\n",
              "\n",
              "<svg xmlns=\"http://www.w3.org/2000/svg\" height=\"24px\"viewBox=\"0 0 24 24\"\n",
              "     width=\"24px\">\n",
              "    <g>\n",
              "        <path d=\"M19 3H5c-1.1 0-2 .9-2 2v14c0 1.1.9 2 2 2h14c1.1 0 2-.9 2-2V5c0-1.1-.9-2-2-2zM9 17H7v-7h2v7zm4 0h-2V7h2v10zm4 0h-2v-4h2v4z\"/>\n",
              "    </g>\n",
              "</svg>\n",
              "      </button>\n",
              "\n",
              "<style>\n",
              "  .colab-df-quickchart {\n",
              "      --bg-color: #E8F0FE;\n",
              "      --fill-color: #1967D2;\n",
              "      --hover-bg-color: #E2EBFA;\n",
              "      --hover-fill-color: #174EA6;\n",
              "      --disabled-fill-color: #AAA;\n",
              "      --disabled-bg-color: #DDD;\n",
              "  }\n",
              "\n",
              "  [theme=dark] .colab-df-quickchart {\n",
              "      --bg-color: #3B4455;\n",
              "      --fill-color: #D2E3FC;\n",
              "      --hover-bg-color: #434B5C;\n",
              "      --hover-fill-color: #FFFFFF;\n",
              "      --disabled-bg-color: #3B4455;\n",
              "      --disabled-fill-color: #666;\n",
              "  }\n",
              "\n",
              "  .colab-df-quickchart {\n",
              "    background-color: var(--bg-color);\n",
              "    border: none;\n",
              "    border-radius: 50%;\n",
              "    cursor: pointer;\n",
              "    display: none;\n",
              "    fill: var(--fill-color);\n",
              "    height: 32px;\n",
              "    padding: 0;\n",
              "    width: 32px;\n",
              "  }\n",
              "\n",
              "  .colab-df-quickchart:hover {\n",
              "    background-color: var(--hover-bg-color);\n",
              "    box-shadow: 0 1px 2px rgba(60, 64, 67, 0.3), 0 1px 3px 1px rgba(60, 64, 67, 0.15);\n",
              "    fill: var(--button-hover-fill-color);\n",
              "  }\n",
              "\n",
              "  .colab-df-quickchart-complete:disabled,\n",
              "  .colab-df-quickchart-complete:disabled:hover {\n",
              "    background-color: var(--disabled-bg-color);\n",
              "    fill: var(--disabled-fill-color);\n",
              "    box-shadow: none;\n",
              "  }\n",
              "\n",
              "  .colab-df-spinner {\n",
              "    border: 2px solid var(--fill-color);\n",
              "    border-color: transparent;\n",
              "    border-bottom-color: var(--fill-color);\n",
              "    animation:\n",
              "      spin 1s steps(1) infinite;\n",
              "  }\n",
              "\n",
              "  @keyframes spin {\n",
              "    0% {\n",
              "      border-color: transparent;\n",
              "      border-bottom-color: var(--fill-color);\n",
              "      border-left-color: var(--fill-color);\n",
              "    }\n",
              "    20% {\n",
              "      border-color: transparent;\n",
              "      border-left-color: var(--fill-color);\n",
              "      border-top-color: var(--fill-color);\n",
              "    }\n",
              "    30% {\n",
              "      border-color: transparent;\n",
              "      border-left-color: var(--fill-color);\n",
              "      border-top-color: var(--fill-color);\n",
              "      border-right-color: var(--fill-color);\n",
              "    }\n",
              "    40% {\n",
              "      border-color: transparent;\n",
              "      border-right-color: var(--fill-color);\n",
              "      border-top-color: var(--fill-color);\n",
              "    }\n",
              "    60% {\n",
              "      border-color: transparent;\n",
              "      border-right-color: var(--fill-color);\n",
              "    }\n",
              "    80% {\n",
              "      border-color: transparent;\n",
              "      border-right-color: var(--fill-color);\n",
              "      border-bottom-color: var(--fill-color);\n",
              "    }\n",
              "    90% {\n",
              "      border-color: transparent;\n",
              "      border-bottom-color: var(--fill-color);\n",
              "    }\n",
              "  }\n",
              "</style>\n",
              "\n",
              "      <script>\n",
              "        async function quickchart(key) {\n",
              "          const quickchartButtonEl =\n",
              "            document.querySelector('#' + key + ' button');\n",
              "          quickchartButtonEl.disabled = true;  // To prevent multiple clicks.\n",
              "          quickchartButtonEl.classList.add('colab-df-spinner');\n",
              "          try {\n",
              "            const charts = await google.colab.kernel.invokeFunction(\n",
              "                'suggestCharts', [key], {});\n",
              "          } catch (error) {\n",
              "            console.error('Error during call to suggestCharts:', error);\n",
              "          }\n",
              "          quickchartButtonEl.classList.remove('colab-df-spinner');\n",
              "          quickchartButtonEl.classList.add('colab-df-quickchart-complete');\n",
              "        }\n",
              "        (() => {\n",
              "          let quickchartButtonEl =\n",
              "            document.querySelector('#df-b3cdfb18-dd2a-40d6-9c42-0a9911215461 button');\n",
              "          quickchartButtonEl.style.display =\n",
              "            google.colab.kernel.accessAllowed ? 'block' : 'none';\n",
              "        })();\n",
              "      </script>\n",
              "    </div>\n",
              "\n",
              "  <div id=\"id_31d153e3-a493-43a8-8d93-6dc3a19c5127\">\n",
              "    <style>\n",
              "      .colab-df-generate {\n",
              "        background-color: #E8F0FE;\n",
              "        border: none;\n",
              "        border-radius: 50%;\n",
              "        cursor: pointer;\n",
              "        display: none;\n",
              "        fill: #1967D2;\n",
              "        height: 32px;\n",
              "        padding: 0 0 0 0;\n",
              "        width: 32px;\n",
              "      }\n",
              "\n",
              "      .colab-df-generate:hover {\n",
              "        background-color: #E2EBFA;\n",
              "        box-shadow: 0px 1px 2px rgba(60, 64, 67, 0.3), 0px 1px 3px 1px rgba(60, 64, 67, 0.15);\n",
              "        fill: #174EA6;\n",
              "      }\n",
              "\n",
              "      [theme=dark] .colab-df-generate {\n",
              "        background-color: #3B4455;\n",
              "        fill: #D2E3FC;\n",
              "      }\n",
              "\n",
              "      [theme=dark] .colab-df-generate:hover {\n",
              "        background-color: #434B5C;\n",
              "        box-shadow: 0px 1px 3px 1px rgba(0, 0, 0, 0.15);\n",
              "        filter: drop-shadow(0px 1px 2px rgba(0, 0, 0, 0.3));\n",
              "        fill: #FFFFFF;\n",
              "      }\n",
              "    </style>\n",
              "    <button class=\"colab-df-generate\" onclick=\"generateWithVariable('df')\"\n",
              "            title=\"Generate code using this dataframe.\"\n",
              "            style=\"display:none;\">\n",
              "\n",
              "  <svg xmlns=\"http://www.w3.org/2000/svg\" height=\"24px\"viewBox=\"0 0 24 24\"\n",
              "       width=\"24px\">\n",
              "    <path d=\"M7,19H8.4L18.45,9,17,7.55,7,17.6ZM5,21V16.75L18.45,3.32a2,2,0,0,1,2.83,0l1.4,1.43a1.91,1.91,0,0,1,.58,1.4,1.91,1.91,0,0,1-.58,1.4L9.25,21ZM18.45,9,17,7.55Zm-12,3A5.31,5.31,0,0,0,4.9,8.1,5.31,5.31,0,0,0,1,6.5,5.31,5.31,0,0,0,4.9,4.9,5.31,5.31,0,0,0,6.5,1,5.31,5.31,0,0,0,8.1,4.9,5.31,5.31,0,0,0,12,6.5,5.46,5.46,0,0,0,6.5,12Z\"/>\n",
              "  </svg>\n",
              "    </button>\n",
              "    <script>\n",
              "      (() => {\n",
              "      const buttonEl =\n",
              "        document.querySelector('#id_31d153e3-a493-43a8-8d93-6dc3a19c5127 button.colab-df-generate');\n",
              "      buttonEl.style.display =\n",
              "        google.colab.kernel.accessAllowed ? 'block' : 'none';\n",
              "\n",
              "      buttonEl.onclick = () => {\n",
              "        google.colab.notebook.generateWithVariable('df');\n",
              "      }\n",
              "      })();\n",
              "    </script>\n",
              "  </div>\n",
              "\n",
              "    </div>\n",
              "  </div>\n"
            ],
            "application/vnd.google.colaboratory.intrinsic+json": {
              "type": "dataframe",
              "variable_name": "df",
              "summary": "{\n  \"name\": \"df\",\n  \"rows\": 12,\n  \"fields\": [\n    {\n      \"column\": \"Day\",\n      \"properties\": {\n        \"dtype\": \"date\",\n        \"min\": \"2024-01-01 00:00:00\",\n        \"max\": \"2024-10-01 00:00:00\",\n        \"num_unique_values\": 10,\n        \"samples\": [\n          \"2024-09-01 00:00:00\",\n          \"2024-02-01 00:00:00\",\n          \"2024-06-01 00:00:00\"\n        ],\n        \"semantic_type\": \"\",\n        \"description\": \"\"\n      }\n    },\n    {\n      \"column\": \"Temperature\",\n      \"properties\": {\n        \"dtype\": \"date\",\n        \"min\": 22.0,\n        \"max\": 38.0,\n        \"num_unique_values\": 9,\n        \"samples\": [\n          27.0,\n          35.0,\n          37.0\n        ],\n        \"semantic_type\": \"\",\n        \"description\": \"\"\n      }\n    },\n    {\n      \"column\": \"Windspeed\",\n      \"properties\": {\n        \"dtype\": \"date\",\n        \"min\": 1,\n        \"max\": 8,\n        \"num_unique_values\": 7,\n        \"samples\": [\n          6,\n          7,\n          5\n        ],\n        \"semantic_type\": \"\",\n        \"description\": \"\"\n      }\n    },\n    {\n      \"column\": \"Event\",\n      \"properties\": {\n        \"dtype\": \"category\",\n        \"num_unique_values\": 3,\n        \"samples\": [\n          \"Rain\",\n          \"Sunny\",\n          \"Snow\"\n        ],\n        \"semantic_type\": \"\",\n        \"description\": \"\"\n      }\n    }\n  ]\n}"
            }
          },
          "metadata": {}
        }
      ]
    },
    {
      "cell_type": "code",
      "source": [
        "df_sort = df.sort_values(by='Temperature')"
      ],
      "metadata": {
        "id": "dNz6tbDTPXKM"
      },
      "execution_count": 37,
      "outputs": []
    },
    {
      "cell_type": "markdown",
      "source": [
        "##Matplotlib\n",
        "\n",
        "used for visualization, diagrams, charts etc\n",
        "\n",
        "1. Line Plot\n",
        "2. Scatter Plot\n",
        "3. Bar Chart\n",
        "4. Histogram\n",
        "5. PieChart\n",
        "6. Error Chart"
      ],
      "metadata": {
        "id": "AoiRRtcmRGof"
      }
    },
    {
      "cell_type": "markdown",
      "source": [
        "####Line Chart"
      ],
      "metadata": {
        "id": "aWUDOliaXwuN"
      }
    },
    {
      "cell_type": "code",
      "source": [
        "import matplotlib.pyplot as plt\n",
        "\n",
        "#line plot\n",
        "x = [1,6,3,8,4,6,7,8,9]\n",
        "y = [2,9,4,5,1,7,8,9,2]\n",
        "\n",
        "plt.plot(x,y)\n",
        "plt.title('Line Chart')\n",
        "plt.xlabel('X Axis')\n",
        "plt.ylabel('Y Axis')\n",
        "plt.legend('X')\n",
        "plt.show()"
      ],
      "metadata": {
        "colab": {
          "base_uri": "https://localhost:8080/",
          "height": 472
        },
        "id": "DsL8xQ4sTXUw",
        "outputId": "7de810f3-f81f-4b77-d625-db44e8f28a97"
      },
      "execution_count": 43,
      "outputs": [
        {
          "output_type": "display_data",
          "data": {
            "text/plain": [
              "<Figure size 640x480 with 1 Axes>"
            ],
            "image/png": "[encoded data removed]"
          },
          "metadata": {}
        }
      ]
    },
    {
      "cell_type": "code",
      "source": [
        "import numpy as np\n",
        "x = np.linspace(0,2,100)\n",
        "plt.plot(x, x, label='linear')\n",
        "plt.plot(x,x**2,label='Quadratic')\n",
        "plt.title('Simple Line Plot')\n",
        "plt.xlabel('X Axis')\n",
        "plt.ylabel('Y Axis')\n",
        "plt.legend()\n",
        "plt.show()"
      ],
      "metadata": {
        "colab": {
          "base_uri": "https://localhost:8080/",
          "height": 472
        },
        "id": "SBZ83wEyUunI",
        "outputId": "2ec3ca5f-bebc-437f-b20b-bc26d884ec82"
      },
      "execution_count": 46,
      "outputs": [
        {
          "output_type": "display_data",
          "data": {
            "text/plain": [
              "<Figure size 640x480 with 1 Axes>"
            ],
            "image/png": "[encoded data removed]"
          },
          "metadata": {}
        }
      ]
    },
    {
      "cell_type": "code",
      "source": [
        "import numpy as np\n",
        "x = np.linspace(0,2,100)\n",
        "plt.plot(x, x, label='linear')\n",
        "plt.plot(x,x**2,label='Quadratic')\n",
        "plt.plot(x,x**3,label='Cubic')\n",
        "plt.title('Line Plot')\n",
        "plt.xlabel('X Axis')\n",
        "plt.ylabel('Y Axis')\n",
        "plt.legend()\n",
        "plt.show()"
      ],
      "metadata": {
        "colab": {
          "base_uri": "https://localhost:8080/",
          "height": 472
        },
        "id": "-hQ4_XOEWUO0",
        "outputId": "2a651517-79c7-4915-d02f-7e178dc8896d"
      },
      "execution_count": 47,
      "outputs": [
        {
          "output_type": "display_data",
          "data": {
            "text/plain": [
              "<Figure size 640x480 with 1 Axes>"
            ],
            "image/png": "[encoded data removed]"
          },
          "metadata": {}
        }
      ]
    },
    {
      "cell_type": "markdown",
      "source": [
        "####Scatter Plot"
      ],
      "metadata": {
        "id": "TCtIIIMcXzC0"
      }
    },
    {
      "cell_type": "code",
      "source": [
        "import random\n",
        "x = np.random.randn(150)\n",
        "y = np.random.randn(150)\n",
        "#x and y should be same\n",
        "plt.scatter(x,y)\n",
        "plt.title('Scatter Plot')\n",
        "plt.xlabel('X Axis')\n",
        "plt.ylabel('Y Axis')\n",
        "plt.show()"
      ],
      "metadata": {
        "colab": {
          "base_uri": "https://localhost:8080/",
          "height": 472
        },
        "id": "vQItZPFbXsMf",
        "outputId": "5b026354-854e-44f4-bb97-25e8654d34f9"
      },
      "execution_count": 51,
      "outputs": [
        {
          "output_type": "display_data",
          "data": {
            "text/plain": [
              "<Figure size 640x480 with 1 Axes>"
            ],
            "image/png": "[encoded data removed]"
          },
          "metadata": {}
        }
      ]
    },
    {
      "cell_type": "markdown",
      "source": [
        "What are Outliers?\n",
        "\n",
        "Outliers are data points that are significantly different from other observations in a dataset. They lie an unusual distance from the rest of the data.\n",
        "\n",
        "Why are Outliers not Good?\n",
        "\n",
        "Outliers can:\n",
        "\n",
        "* Distort statistical measures like the mean and standard deviation.\n",
        "Affect the performance of machine learning models.\n",
        "* Lead to incorrect conclusions from data analysis.\n",
        "Represent errors in data collection or entry."
      ],
      "metadata": {
        "id": "PsgR1zNgZD73"
      }
    },
    {
      "cell_type": "markdown",
      "source": [
        "####Bar Chart"
      ],
      "metadata": {
        "id": "mSB69pDRa3tO"
      }
    },
    {
      "cell_type": "code",
      "source": [
        "categories = ['A', 'B', 'C', 'D', 'E']\n",
        "val = [20, 40, 60, 80 , 100]\n",
        "plt.bar(categories, val)\n",
        "plt.title('Bar Chart')\n",
        "plt.xlabel('X Axis')\n",
        "plt.ylabel('Y Axis')\n",
        "plt.show()"
      ],
      "metadata": {
        "colab": {
          "base_uri": "https://localhost:8080/",
          "height": 492
        },
        "id": "IZ2Ak7RxZToj",
        "outputId": "8c63f69a-87f5-4afa-ce31-b9bc47dd747c"
      },
      "execution_count": 54,
      "outputs": [
        {
          "output_type": "display_data",
          "data": {
            "text/plain": [
              "<Figure size 640x480 with 1 Axes>"
            ],
            "image/png": "[encoded data removed]"
          },
          "metadata": {}
        }
      ]
    },
    {
      "cell_type": "code",
      "source": [
        "#Plot the bar horizontally -- use barh\n",
        "\n",
        "categories = ['A', 'B', 'C', 'D', 'E']\n",
        "val = [20, 40, 60, 80 , 100]\n",
        "plt.barh(categories, val)\n",
        "plt.title('Bar Chart')\n",
        "plt.xlabel('X Axis')\n",
        "plt.ylabel('Y Axis')\n",
        "plt.show()"
      ],
      "metadata": {
        "colab": {
          "base_uri": "https://localhost:8080/",
          "height": 492
        },
        "id": "DbqvWhpxbtbO",
        "outputId": "67710268-0110-4bde-cb65-9096bf50f825"
      },
      "execution_count": 55,
      "outputs": [
        {
          "output_type": "display_data",
          "data": {
            "text/plain": [
              "<Figure size 640x480 with 1 Axes>"
            ],
            "image/png": "[encoded data removed]"
          },
          "metadata": {}
        }
      ]
    },
    {
      "cell_type": "code",
      "source": [
        "a = [10, 20, 13, 19, 21]\n",
        "b = [9, 3, 22, 17, 27]\n",
        "\n",
        "z = range(5)\n",
        "plt.bar(z, a, color='y')\n",
        "# plt.bar(z, b, color='g')\n",
        "plt.bar(z,b,color='g',bottom=a)\n",
        "#bottom A\n",
        "plt.show()"
      ],
      "metadata": {
        "colab": {
          "base_uri": "https://localhost:8080/",
          "height": 432
        },
        "id": "qmCt08gib4_v",
        "outputId": "8603a91e-b3dd-410d-a3af-6b882ee021fc"
      },
      "execution_count": 62,
      "outputs": [
        {
          "output_type": "display_data",
          "data": {
            "text/plain": [
              "<Figure size 640x480 with 1 Axes>"
            ],
            "image/png": "[encoded data removed]"
          },
          "metadata": {}
        }
      ]
    },
    {
      "cell_type": "markdown",
      "source": [
        "#Data Analysis\n",
        "\n",
        "1. df.head()\n",
        "2. df.tail()\n",
        "3. df.columns()\n",
        "4. sorting, other manipulation : clean, sort, rename,type change -- preparation\n",
        "5. data visualization- Trend, pattern, using matplotlib\n",
        "6. post manipulation - optional\n",
        "\n",
        "\n"
      ],
      "metadata": {
        "id": "EHIXOUMUTB5h"
      }
    },
    {
      "cell_type": "code",
      "source": [],
      "metadata": {
        "id": "LR_1BX-BQGPl"
      },
      "execution_count": null,
      "outputs": []
    },
    {
      "cell_type": "code",
      "source": [],
      "metadata": {
        "id": "BESnDBHYSCZo"
      },
      "execution_count": null,
      "outputs": []
    }
  ]
}