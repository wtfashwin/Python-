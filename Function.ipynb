{
  "nbformat": 4,
  "nbformat_minor": 0,
  "metadata": {
    "colab": {
      "provenance": [],
      "authorship_tag": "ABX9TyO3gmYwI3jVXqtZsbbAHYAl",
      "include_colab_link": true
    },
    "kernelspec": {
      "name": "python3",
      "display_name": "Python 3"
    },
    "language_info": {
      "name": "python"
    }
  },
  "cells": [
    {
      "cell_type": "markdown",
      "metadata": {
        "id": "view-in-github",
        "colab_type": "text"
      },
      "source": [
        "<a href=\"https://colab.research.google.com/github/wtfashwin/Python-/blob/main/Function.ipynb\" target=\"_parent\"><img src=\"https://colab.research.google.com/assets/colab-badge.svg\" alt=\"Open In Colab\"/></a>"
      ]
    },
    {
      "cell_type": "markdown",
      "source": [
        "#Function\n",
        "we can give and return input in it\n",
        "\n",
        "write once, use multiple times\n",
        "\n",
        "def function_name():\n",
        "\n",
        "identifiers should be followed while naming function\n",
        "\n",
        "call a function using its name & ()\n",
        "\n",
        "return gives the output"
      ],
      "metadata": {
        "id": "jtcOQBfYnMdF"
      }
    },
    {
      "cell_type": "code",
      "execution_count": null,
      "metadata": {
        "id": "X1GR7N2gnJev"
      },
      "outputs": [],
      "source": [
        "def my_func():\n",
        "  print('Hello')"
      ]
    },
    {
      "cell_type": "code",
      "source": [
        "my_func()"
      ],
      "metadata": {
        "colab": {
          "base_uri": "https://localhost:8080/"
        },
        "id": "3Naj4dFVokcd",
        "outputId": "cf174e9d-02f7-4942-a873-ed44da4c71ad"
      },
      "execution_count": null,
      "outputs": [
        {
          "output_type": "stream",
          "name": "stdout",
          "text": [
            "Hello\n"
          ]
        }
      ]
    },
    {
      "cell_type": "code",
      "source": [
        "def sumi():\n",
        "  a = 10\n",
        "  b = 20\n",
        "  return(a+b)"
      ],
      "metadata": {
        "id": "Pk5AwXC8ol2X"
      },
      "execution_count": null,
      "outputs": []
    },
    {
      "cell_type": "code",
      "source": [
        "sumi()"
      ],
      "metadata": {
        "colab": {
          "base_uri": "https://localhost:8080/"
        },
        "id": "69AYXt_So4LQ",
        "outputId": "ab03708d-ea0b-4732-abb4-243ef741b723"
      },
      "execution_count": null,
      "outputs": [
        {
          "output_type": "execute_result",
          "data": {
            "text/plain": [
              "30"
            ]
          },
          "metadata": {},
          "execution_count": 7
        }
      ]
    },
    {
      "cell_type": "code",
      "source": [
        "def sum(a,b): # a, and b are called as positional arguments\n",
        "  return(a+b)"
      ],
      "metadata": {
        "id": "MxmIT7vmo5JT"
      },
      "execution_count": null,
      "outputs": []
    },
    {
      "cell_type": "code",
      "source": [
        "def greet(name):\n",
        "  print('Good', name, '!')"
      ],
      "metadata": {
        "id": "J65qyO_Lpy9v"
      },
      "execution_count": null,
      "outputs": []
    },
    {
      "cell_type": "code",
      "source": [
        "greet('ashwin')"
      ],
      "metadata": {
        "colab": {
          "base_uri": "https://localhost:8080/"
        },
        "id": "TBNv5CAjqND_",
        "outputId": "26c48dcf-4fd6-4ac2-c97d-21eb03fdfa6d"
      },
      "execution_count": null,
      "outputs": [
        {
          "output_type": "stream",
          "name": "stdout",
          "text": [
            "Good ashwin !\n"
          ]
        }
      ]
    },
    {
      "cell_type": "code",
      "source": [
        "#function to calculate area of rectangle\n",
        "\n",
        "def calculate_rect(l, w):\n",
        "  area = l * w\n",
        "  return(area)\n",
        "\n",
        "a = calculate_rect(2,4)\n",
        "print(a)"
      ],
      "metadata": {
        "colab": {
          "base_uri": "https://localhost:8080/"
        },
        "id": "PyUXsYo0qOj9",
        "outputId": "a4c52b31-6e3c-4079-8374-b4c7f994270a"
      },
      "execution_count": null,
      "outputs": [
        {
          "output_type": "stream",
          "name": "stdout",
          "text": [
            "8\n"
          ]
        }
      ]
    },
    {
      "cell_type": "code",
      "source": [
        "s = 'I am learning Python!'\n",
        "\n",
        "#variables have some types, that is called as scope of variable,\n",
        "\n",
        "# global , local\n",
        "\n",
        "# If the var is declared outside its known as global variables\n",
        "\n",
        "# while the one whom we deliver inside that particular class, function is called\n",
        "# local variable."
      ],
      "metadata": {
        "id": "mBQrAF62qzi_"
      },
      "execution_count": null,
      "outputs": []
    },
    {
      "cell_type": "code",
      "source": [
        "def javat():\n",
        "  global s\n",
        "  s = 'I am learning Java'\n",
        "  print(s)\n",
        "s"
      ],
      "metadata": {
        "colab": {
          "base_uri": "https://localhost:8080/",
          "height": 56
        },
        "id": "Wa0OrNfSs61a",
        "outputId": "edeb63f2-f764-4676-a39f-1f0a3aa8cefb"
      },
      "execution_count": null,
      "outputs": [
        {
          "output_type": "execute_result",
          "data": {
            "text/plain": [
              "'I am learning Java'"
            ],
            "application/vnd.google.colaboratory.intrinsic+json": {
              "type": "string"
            }
          },
          "metadata": {},
          "execution_count": 35
        }
      ]
    },
    {
      "cell_type": "code",
      "source": [
        "def info(name, age):\n",
        "  print('My name is', name, 'and my age is', age * 365, 'days old')"
      ],
      "metadata": {
        "id": "2eHM5hnOuR_P"
      },
      "execution_count": null,
      "outputs": []
    },
    {
      "cell_type": "code",
      "source": [
        "info('Ashwin', 21)"
      ],
      "metadata": {
        "colab": {
          "base_uri": "https://localhost:8080/"
        },
        "id": "gJMT23k0vUvR",
        "outputId": "12aac90f-b0a4-4ee7-b971-df7ff3b31964"
      },
      "execution_count": null,
      "outputs": [
        {
          "output_type": "stream",
          "name": "stdout",
          "text": [
            "My name is Ashwin and my age is 7665 days old\n"
          ]
        }
      ]
    },
    {
      "cell_type": "markdown",
      "source": [
        "#Types of arguments in Python\n",
        "\n",
        "1. Positional : by default all the args are positional\n",
        "\n",
        "2. Keyword : we assign the value explicitally\n",
        "  \n",
        "3. Default\n",
        "\n",
        "4. Variable Length (arbitary length)"
      ],
      "metadata": {
        "id": "dUuEe-R7v8IL"
      }
    },
    {
      "cell_type": "code",
      "source": [
        "#keyword args\n",
        "# here i defined the name ,\n",
        "info(name='Lord', age=22)"
      ],
      "metadata": {
        "colab": {
          "base_uri": "https://localhost:8080/"
        },
        "id": "LqJrxZu5vXZb",
        "outputId": "518629c1-0a91-4aa7-ffd9-eadb6432e7b8"
      },
      "execution_count": null,
      "outputs": [
        {
          "output_type": "stream",
          "name": "stdout",
          "text": [
            "My name is Lord and my age is 8030 days old\n"
          ]
        }
      ]
    },
    {
      "cell_type": "code",
      "source": [
        "#default argument\n",
        "\n",
        "# we'd assign a value to the function itself, so we only need name , and func\n",
        "# would automatically take that assigned\n",
        "\n",
        "def info(name, age=21):\n",
        "  print('My name is', name, 'and my age is', age * 365, 'days old')\n"
      ],
      "metadata": {
        "id": "bkOx5h6XxDF3"
      },
      "execution_count": null,
      "outputs": []
    },
    {
      "cell_type": "code",
      "source": [
        "#variable length, * symbol gives all values\n",
        "# jab pata nahi hai kitne arg req hai tab we'd use them\n",
        "\n",
        "def my_func(*args):\n",
        "  print(args)\n",
        "my_func(1,2,3,4,5,6,7,8,9)"
      ],
      "metadata": {
        "colab": {
          "base_uri": "https://localhost:8080/"
        },
        "id": "LIPThsebx1jK",
        "outputId": "25e17eb4-0bb6-48ce-d45d-683120854842"
      },
      "execution_count": null,
      "outputs": [
        {
          "output_type": "stream",
          "name": "stdout",
          "text": [
            "(1, 2, 3, 4, 5, 6, 7, 8, 9)\n"
          ]
        }
      ]
    },
    {
      "cell_type": "code",
      "source": [
        "#Task - farhenehiet - celsius convert\n",
        "\n",
        "def farhen(cel):\n",
        "  far = (cel * 9/5) + 32\n",
        "  return(far)\n",
        "farhen(21)"
      ],
      "metadata": {
        "colab": {
          "base_uri": "https://localhost:8080/"
        },
        "id": "HX7t36jlywsB",
        "outputId": "52569e1c-1481-4dc8-98c3-b89c9f233bc2"
      },
      "execution_count": null,
      "outputs": [
        {
          "output_type": "execute_result",
          "data": {
            "text/plain": [
              "69.8"
            ]
          },
          "metadata": {},
          "execution_count": 60
        }
      ]
    },
    {
      "cell_type": "code",
      "source": [
        "#even odd\n",
        "\n",
        "def even_odd():\n",
        "  n = int(input(\"Enter an integer: \"))\n",
        "  if n % 2 == 0:\n",
        "    print(f\"{n} is even number.\")\n",
        "  else:\n",
        "    print(f\"{n} is odd number.\")\n",
        "\n",
        "even_odd()"
      ],
      "metadata": {
        "colab": {
          "base_uri": "https://localhost:8080/"
        },
        "id": "DzdwYvjDzSS9",
        "outputId": "a9d7ee71-874c-49bc-f79e-8cc9f8be190d"
      },
      "execution_count": null,
      "outputs": [
        {
          "output_type": "stream",
          "name": "stdout",
          "text": [
            "Enter an integer: 2\n",
            "2 is even number.\n"
          ]
        }
      ]
    },
    {
      "cell_type": "markdown",
      "source": [
        "#Types of functions\n",
        "\n",
        "1. Built in\n",
        "\n",
        "  print , len, max, type , input, zip, abs\n",
        "\n",
        "2. user defined - defined by user\n",
        "\n",
        "3. recursive\n",
        "4. lambda"
      ],
      "metadata": {
        "id": "HhqI8Oz1C5Lx"
      }
    },
    {
      "cell_type": "code",
      "source": [
        "#abs funct - gives absolute value,\n",
        "\n",
        "print(abs(-5))\n",
        "\n",
        "\n",
        "#id function - returns the address\n",
        "\n",
        "a = 3\n",
        "id(a)"
      ],
      "metadata": {
        "id": "QyhWLSYm0kvt",
        "colab": {
          "base_uri": "https://localhost:8080/"
        },
        "outputId": "87403503-8f8d-4633-93d0-a5ed3898acc3"
      },
      "execution_count": null,
      "outputs": [
        {
          "output_type": "stream",
          "name": "stdout",
          "text": [
            "5\n"
          ]
        },
        {
          "output_type": "execute_result",
          "data": {
            "text/plain": [
              "10757800"
            ]
          },
          "metadata": {},
          "execution_count": 3
        }
      ]
    },
    {
      "cell_type": "code",
      "source": [
        "#Recursive funct\n",
        "#the function which calls itself, within its body\n",
        "\n",
        "\n",
        "def add(a,b):\n",
        "  print('Add of a and b is:', a+b)\n",
        "\n",
        "def sub(a,b):\n",
        "  print('Sub of a and b is:', a-b)\n",
        "\n",
        "def calc():\n",
        "  add(3,5)\n",
        "  sub(4,2)"
      ],
      "metadata": {
        "id": "vgFpoiwgDxCJ"
      },
      "execution_count": null,
      "outputs": []
    },
    {
      "cell_type": "code",
      "source": [
        "calc()"
      ],
      "metadata": {
        "colab": {
          "base_uri": "https://localhost:8080/"
        },
        "id": "lDc5U2TfF76x",
        "outputId": "1ee90634-2b2a-41a7-946d-366baba693ab"
      },
      "execution_count": null,
      "outputs": [
        {
          "output_type": "stream",
          "name": "stdout",
          "text": [
            "Add of a and b is: 8\n",
            "Sub of a and b is: 2\n"
          ]
        }
      ]
    },
    {
      "cell_type": "code",
      "source": [
        "# def recurse():\n",
        "#   recurse()\n",
        "# recurse()"
      ],
      "metadata": {
        "id": "zTsq7k04F_W0"
      },
      "execution_count": null,
      "outputs": []
    },
    {
      "cell_type": "code",
      "source": [
        "def fact(x):\n",
        "  if x == 1:\n",
        "    return 1\n",
        "  else:\n",
        "    return (x * fact(x-1))"
      ],
      "metadata": {
        "id": "XJ0HaEUcGoT1"
      },
      "execution_count": null,
      "outputs": []
    },
    {
      "cell_type": "code",
      "source": [
        "fact(4)"
      ],
      "metadata": {
        "colab": {
          "base_uri": "https://localhost:8080/"
        },
        "id": "_SKXHi1EGzmp",
        "outputId": "081a9152-3766-4946-bb4b-f86e3950be44"
      },
      "execution_count": null,
      "outputs": [
        {
          "output_type": "execute_result",
          "data": {
            "text/plain": [
              "24"
            ]
          },
          "metadata": {},
          "execution_count": 20
        }
      ]
    },
    {
      "cell_type": "code",
      "source": [
        "def factorial(n):\n",
        "  if n == 1:\n",
        "    return 1\n",
        "  else:\n",
        "    return n * factorial(n-1)\n"
      ],
      "metadata": {
        "id": "zNUnDS8BG0v_"
      },
      "execution_count": null,
      "outputs": []
    },
    {
      "cell_type": "code",
      "source": [
        "# task - recursion using for loop\n",
        "\n",
        "f = 1\n",
        "n = int(input(\"Enter a num: \"))\n",
        "for i in range(1, n + 1):\n",
        "  f = f * i\n",
        "print(f\"The factorial is:\", f)"
      ],
      "metadata": {
        "colab": {
          "base_uri": "https://localhost:8080/"
        },
        "id": "Xqy5Sxr1IdnV",
        "outputId": "48a7895d-d2ec-48bf-d340-39ce177e4299"
      },
      "execution_count": null,
      "outputs": [
        {
          "output_type": "stream",
          "name": "stdout",
          "text": [
            "Enter a num: 5\n",
            "The factorial is: 120\n"
          ]
        }
      ]
    },
    {
      "cell_type": "code",
      "source": [
        "# task - recursion using while loop\n",
        "\n",
        "f = 1\n",
        "n = int(input(\"Enter a num: \"))\n",
        "i = 1\n",
        "while i <= n:\n",
        "    f = f * i\n",
        "    i = i + 1\n",
        "print(\"The factorial is:\", f)\n"
      ],
      "metadata": {
        "colab": {
          "base_uri": "https://localhost:8080/"
        },
        "id": "NEf7mdwrJB-t",
        "outputId": "d3f2fae3-2373-498f-b822-959aab28a01c"
      },
      "execution_count": null,
      "outputs": [
        {
          "output_type": "stream",
          "name": "stdout",
          "text": [
            "Enter a num: 5\n",
            "The factorial is: 120\n"
          ]
        }
      ]
    },
    {
      "cell_type": "code",
      "source": [
        "#Lambda funct:\n",
        "\n",
        "#we use it to get double values\n",
        "\n",
        "def double(x):\n",
        "  x = x * 2\n",
        "  return x\n",
        "double(2)"
      ],
      "metadata": {
        "colab": {
          "base_uri": "https://localhost:8080/"
        },
        "id": "hkmjZgfHJyJj",
        "outputId": "48d7d775-9c00-4333-b6d2-43238924cb43"
      },
      "execution_count": null,
      "outputs": [
        {
          "output_type": "execute_result",
          "data": {
            "text/plain": [
              "4"
            ]
          },
          "metadata": {},
          "execution_count": 30
        }
      ]
    },
    {
      "cell_type": "code",
      "source": [
        "# Can write a code within a single line\n",
        "# syntax of lambda func\n",
        "\n",
        "# lambda args: function_statement\n",
        "\n",
        "d = lambda x:x*2\n",
        "d(2)"
      ],
      "metadata": {
        "colab": {
          "base_uri": "https://localhost:8080/"
        },
        "id": "HTuU839rKXF_",
        "outputId": "e1b9180d-ba7e-4582-c101-687ccf1f0f75"
      },
      "execution_count": null,
      "outputs": [
        {
          "output_type": "execute_result",
          "data": {
            "text/plain": [
              "4"
            ]
          },
          "metadata": {},
          "execution_count": 34
        }
      ]
    },
    {
      "cell_type": "code",
      "source": [
        "sq = lambda x: x**2\n",
        "sq(4)"
      ],
      "metadata": {
        "colab": {
          "base_uri": "https://localhost:8080/"
        },
        "id": "CTL9MaaGK8cK",
        "outputId": "028d13f7-bfdd-4057-de9d-13de98f218e8"
      },
      "execution_count": null,
      "outputs": [
        {
          "output_type": "execute_result",
          "data": {
            "text/plain": [
              "16"
            ]
          },
          "metadata": {},
          "execution_count": 35
        }
      ]
    },
    {
      "cell_type": "code",
      "source": [
        "ad = lambda a,b:a+b\n",
        "ad(5, 6)"
      ],
      "metadata": {
        "colab": {
          "base_uri": "https://localhost:8080/"
        },
        "id": "zD4X5Oy8LICD",
        "outputId": "9860c803-1f6c-4b07-8835-f5feb67db659"
      },
      "execution_count": null,
      "outputs": [
        {
          "output_type": "execute_result",
          "data": {
            "text/plain": [
              "11"
            ]
          },
          "metadata": {},
          "execution_count": 38
        }
      ]
    },
    {
      "cell_type": "code",
      "source": [
        "#Syntax\n",
        "\n",
        "# lambda <args>:<return value if condition is true> <if condition> else <return val of else>"
      ],
      "metadata": {
        "id": "Xildc9GeLdP6"
      },
      "execution_count": null,
      "outputs": []
    },
    {
      "cell_type": "code",
      "source": [
        "a = lambda a, b: a if a> b else b\n",
        "a(4,6)"
      ],
      "metadata": {
        "colab": {
          "base_uri": "https://localhost:8080/"
        },
        "id": "nNWCoWqqMWv7",
        "outputId": "7d80456a-4819-4de6-8ee6-f9336795c756"
      },
      "execution_count": null,
      "outputs": [
        {
          "output_type": "execute_result",
          "data": {
            "text/plain": [
              "6"
            ]
          },
          "metadata": {},
          "execution_count": 42
        }
      ]
    },
    {
      "cell_type": "code",
      "source": [
        "# can use any function as an argument\n",
        "\n",
        "# display(show) -- we're returning show\n",
        "\n",
        "def display(a):\n",
        "  return a()\n",
        "\n",
        "def show():\n",
        "  return('This is my show function')\n",
        "\n",
        "display(show)"
      ],
      "metadata": {
        "colab": {
          "base_uri": "https://localhost:8080/",
          "height": 56
        },
        "id": "5QawBWy9MaAl",
        "outputId": "a1044e0e-b421-4295-e02c-644f26ec524a"
      },
      "execution_count": null,
      "outputs": [
        {
          "output_type": "execute_result",
          "data": {
            "text/plain": [
              "'This is my show function'"
            ],
            "application/vnd.google.colaboratory.intrinsic+json": {
              "type": "string"
            }
          },
          "metadata": {},
          "execution_count": 45
        }
      ]
    },
    {
      "cell_type": "code",
      "source": [
        "def add(x,y):\n",
        "  return x+y\n",
        "\n",
        "def apply(a,b,c):\n",
        "  return a(b,c)\n",
        "\n",
        "apply(add, 1,2)"
      ],
      "metadata": {
        "colab": {
          "base_uri": "https://localhost:8080/"
        },
        "id": "RjGP7E8mNvPD",
        "outputId": "0ef7ddad-eb62-4b64-b96d-5b4fd050e717"
      },
      "execution_count": null,
      "outputs": [
        {
          "output_type": "execute_result",
          "data": {
            "text/plain": [
              "3"
            ]
          },
          "metadata": {},
          "execution_count": 48
        }
      ]
    },
    {
      "cell_type": "code",
      "source": [
        "#task -- to find the max of all three val\n",
        "\n",
        "def maxval(n1, n2 , n3):\n",
        "  if n1 >= n2 and n1 >= n3:\n",
        "    return n1\n",
        "  elif n2 >= n1 and n2 >= n3:\n",
        "    return n2\n",
        "  else:\n",
        "    return n3\n",
        "\n",
        "n1 = int(input(\"Enter first number: \"))\n",
        "n2 = int(input(\"Enter second number: \"))\n",
        "n3 = int(input(\"Enter third number: \"))\n",
        "\n",
        "res = maxval(n1,n2,n3)\n",
        "print(res)"
      ],
      "metadata": {
        "colab": {
          "base_uri": "https://localhost:8080/"
        },
        "id": "83_x-8k7RbVY",
        "outputId": "16b38c97-fcf7-406d-bfc3-4e794e3e40bd"
      },
      "execution_count": null,
      "outputs": [
        {
          "output_type": "stream",
          "name": "stdout",
          "text": [
            "Enter first number: 5\n",
            "Enter second number: 3\n",
            "Enter third number: 12\n",
            "12\n"
          ]
        }
      ]
    },
    {
      "cell_type": "code",
      "source": [
        "f = 1\n",
        "n = int(input(\"Enter a num: \"))\n",
        "for i in range(1, n + 1):\n",
        "  f = f * i\n",
        "print(f\"The factorial is:\", f)"
      ],
      "metadata": {
        "id": "7by85MHDRpQA",
        "colab": {
          "base_uri": "https://localhost:8080/"
        },
        "outputId": "eb056b90-b057-4d76-e304-849ca9057c4a"
      },
      "execution_count": null,
      "outputs": [
        {
          "output_type": "stream",
          "name": "stdout",
          "text": [
            "Enter a num: 5\n",
            "The factorial is: 120\n"
          ]
        }
      ]
    },
    {
      "cell_type": "code",
      "source": [
        "f = 1\n",
        "n = int(input(\"Enter a num: \"))\n",
        "i = 1\n",
        "while i <= n:\n",
        "    f = f * i\n",
        "    i = i + 1\n",
        "print(\"The factorial is:\", f)"
      ],
      "metadata": {
        "colab": {
          "base_uri": "https://localhost:8080/"
        },
        "id": "-I9hJNd332z2",
        "outputId": "69cf22b8-2e6f-43d3-d3a9-d8adbc0f5c44"
      },
      "execution_count": null,
      "outputs": [
        {
          "output_type": "stream",
          "name": "stdout",
          "text": [
            "Enter a num: 3\n",
            "The factorial is: 6\n"
          ]
        }
      ]
    },
    {
      "cell_type": "code",
      "source": [],
      "metadata": {
        "id": "KoIzBQRC4T1h"
      },
      "execution_count": null,
      "outputs": []
    }
  ]
}