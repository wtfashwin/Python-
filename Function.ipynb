{
  "nbformat": 4,
  "nbformat_minor": 0,
  "metadata": {
    "colab": {
      "provenance": [],
      "authorship_tag": "ABX9TyPG6+VNGrXdUvrDI2l5Vu+7",
      "include_colab_link": true
    },
    "kernelspec": {
      "name": "python3",
      "display_name": "Python 3"
    },
    "language_info": {
      "name": "python"
    }
  },
  "cells": [
    {
      "cell_type": "markdown",
      "metadata": {
        "id": "view-in-github",
        "colab_type": "text"
      },
      "source": [
        "<a href=\"https://colab.research.google.com/github/wtfashwin/Python-/blob/main/Function.ipynb\" target=\"_parent\"><img src=\"https://colab.research.google.com/assets/colab-badge.svg\" alt=\"Open In Colab\"/></a>"
      ]
    },
    {
      "cell_type": "markdown",
      "source": [
        "#Function\n",
        "we can give and return input in it\n",
        "\n",
        "write once, use multiple times\n",
        "\n",
        "def function_name():\n",
        "\n",
        "identifiers should be followed while naming function\n",
        "\n",
        "call a function using its name & ()\n",
        "\n",
        "return gives the output"
      ],
      "metadata": {
        "id": "jtcOQBfYnMdF"
      }
    },
    {
      "cell_type": "code",
      "execution_count": 1,
      "metadata": {
        "id": "X1GR7N2gnJev"
      },
      "outputs": [],
      "source": [
        "def my_func():\n",
        "  print('Hello')"
      ]
    },
    {
      "cell_type": "code",
      "source": [
        "my_func()"
      ],
      "metadata": {
        "colab": {
          "base_uri": "https://localhost:8080/"
        },
        "id": "3Naj4dFVokcd",
        "outputId": "cf174e9d-02f7-4942-a873-ed44da4c71ad"
      },
      "execution_count": 2,
      "outputs": [
        {
          "output_type": "stream",
          "name": "stdout",
          "text": [
            "Hello\n"
          ]
        }
      ]
    },
    {
      "cell_type": "code",
      "source": [
        "def sumi():\n",
        "  a = 10\n",
        "  b = 20\n",
        "  return(a+b)"
      ],
      "metadata": {
        "id": "Pk5AwXC8ol2X"
      },
      "execution_count": 6,
      "outputs": []
    },
    {
      "cell_type": "code",
      "source": [
        "sumi()"
      ],
      "metadata": {
        "colab": {
          "base_uri": "https://localhost:8080/"
        },
        "id": "69AYXt_So4LQ",
        "outputId": "ab03708d-ea0b-4732-abb4-243ef741b723"
      },
      "execution_count": 7,
      "outputs": [
        {
          "output_type": "execute_result",
          "data": {
            "text/plain": [
              "30"
            ]
          },
          "metadata": {},
          "execution_count": 7
        }
      ]
    },
    {
      "cell_type": "code",
      "source": [
        "def sum(a,b): # a, and b are called as positional arguments\n",
        "  return(a+b)"
      ],
      "metadata": {
        "id": "MxmIT7vmo5JT"
      },
      "execution_count": 8,
      "outputs": []
    },
    {
      "cell_type": "code",
      "source": [
        "def greet(name):\n",
        "  print('Good', name, '!')"
      ],
      "metadata": {
        "id": "J65qyO_Lpy9v"
      },
      "execution_count": 9,
      "outputs": []
    },
    {
      "cell_type": "code",
      "source": [
        "greet('ashwin')"
      ],
      "metadata": {
        "colab": {
          "base_uri": "https://localhost:8080/"
        },
        "id": "TBNv5CAjqND_",
        "outputId": "26c48dcf-4fd6-4ac2-c97d-21eb03fdfa6d"
      },
      "execution_count": 11,
      "outputs": [
        {
          "output_type": "stream",
          "name": "stdout",
          "text": [
            "Good ashwin !\n"
          ]
        }
      ]
    },
    {
      "cell_type": "code",
      "source": [
        "#function to calculate area of rectangle\n",
        "\n",
        "def calculate_rect(l, w):\n",
        "  area = l * w\n",
        "  return(area)\n",
        "\n",
        "a = calculate_rect(2,4)\n",
        "print(a)"
      ],
      "metadata": {
        "colab": {
          "base_uri": "https://localhost:8080/"
        },
        "id": "PyUXsYo0qOj9",
        "outputId": "a4c52b31-6e3c-4079-8374-b4c7f994270a"
      },
      "execution_count": 15,
      "outputs": [
        {
          "output_type": "stream",
          "name": "stdout",
          "text": [
            "8\n"
          ]
        }
      ]
    },
    {
      "cell_type": "code",
      "source": [
        "s = 'I am learning Python!'\n",
        "\n",
        "#variables have some types, that is called as scope of variable,\n",
        "\n",
        "# global , local\n",
        "\n",
        "# If the var is declared outside its known as global variables\n",
        "\n",
        "# while the one whom we deliver inside that particular class, function is called\n",
        "# local variable."
      ],
      "metadata": {
        "id": "mBQrAF62qzi_"
      },
      "execution_count": 16,
      "outputs": []
    },
    {
      "cell_type": "code",
      "source": [
        "def javat():\n",
        "  global s\n",
        "  s = 'I am learning Java'\n",
        "  print(s)\n",
        "s"
      ],
      "metadata": {
        "colab": {
          "base_uri": "https://localhost:8080/",
          "height": 56
        },
        "id": "Wa0OrNfSs61a",
        "outputId": "edeb63f2-f764-4676-a39f-1f0a3aa8cefb"
      },
      "execution_count": 35,
      "outputs": [
        {
          "output_type": "execute_result",
          "data": {
            "text/plain": [
              "'I am learning Java'"
            ],
            "application/vnd.google.colaboratory.intrinsic+json": {
              "type": "string"
            }
          },
          "metadata": {},
          "execution_count": 35
        }
      ]
    },
    {
      "cell_type": "code",
      "source": [
        "def info(name, age):\n",
        "  print('My name is', name, 'and my age is', age * 365, 'days old')"
      ],
      "metadata": {
        "id": "2eHM5hnOuR_P"
      },
      "execution_count": 43,
      "outputs": []
    },
    {
      "cell_type": "code",
      "source": [
        "info('Ashwin', 21)"
      ],
      "metadata": {
        "colab": {
          "base_uri": "https://localhost:8080/"
        },
        "id": "gJMT23k0vUvR",
        "outputId": "12aac90f-b0a4-4ee7-b971-df7ff3b31964"
      },
      "execution_count": 44,
      "outputs": [
        {
          "output_type": "stream",
          "name": "stdout",
          "text": [
            "My name is Ashwin and my age is 7665 days old\n"
          ]
        }
      ]
    },
    {
      "cell_type": "markdown",
      "source": [
        "#Types of arguments in Python\n",
        "\n",
        "1. Positional : by default all the args are positional\n",
        "\n",
        "2. Keyword : we assign the value explicitally\n",
        "  \n",
        "3. Default\n",
        "\n",
        "4. Variable Length (arbitary length)"
      ],
      "metadata": {
        "id": "dUuEe-R7v8IL"
      }
    },
    {
      "cell_type": "code",
      "source": [
        "#keyword args\n",
        "# here i defined the name ,\n",
        "info(name='Lord', age=22)"
      ],
      "metadata": {
        "colab": {
          "base_uri": "https://localhost:8080/"
        },
        "id": "LqJrxZu5vXZb",
        "outputId": "518629c1-0a91-4aa7-ffd9-eadb6432e7b8"
      },
      "execution_count": 46,
      "outputs": [
        {
          "output_type": "stream",
          "name": "stdout",
          "text": [
            "My name is Lord and my age is 8030 days old\n"
          ]
        }
      ]
    },
    {
      "cell_type": "code",
      "source": [
        "#default argument\n",
        "\n",
        "# we'd assign a value to the function itself, so we only need name , and func\n",
        "# would automatically take that assigned\n",
        "\n",
        "def info(name, age=21):\n",
        "  print('My name is', name, 'and my age is', age * 365, 'days old')\n",
        ""
      ],
      "metadata": {
        "id": "bkOx5h6XxDF3"
      },
      "execution_count": 48,
      "outputs": []
    },
    {
      "cell_type": "code",
      "source": [
        "#variable length, * symbol gives all values\n",
        "# jab pata nahi hai kitne arg req hai tab we'd use them\n",
        "\n",
        "def my_func(*args):\n",
        "  print(args)\n",
        "my_func(1,2,3,4,5,6,7,8,9)"
      ],
      "metadata": {
        "colab": {
          "base_uri": "https://localhost:8080/"
        },
        "id": "LIPThsebx1jK",
        "outputId": "25e17eb4-0bb6-48ce-d45d-683120854842"
      },
      "execution_count": 52,
      "outputs": [
        {
          "output_type": "stream",
          "name": "stdout",
          "text": [
            "(1, 2, 3, 4, 5, 6, 7, 8, 9)\n"
          ]
        }
      ]
    },
    {
      "cell_type": "code",
      "source": [
        "#Task - farhenehiet - celsius convert\n",
        "\n",
        "def farhen(cel):\n",
        "  far = (cel * 9/5) + 32\n",
        "  return(far)\n",
        "farhen(21)"
      ],
      "metadata": {
        "colab": {
          "base_uri": "https://localhost:8080/"
        },
        "id": "HX7t36jlywsB",
        "outputId": "52569e1c-1481-4dc8-98c3-b89c9f233bc2"
      },
      "execution_count": 60,
      "outputs": [
        {
          "output_type": "execute_result",
          "data": {
            "text/plain": [
              "69.8"
            ]
          },
          "metadata": {},
          "execution_count": 60
        }
      ]
    },
    {
      "cell_type": "code",
      "source": [
        "#even odd\n",
        "\n",
        "def even_odd():\n",
        "  n = int(input(\"Enter an integer: \"))\n",
        "  if n % 2 == 0:\n",
        "    print(f\"{n} is even number.\")\n",
        "  else:\n",
        "    print(f\"{n} is odd number.\")\n",
        "\n",
        "even_odd()"
      ],
      "metadata": {
        "colab": {
          "base_uri": "https://localhost:8080/"
        },
        "id": "DzdwYvjDzSS9",
        "outputId": "a9d7ee71-874c-49bc-f79e-8cc9f8be190d"
      },
      "execution_count": 66,
      "outputs": [
        {
          "output_type": "stream",
          "name": "stdout",
          "text": [
            "Enter an integer: 2\n",
            "2 is even number.\n"
          ]
        }
      ]
    },
    {
      "cell_type": "code",
      "source": [],
      "metadata": {
        "id": "QyhWLSYm0kvt"
      },
      "execution_count": null,
      "outputs": []
    }
  ]
}