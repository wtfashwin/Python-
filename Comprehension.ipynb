{
  "nbformat": 4,
  "nbformat_minor": 0,
  "metadata": {
    "colab": {
      "provenance": [],
      "authorship_tag": "ABX9TyNXfLImgTMLInQoGARBKV3R",
      "include_colab_link": true
    },
    "kernelspec": {
      "name": "python3",
      "display_name": "Python 3"
    },
    "language_info": {
      "name": "python"
    }
  },
  "cells": [
    {
      "cell_type": "markdown",
      "metadata": {
        "id": "view-in-github",
        "colab_type": "text"
      },
      "source": [
        "<a href=\"https://colab.research.google.com/github/wtfashwin/Python-/blob/main/Comprehension.ipynb\" target=\"_parent\"><img src=\"https://colab.research.google.com/assets/colab-badge.svg\" alt=\"Open In Colab\"/></a>"
      ]
    },
    {
      "cell_type": "markdown",
      "source": [
        "#Comprehension\n",
        "\n",
        "writing the code in a compact way in a line\n"
      ],
      "metadata": {
        "id": "37fYGQEVpbxD"
      }
    },
    {
      "cell_type": "markdown",
      "source": [
        "##List Comprehension\n"
      ],
      "metadata": {
        "id": "D0YpRoIFp0jw"
      }
    },
    {
      "cell_type": "code",
      "execution_count": null,
      "metadata": {
        "id": "SfZTaG7npXHj"
      },
      "outputs": [],
      "source": [
        "l1 = [1, 2, 3, 4, 5, 6, 7, 8, 9, 10]\n",
        "l2 = []\n",
        "for i in l1:\n",
        "  if i % 2 == 0:\n",
        "    l2.append(i)"
      ]
    },
    {
      "cell_type": "code",
      "source": [
        "print(l2)"
      ],
      "metadata": {
        "colab": {
          "base_uri": "https://localhost:8080/"
        },
        "id": "miMa8uXXpibF",
        "outputId": "a0dd687b-f0aa-47c7-c6b1-49f8e8979b02"
      },
      "execution_count": null,
      "outputs": [
        {
          "output_type": "stream",
          "name": "stdout",
          "text": [
            "[2, 4, 6, 8, 10]\n"
          ]
        }
      ]
    },
    {
      "cell_type": "markdown",
      "source": [
        "syntax\n",
        "\n",
        "new_list = [output_expression for var in input_list if (var satisfy condition)]"
      ],
      "metadata": {
        "id": "ZGre64ZyqW21"
      }
    },
    {
      "cell_type": "code",
      "source": [
        "new_list = [i for i in l1 if i%2==0]\n",
        "print(new_list)"
      ],
      "metadata": {
        "colab": {
          "base_uri": "https://localhost:8080/"
        },
        "id": "jJcCWkHtqSTk",
        "outputId": "365623f3-4f22-4070-c97c-536b65298904"
      },
      "execution_count": null,
      "outputs": [
        {
          "output_type": "stream",
          "name": "stdout",
          "text": [
            "[2, 4, 6, 8, 10]\n"
          ]
        }
      ]
    },
    {
      "cell_type": "code",
      "source": [
        "new_list2 = ['Its a Even number' if i%2==0 else 'Odd number' for i in l1]\n",
        "print(new_list2)\n"
      ],
      "metadata": {
        "colab": {
          "base_uri": "https://localhost:8080/"
        },
        "id": "7LCxqa0Aq0Z-",
        "outputId": "6079f589-946a-4de2-f14e-679c04120812"
      },
      "execution_count": null,
      "outputs": [
        {
          "output_type": "stream",
          "name": "stdout",
          "text": [
            "['Odd number', 'Its a Even number', 'Odd number', 'Its a Even number', 'Odd number', 'Its a Even number', 'Odd number', 'Its a Even number', 'Odd number', 'Its a Even number']\n"
          ]
        }
      ]
    },
    {
      "cell_type": "markdown",
      "source": [
        "##String Comprehension"
      ],
      "metadata": {
        "id": "BNFIGzqIr-Ky"
      }
    },
    {
      "cell_type": "code",
      "source": [
        "fruits = ['Apple', 'Cherry', 'Banana', 'Mango']\n",
        "nl = [i for i in fruits]\n",
        "print(nl)"
      ],
      "metadata": {
        "colab": {
          "base_uri": "https://localhost:8080/"
        },
        "id": "BTWzJf3yrUwN",
        "outputId": "65e65cff-e549-4e2b-d793-361835abd64b"
      },
      "execution_count": null,
      "outputs": [
        {
          "output_type": "stream",
          "name": "stdout",
          "text": [
            "['Apple', 'Cherry', 'Banana', 'Mango']\n"
          ]
        }
      ]
    },
    {
      "cell_type": "code",
      "source": [
        "la = [i for i in fruits if 'r' in i]\n",
        "print(la)"
      ],
      "metadata": {
        "colab": {
          "base_uri": "https://localhost:8080/"
        },
        "id": "B8BzXnWGs7TS",
        "outputId": "115a7abe-8701-4277-f86c-5ad276166cc3"
      },
      "execution_count": null,
      "outputs": [
        {
          "output_type": "stream",
          "name": "stdout",
          "text": [
            "['Cherry']\n"
          ]
        }
      ]
    },
    {
      "cell_type": "code",
      "source": [
        "lb = ['Yes' if 'a' in i else 'No' for i in fruits]\n",
        "print(lb)"
      ],
      "metadata": {
        "colab": {
          "base_uri": "https://localhost:8080/"
        },
        "id": "uvz8Nu7ms_oS",
        "outputId": "5004be72-228f-462d-e4b6-5b3ed8dda9f4"
      },
      "execution_count": null,
      "outputs": [
        {
          "output_type": "stream",
          "name": "stdout",
          "text": [
            "['No', 'No', 'Yes', 'Yes']\n"
          ]
        }
      ]
    },
    {
      "cell_type": "code",
      "source": [
        "a = 'DataEVFUuaeiScience'\n",
        "vow = [v for v in a if v in 'aeiouAEIOU']\n",
        "print(vow)"
      ],
      "metadata": {
        "colab": {
          "base_uri": "https://localhost:8080/"
        },
        "id": "HCNH1xpFuMBj",
        "outputId": "e4165765-2568-40bd-9f64-3e2097b45e5d"
      },
      "execution_count": null,
      "outputs": [
        {
          "output_type": "stream",
          "name": "stdout",
          "text": [
            "['a', 'a', 'E', 'U', 'u', 'a', 'e', 'i', 'i', 'e', 'e']\n"
          ]
        }
      ]
    },
    {
      "cell_type": "markdown",
      "source": [
        "##Dictionary Comprehension\n",
        "  consise way to print iterable data\n",
        "  works with keys and values"
      ],
      "metadata": {
        "id": "elZxCH41vEol"
      }
    },
    {
      "cell_type": "code",
      "source": [
        "d1 = {'A':1, 'B':2, 'C':3, 'D':4}\n",
        "for i in d1:\n",
        "  print(i)"
      ],
      "metadata": {
        "colab": {
          "base_uri": "https://localhost:8080/"
        },
        "id": "aCr899QSu4TU",
        "outputId": "f7e04a0e-2767-47c2-c67e-0c6d5cc52532"
      },
      "execution_count": null,
      "outputs": [
        {
          "output_type": "stream",
          "name": "stdout",
          "text": [
            "A\n",
            "B\n",
            "C\n",
            "D\n"
          ]
        }
      ]
    },
    {
      "cell_type": "code",
      "source": [
        "for i in d1:\n",
        "  print(d1[i])"
      ],
      "metadata": {
        "colab": {
          "base_uri": "https://localhost:8080/"
        },
        "id": "FyF3QiI1veBs",
        "outputId": "77e7f06d-c710-43f4-a0c4-838bed56dabc"
      },
      "execution_count": null,
      "outputs": [
        {
          "output_type": "stream",
          "name": "stdout",
          "text": [
            "1\n",
            "2\n",
            "3\n",
            "4\n"
          ]
        }
      ]
    },
    {
      "cell_type": "markdown",
      "source": [
        "Syntax\n",
        "\n",
        "Output_Dictionary = {key:value for (key, value) in input_dictionary if (key, value satisfy the condition )}"
      ],
      "metadata": {
        "id": "C3f5SlAIwAtf"
      }
    },
    {
      "cell_type": "code",
      "source": [
        "ld1 = [1, 2, 3, 4, 5, 6, 7, 8, 9, 10]\n",
        "d2 = {}\n",
        "for i in ld1:\n",
        "  if i%2==0:\n",
        "    d2[i]=i**3"
      ],
      "metadata": {
        "id": "tC5rfLxjxbw5"
      },
      "execution_count": null,
      "outputs": []
    },
    {
      "cell_type": "code",
      "source": [
        "ld1 = [1, 2, 3, 4, 5, 6, 7, 8, 9, 10]\n",
        "d2 = {i: i**3 for i in ld1 if i % 2 ==0}\n",
        "print(d2)"
      ],
      "metadata": {
        "colab": {
          "base_uri": "https://localhost:8080/"
        },
        "id": "-hAXn-E6v3Ft",
        "outputId": "45874251-5e54-4388-d9de-5785fc9bc3fa"
      },
      "execution_count": null,
      "outputs": [
        {
          "output_type": "stream",
          "name": "stdout",
          "text": [
            "{2: 8, 4: 64, 6: 216, 8: 512, 10: 1000}\n"
          ]
        }
      ]
    },
    {
      "cell_type": "code",
      "source": [
        "#Converting a list to dictionary\n",
        "ld1 = [1, 2, 3, 4, 5, 6, 7, 8, 9, 10]\n",
        "d3 = {}\n",
        "\n",
        "for i in ld1:\n",
        "  if i%2!=0:\n",
        "    d3[i]=i**3"
      ],
      "metadata": {
        "id": "2dTCYlP0w_6w"
      },
      "execution_count": null,
      "outputs": []
    },
    {
      "cell_type": "code",
      "source": [
        "print(d3)"
      ],
      "metadata": {
        "colab": {
          "base_uri": "https://localhost:8080/"
        },
        "id": "dxLMBFy8xrjY",
        "outputId": "93d17ccb-6261-4a39-a469-efc1360ce039"
      },
      "execution_count": null,
      "outputs": [
        {
          "output_type": "stream",
          "name": "stdout",
          "text": [
            "{1: 1, 3: 27, 5: 125, 7: 343, 9: 729}\n"
          ]
        }
      ]
    },
    {
      "cell_type": "code",
      "source": [
        "fruits = ['Apple', 'Banana', 'Cherry', 'Date', 'Elderberry']\n",
        "count = [3, 5, 1, 8, 9]\n",
        "od = {}\n",
        "#jisse pata chale loop kitni baar elements fetch karna hai\n",
        "l = len(fruits)\n",
        "for i in range(l):\n",
        "  od[fruits[i]]=count[i]\n",
        "print(od)"
      ],
      "metadata": {
        "colab": {
          "base_uri": "https://localhost:8080/"
        },
        "id": "l6JcQez6x4FW",
        "outputId": "57d44a67-efc5-47ee-f9fa-ffa56fb1c501"
      },
      "execution_count": null,
      "outputs": [
        {
          "output_type": "stream",
          "name": "stdout",
          "text": [
            "{'Apple': 3, 'Banana': 5, 'Cherry': 1, 'Date': 8, 'Elderberry': 9}\n"
          ]
        }
      ]
    },
    {
      "cell_type": "code",
      "source": [
        "od = {fruits:count for fruits, count in zip(fruits,count)}\n",
        "print(od)"
      ],
      "metadata": {
        "colab": {
          "base_uri": "https://localhost:8080/"
        },
        "id": "lN4FtLJR1bx7",
        "outputId": "65a07fcb-b6af-42dc-8cca-24e1b2ca17cb"
      },
      "execution_count": null,
      "outputs": [
        {
          "output_type": "stream",
          "name": "stdout",
          "text": [
            "{'Apple': 3, 'Banana': 5, 'Cherry': 1, 'Date': 8, 'Elderberry': 9}\n"
          ]
        }
      ]
    },
    {
      "cell_type": "code",
      "source": [
        "name = ['A', 'B', 'C', 'D']\n",
        "age = [20, 21, 22, 23]\n",
        "\n",
        "count = {}\n",
        "\n",
        "l = len(name)\n",
        "for i in range(l):\n",
        "  count[name[i]]=age[i]\n",
        "print(count)"
      ],
      "metadata": {
        "colab": {
          "base_uri": "https://localhost:8080/"
        },
        "id": "YaAnJtrO2SCp",
        "outputId": "75af75bb-bebf-49b2-a783-5b4f565cee71"
      },
      "execution_count": null,
      "outputs": [
        {
          "output_type": "stream",
          "name": "stdout",
          "text": [
            "{'A': 20, 'B': 21, 'C': 22, 'D': 23}\n"
          ]
        }
      ]
    },
    {
      "cell_type": "code",
      "source": [
        "nage = {n: a for n, a in zip(name, age)}\n",
        "#.zip pairs the element from one list to another list\n",
        "print(nage)"
      ],
      "metadata": {
        "colab": {
          "base_uri": "https://localhost:8080/"
        },
        "id": "TyvtliWV2wr3",
        "outputId": "cf981238-77cb-496e-a762-a69fb387fe05"
      },
      "execution_count": null,
      "outputs": [
        {
          "output_type": "stream",
          "name": "stdout",
          "text": [
            "{'A': 20, 'B': 21, 'C': 22, 'D': 23}\n"
          ]
        }
      ]
    },
    {
      "cell_type": "markdown",
      "source": [
        "#Set Comprehension\n",
        "\n",
        "More similar to list comprehension"
      ],
      "metadata": {
        "id": "Z3YdMDa_5BO0"
      }
    },
    {
      "cell_type": "code",
      "source": [
        "input_list = [1,2,4,5,6,7,8,9,32,12,54]\n",
        "ol = {i for i in input_listne if i%2!=0}\n",
        "print(type(ol))"
      ],
      "metadata": {
        "colab": {
          "base_uri": "https://localhost:8080/"
        },
        "id": "mdS7SmFF28UU",
        "outputId": "efb472df-cc9d-44be-dbe2-c8775558f5f8"
      },
      "execution_count": null,
      "outputs": [
        {
          "output_type": "stream",
          "name": "stdout",
          "text": [
            "<class 'set'>\n"
          ]
        }
      ]
    },
    {
      "cell_type": "markdown",
      "source": [
        "#Tuple Comprehension\n",
        "\n"
      ],
      "metadata": {
        "id": "sBn3IYlp5x1N"
      }
    },
    {
      "cell_type": "code",
      "source": [
        "input_list = [1,2,4,5,6,7,8,9,32,12,54]\n",
        "ogenerator = (i for i in input_list if i%2==0)\n",
        "print(ogenerator)"
      ],
      "metadata": {
        "id": "ccO3A8Ih5ppd",
        "outputId": "96623f5b-e881-42b9-c04d-4217758f7633",
        "colab": {
          "base_uri": "https://localhost:8080/"
        }
      },
      "execution_count": null,
      "outputs": [
        {
          "output_type": "stream",
          "name": "stdout",
          "text": [
            "<generator object <genexpr> at 0x7fe3f3f8dcb0>\n"
          ]
        }
      ]
    },
    {
      "cell_type": "code",
      "source": [
        "next(ogenerator)"
      ],
      "metadata": {
        "id": "bjXIqonz_L70",
        "colab": {
          "base_uri": "https://localhost:8080/"
        },
        "outputId": "90d8ac85-c830-40f8-f320-b5a61dabd500"
      },
      "execution_count": null,
      "outputs": [
        {
          "output_type": "execute_result",
          "data": {
            "text/plain": [
              "4"
            ]
          },
          "metadata": {},
          "execution_count": 4
        }
      ]
    },
    {
      "cell_type": "markdown",
      "source": [
        "### Tasks to Perform\n",
        "\n",
        "To create a new list with comprehension i%3 == 0"
      ],
      "metadata": {
        "id": "zWfqf0Hoaluk"
      }
    },
    {
      "cell_type": "code",
      "source": [
        "nl = [1, 2, 3, 4, 5, 6, 7, 8, 9, 10]\n",
        "nl1 = [i for i in input_list if i % 3 == 0]\n",
        "print(nl1)"
      ],
      "metadata": {
        "colab": {
          "base_uri": "https://localhost:8080/"
        },
        "id": "YWbglIhaZ2d-",
        "outputId": "caa4064a-8601-4e6e-e53d-d3d6e2cca680"
      },
      "execution_count": null,
      "outputs": [
        {
          "output_type": "stream",
          "name": "stdout",
          "text": [
            "[6, 9, 12, 54]\n"
          ]
        }
      ]
    },
    {
      "cell_type": "markdown",
      "source": [
        "Create list and when number in list is 5 > n type yes , else no by comprehension"
      ],
      "metadata": {
        "id": "hvlc9qZfbjBp"
      }
    },
    {
      "cell_type": "code",
      "source": [
        "res = ['yes' if i > 5 else 'no' for i in nl]\n",
        "print(res)"
      ],
      "metadata": {
        "colab": {
          "base_uri": "https://localhost:8080/"
        },
        "id": "2-FLeVmXbhUZ",
        "outputId": "5b3a7084-cd80-4dd2-eb80-fd56fd6dcb05"
      },
      "execution_count": null,
      "outputs": [
        {
          "output_type": "stream",
          "name": "stdout",
          "text": [
            "['no', 'no', 'no', 'no', 'no', 'yes', 'yes', 'yes', 'yes', 'yes']\n"
          ]
        }
      ]
    },
    {
      "cell_type": "markdown",
      "source": [
        "Task 3 : Make list languages and version convert into dict with comprehension"
      ],
      "metadata": {
        "id": "ioEnw8CzcI32"
      }
    },
    {
      "cell_type": "code",
      "source": [
        "l = ['Python', 'Golang', 'Elixer', 'Perl']\n",
        "v = [3.13 , 1.22, 1.17, 5.40]\n",
        "\n",
        "lv1 = {}\n",
        "nl = len(l)\n",
        "for i in range(nl):\n",
        "  lv1[l[i]] = v[i]\n",
        "print(lv1)\n",
        "\n",
        "lv2 = {x: y for x, y in zip(l, v)}\n",
        "print(lv2)\n",
        "\n",
        "lv3 = {}\n",
        "for x, y in zip(l, v):\n",
        "  lv3[x] = y\n",
        "print(lv3)"
      ],
      "metadata": {
        "colab": {
          "base_uri": "https://localhost:8080/"
        },
        "id": "uKALm3Leb4IN",
        "outputId": "87fa5e96-bf97-4b24-d5e5-320261a667b1"
      },
      "execution_count": null,
      "outputs": [
        {
          "output_type": "stream",
          "name": "stdout",
          "text": [
            "{'Python': 3.13, 'Golang': 1.22, 'Elixer': 1.17, 'Perl': 5.4}\n",
            "{'Python': 3.13, 'Golang': 1.22, 'Elixer': 1.17, 'Perl': 5.4}\n",
            "{'Python': 3.13, 'Golang': 1.22, 'Elixer': 1.17, 'Perl': 5.4}\n"
          ]
        }
      ]
    },
    {
      "cell_type": "markdown",
      "source": [
        "#Copy"
      ],
      "metadata": {
        "id": "5dLTbRI4F8jY"
      }
    },
    {
      "cell_type": "code",
      "source": [
        "a = 10\n",
        "b = a\n",
        "print(a)\n",
        "print(b)"
      ],
      "metadata": {
        "id": "pufO1tHJdIW0",
        "colab": {
          "base_uri": "https://localhost:8080/"
        },
        "outputId": "ffbb2904-d461-4c9b-8649-d6cba3e21877"
      },
      "execution_count": 5,
      "outputs": [
        {
          "output_type": "stream",
          "name": "stdout",
          "text": [
            "10\n",
            "10\n"
          ]
        }
      ]
    },
    {
      "cell_type": "code",
      "source": [
        "print(id(a))\n",
        "print(id(b))"
      ],
      "metadata": {
        "colab": {
          "base_uri": "https://localhost:8080/"
        },
        "id": "Ko1Ia5GaGFRo",
        "outputId": "3d80fb8f-0221-4489-b12e-e0696eb3ebb6"
      },
      "execution_count": 6,
      "outputs": [
        {
          "output_type": "stream",
          "name": "stdout",
          "text": [
            "10758024\n",
            "10758024\n"
          ]
        }
      ]
    },
    {
      "cell_type": "markdown",
      "source": [
        "##Shallow Copy\n",
        "\n",
        "- generates a copy of outer list\n",
        "- nested list - list inside list\n",
        "- does not make copy of nested list"
      ],
      "metadata": {
        "id": "rsOdBqqBG0GB"
      }
    },
    {
      "cell_type": "code",
      "source": [
        "a = [[[1,2,3,4]]]\n",
        "\n",
        "l1 = [1,2,3,4,5]\n",
        "l2 = l1.copy()\n",
        "print(l2)\n",
        "print(id(l1))\n",
        "print(id(l2))"
      ],
      "metadata": {
        "colab": {
          "base_uri": "https://localhost:8080/"
        },
        "id": "z64IzqOsGN-A",
        "outputId": "9a73cad8-1278-47ca-9828-9a34545aa481"
      },
      "execution_count": 16,
      "outputs": [
        {
          "output_type": "stream",
          "name": "stdout",
          "text": [
            "[1, 2, 3, 4, 5]\n",
            "138668579820352\n",
            "138668581219840\n"
          ]
        }
      ]
    },
    {
      "cell_type": "code",
      "source": [
        "ln1 = [[1,2,3], 55, [5,6,7,8]]\n",
        "ln1[0][0]\n",
        "ln1[2][1]"
      ],
      "metadata": {
        "colab": {
          "base_uri": "https://localhost:8080/"
        },
        "id": "FmI_HESEG7mZ",
        "outputId": "1005f5bb-e640-4001-e7ac-11ed622c7be0"
      },
      "execution_count": 19,
      "outputs": [
        {
          "output_type": "execute_result",
          "data": {
            "text/plain": [
              "6"
            ]
          },
          "metadata": {},
          "execution_count": 19
        }
      ]
    },
    {
      "cell_type": "code",
      "source": [
        "import copy\n",
        "ln1 = [[1,2,3], [4,5,6], [7,8,9]]\n",
        "ln2 = copy.copy(ln1)\n",
        "ln2\n",
        "print(id(ln1))\n",
        "print(id(ln2))\n"
      ],
      "metadata": {
        "colab": {
          "base_uri": "https://localhost:8080/"
        },
        "id": "cB2ehCSkHoXp",
        "outputId": "179c4782-99b9-4d72-c333-cd46e32ba4ab"
      },
      "execution_count": 26,
      "outputs": [
        {
          "output_type": "stream",
          "name": "stdout",
          "text": [
            "138668580943936\n",
            "138668581211264\n"
          ]
        }
      ]
    },
    {
      "cell_type": "code",
      "source": [
        "print(id((ln1[0][0])))\n",
        "print(id((ln2[0][0])))"
      ],
      "metadata": {
        "colab": {
          "base_uri": "https://localhost:8080/"
        },
        "id": "Rj5QeEg_JAFL",
        "outputId": "54fda511-dd8b-4251-fe3f-4f7161d23e11"
      },
      "execution_count": 30,
      "outputs": [
        {
          "output_type": "stream",
          "name": "stdout",
          "text": [
            "10757736\n",
            "10757736\n"
          ]
        }
      ]
    },
    {
      "cell_type": "code",
      "source": [
        "ln1.append(30)\n",
        "print(ln1)\n",
        "print(ln2)\n"
      ],
      "metadata": {
        "colab": {
          "base_uri": "https://localhost:8080/"
        },
        "id": "ijiD3jKAJdKe",
        "outputId": "4c922387-5555-474c-e423-ef194a18f5d0"
      },
      "execution_count": 31,
      "outputs": [
        {
          "output_type": "stream",
          "name": "stdout",
          "text": [
            "[[1, 2, 3], [4, 5, 6], [7, 8, 9], 30]\n",
            "[[1, 2, 3], [4, 5, 6], [7, 8, 9]]\n"
          ]
        }
      ]
    },
    {
      "cell_type": "code",
      "source": [
        "ln1[0][1] = 200\n",
        "print(ln1)\n",
        "print(ln2)"
      ],
      "metadata": {
        "colab": {
          "base_uri": "https://localhost:8080/"
        },
        "id": "tqZ4cL5EKnds",
        "outputId": "71523921-e10e-4a01-e535-79cfa51e717e"
      },
      "execution_count": 32,
      "outputs": [
        {
          "output_type": "stream",
          "name": "stdout",
          "text": [
            "[[1, 200, 3], [4, 5, 6], [7, 8, 9], 30]\n",
            "[[1, 200, 3], [4, 5, 6], [7, 8, 9]]\n"
          ]
        }
      ]
    },
    {
      "cell_type": "code",
      "metadata": {
        "colab": {
          "base_uri": "https://localhost:8080/"
        },
        "id": "81e1f43f",
        "outputId": "3fec3b42-209a-404d-a7ee-918f919a5d1e"
      },
      "source": [
        "# list banani hai, copy banani hai , using copy,\n",
        "# after using this print this, check memory address, after that\n",
        "# l1, l2 me ek isme outer list me variable add karna hai fir nested list me\n",
        "# changes karke dekhne hai fir usko print karna hai\n",
        "\n",
        "import copy\n",
        "ln1 = [[1, 200, 3], [4, 5, 6], [7, 8, 9], 30]\n",
        "ln2 = copy.copy(ln1)\n",
        "ln1.insert(0, 13)\n",
        "\n",
        "print(f\"list 1: {ln1}\")\n",
        "print(f\"list 2: {ln2}\")\n",
        "print(id(ln1))\n",
        "print(id(ln2))\n",
        "\n",
        "ln1[1].insert(1, 19)\n",
        "\n",
        "print(f\"list 1: {ln1}\")\n",
        "print(f\"list 2: {ln2}\")"
      ],
      "execution_count": 39,
      "outputs": [
        {
          "output_type": "stream",
          "name": "stdout",
          "text": [
            "list 1: [13, [1, 200, 3], [4, 5, 6], [7, 8, 9], 30]\n",
            "list 2: [[1, 200, 3], [4, 5, 6], [7, 8, 9], 30]\n",
            "138668579830912\n",
            "138668579971712\n",
            "list 1: [13, [1, 19, 200, 3], [4, 5, 6], [7, 8, 9], 30]\n",
            "list 2: [[1, 19, 200, 3], [4, 5, 6], [7, 8, 9], 30]\n"
          ]
        }
      ]
    },
    {
      "cell_type": "markdown",
      "source": [
        "## Deep Copy\n",
        "- creates a copy of same object which is totally different that the original one\n",
        "\n",
        "- A deep copy creates a new compound object and then, recursively, inserts copies into it of the objects found in the original. This means it creates a completely independent clone of the original object, including all its nested elements.\n",
        "\n",
        "- When to use it:\n",
        "\n",
        "    When you need a completely independent copy of an object, where changes to the copy should not affect the original, and vice versa.\n",
        "\n",
        "    This is especially important for complex data structures with multiple levels of mutable nested objects."
      ],
      "metadata": {
        "id": "3xJ5bXuQNrLP"
      }
    },
    {
      "cell_type": "code",
      "source": [
        "l1 = [[1, 2, 3], [4, 5, 6], [7, 8, 9]]\n",
        "l2 = copy.deepcopy(l1)\n",
        "print(l1)\n",
        "print(l2)\n",
        "print(id(l1))\n",
        "print(id(l2))"
      ],
      "metadata": {
        "colab": {
          "base_uri": "https://localhost:8080/"
        },
        "id": "0eGD6hzFLZX1",
        "outputId": "7edadfa3-4948-4b03-ad0c-d7b5ce5a7ab0"
      },
      "execution_count": 41,
      "outputs": [
        {
          "output_type": "stream",
          "name": "stdout",
          "text": [
            "[[1, 2, 3], [4, 5, 6], [7, 8, 9]]\n",
            "[[1, 2, 3], [4, 5, 6], [7, 8, 9]]\n",
            "138668578296512\n",
            "138668578306752\n"
          ]
        }
      ]
    },
    {
      "cell_type": "code",
      "source": [
        "a = l1[0][1]\n",
        "print(a)\n",
        "print(id(l1[0][1]))"
      ],
      "metadata": {
        "colab": {
          "base_uri": "https://localhost:8080/"
        },
        "id": "iVXeT19_OCBi",
        "outputId": "afc1ae9d-e914-4c42-c58d-eb6361f1e26b"
      },
      "execution_count": 45,
      "outputs": [
        {
          "output_type": "stream",
          "name": "stdout",
          "text": [
            "2\n",
            "10757768\n"
          ]
        }
      ]
    },
    {
      "cell_type": "markdown",
      "source": [
        "#Memory Management In Python!\n",
        "\n",
        "- How?\n",
        "  --"
      ],
      "metadata": {
        "id": "K_g5Kb9PRqKd"
      }
    },
    {
      "cell_type": "code",
      "source": [],
      "metadata": {
        "id": "E09aOf8GOXef"
      },
      "execution_count": null,
      "outputs": []
    },
    {
      "cell_type": "markdown",
      "metadata": {
        "id": "966bfae0"
      },
      "source": [
        "## Memory Management in Python\n",
        "\n",
        "### What?\n",
        "\n",
        "Memory management in Python is the process by which the Python interpreter allocates and deallocates memory for objects. When you create an object in Python (like a variable, list, or function), the interpreter needs to find space in memory to store it. When the object is no longer needed, the memory it occupies should be freed up so it can be used by other parts of the program.\n",
        "\n",
        "### How does Python manage Memory?\n",
        "\n",
        "Python's memory management has two main components:\n",
        "\n",
        "1.  **Heap Allocation:** When you create an object, Python allocates memory for it on the heap. The heap is a portion of memory where objects are stored.\n",
        "\n",
        "2.  **Automatic Garbage Collection:** Python uses a system called automatic garbage collection to reclaim memory that is no longer being used. The primary mechanism for this is **reference counting**.\n",
        "\n",
        "    *   **Reference Counting:** Each object in Python has a reference count, which is the number of variables or other objects that are currently pointing to it. When the reference count of an object drops to zero, it means there are no longer any references to it, and the object is considered \"garbage\". Python's garbage collector then automatically deallocates the memory occupied by that object.\n",
        "\n",
        "    *   **Cycle Detection:** Reference counting alone cannot handle situations where objects refer to each other in a cycle, preventing their reference counts from ever reaching zero even if they are no longer accessible from the rest of the program. Python's garbage collector also includes a cycle detection algorithm to identify and collect such circular references.\n",
        "\n",
        "Private heap\n"
      ]
    },
    {
      "cell_type": "code",
      "source": [],
      "metadata": {
        "id": "IErg2MvQTIWC"
      },
      "execution_count": null,
      "outputs": []
    }
  ]
}